{
 "cells": [
  {
   "cell_type": "markdown",
   "metadata": {},
   "source": [
    "### Write a python program to scrape data for “Data Analyst” Job position in“Bangalore” location. You have to scrape the job-title, job-location, company_name,experience_required. You have to scrape first 10 jobs data.\n",
    "This task will be done in following steps:\n",
    "\n",
    "1. first get the webpage https://www.naukri.com/\n",
    "\n",
    "2. Enter “Data Analyst” in “Skill,Designations,Companies” field and enter “Bangalore”in “enter the location” field.\n",
    "\n",
    "3. Then click the search button.\n",
    "\n",
    "4. Then scrape the data for the first 10 jobs results you get.\n",
    "\n",
    "5. Finally create a dataframe of the scraped data."
   ]
  },
  {
   "cell_type": "code",
   "execution_count": 33,
   "metadata": {},
   "outputs": [],
   "source": [
    "# Lets import the required libraries\n",
    "import selenium\n",
    "import pandas as pd\n",
    "from selenium import webdriver\n",
    "import time"
   ]
  },
  {
   "cell_type": "code",
   "execution_count": 34,
   "metadata": {},
   "outputs": [],
   "source": [
    "#Lets first connect to the web driver\n",
    "driver=webdriver.Chrome('chromedriver.exe')"
   ]
  },
  {
   "cell_type": "code",
   "execution_count": 35,
   "metadata": {},
   "outputs": [],
   "source": [
    "url='https://www.naukri.com/'\n",
    "driver.get(url)"
   ]
  },
  {
   "cell_type": "code",
   "execution_count": 36,
   "metadata": {},
   "outputs": [
    {
     "data": {
      "text/plain": [
       "<selenium.webdriver.remote.webelement.WebElement (session=\"da29f1b151a0b0eed9ce82ddf0d9b872\", element=\"f523108a-11a7-4e93-ab5c-63a2d28c49be\")>"
      ]
     },
     "execution_count": 36,
     "metadata": {},
     "output_type": "execute_result"
    }
   ],
   "source": [
    "#finding the element for search bar\n",
    "search_job=driver.find_element_by_id(\"qsb-keyword-sugg\")\n",
    "search_job"
   ]
  },
  {
   "cell_type": "code",
   "execution_count": 37,
   "metadata": {},
   "outputs": [],
   "source": [
    "#Write on the search bar\n",
    "search_job.send_keys(\"Data Scientist\")"
   ]
  },
  {
   "cell_type": "code",
   "execution_count": 38,
   "metadata": {},
   "outputs": [
    {
     "data": {
      "text/plain": [
       "<selenium.webdriver.remote.webelement.WebElement (session=\"da29f1b151a0b0eed9ce82ddf0d9b872\", element=\"59f986cd-3652-4bc8-befd-b43630f31b79\")>"
      ]
     },
     "execution_count": 38,
     "metadata": {},
     "output_type": "execute_result"
    }
   ],
   "source": [
    "#find element for the job location bar\n",
    "search_loc=driver.find_element_by_id(\"qsb-location-sugg\")\n",
    "search_loc"
   ]
  },
  {
   "cell_type": "code",
   "execution_count": 39,
   "metadata": {},
   "outputs": [],
   "source": [
    "#Wrie on enter locations\n",
    "search_loc.send_keys(\"Bangalore\")"
   ]
  },
  {
   "cell_type": "code",
   "execution_count": 40,
   "metadata": {},
   "outputs": [],
   "source": [
    "#do click on the search bar using xpath function\n",
    "search_button=driver.find_element_by_xpath(\"//button[@class='btn']\")\n",
    "search_button.click()"
   ]
  },
  {
   "cell_type": "code",
   "execution_count": 41,
   "metadata": {},
   "outputs": [
    {
     "data": {
      "text/plain": [
       "[<selenium.webdriver.remote.webelement.WebElement (session=\"da29f1b151a0b0eed9ce82ddf0d9b872\", element=\"c31b8964-d302-46a8-88f1-ecd476f2ecb4\")>,\n",
       " <selenium.webdriver.remote.webelement.WebElement (session=\"da29f1b151a0b0eed9ce82ddf0d9b872\", element=\"583caf4f-25a8-425c-8c49-7e0bb4b4333c\")>,\n",
       " <selenium.webdriver.remote.webelement.WebElement (session=\"da29f1b151a0b0eed9ce82ddf0d9b872\", element=\"e26a2654-6465-4098-ba12-1d45f84628f9\")>,\n",
       " <selenium.webdriver.remote.webelement.WebElement (session=\"da29f1b151a0b0eed9ce82ddf0d9b872\", element=\"358a2288-9e08-4cdf-9f99-cf08a2d050d5\")>,\n",
       " <selenium.webdriver.remote.webelement.WebElement (session=\"da29f1b151a0b0eed9ce82ddf0d9b872\", element=\"6a7dc13b-9c12-4167-89b9-c463c20933cf\")>,\n",
       " <selenium.webdriver.remote.webelement.WebElement (session=\"da29f1b151a0b0eed9ce82ddf0d9b872\", element=\"b8356459-a875-43f0-a13e-49519ac6f00b\")>,\n",
       " <selenium.webdriver.remote.webelement.WebElement (session=\"da29f1b151a0b0eed9ce82ddf0d9b872\", element=\"acfdd927-3ed8-4ad8-8a41-3b13b06ebb38\")>,\n",
       " <selenium.webdriver.remote.webelement.WebElement (session=\"da29f1b151a0b0eed9ce82ddf0d9b872\", element=\"abee37de-840b-4cb4-81cf-de02d05fc42d\")>,\n",
       " <selenium.webdriver.remote.webelement.WebElement (session=\"da29f1b151a0b0eed9ce82ddf0d9b872\", element=\"143bd1e2-1cfb-4368-b30e-4f5627ddf0ef\")>,\n",
       " <selenium.webdriver.remote.webelement.WebElement (session=\"da29f1b151a0b0eed9ce82ddf0d9b872\", element=\"4cbba92f-6fde-47d2-ad0b-7a623087a4ac\")>]"
      ]
     },
     "execution_count": 41,
     "metadata": {},
     "output_type": "execute_result"
    }
   ],
   "source": [
    "#Lets extract all html tags having the job title\n",
    "title_tags=driver.find_elements_by_xpath(\"//a[@class='title fw500 ellipsis']\")[:10]\n",
    "title_tags"
   ]
  },
  {
   "cell_type": "code",
   "execution_count": 42,
   "metadata": {},
   "outputs": [
    {
     "data": {
      "text/plain": [
       "['Data Scientist / Data Analyst -Business Analyst',\n",
       " 'Senior Data Scientist, Modeling',\n",
       " 'Data Scientist - IBM Garage',\n",
       " 'Big Data - Data Scientist',\n",
       " 'Specialist I - Data Scientist',\n",
       " 'Data Scientist',\n",
       " 'Lead Data Scientist',\n",
       " 'SDE Lead Data Scientist-L3',\n",
       " 'Computational Design Lead Data Scientist-L3',\n",
       " 'Hiring For DATA Scientist - ON Contract Basis (3-6 Months)']"
      ]
     },
     "execution_count": 42,
     "metadata": {},
     "output_type": "execute_result"
    }
   ],
   "source": [
    "#Now the text of the job title is inside the tags extracted above\n",
    "#so we will run a loop to iterate over the tags extracted above and extrat the text inside them \n",
    "job_title=[]\n",
    "for i in title_tags:\n",
    "    job_title.append(i.text)\n",
    "    time.sleep(4)\n",
    "job_title "
   ]
  },
  {
   "cell_type": "code",
   "execution_count": 43,
   "metadata": {},
   "outputs": [
    {
     "data": {
      "text/plain": [
       "[<selenium.webdriver.remote.webelement.WebElement (session=\"da29f1b151a0b0eed9ce82ddf0d9b872\", element=\"b41e5b73-014b-4c96-b632-4ae25ebf22ed\")>,\n",
       " <selenium.webdriver.remote.webelement.WebElement (session=\"da29f1b151a0b0eed9ce82ddf0d9b872\", element=\"999a728f-263c-4755-83f7-0e30ada92659\")>,\n",
       " <selenium.webdriver.remote.webelement.WebElement (session=\"da29f1b151a0b0eed9ce82ddf0d9b872\", element=\"1cc60256-1bab-48a5-bd88-79d0bd1e07f8\")>,\n",
       " <selenium.webdriver.remote.webelement.WebElement (session=\"da29f1b151a0b0eed9ce82ddf0d9b872\", element=\"0ea07c8a-dbd2-4816-8fbc-8cb299dee71e\")>,\n",
       " <selenium.webdriver.remote.webelement.WebElement (session=\"da29f1b151a0b0eed9ce82ddf0d9b872\", element=\"13372934-53c0-4d1a-a321-91d5971155da\")>,\n",
       " <selenium.webdriver.remote.webelement.WebElement (session=\"da29f1b151a0b0eed9ce82ddf0d9b872\", element=\"b82c7e33-1a03-4cf0-b058-fbc6f8f8055a\")>,\n",
       " <selenium.webdriver.remote.webelement.WebElement (session=\"da29f1b151a0b0eed9ce82ddf0d9b872\", element=\"a1a85162-4159-4ecd-90e5-b65b4ac4a4a4\")>,\n",
       " <selenium.webdriver.remote.webelement.WebElement (session=\"da29f1b151a0b0eed9ce82ddf0d9b872\", element=\"842f3f7c-82ca-4ed3-9477-d5f15b6e960e\")>,\n",
       " <selenium.webdriver.remote.webelement.WebElement (session=\"da29f1b151a0b0eed9ce82ddf0d9b872\", element=\"be357349-46b1-46f1-98eb-559a6a6ba534\")>,\n",
       " <selenium.webdriver.remote.webelement.WebElement (session=\"da29f1b151a0b0eed9ce82ddf0d9b872\", element=\"171ea7e4-f505-44a7-a4a2-bc8559ce4e37\")>]"
      ]
     },
     "execution_count": 43,
     "metadata": {},
     "output_type": "execute_result"
    }
   ],
   "source": [
    "#Now we will extract all html tags having the company name\n",
    "company_tags=driver.find_elements_by_xpath(\"//a[@class='subTitle ellipsis fleft']\")[:10]\n",
    "company_tags"
   ]
  },
  {
   "cell_type": "code",
   "execution_count": 44,
   "metadata": {},
   "outputs": [
    {
     "data": {
      "text/plain": [
       "['Inflexion Analytix Private Limited',\n",
       " 'Nielsen',\n",
       " 'IBM India Pvt. Limited',\n",
       " 'Xoriant Solutions Pvt Ltd',\n",
       " 'Philips India Limited',\n",
       " 'IBM India Pvt. Limited',\n",
       " 'Intel Technology India Pvt Ltd',\n",
       " 'Huawei Technologies India Pvt Ltd',\n",
       " 'Huawei Technologies India Pvt Ltd',\n",
       " 'GlobalEdx Learning and Technology Solution Pvt Ltd']"
      ]
     },
     "execution_count": 44,
     "metadata": {},
     "output_type": "execute_result"
    }
   ],
   "source": [
    "#Now the text of the company name is inside the tags extracted above\n",
    "#so we will run a loop to iterate over the tags extracted above and extrat the text inside them \n",
    "Company_name=[]\n",
    "for i in company_tags:\n",
    "    Company_name.append(i.text)\n",
    "    time.sleep(4)\n",
    "Company_name  "
   ]
  },
  {
   "cell_type": "code",
   "execution_count": 45,
   "metadata": {},
   "outputs": [
    {
     "data": {
      "text/plain": [
       "[<selenium.webdriver.remote.webelement.WebElement (session=\"da29f1b151a0b0eed9ce82ddf0d9b872\", element=\"84fec441-8f0b-461a-8dea-90c9580168d2\")>,\n",
       " <selenium.webdriver.remote.webelement.WebElement (session=\"da29f1b151a0b0eed9ce82ddf0d9b872\", element=\"11bbab3d-6910-495b-8ff0-7db9fa719c3f\")>,\n",
       " <selenium.webdriver.remote.webelement.WebElement (session=\"da29f1b151a0b0eed9ce82ddf0d9b872\", element=\"211d438d-4cbb-44a8-ac6c-978b2ebf242f\")>,\n",
       " <selenium.webdriver.remote.webelement.WebElement (session=\"da29f1b151a0b0eed9ce82ddf0d9b872\", element=\"c82c399d-d91c-4d96-85c0-af3b679fcea9\")>,\n",
       " <selenium.webdriver.remote.webelement.WebElement (session=\"da29f1b151a0b0eed9ce82ddf0d9b872\", element=\"220fd089-fe1d-425f-97d5-8a7a773782dd\")>,\n",
       " <selenium.webdriver.remote.webelement.WebElement (session=\"da29f1b151a0b0eed9ce82ddf0d9b872\", element=\"663f6ecb-6870-4fad-a9cd-0ebf2c997795\")>,\n",
       " <selenium.webdriver.remote.webelement.WebElement (session=\"da29f1b151a0b0eed9ce82ddf0d9b872\", element=\"c70937b2-f2c3-45da-8cea-187119b9c028\")>,\n",
       " <selenium.webdriver.remote.webelement.WebElement (session=\"da29f1b151a0b0eed9ce82ddf0d9b872\", element=\"6dafb72c-35c8-4006-b4e6-4f49f9618205\")>,\n",
       " <selenium.webdriver.remote.webelement.WebElement (session=\"da29f1b151a0b0eed9ce82ddf0d9b872\", element=\"a9b6fec1-ab1c-4fbe-a8fb-e9bc74c35bfc\")>,\n",
       " <selenium.webdriver.remote.webelement.WebElement (session=\"da29f1b151a0b0eed9ce82ddf0d9b872\", element=\"bfe54b29-8101-47c3-99b6-a78c2d1f60ec\")>]"
      ]
     },
     "execution_count": 45,
     "metadata": {},
     "output_type": "execute_result"
    }
   ],
   "source": [
    "#now we will extract all location tags\n",
    "location_tags=driver.find_elements_by_xpath(\"//li[@class='fleft grey-text br2 placeHolderLi location']//span\")[:10]\n",
    "location_tags"
   ]
  },
  {
   "cell_type": "code",
   "execution_count": 46,
   "metadata": {},
   "outputs": [
    {
     "data": {
      "text/plain": [
       "['Mumbai, Hyderabad/Secunderabad, Pune, Gurgaon/Gurugram, Chennai, Bangalore/Bengaluru',\n",
       " 'Kolkata, Gurgaon/Gurugram, Bangalore/Bengaluru, Vadodara, Mumbai (All Areas)',\n",
       " 'Noida, Hyderabad/Secunderabad, Bangalore/Bengaluru',\n",
       " 'Kochi/Cochin, Indore, Hyderabad/Secunderabad, Pune, Ahmedabad, Bangalore/Bengaluru, Mumbai (All Areas)',\n",
       " 'Bangalore/Bengaluru',\n",
       " 'Bangalore/Bengaluru',\n",
       " 'Bangalore/Bengaluru',\n",
       " 'Bangalore/Bengaluru',\n",
       " 'Bangalore/Bengaluru',\n",
       " 'Hyderabad/Secunderabad, Bangalore/Bengaluru, Mumbai (All Areas)']"
      ]
     },
     "execution_count": 46,
     "metadata": {},
     "output_type": "execute_result"
    }
   ],
   "source": [
    "#Now the text of the location is inside the tags extracted above\n",
    "#so we will run a loop to iterate over the tags extracted above and extrat the text inside them \n",
    "location=[]\n",
    "for i in location_tags:\n",
    "    location.append(i.text)\n",
    "    time.sleep(4)\n",
    "location    "
   ]
  },
  {
   "cell_type": "code",
   "execution_count": 47,
   "metadata": {},
   "outputs": [
    {
     "data": {
      "text/plain": [
       "[<selenium.webdriver.remote.webelement.WebElement (session=\"da29f1b151a0b0eed9ce82ddf0d9b872\", element=\"1435a71f-b40b-4fe3-b028-d4e17eacd915\")>,\n",
       " <selenium.webdriver.remote.webelement.WebElement (session=\"da29f1b151a0b0eed9ce82ddf0d9b872\", element=\"c4eecad3-d8bc-48c8-b01d-9212cf335c24\")>,\n",
       " <selenium.webdriver.remote.webelement.WebElement (session=\"da29f1b151a0b0eed9ce82ddf0d9b872\", element=\"b40e5133-6566-44eb-8a29-57af712e1169\")>,\n",
       " <selenium.webdriver.remote.webelement.WebElement (session=\"da29f1b151a0b0eed9ce82ddf0d9b872\", element=\"ca10ca67-92fe-4533-b943-10bca296bc29\")>,\n",
       " <selenium.webdriver.remote.webelement.WebElement (session=\"da29f1b151a0b0eed9ce82ddf0d9b872\", element=\"e7952b1e-c23e-4486-b97e-b53e999e1f5e\")>,\n",
       " <selenium.webdriver.remote.webelement.WebElement (session=\"da29f1b151a0b0eed9ce82ddf0d9b872\", element=\"45126302-4228-464d-bb0e-fb838046fafd\")>,\n",
       " <selenium.webdriver.remote.webelement.WebElement (session=\"da29f1b151a0b0eed9ce82ddf0d9b872\", element=\"05c80f2f-2f6e-4780-9604-d192056cc062\")>,\n",
       " <selenium.webdriver.remote.webelement.WebElement (session=\"da29f1b151a0b0eed9ce82ddf0d9b872\", element=\"d33b8518-a4a4-4850-aa66-5de74d6930dd\")>,\n",
       " <selenium.webdriver.remote.webelement.WebElement (session=\"da29f1b151a0b0eed9ce82ddf0d9b872\", element=\"30c2dc32-f7c4-490f-97f6-af6b5ea8ff6c\")>,\n",
       " <selenium.webdriver.remote.webelement.WebElement (session=\"da29f1b151a0b0eed9ce82ddf0d9b872\", element=\"d13149c7-14cd-471b-ad36-12abf1a6cecc\")>]"
      ]
     },
     "execution_count": 47,
     "metadata": {},
     "output_type": "execute_result"
    }
   ],
   "source": [
    "# lets extract all the html yags having the experience required\n",
    "exp_tags=driver.find_elements_by_xpath(\"//li[@class='fleft grey-text br2 placeHolderLi experience']//span\")[:10]\n",
    "exp_tags"
   ]
  },
  {
   "cell_type": "code",
   "execution_count": 48,
   "metadata": {},
   "outputs": [
    {
     "data": {
      "text/plain": [
       "['0-3 Yrs',\n",
       " '3-7 Yrs',\n",
       " '5-8 Yrs',\n",
       " '1-3 Yrs',\n",
       " '4-7 Yrs',\n",
       " '6-8 Yrs',\n",
       " '6-10 Yrs',\n",
       " '5-8 Yrs',\n",
       " '5-8 Yrs',\n",
       " '3-8 Yrs']"
      ]
     },
     "execution_count": 48,
     "metadata": {},
     "output_type": "execute_result"
    }
   ],
   "source": [
    "#Now the text of the experience is inside the tags extracted above\n",
    "#so we will run a loop to iterate over the tags extracted above and extrat the text inside them \n",
    "Experience=[]\n",
    "for i in exp_tags:\n",
    "    Experience.append(i.text)\n",
    "    time.sleep(4)\n",
    "Experience    "
   ]
  },
  {
   "cell_type": "markdown",
   "metadata": {},
   "source": [
    "So,now we have extracted the data required from the webpage and stored them in the 4 lists mentioned above.Now before creating a dataframe from the list,lets first check the length of each of the list.Because if the length of all of the lists are not equal,then the dataframe cannot be formed."
   ]
  },
  {
   "cell_type": "code",
   "execution_count": 49,
   "metadata": {},
   "outputs": [
    {
     "name": "stdout",
     "output_type": "stream",
     "text": [
      "10 10 10 10\n"
     ]
    }
   ],
   "source": [
    "print(len(job_title),len(Company_name),len(location),len(Experience))"
   ]
  },
  {
   "cell_type": "code",
   "execution_count": 50,
   "metadata": {},
   "outputs": [],
   "source": [
    "Jobs=pd.DataFrame(({}))\n",
    "Jobs['Job_Title']=job_title\n",
    "Jobs['Company']=Company_name\n",
    "Jobs['Location']=location\n",
    "Jobs['Experience_Required']=Experience"
   ]
  },
  {
   "cell_type": "code",
   "execution_count": 51,
   "metadata": {},
   "outputs": [
    {
     "data": {
      "text/html": [
       "<div>\n",
       "<style scoped>\n",
       "    .dataframe tbody tr th:only-of-type {\n",
       "        vertical-align: middle;\n",
       "    }\n",
       "\n",
       "    .dataframe tbody tr th {\n",
       "        vertical-align: top;\n",
       "    }\n",
       "\n",
       "    .dataframe thead th {\n",
       "        text-align: right;\n",
       "    }\n",
       "</style>\n",
       "<table border=\"1\" class=\"dataframe\">\n",
       "  <thead>\n",
       "    <tr style=\"text-align: right;\">\n",
       "      <th></th>\n",
       "      <th>Job_Title</th>\n",
       "      <th>Company</th>\n",
       "      <th>Location</th>\n",
       "      <th>Experience_Required</th>\n",
       "    </tr>\n",
       "  </thead>\n",
       "  <tbody>\n",
       "    <tr>\n",
       "      <th>0</th>\n",
       "      <td>Data Scientist / Data Analyst -Business Analyst</td>\n",
       "      <td>Inflexion Analytix Private Limited</td>\n",
       "      <td>Mumbai, Hyderabad/Secunderabad, Pune, Gurgaon/...</td>\n",
       "      <td>0-3 Yrs</td>\n",
       "    </tr>\n",
       "    <tr>\n",
       "      <th>1</th>\n",
       "      <td>Senior Data Scientist, Modeling</td>\n",
       "      <td>Nielsen</td>\n",
       "      <td>Kolkata, Gurgaon/Gurugram, Bangalore/Bengaluru...</td>\n",
       "      <td>3-7 Yrs</td>\n",
       "    </tr>\n",
       "    <tr>\n",
       "      <th>2</th>\n",
       "      <td>Data Scientist - IBM Garage</td>\n",
       "      <td>IBM India Pvt. Limited</td>\n",
       "      <td>Noida, Hyderabad/Secunderabad, Bangalore/Benga...</td>\n",
       "      <td>5-8 Yrs</td>\n",
       "    </tr>\n",
       "    <tr>\n",
       "      <th>3</th>\n",
       "      <td>Big Data - Data Scientist</td>\n",
       "      <td>Xoriant Solutions Pvt Ltd</td>\n",
       "      <td>Kochi/Cochin, Indore, Hyderabad/Secunderabad, ...</td>\n",
       "      <td>1-3 Yrs</td>\n",
       "    </tr>\n",
       "    <tr>\n",
       "      <th>4</th>\n",
       "      <td>Specialist I - Data Scientist</td>\n",
       "      <td>Philips India Limited</td>\n",
       "      <td>Bangalore/Bengaluru</td>\n",
       "      <td>4-7 Yrs</td>\n",
       "    </tr>\n",
       "    <tr>\n",
       "      <th>5</th>\n",
       "      <td>Data Scientist</td>\n",
       "      <td>IBM India Pvt. Limited</td>\n",
       "      <td>Bangalore/Bengaluru</td>\n",
       "      <td>6-8 Yrs</td>\n",
       "    </tr>\n",
       "    <tr>\n",
       "      <th>6</th>\n",
       "      <td>Lead Data Scientist</td>\n",
       "      <td>Intel Technology India Pvt Ltd</td>\n",
       "      <td>Bangalore/Bengaluru</td>\n",
       "      <td>6-10 Yrs</td>\n",
       "    </tr>\n",
       "    <tr>\n",
       "      <th>7</th>\n",
       "      <td>SDE Lead Data Scientist-L3</td>\n",
       "      <td>Huawei Technologies India Pvt Ltd</td>\n",
       "      <td>Bangalore/Bengaluru</td>\n",
       "      <td>5-8 Yrs</td>\n",
       "    </tr>\n",
       "    <tr>\n",
       "      <th>8</th>\n",
       "      <td>Computational Design Lead Data Scientist-L3</td>\n",
       "      <td>Huawei Technologies India Pvt Ltd</td>\n",
       "      <td>Bangalore/Bengaluru</td>\n",
       "      <td>5-8 Yrs</td>\n",
       "    </tr>\n",
       "    <tr>\n",
       "      <th>9</th>\n",
       "      <td>Hiring For DATA Scientist - ON Contract Basis ...</td>\n",
       "      <td>GlobalEdx Learning and Technology Solution Pvt...</td>\n",
       "      <td>Hyderabad/Secunderabad, Bangalore/Bengaluru, M...</td>\n",
       "      <td>3-8 Yrs</td>\n",
       "    </tr>\n",
       "  </tbody>\n",
       "</table>\n",
       "</div>"
      ],
      "text/plain": [
       "                                           Job_Title  \\\n",
       "0    Data Scientist / Data Analyst -Business Analyst   \n",
       "1                    Senior Data Scientist, Modeling   \n",
       "2                        Data Scientist - IBM Garage   \n",
       "3                          Big Data - Data Scientist   \n",
       "4                      Specialist I - Data Scientist   \n",
       "5                                     Data Scientist   \n",
       "6                                Lead Data Scientist   \n",
       "7                         SDE Lead Data Scientist-L3   \n",
       "8        Computational Design Lead Data Scientist-L3   \n",
       "9  Hiring For DATA Scientist - ON Contract Basis ...   \n",
       "\n",
       "                                             Company  \\\n",
       "0                 Inflexion Analytix Private Limited   \n",
       "1                                            Nielsen   \n",
       "2                             IBM India Pvt. Limited   \n",
       "3                          Xoriant Solutions Pvt Ltd   \n",
       "4                              Philips India Limited   \n",
       "5                             IBM India Pvt. Limited   \n",
       "6                     Intel Technology India Pvt Ltd   \n",
       "7                  Huawei Technologies India Pvt Ltd   \n",
       "8                  Huawei Technologies India Pvt Ltd   \n",
       "9  GlobalEdx Learning and Technology Solution Pvt...   \n",
       "\n",
       "                                            Location Experience_Required  \n",
       "0  Mumbai, Hyderabad/Secunderabad, Pune, Gurgaon/...             0-3 Yrs  \n",
       "1  Kolkata, Gurgaon/Gurugram, Bangalore/Bengaluru...             3-7 Yrs  \n",
       "2  Noida, Hyderabad/Secunderabad, Bangalore/Benga...             5-8 Yrs  \n",
       "3  Kochi/Cochin, Indore, Hyderabad/Secunderabad, ...             1-3 Yrs  \n",
       "4                                Bangalore/Bengaluru             4-7 Yrs  \n",
       "5                                Bangalore/Bengaluru             6-8 Yrs  \n",
       "6                                Bangalore/Bengaluru            6-10 Yrs  \n",
       "7                                Bangalore/Bengaluru             5-8 Yrs  \n",
       "8                                Bangalore/Bengaluru             5-8 Yrs  \n",
       "9  Hyderabad/Secunderabad, Bangalore/Bengaluru, M...             3-8 Yrs  "
      ]
     },
     "execution_count": 51,
     "metadata": {},
     "output_type": "execute_result"
    }
   ],
   "source": [
    "Jobs"
   ]
  },
  {
   "cell_type": "markdown",
   "metadata": {},
   "source": [
    "### Write a python program to scrape data for “Data Scientist” Job position in“Bangalore” location. You have to scrape the job-title, job-location,company_name, full job-description. You have to scrape first 10 jobs data.\n",
    "This task will be done in following steps:\n",
    "\n",
    "1. first get the webpage https://www.naukri.com/\n",
    "\n",
    "2. Enter “Data Scientist” in “Skill,Designations,Companies” field and enter“Bangalore” in “enter the location” field.\n",
    "\n",
    "3. Then click the search button.\n",
    "\n",
    "4. Then scrape the data for the first 10 jobs results you get.\n",
    "\n",
    "5. Finally create a dataframe of the scraped data."
   ]
  },
  {
   "cell_type": "code",
   "execution_count": 52,
   "metadata": {},
   "outputs": [],
   "source": [
    "# Lets import the required libraries\n",
    "import selenium\n",
    "import pandas as pd\n",
    "from selenium import webdriver\n",
    "import time"
   ]
  },
  {
   "cell_type": "code",
   "execution_count": 53,
   "metadata": {},
   "outputs": [],
   "source": [
    "#Lets first connect to the web driver\n",
    "driver=webdriver.Chrome('chromedriver.exe')"
   ]
  },
  {
   "cell_type": "code",
   "execution_count": 54,
   "metadata": {},
   "outputs": [],
   "source": [
    "url='https://www.naukri.com/'\n",
    "driver.get(url)"
   ]
  },
  {
   "cell_type": "code",
   "execution_count": 55,
   "metadata": {},
   "outputs": [
    {
     "data": {
      "text/plain": [
       "<selenium.webdriver.remote.webelement.WebElement (session=\"bc5bbd938fc90562f611bfcc7d766509\", element=\"e5317cde-6be4-41b8-8e92-4b7cb380ba7d\")>"
      ]
     },
     "execution_count": 55,
     "metadata": {},
     "output_type": "execute_result"
    }
   ],
   "source": [
    "#finding the element for search bar\n",
    "search_job=driver.find_element_by_id(\"qsb-keyword-sugg\")\n",
    "search_job"
   ]
  },
  {
   "cell_type": "code",
   "execution_count": 56,
   "metadata": {},
   "outputs": [],
   "source": [
    "#Write on the search bar\n",
    "search_job.send_keys(\"Data Scientist\")"
   ]
  },
  {
   "cell_type": "code",
   "execution_count": 57,
   "metadata": {},
   "outputs": [
    {
     "data": {
      "text/plain": [
       "<selenium.webdriver.remote.webelement.WebElement (session=\"bc5bbd938fc90562f611bfcc7d766509\", element=\"43a437b8-b7d3-4ee9-a39f-4c583a49b299\")>"
      ]
     },
     "execution_count": 57,
     "metadata": {},
     "output_type": "execute_result"
    }
   ],
   "source": [
    "#find element for the job location bar\n",
    "search_loc=driver.find_element_by_id(\"qsb-location-sugg\")\n",
    "search_loc"
   ]
  },
  {
   "cell_type": "code",
   "execution_count": 58,
   "metadata": {},
   "outputs": [],
   "source": [
    "#Wrie on enter locations\n",
    "search_loc.send_keys(\"Bangalore\")"
   ]
  },
  {
   "cell_type": "code",
   "execution_count": 59,
   "metadata": {},
   "outputs": [],
   "source": [
    "#do click on the search bar using xpath function\n",
    "search_button=driver.find_element_by_xpath(\"//button[@class='btn']\")\n",
    "search_button.click()"
   ]
  },
  {
   "cell_type": "code",
   "execution_count": 60,
   "metadata": {},
   "outputs": [
    {
     "data": {
      "text/plain": [
       "[<selenium.webdriver.remote.webelement.WebElement (session=\"bc5bbd938fc90562f611bfcc7d766509\", element=\"e709c15f-7ebf-4d75-88f0-41c95ac64481\")>,\n",
       " <selenium.webdriver.remote.webelement.WebElement (session=\"bc5bbd938fc90562f611bfcc7d766509\", element=\"259e4289-cc84-41e8-a95d-59300326cf24\")>,\n",
       " <selenium.webdriver.remote.webelement.WebElement (session=\"bc5bbd938fc90562f611bfcc7d766509\", element=\"540c5377-16bc-479a-9ab4-58b26055115f\")>,\n",
       " <selenium.webdriver.remote.webelement.WebElement (session=\"bc5bbd938fc90562f611bfcc7d766509\", element=\"773f26bc-24f2-4dfa-8538-7814a25acc73\")>,\n",
       " <selenium.webdriver.remote.webelement.WebElement (session=\"bc5bbd938fc90562f611bfcc7d766509\", element=\"52294251-c98d-41ab-a406-791dec9fd4eb\")>,\n",
       " <selenium.webdriver.remote.webelement.WebElement (session=\"bc5bbd938fc90562f611bfcc7d766509\", element=\"5811964f-ebd7-47f7-8392-699ac5b13eab\")>,\n",
       " <selenium.webdriver.remote.webelement.WebElement (session=\"bc5bbd938fc90562f611bfcc7d766509\", element=\"32edff48-573c-4b0e-adde-4d8ca950996f\")>,\n",
       " <selenium.webdriver.remote.webelement.WebElement (session=\"bc5bbd938fc90562f611bfcc7d766509\", element=\"fd000958-71f7-4e3e-becb-1385dab38343\")>,\n",
       " <selenium.webdriver.remote.webelement.WebElement (session=\"bc5bbd938fc90562f611bfcc7d766509\", element=\"d1356075-6149-436e-b214-acf0a6d40a56\")>,\n",
       " <selenium.webdriver.remote.webelement.WebElement (session=\"bc5bbd938fc90562f611bfcc7d766509\", element=\"42278a82-dc77-45cc-8f84-4476ac8dea0d\")>]"
      ]
     },
     "execution_count": 60,
     "metadata": {},
     "output_type": "execute_result"
    }
   ],
   "source": [
    "#Lets extract all html tags having the job title\n",
    "title_tags=driver.find_elements_by_xpath(\"//a[@class='title fw500 ellipsis']\")[:10]\n",
    "title_tags"
   ]
  },
  {
   "cell_type": "code",
   "execution_count": 61,
   "metadata": {},
   "outputs": [
    {
     "data": {
      "text/plain": [
       "['Data Scientist / Data Analyst -Business Analyst',\n",
       " 'Senior Data Scientist, Modeling',\n",
       " 'Data Scientist - IBM Garage',\n",
       " 'Big Data - Data Scientist',\n",
       " 'Specialist I - Data Scientist',\n",
       " 'Data Scientist',\n",
       " 'Lead Data Scientist',\n",
       " 'SDE Lead Data Scientist-L3',\n",
       " 'Computational Design Lead Data Scientist-L3',\n",
       " 'Hiring For DATA Scientist - ON Contract Basis (3-6 Months)']"
      ]
     },
     "execution_count": 61,
     "metadata": {},
     "output_type": "execute_result"
    }
   ],
   "source": [
    "#Now the text of the job title is inside the tags extracted above\n",
    "#so we will run a loop to iterate over the tags extracted above and extrat the text inside them \n",
    "job_title=[]\n",
    "for i in title_tags:\n",
    "    job_title.append(i.text)\n",
    "    time.sleep(4)\n",
    "job_title    "
   ]
  },
  {
   "cell_type": "code",
   "execution_count": 62,
   "metadata": {},
   "outputs": [
    {
     "data": {
      "text/plain": [
       "[<selenium.webdriver.remote.webelement.WebElement (session=\"bc5bbd938fc90562f611bfcc7d766509\", element=\"526bf985-215a-4aca-9497-930573e7bc9a\")>,\n",
       " <selenium.webdriver.remote.webelement.WebElement (session=\"bc5bbd938fc90562f611bfcc7d766509\", element=\"c84f6498-241d-44e3-8f39-a8c8948ef2e5\")>,\n",
       " <selenium.webdriver.remote.webelement.WebElement (session=\"bc5bbd938fc90562f611bfcc7d766509\", element=\"59b276dc-0a8d-4cd5-ae2b-46cdca7203d3\")>,\n",
       " <selenium.webdriver.remote.webelement.WebElement (session=\"bc5bbd938fc90562f611bfcc7d766509\", element=\"60d2f1ea-067a-4165-907f-ca1ca1489a3f\")>,\n",
       " <selenium.webdriver.remote.webelement.WebElement (session=\"bc5bbd938fc90562f611bfcc7d766509\", element=\"2fc6c663-1207-4ac0-8413-d939ed445f10\")>,\n",
       " <selenium.webdriver.remote.webelement.WebElement (session=\"bc5bbd938fc90562f611bfcc7d766509\", element=\"fa7bfd05-0aff-45b9-b1f5-d211af776d27\")>,\n",
       " <selenium.webdriver.remote.webelement.WebElement (session=\"bc5bbd938fc90562f611bfcc7d766509\", element=\"a805a862-4e42-4466-b67a-08f697cb1bae\")>,\n",
       " <selenium.webdriver.remote.webelement.WebElement (session=\"bc5bbd938fc90562f611bfcc7d766509\", element=\"c974bc91-f098-48bb-87f8-31584fc2038c\")>,\n",
       " <selenium.webdriver.remote.webelement.WebElement (session=\"bc5bbd938fc90562f611bfcc7d766509\", element=\"e6f2bf72-20dc-4d3c-9aa5-335f4bb68e36\")>,\n",
       " <selenium.webdriver.remote.webelement.WebElement (session=\"bc5bbd938fc90562f611bfcc7d766509\", element=\"70bc3d1b-fc6e-462e-a940-61d1e4ee9472\")>]"
      ]
     },
     "execution_count": 62,
     "metadata": {},
     "output_type": "execute_result"
    }
   ],
   "source": [
    "#Now we will extract all html tags having the company name\n",
    "company_tags=driver.find_elements_by_xpath(\"//a[@class='subTitle ellipsis fleft']\")[:10]\n",
    "company_tags"
   ]
  },
  {
   "cell_type": "code",
   "execution_count": 63,
   "metadata": {},
   "outputs": [
    {
     "data": {
      "text/plain": [
       "['Inflexion Analytix Private Limited',\n",
       " 'Nielsen',\n",
       " 'IBM India Pvt. Limited',\n",
       " 'Xoriant Solutions Pvt Ltd',\n",
       " 'Philips India Limited',\n",
       " 'IBM India Pvt. Limited',\n",
       " 'Intel Technology India Pvt Ltd',\n",
       " 'Huawei Technologies India Pvt Ltd',\n",
       " 'Huawei Technologies India Pvt Ltd',\n",
       " 'GlobalEdx Learning and Technology Solution Pvt Ltd']"
      ]
     },
     "execution_count": 63,
     "metadata": {},
     "output_type": "execute_result"
    }
   ],
   "source": [
    "#Now the text of the company name is inside the tags extracted above\n",
    "#so we will run a loop to iterate over the tags extracted above and extrat the text inside them \n",
    "Company_name=[]\n",
    "for i in company_tags:\n",
    "    Company_name.append(i.text)\n",
    "    time.sleep(4)\n",
    "Company_name    "
   ]
  },
  {
   "cell_type": "code",
   "execution_count": 64,
   "metadata": {},
   "outputs": [
    {
     "data": {
      "text/plain": [
       "[<selenium.webdriver.remote.webelement.WebElement (session=\"bc5bbd938fc90562f611bfcc7d766509\", element=\"e83bd009-b1a1-422f-8942-2ef100cf3e08\")>,\n",
       " <selenium.webdriver.remote.webelement.WebElement (session=\"bc5bbd938fc90562f611bfcc7d766509\", element=\"7acc7e2b-d106-4b7a-8fd9-360c49636344\")>,\n",
       " <selenium.webdriver.remote.webelement.WebElement (session=\"bc5bbd938fc90562f611bfcc7d766509\", element=\"3cf8282c-1c11-4e04-bb26-aad11ee12ad0\")>,\n",
       " <selenium.webdriver.remote.webelement.WebElement (session=\"bc5bbd938fc90562f611bfcc7d766509\", element=\"4e20fa76-8973-46c4-82ec-4a42f3820c3d\")>,\n",
       " <selenium.webdriver.remote.webelement.WebElement (session=\"bc5bbd938fc90562f611bfcc7d766509\", element=\"32748842-09fb-4694-a437-de57b15e76bf\")>,\n",
       " <selenium.webdriver.remote.webelement.WebElement (session=\"bc5bbd938fc90562f611bfcc7d766509\", element=\"47b7fd27-9cf6-4972-9071-67bf2327b0d7\")>,\n",
       " <selenium.webdriver.remote.webelement.WebElement (session=\"bc5bbd938fc90562f611bfcc7d766509\", element=\"b34be0fc-4b84-483c-b757-1a87035c286f\")>,\n",
       " <selenium.webdriver.remote.webelement.WebElement (session=\"bc5bbd938fc90562f611bfcc7d766509\", element=\"fdea64aa-077a-46b1-964c-743b5b2dff8a\")>,\n",
       " <selenium.webdriver.remote.webelement.WebElement (session=\"bc5bbd938fc90562f611bfcc7d766509\", element=\"2e78627a-1344-4820-81c6-8a9bc97b7314\")>,\n",
       " <selenium.webdriver.remote.webelement.WebElement (session=\"bc5bbd938fc90562f611bfcc7d766509\", element=\"02b46929-f363-4c47-9e3b-f7b8ef9ae0d5\")>]"
      ]
     },
     "execution_count": 64,
     "metadata": {},
     "output_type": "execute_result"
    }
   ],
   "source": [
    "#now we will extract all location tags\n",
    "location_tags=driver.find_elements_by_xpath(\"//li[@class='fleft grey-text br2 placeHolderLi location']//span\")[:10]\n",
    "location_tags"
   ]
  },
  {
   "cell_type": "code",
   "execution_count": 65,
   "metadata": {},
   "outputs": [
    {
     "data": {
      "text/plain": [
       "['Mumbai, Hyderabad/Secunderabad, Pune, Gurgaon/Gurugram, Chennai, Bangalore/Bengaluru',\n",
       " 'Kolkata, Gurgaon/Gurugram, Bangalore/Bengaluru, Vadodara, Mumbai (All Areas)',\n",
       " 'Noida, Hyderabad/Secunderabad, Bangalore/Bengaluru',\n",
       " 'Kochi/Cochin, Indore, Hyderabad/Secunderabad, Pune, Ahmedabad, Bangalore/Bengaluru, Mumbai (All Areas)',\n",
       " 'Bangalore/Bengaluru',\n",
       " 'Bangalore/Bengaluru',\n",
       " 'Bangalore/Bengaluru',\n",
       " 'Bangalore/Bengaluru',\n",
       " 'Bangalore/Bengaluru',\n",
       " 'Hyderabad/Secunderabad, Bangalore/Bengaluru, Mumbai (All Areas)']"
      ]
     },
     "execution_count": 65,
     "metadata": {},
     "output_type": "execute_result"
    }
   ],
   "source": [
    "#Now the text of the location is inside the tags extracted above\n",
    "#so we will run a loop to iterate over the tags extracted above and extrat the text inside them \n",
    "location=[]\n",
    "for i in location_tags:\n",
    "    location.append(i.text)\n",
    "    time.sleep(4)\n",
    "location    "
   ]
  },
  {
   "cell_type": "code",
   "execution_count": 66,
   "metadata": {},
   "outputs": [],
   "source": [
    "urls=[]\n",
    "for i in driver.find_elements_by_xpath(\"//a[@class='title fw500 ellipsis']\")[:10]:\n",
    "    urls.append(i.get_attribute(\"href\"))"
   ]
  },
  {
   "cell_type": "code",
   "execution_count": 67,
   "metadata": {},
   "outputs": [
    {
     "data": {
      "text/plain": [
       "['https://www.naukri.com/job-listings-data-scientist-data-analyst-business-analyst-inflexion-analytix-private-limited-mumbai-hyderabad-secunderabad-pune-gurgaon-gurugram-chennai-bangalore-bengaluru-0-to-3-years-100521000368?src=jobsearchDesk&sid=16214214585424857&xp=1&px=1',\n",
       " 'https://www.naukri.com/job-listings-senior-data-scientist-modeling-nielsen-kolkata-gurgaon-gurugram-bangalore-bengaluru-vadodara-baroda-mumbai-all-areas-3-to-7-years-280421003878?src=jobsearchDesk&sid=16214214585424857&xp=2&px=1',\n",
       " 'https://www.naukri.com/job-listings-data-scientist-ibm-garage-ibm-india-pvt-limited-noida-hyderabad-secunderabad-bangalore-bengaluru-5-to-8-years-040521900448?src=jobsearchDesk&sid=16214214585424857&xp=3&px=1',\n",
       " 'https://www.naukri.com/job-listings-big-data-data-scientist-xoriant-solutions-pvt-ltd-kochi-cochin-indore-hyderabad-secunderabad-pune-ahmedabad-bangalore-bengaluru-mumbai-all-areas-1-to-3-years-130521005018?src=jobsearchDesk&sid=16214214585424857&xp=4&px=1',\n",
       " 'https://www.naukri.com/job-listings-specialist-i-data-scientist-philips-india-limited-bangalore-bengaluru-4-to-7-years-170521500993?src=jobsearchDesk&sid=16214214585424857&xp=5&px=1',\n",
       " 'https://www.naukri.com/job-listings-data-scientist-ibm-india-pvt-limited-bangalore-bengaluru-6-to-8-years-110521907352?src=jobsearchDesk&sid=16214214585424857&xp=6&px=1',\n",
       " 'https://www.naukri.com/job-listings-lead-data-scientist-intel-technology-india-pvt-ltd-bangalore-bengaluru-6-to-10-years-070521500578?src=jobsearchDesk&sid=16214214585424857&xp=7&px=1',\n",
       " 'https://www.naukri.com/job-listings-sde-lead-data-scientist-l3-huawei-technologies-india-pvt-ltd-bangalore-bengaluru-5-to-8-years-120521901434?src=jobsearchDesk&sid=16214214585424857&xp=8&px=1',\n",
       " 'https://www.naukri.com/job-listings-computational-design-lead-data-scientist-l3-huawei-technologies-india-pvt-ltd-bangalore-bengaluru-5-to-8-years-120521901329?src=jobsearchDesk&sid=16214214585424857&xp=9&px=1',\n",
       " 'https://www.naukri.com/job-listings-hiring-for-data-scientist-on-contract-basis-3-6-months-globaledx-learning-and-technology-solution-pvt-ltd-hyderabad-secunderabad-bangalore-bengaluru-mumbai-all-areas-3-to-8-years-170521003581?src=jobsearchDesk&sid=16214214585424857&xp=10&px=1']"
      ]
     },
     "execution_count": 67,
     "metadata": {},
     "output_type": "execute_result"
    }
   ],
   "source": [
    "urls"
   ]
  },
  {
   "cell_type": "code",
   "execution_count": 68,
   "metadata": {},
   "outputs": [],
   "source": [
    "#creating an empty list for job description\n",
    "Job_Description=[]"
   ]
  },
  {
   "cell_type": "code",
   "execution_count": 69,
   "metadata": {},
   "outputs": [],
   "source": [
    "from selenium.common.exceptions import NoSuchElementException"
   ]
  },
  {
   "cell_type": "code",
   "execution_count": 70,
   "metadata": {},
   "outputs": [],
   "source": [
    "for i in urls:\n",
    "    driver.get(i)\n",
    "    time.sleep(3)\n",
    "    \n",
    "    #fetching job description\n",
    "    try:\n",
    "        desc=driver.find_element_by_xpath(\"//section[@class='job-desc']//div\")\n",
    "        Job_Description.append(desc.text)\n",
    "    except NoSuchElementException:\n",
    "        Job_Description.append('-')\n",
    "    "
   ]
  },
  {
   "cell_type": "code",
   "execution_count": 71,
   "metadata": {},
   "outputs": [
    {
     "data": {
      "text/plain": [
       "[\"Job Role : Data Scientist/Data Analyst /Business Analyst\\n\\nLocation : Chennai/Bangalore/Hyderabad/Pune/Mumbai/Delhi\\n\\nGreetings from CAIA - Center for Artificial Intelligence & Advanced Analytics\\n43% of companies experienced a high deficit of skilled resources with Advanced Analytical skills and AI implementing capabilities in year 2020. CAIA gives you a great opportunity to enter the world of future technologies and Innovations- Data Science, Analytics, AI, Data Visualization and Cloud Computing.\\n\\nWhile 2020 was a year like no other, we are living in an interesting times where data is reshaping the world, and businesses are rapidly adopting technology to gain an edge over others. Hence, there's a substantial increase in demand for technology professionals who can implement systems in data science, machine learning and AI in Tier 1 and Tier 2 organization's working closely with us.\\n\\nTo help you build a sustainable career we would like you to utilize data, software and Analytical approaches in Data Science and AI to up skill and get recruited into an organization appreciating your skilling journey.\\nApplications invited from all Freshers and experienced candidates (0-3 yrs) aspiring to make a career in Artificial Intelligence and Advanced Analytics and Data Science.\\nIf you wish to make a shift in your career or undergo a career transition, upskilling is essential since it allows you to learn more about the domain and acquire the required skills.\\n\\nCall to schedule interview Monday -Saturday from 10:00 am to 7Pm\\n\\nManigandan -+91 7299917200\\n\\nEmail : manigandan@centerforaia.com\\n\\nWhat is needed from you?\\n\\nFreshers who wish to start their career in Analytics and AI and professionals who wish to\\nupskill or change their domain to analytics and emerging technologies are free to apply.\\nAn Educational background in any one of the following- BE/B.Tech, ME/M Tech, MSc, BSc/MSc Maths and Statistics, B Com, BCA, BSc CS, BSC IT, MSC IT, MCA\\nSkills relating to Mathematics/Statistics.\\nNatural passion towards numbers, business, coding, Analytics and Artificial Intelligence, Machine Learning, visualization\\nGood verbal and written communication skills\\nAbility to understand domains in businesses across various sectors\\n\\n\\nSelection procedure includes\\n\\nAptitude Test & Communication Exam - Online / Offline\\nSQL/Python test - Online / Offline\\n\\nCandidates who clears the above will have one-one discussion with our Career Guidance Manager for further evaluation and processing of your Resume.\\n\\n\\nAll the Shortlisted candidates will be eligible to continue the corporate training with CAIA\\nWhat you can expect from us?\\n\\nYou will get trained on the following modules for a period of 12-14 weeks:\\n\\nSQL & PLSQL\\nData Wrangling using Python\\nData Visualization Using Power-BI\\nStatistics for Machine Learning\\nArtificial Intelligence, Data Interpretation\\nSupervised & Unsupervised Learning,\\nNLP & Deep Learning\\nCloud Data Lake\\nBusiness intelligence & Data Visualization\\nSimulation Projects\\nExpected Outcome?\\n\\nAt the end of the Training you are expected to be well versed with the following:\\n\\nAnalysis of large and complex data sets from multiple sources\\nDevelopment and evaluation of data analytics models, algorithms and solutions\\nUnderstanding/implementation of ML algorithms, performance tuning and reporting\\nImplementation of algorithms to mine targeted data and the ability to convert data in to a business story\\nTranslation of business requirements into technical requirements; Data extraction, preparation and transformation\\nIdentification, development and implementation of statistical techniques and algorithms that address business challenges and adds value to the organization\\nRequirement Analysis and communication of findings in the form of a meaningful story with the stakeholders\\nFinding analytical solutions to abstract business issues.\\nApply objective analysis of facts before coming to a conclusion\\n\\nAbout CAIA - Inflexion Analytix Private Limited\\n\\nCenter for Artificial Intelligence and Advanced Analytics (Center for AIA) is the brainchild of experienced and visionary alumni of IIT Madras and Bombay.\\nDigital leaders - 5F World and Systech Solutions have joined hands to create a venture for architecting the future of society, workforce, governments and businesses. 5F World specializes in designing solutions around digital platforms and Systech Solutions has an expertise in architecting Artificial Intelligence and Advance Analytics solutions for Fortune 500 companies.\\nOur Website : http://www.centerforaia.com/\\n\\nhttps://inflexion-analytix-private-limited.business.site/?m=true\\n\\nCenter for Artificial Intelligence & Advanced Analytics (CAIA) focuses on the following:\\n\\n1. Global Research on emerging trends, technologies and applications in AI and Advanced Analytics\\n2. Advanced Training programs for readying the future ready workforce\\n3. Solutions to herald the futuristic lifestyle and workspaces in the field of AI and Data Science.\",\n",
       " 'We wont say we can predict the future, but our team of Analysts get pretty close, they turn millions of data points into useful information & insights that help our clients to make better decisions on their marketing mix and achieve superior results. Be part of the future and join in on one of the major transformations in the market research industry with the integration of big data and classic marketing mix analysis.\\n\\nResponsibilities:\\nDeliver as a part of our consultant team in driving high quality results on custom project work\\nEnsure effective and timely delivery of project work\\nWork towards understanding statistical models and deliver business insights and findings\\nEnsure compliance to Marketing Mix Modeling modeling practices and company quality standards\\nMaximize the efficient and effective use of resources by utilizing appropriate processes and tools\\nTo build and maintain effective contacts with other departments to ensure the efficient and effective use of resources\\nLiaise with appropriate Marketing Mix Modeling and Nielsen departments to ensure hardware and software requirements are fulfilled\\nWork with co/ third party modellers to deliver business insights and findings\\n\\nQualifications and Skills\\n2-5 years of relevant experience\\nMasters degree in Economics, Mathematics, Statistics, Engineering\\nIn-depth understanding of statistical modeling techniques and applications\\nGood and working knowledge of any statistical languages like SAS, R, Pythons\\nSolid proficiency of decision making and problem resolution skills\\nPassion for results with a challenger mindset\\n\\nAbout the Team:\\nGlobal Product, Technology & Operations supports Nielsen Medias growth strategy by enabling positive client and market solutions. Our Operations Team is in a unique position as the center of data collection, analysis and delivery. We deliver outcomes with the highest quality and integrity standards in an agile and transparent way while standing by our Nielsen values.',\n",
       " '-',\n",
       " '-',\n",
       " 'Responsibilities and Key Result Areas\\nDesign and develop project prototypes and solutions.\\nParticipate in project estimation, planning and risk management activities\\nIs responsible for delivering input in the planning process to the project leader\\nEnsures that there is proper documentation for the developed solutions.\\nEnsure compliance to the Quality Management System and regulatory requirements\\nKey Technical Skills:\\n4 - 7 yrs years of experience in data science\\nDeveloped Proficient in algorithms on regression modelling (linear/logistic), supervised and unsupervised classification,\\ntree-based techniques (Decision trees /Random forest), neural nets, bagging, Pattern Mining and boosting techniques, etc.\\nProficient and hands on experience in developing models using concepts of Artificial Intelligence,\\nMachine Learning and Deep Learning related technologies (such as Keras, TensorFlow, pyTorch, Azure ML, AWS ML, Scikit, Jupyter, MatLab etc.)\\nExperience with containers like Docker is added advantage\\nExperience in Sql\\nWorking experience in agile/SAFe development methodologies\\nSoft Skill set:\\nFast learner. Ability to grasp key concepts quickly with minimal or no supervision\\nGo-Getter Attitude. Ability to take ownership of team goals and deliver it with quality and within required timeline\\nTeam Player attitude. Key characteristic of the individual who puts the team first before self.\\nAbility to think out of box: Ability to come up with bright ideas and always looking at the next big thing in technology\\nFlexible and willingness to stretch oneself when needed.',\n",
       " '-',\n",
       " 'We are seeking an outstanding Lead Data Scientist in AI/ML who will help our team continue to grow and bring high value to Intel. In this role you should demonstrate excellent problem formulation/definition skills in addition to technical skills. The ideal candidate should be:\\n\\nA professional role model with deep and wide expertise in state-of-the-art AI/ML techniques, a passion for solving challenging data science problems and extensive hands-on experience.\\nBe detail-oriented and have an aptitude for solving unstructured problems. You should be excellent in coming up with different approaches to solve business problem using AI and evaluate the trade-off between them.\\nBe self-directed, take charge of opportunities with business impact and drive them to completion.\\nHave prior experience in guiding a team of data scientists, coaching and mentoring them.\\nHave deep technical expertise in feature-engineering of massive datasets, effective exploratory data analysis, and model building using AI/ML techniques.\\nBe a role model innovator by adapting new AI/ML modeling techniques and procedures.\\nHave deep expertise in creation and management of datasets.\\nHave excellent business and communication skills to be able to work with stakeholders like the business teams, engineering teams and partner teams and align them with respect to your focus area.\\nHave the ability to manage and execute an entire AI project from start to finish, including problem solving, data gathering and manipulation, predictive modeling, and project management skills.\\nBe a role-model in storytelling with data and articulating the AI problems in an understandable manner to senior leadership of the Business Units.\\n\\nYou will be a part of the large global AI/ML Research Scientist community and will have access to state-of-the-art training, tools, and methods of the domain.\\n\\n\\nCandidates need to hold at least a masters degree (or higher) in Computer Science/Machine Learning/AI/Data Science\\n8 years of relevant experience in building AI/ML models and in using Python (Scikit-learn, TensorFlow/Pytorch) and SQL (or equivalent).\\nExperience in using data analysis techniques and ML methods like classification, regression pattern finding, clustering, dimensionality reduction, anomaly detection etc.\\nExperience with Hadoop, Spark is an advantage\\nDeep Knowledge of classical AI algorithms and Deep Learning techniques is a must.\\nGreat analytical skills and demonstrated ability of independent and creative thinking.\\nHighly motivated strong team player with the ability to work both independently and collaboratively within a team.\\nHas strong analytical skills, including the abilities to scope out business problems to be solved, start from ambiguous problem statements, identify and access relevant data, make appropriate assumptions, perform insightful analysis and draw conclusions relevant to the business problem.\\nAbility to present information professionally and concisely with supporting data.\\nPrevious experience as a data scientist in semi-conductor industry or data intensive organizations is a plus.\\nExperience in creating powerful data driven visualizations to describe ML modeling results to stakeholders.',\n",
       " 'Business & Team overview:\\nFounded in 1987, Huawei is a leading global provider of ICT (information and communications technology) infrastructure and smart devices. We are committed to bringing digital to every person, home and organization for a fully connected, intelligent world. We have nearly 194,000 employees, and we operate in more than 170 countries and regions, serving more than 3 billion people around the world.\\n\\nHuawei Technologies has three business directions: Carrier Business Group, which provides innovative and secure network equipment to telecom carriers, including the leading 5G mobile network.\\nEnterprise Business Group, which provides facilities and solutions to big and small companies, including IT facilities.\\nConsumer Business Groups, which provides devices to the customer, including mobile phones, PC, tablet, TV, audio, glasses, watches, locomotives, and headphones. And also provide solutions on mobile offices, smart homes, sports and health, audio-visual entertainment, and smart travel products.\\n\\nThis opportunity is belong to Huawei Consumer Business Group.\\n\\nDriven by the coordinated development of \"Chip-Device-Cloud\", consumer products such as smartphones are becoming increasingly intelligent and pervasive. The era of smart services is the future.\\n\\nHuawei Ads Services is dedicated to provide Huawei end-users with high-quality digital experiences, to build a business closed-loop system for Developers and Improve the ROI for the Advertisers\\n.\\nIn 2020 Q1, along with more than 650 million users and 1,400,000 registered developers worldwide, we have the following unique advantages:\\n1. With All-scenario intelligent solution, the Huawei devices become super entrance of traffic, including mobile phones, PC, tablet, TV, audio, glasses, watches, locomotives, and head phones\\n2. This team will be responsible for building a new Ad Serving Platform and have the opportunity to define the product for our Huawei end-users.\\n3. AI-Driven is the direction of Ads, Huawei is going to build a strong team in India to Innovate and deliver AI-driven Smart Ad Serving Platforms\\n\\nJob Title: Lead Data Scientist\\nWe are looking for a Lead data scientist who will help us discover the information hidden in vast amounts of Ad Campaign data, and help us to optimize the campaign to improve the advertiser ROI and improve the overall consumer experience. Your primary focus will be in applying data mining techniques, doing statistical analysis, and building high quality prediction systems using Deep learning algorithms integrated with our products. Some the key area you will be working on spend recommendation, floor price prediction, CTR/CVR prediction, market funnel analysis and perdition of lead to conversion, etc.\\n\\nResponsibility:\\nAnalyze the data, develop insights and identify the opportunity to utilize the data to predict various Advertisement key indicators like CTR, CVR, Inventory and Develop prediction and optimization algorithms for campaign, look alike modeling, etc for Huawei Ads.\\nTakeup key challenges in AI-driven Smart Ad Serving Platform and focus on research and developing leading AI algorithms and productionize for Huawei Ads.\\nTakeup initiative in identifying the SOTA and finding key gaps in AI algorithms and develop a world leading AI algorithms for optimizing real-time Ad Serving engine. Identify and optimize the core modules such as Traffic Prediction, Optimization, Ad Targeting/Re-targeting, Ad Performance Optimization, Audience insights, Attribution, Bidding, re-ranking, and Diagnostics. Support hundreds of billions of ad requests per day, with efficiently cache technology.\\nTo build and enhance Ad platform features and Prediction capabilities in Huawei Ads Platform\\nOptimized Cost Per Mille; Optimized Cost Per Action; Optimized Cost Per Click and Cost per Click. OCPM, OCPA, OCPC.\\n\\nRequirements:\\n- Strong hands-on experience in implementing and validating big data algorithms and models including Deep Learning models like Seq2Seq/ GRU/RNN/LSTM , Knowledge Graph, Massive Graph algorithms, etc.\\n- Programming experience with Python\\n- Able to validate existing models including Deep Learning models with large scale dataset and able to make changes to the models to achieve better performance\\n- AdServing domain Experience is an added advantage',\n",
       " 'Business & Team overview:\\nFounded in 1987, Huawei is a leading global provider of ICT (information and communications technology) infrastructure and smart devices. We are committed to bringing digital to every person, home and organization for a fully connected, intelligent world. We have nearly 194,000 employees, and we operate in more than 170 countries and regions, serving more than 3 billion people around the world.\\n\\nHuawei Technologies has three business directions: Carrier Business Group, which provides innovative and secure network equipment to telecom carriers, including the leading 5G mobile network.\\nEnterprise Business Group, which provides facilities and solutions to big and small companies, including IT facilities.\\nConsumer Business Groups, which provides devices to the customer, including mobile phones, PC, tablet, TV, audio, glasses, watches, locomotives, and headphones. And also provide solutions on mobile offices, smart homes, sports and health, audio-visual entertainment, and smart travel products.\\n\\nThis opportunity is belong to Huawei Consumer Business Group.\\n\\nDriven by the coordinated development of \"Chip-Device-Cloud\", consumer products such as smartphones are becoming increasingly intelligent and pervasive. The era of smart services is the future.\\nHuawei Ads Services is dedicated to provide Huawei end-users with high-quality digital experiences, to build a business closed-loop system for Developers and Improve the ROI for the Advertisers\\n.\\nIn 2020 Q1, along with more than 650 million users and 1,400,000 registered developers worldwide, we have the following unique advantages:\\n1. With All-scenario intelligent solution, the Huawei devices become super entrance of traffic, including mobile phones, PC, tablet, TV, audio, glasses, watches, locomotives, and head phones\\n2. This team will be responsible for building a new Ad Serving Platform and have the opportunity to define the product for our Huawei end-users.\\n3. AI-Driven is the direction of Ads, Huawei is going to build a strong team in India to Innovate and deliver AI-driven Smart Ad Serving Platforms\\n\\n1. Job Title: Computational Design Lead Data Scientist\\n\\nResponsibility:\\nTake-up Key creative tools of the creative platform for Advertisers, research and develop breakthrough CNN based deep learning algorithms to solve the problem unique in the industry and productionize the algorithms, measure the ad creative performance and enhance the algorithm to ease the Ad Designer job.\\nDevelop the common AI platforms and frameworks to ease the experimentation of the Algorithms for creative Design.\\nTo build ability to understand the advertisers intent and provide creative assistance every step of creating all types of adverts\\nResponsible for intelligent identification of advertising creatives (pictures, videos) and related algorithms of content understanding.\\nResponsible for Image Synthesis, Intelligent Layout, Style Transfer, and other image processing, computing and visual processing, to improve the aesthetic level of advertising creativity.\\nResponsible for designing algorithms for suggesting how to intelligently crop and position an image for maximum effect, identify the optimal placement of text and copywriting.\\nResponsible for the algorithm and model of dynamic matching of advertising program creativity and dynamic creation of advertising content\\n\\nRequirements:\\nDeep knowledge of Computational Design\\nExperience on Intelligent composition, including image cropping, smart layout, the Gold Ratio composition, visual extension.\\nExperience computer vision models, including image/video recognition and content understanding.\\nExperience in algorithms such as image and video segmentation, separation, synthesis, and intelligent layout with engineering platform implementation capability.\\nStrong Knowledge Algorithms such as Image segmentation, object detection, Image processing (filtering, noise removal, histogram thresholding, etc.), object tracking, image transformation (affine transform, dewarping), keypoint detection/description, etc (and experience in using Computer vision Libraries)\\nStrong Knowledge in CNN, R-CNN, GAN, LSTM, GRU, Multimodal feature Learning, ASR, NLU, NLG, Copywriting and KG will be an added advantage\\nStrong logic/probability thinking ability and be good at analyzing, summarizing, describing, communicating, and solving problems\\nWorking experience in related online advertising products/creative platform is preferred\\nWorking experience in Computer Vision (CV) to enhance user artistic creativity while creating creatives/adverts is preferred\\nAbility to identify trends of advertising creative platform.',\n",
       " 'Dear Aspirant,\\n\\nGreetings from Globaledx\\n\\nRoles and Responsibilities\\n\\nExperience : 3+ Years\\nCTC : Best in Market\\nLocation : Pan India\\nContract Period : 3-6 Months\\nSkill : Python, NLP, Machine Learning Models, Data Scientist\\n\\nInterested, please share your updated resume to hr@globaledx.com\\nOr Call /Whatsapp at Sowjanya : 9505072408\\n\\nPlease share with your friends for more reach!']"
      ]
     },
     "execution_count": 71,
     "metadata": {},
     "output_type": "execute_result"
    }
   ],
   "source": [
    "Job_Description"
   ]
  },
  {
   "cell_type": "markdown",
   "metadata": {},
   "source": [
    "Now we will check the length of the 4 lists.if the lengths of the 4 lists are not same,then we can't form a DataFrame."
   ]
  },
  {
   "cell_type": "code",
   "execution_count": 72,
   "metadata": {},
   "outputs": [
    {
     "data": {
      "text/plain": [
       "(10, 10, 10, 10)"
      ]
     },
     "execution_count": 72,
     "metadata": {},
     "output_type": "execute_result"
    }
   ],
   "source": [
    "len(job_title),len(Company_name),len(location),len(Job_Description)"
   ]
  },
  {
   "cell_type": "code",
   "execution_count": 73,
   "metadata": {},
   "outputs": [],
   "source": [
    "import pandas as pd\n",
    "#Lets create a dataframe\n",
    "Naukri_jobs=pd.DataFrame(({}))\n",
    "Naukri_jobs['Job_Title']=job_title\n",
    "Naukri_jobs['Company_Name']=Company_name\n",
    "Naukri_jobs['Location']=location\n",
    "Naukri_jobs['Job_Description']=Job_Description"
   ]
  },
  {
   "cell_type": "code",
   "execution_count": 74,
   "metadata": {},
   "outputs": [
    {
     "data": {
      "text/html": [
       "<div>\n",
       "<style scoped>\n",
       "    .dataframe tbody tr th:only-of-type {\n",
       "        vertical-align: middle;\n",
       "    }\n",
       "\n",
       "    .dataframe tbody tr th {\n",
       "        vertical-align: top;\n",
       "    }\n",
       "\n",
       "    .dataframe thead th {\n",
       "        text-align: right;\n",
       "    }\n",
       "</style>\n",
       "<table border=\"1\" class=\"dataframe\">\n",
       "  <thead>\n",
       "    <tr style=\"text-align: right;\">\n",
       "      <th></th>\n",
       "      <th>Job_Title</th>\n",
       "      <th>Company_Name</th>\n",
       "      <th>Location</th>\n",
       "      <th>Job_Description</th>\n",
       "    </tr>\n",
       "  </thead>\n",
       "  <tbody>\n",
       "    <tr>\n",
       "      <th>0</th>\n",
       "      <td>Data Scientist / Data Analyst -Business Analyst</td>\n",
       "      <td>Inflexion Analytix Private Limited</td>\n",
       "      <td>Mumbai, Hyderabad/Secunderabad, Pune, Gurgaon/...</td>\n",
       "      <td>Job Role : Data Scientist/Data Analyst /Busine...</td>\n",
       "    </tr>\n",
       "    <tr>\n",
       "      <th>1</th>\n",
       "      <td>Senior Data Scientist, Modeling</td>\n",
       "      <td>Nielsen</td>\n",
       "      <td>Kolkata, Gurgaon/Gurugram, Bangalore/Bengaluru...</td>\n",
       "      <td>We wont say we can predict the future, but our...</td>\n",
       "    </tr>\n",
       "    <tr>\n",
       "      <th>2</th>\n",
       "      <td>Data Scientist - IBM Garage</td>\n",
       "      <td>IBM India Pvt. Limited</td>\n",
       "      <td>Noida, Hyderabad/Secunderabad, Bangalore/Benga...</td>\n",
       "      <td>-</td>\n",
       "    </tr>\n",
       "    <tr>\n",
       "      <th>3</th>\n",
       "      <td>Big Data - Data Scientist</td>\n",
       "      <td>Xoriant Solutions Pvt Ltd</td>\n",
       "      <td>Kochi/Cochin, Indore, Hyderabad/Secunderabad, ...</td>\n",
       "      <td>-</td>\n",
       "    </tr>\n",
       "    <tr>\n",
       "      <th>4</th>\n",
       "      <td>Specialist I - Data Scientist</td>\n",
       "      <td>Philips India Limited</td>\n",
       "      <td>Bangalore/Bengaluru</td>\n",
       "      <td>Responsibilities and Key Result Areas\\nDesign ...</td>\n",
       "    </tr>\n",
       "    <tr>\n",
       "      <th>5</th>\n",
       "      <td>Data Scientist</td>\n",
       "      <td>IBM India Pvt. Limited</td>\n",
       "      <td>Bangalore/Bengaluru</td>\n",
       "      <td>-</td>\n",
       "    </tr>\n",
       "    <tr>\n",
       "      <th>6</th>\n",
       "      <td>Lead Data Scientist</td>\n",
       "      <td>Intel Technology India Pvt Ltd</td>\n",
       "      <td>Bangalore/Bengaluru</td>\n",
       "      <td>We are seeking an outstanding Lead Data Scient...</td>\n",
       "    </tr>\n",
       "    <tr>\n",
       "      <th>7</th>\n",
       "      <td>SDE Lead Data Scientist-L3</td>\n",
       "      <td>Huawei Technologies India Pvt Ltd</td>\n",
       "      <td>Bangalore/Bengaluru</td>\n",
       "      <td>Business &amp; Team overview:\\nFounded in 1987, Hu...</td>\n",
       "    </tr>\n",
       "    <tr>\n",
       "      <th>8</th>\n",
       "      <td>Computational Design Lead Data Scientist-L3</td>\n",
       "      <td>Huawei Technologies India Pvt Ltd</td>\n",
       "      <td>Bangalore/Bengaluru</td>\n",
       "      <td>Business &amp; Team overview:\\nFounded in 1987, Hu...</td>\n",
       "    </tr>\n",
       "    <tr>\n",
       "      <th>9</th>\n",
       "      <td>Hiring For DATA Scientist - ON Contract Basis ...</td>\n",
       "      <td>GlobalEdx Learning and Technology Solution Pvt...</td>\n",
       "      <td>Hyderabad/Secunderabad, Bangalore/Bengaluru, M...</td>\n",
       "      <td>Dear Aspirant,\\n\\nGreetings from Globaledx\\n\\n...</td>\n",
       "    </tr>\n",
       "  </tbody>\n",
       "</table>\n",
       "</div>"
      ],
      "text/plain": [
       "                                           Job_Title  \\\n",
       "0    Data Scientist / Data Analyst -Business Analyst   \n",
       "1                    Senior Data Scientist, Modeling   \n",
       "2                        Data Scientist - IBM Garage   \n",
       "3                          Big Data - Data Scientist   \n",
       "4                      Specialist I - Data Scientist   \n",
       "5                                     Data Scientist   \n",
       "6                                Lead Data Scientist   \n",
       "7                         SDE Lead Data Scientist-L3   \n",
       "8        Computational Design Lead Data Scientist-L3   \n",
       "9  Hiring For DATA Scientist - ON Contract Basis ...   \n",
       "\n",
       "                                        Company_Name  \\\n",
       "0                 Inflexion Analytix Private Limited   \n",
       "1                                            Nielsen   \n",
       "2                             IBM India Pvt. Limited   \n",
       "3                          Xoriant Solutions Pvt Ltd   \n",
       "4                              Philips India Limited   \n",
       "5                             IBM India Pvt. Limited   \n",
       "6                     Intel Technology India Pvt Ltd   \n",
       "7                  Huawei Technologies India Pvt Ltd   \n",
       "8                  Huawei Technologies India Pvt Ltd   \n",
       "9  GlobalEdx Learning and Technology Solution Pvt...   \n",
       "\n",
       "                                            Location  \\\n",
       "0  Mumbai, Hyderabad/Secunderabad, Pune, Gurgaon/...   \n",
       "1  Kolkata, Gurgaon/Gurugram, Bangalore/Bengaluru...   \n",
       "2  Noida, Hyderabad/Secunderabad, Bangalore/Benga...   \n",
       "3  Kochi/Cochin, Indore, Hyderabad/Secunderabad, ...   \n",
       "4                                Bangalore/Bengaluru   \n",
       "5                                Bangalore/Bengaluru   \n",
       "6                                Bangalore/Bengaluru   \n",
       "7                                Bangalore/Bengaluru   \n",
       "8                                Bangalore/Bengaluru   \n",
       "9  Hyderabad/Secunderabad, Bangalore/Bengaluru, M...   \n",
       "\n",
       "                                     Job_Description  \n",
       "0  Job Role : Data Scientist/Data Analyst /Busine...  \n",
       "1  We wont say we can predict the future, but our...  \n",
       "2                                                  -  \n",
       "3                                                  -  \n",
       "4  Responsibilities and Key Result Areas\\nDesign ...  \n",
       "5                                                  -  \n",
       "6  We are seeking an outstanding Lead Data Scient...  \n",
       "7  Business & Team overview:\\nFounded in 1987, Hu...  \n",
       "8  Business & Team overview:\\nFounded in 1987, Hu...  \n",
       "9  Dear Aspirant,\\n\\nGreetings from Globaledx\\n\\n...  "
      ]
     },
     "execution_count": 74,
     "metadata": {},
     "output_type": "execute_result"
    }
   ],
   "source": [
    "Naukri_jobs"
   ]
  },
  {
   "cell_type": "markdown",
   "metadata": {},
   "source": [
    "# Question 3"
   ]
  },
  {
   "cell_type": "code",
   "execution_count": 152,
   "metadata": {},
   "outputs": [],
   "source": [
    "# Lets import the required libraries\n",
    "import selenium\n",
    "import pandas as pd\n",
    "from selenium import webdriver\n",
    "import time"
   ]
  },
  {
   "cell_type": "code",
   "execution_count": 153,
   "metadata": {},
   "outputs": [],
   "source": [
    "#Lets first connect to the web driver\n",
    "driver=webdriver.Chrome('chromedriver.exe')"
   ]
  },
  {
   "cell_type": "code",
   "execution_count": 154,
   "metadata": {},
   "outputs": [],
   "source": [
    "url='https://www.naukri.com/'\n",
    "driver.get(url)"
   ]
  },
  {
   "cell_type": "code",
   "execution_count": 155,
   "metadata": {},
   "outputs": [
    {
     "data": {
      "text/plain": [
       "<selenium.webdriver.remote.webelement.WebElement (session=\"6aeadf13e34992e018035c8935f39f22\", element=\"cac9ca10-3506-4eea-a630-db631e90f27d\")>"
      ]
     },
     "execution_count": 155,
     "metadata": {},
     "output_type": "execute_result"
    }
   ],
   "source": [
    "#finding the element for search bar\n",
    "search_job=driver.find_element_by_id(\"qsb-keyword-sugg\")\n",
    "search_job"
   ]
  },
  {
   "cell_type": "code",
   "execution_count": 156,
   "metadata": {},
   "outputs": [],
   "source": [
    "#Write on the search bar\n",
    "search_job.send_keys(\"Data Scientist\")"
   ]
  },
  {
   "cell_type": "code",
   "execution_count": 157,
   "metadata": {},
   "outputs": [],
   "source": [
    "#do click on the search bar using xpath function\n",
    "search_button=driver.find_element_by_xpath(\"//button[@class='btn']\")\n",
    "search_button.click()"
   ]
  },
  {
   "cell_type": "code",
   "execution_count": 158,
   "metadata": {},
   "outputs": [
    {
     "data": {
      "text/plain": [
       "<selenium.webdriver.remote.webelement.WebElement (session=\"6aeadf13e34992e018035c8935f39f22\", element=\"279329f4-b745-4307-9e60-aa3dddd15d92\")>"
      ]
     },
     "execution_count": 158,
     "metadata": {},
     "output_type": "execute_result"
    }
   ],
   "source": [
    "#Click on check_box of location\n",
    "check_box=driver.find_element_by_xpath(\"//span[@title='Delhi / NCR']\")\n",
    "check_box"
   ]
  },
  {
   "cell_type": "code",
   "execution_count": 159,
   "metadata": {},
   "outputs": [],
   "source": [
    "check_box.click()"
   ]
  },
  {
   "cell_type": "code",
   "execution_count": 160,
   "metadata": {},
   "outputs": [
    {
     "data": {
      "text/plain": [
       "<selenium.webdriver.remote.webelement.WebElement (session=\"6aeadf13e34992e018035c8935f39f22\", element=\"33584b6f-50a6-4611-b198-185740991eda\")>"
      ]
     },
     "execution_count": 160,
     "metadata": {},
     "output_type": "execute_result"
    }
   ],
   "source": [
    "#Click on check_box of salary\n",
    "check_box_salary=driver.find_element_by_xpath(\"//span[@title='3-6 Lakhs']\")\n",
    "check_box_salary"
   ]
  },
  {
   "cell_type": "code",
   "execution_count": 161,
   "metadata": {},
   "outputs": [],
   "source": [
    "check_box_salary.click()"
   ]
  },
  {
   "cell_type": "code",
   "execution_count": 162,
   "metadata": {},
   "outputs": [
    {
     "data": {
      "text/plain": [
       "[<selenium.webdriver.remote.webelement.WebElement (session=\"6aeadf13e34992e018035c8935f39f22\", element=\"ed646398-ed7e-4f8e-b4d2-af9441720fb0\")>,\n",
       " <selenium.webdriver.remote.webelement.WebElement (session=\"6aeadf13e34992e018035c8935f39f22\", element=\"874db312-957d-445e-9cf4-5791bd2db787\")>,\n",
       " <selenium.webdriver.remote.webelement.WebElement (session=\"6aeadf13e34992e018035c8935f39f22\", element=\"bdc6cf8b-16c8-4a83-a69a-6d5af323e835\")>,\n",
       " <selenium.webdriver.remote.webelement.WebElement (session=\"6aeadf13e34992e018035c8935f39f22\", element=\"780df33e-0e81-4045-a749-26ed0cc3f475\")>,\n",
       " <selenium.webdriver.remote.webelement.WebElement (session=\"6aeadf13e34992e018035c8935f39f22\", element=\"cbab4b48-f26a-475e-86ef-d1cfe32a0ec7\")>,\n",
       " <selenium.webdriver.remote.webelement.WebElement (session=\"6aeadf13e34992e018035c8935f39f22\", element=\"96e5a951-7420-40de-883e-365a58200de1\")>,\n",
       " <selenium.webdriver.remote.webelement.WebElement (session=\"6aeadf13e34992e018035c8935f39f22\", element=\"6847e3fb-1b84-40f9-b53c-4e65753f8fa2\")>,\n",
       " <selenium.webdriver.remote.webelement.WebElement (session=\"6aeadf13e34992e018035c8935f39f22\", element=\"7afe35f8-9c72-42d7-96cc-5c220e126dc5\")>,\n",
       " <selenium.webdriver.remote.webelement.WebElement (session=\"6aeadf13e34992e018035c8935f39f22\", element=\"63654572-36b5-4264-b530-6decb032eb50\")>,\n",
       " <selenium.webdriver.remote.webelement.WebElement (session=\"6aeadf13e34992e018035c8935f39f22\", element=\"0cedf743-09cb-4324-9faa-64c4829852fa\")>]"
      ]
     },
     "execution_count": 162,
     "metadata": {},
     "output_type": "execute_result"
    }
   ],
   "source": [
    "#Lets extract all html tags having the job title\n",
    "title_tags=driver.find_elements_by_xpath(\"//a[@class='title fw500 ellipsis']\")[:10]\n",
    "title_tags"
   ]
  },
  {
   "cell_type": "code",
   "execution_count": 163,
   "metadata": {},
   "outputs": [
    {
     "data": {
      "text/plain": [
       "['Data Scientist / Data Analyst -Business Analyst',\n",
       " 'Data Scientist - High growth VC backed Influencer Marketplace',\n",
       " 'Excellent opportunity For Data Scientist',\n",
       " 'Data Scientist',\n",
       " 'DATA Scientist – Gurgaon (Exp 3-6 years)',\n",
       " 'DATA Scientist – Gurgaon (Exp 3-6 years)',\n",
       " 'Data Scientist - Noida',\n",
       " \"Data Scientist - Noida/ B'lore\",\n",
       " 'Data Scientist',\n",
       " 'Data Scientist']"
      ]
     },
     "execution_count": 163,
     "metadata": {},
     "output_type": "execute_result"
    }
   ],
   "source": [
    "#Now the text of the job title is inside the tags extracted above\n",
    "#so we will run a loop to iterate over the tags extracted above and extrat the text inside them \n",
    "job_title=[]\n",
    "for i in title_tags:\n",
    "    job_title.append(i.text)\n",
    "job_title    "
   ]
  },
  {
   "cell_type": "code",
   "execution_count": 164,
   "metadata": {},
   "outputs": [
    {
     "data": {
      "text/plain": [
       "[<selenium.webdriver.remote.webelement.WebElement (session=\"6aeadf13e34992e018035c8935f39f22\", element=\"5819181c-f1ec-4b0e-b340-c819ee8f6802\")>,\n",
       " <selenium.webdriver.remote.webelement.WebElement (session=\"6aeadf13e34992e018035c8935f39f22\", element=\"e49396ae-eead-42af-b761-11e4b2db6191\")>,\n",
       " <selenium.webdriver.remote.webelement.WebElement (session=\"6aeadf13e34992e018035c8935f39f22\", element=\"6bb7423d-9b53-47b9-bff5-b04d72c3b5fd\")>,\n",
       " <selenium.webdriver.remote.webelement.WebElement (session=\"6aeadf13e34992e018035c8935f39f22\", element=\"cae9782e-3710-4a99-8374-c470fd9a8460\")>,\n",
       " <selenium.webdriver.remote.webelement.WebElement (session=\"6aeadf13e34992e018035c8935f39f22\", element=\"2c663b66-2758-4254-851c-ebafef9b4642\")>,\n",
       " <selenium.webdriver.remote.webelement.WebElement (session=\"6aeadf13e34992e018035c8935f39f22\", element=\"82541ef8-5542-4ea9-b1f5-8b041cd5ef39\")>,\n",
       " <selenium.webdriver.remote.webelement.WebElement (session=\"6aeadf13e34992e018035c8935f39f22\", element=\"763f93c5-615f-4e56-8605-3949c24419ec\")>,\n",
       " <selenium.webdriver.remote.webelement.WebElement (session=\"6aeadf13e34992e018035c8935f39f22\", element=\"85b11f58-596d-4b8b-96d0-c6b4a4573fcd\")>,\n",
       " <selenium.webdriver.remote.webelement.WebElement (session=\"6aeadf13e34992e018035c8935f39f22\", element=\"e640ee46-df32-48d5-b0ad-689b151e175b\")>,\n",
       " <selenium.webdriver.remote.webelement.WebElement (session=\"6aeadf13e34992e018035c8935f39f22\", element=\"a1e5cdee-a0fa-42e1-8aea-dbbb761f4efd\")>]"
      ]
     },
     "execution_count": 164,
     "metadata": {},
     "output_type": "execute_result"
    }
   ],
   "source": [
    "#Now we will extract all html tags having the company name\n",
    "company_tags=driver.find_elements_by_xpath(\"//a[@class='subTitle ellipsis fleft']\")[:10]\n",
    "company_tags"
   ]
  },
  {
   "cell_type": "code",
   "execution_count": 165,
   "metadata": {},
   "outputs": [
    {
     "data": {
      "text/plain": [
       "['Inflexion Analytix Private Limited',\n",
       " 'Ravgins International Pvt. Ltd.',\n",
       " 'NEC CORPORATION INDIA PRIVATE LIMITED',\n",
       " 'Mobikwik',\n",
       " 'CRESCENDO GLOBAL LEADERSHIP HIRING INDIA PRIVATE L IMITED',\n",
       " 'CRESCENDO GLOBAL LEADERSHIP HIRING INDIA PRIVATE L IMITED',\n",
       " 'Optum Global Solutions (India) Private Limited',\n",
       " 'NEC CORPORATION INDIA PRIVATE LIMITED',\n",
       " 'IBM India Pvt. Limited',\n",
       " 'Cloudstrats Technologies Private Limited']"
      ]
     },
     "execution_count": 165,
     "metadata": {},
     "output_type": "execute_result"
    }
   ],
   "source": [
    "#Now the text of the company name is inside the tags extracted above\n",
    "#so we will run a loop to iterate over the tags extracted above and extrat the text inside them \n",
    "Company_name=[]\n",
    "for i in company_tags:\n",
    "    Company_name.append(i.text)\n",
    "Company_name    "
   ]
  },
  {
   "cell_type": "code",
   "execution_count": 166,
   "metadata": {},
   "outputs": [
    {
     "data": {
      "text/plain": [
       "[<selenium.webdriver.remote.webelement.WebElement (session=\"6aeadf13e34992e018035c8935f39f22\", element=\"1082d5a8-370e-450a-8ec4-924b57f39321\")>,\n",
       " <selenium.webdriver.remote.webelement.WebElement (session=\"6aeadf13e34992e018035c8935f39f22\", element=\"c945f70e-b685-45d3-9051-adedd1dcd9f2\")>,\n",
       " <selenium.webdriver.remote.webelement.WebElement (session=\"6aeadf13e34992e018035c8935f39f22\", element=\"9bf36b65-e783-4547-b89e-28f528dd73c5\")>,\n",
       " <selenium.webdriver.remote.webelement.WebElement (session=\"6aeadf13e34992e018035c8935f39f22\", element=\"bb285f07-98f2-48f6-b4b6-29cbb0c4a2ec\")>,\n",
       " <selenium.webdriver.remote.webelement.WebElement (session=\"6aeadf13e34992e018035c8935f39f22\", element=\"84ef7927-ddf4-4fe2-a453-1373180129ad\")>,\n",
       " <selenium.webdriver.remote.webelement.WebElement (session=\"6aeadf13e34992e018035c8935f39f22\", element=\"0cf2e2f7-2d2c-4300-9a85-59fb8776e7a0\")>,\n",
       " <selenium.webdriver.remote.webelement.WebElement (session=\"6aeadf13e34992e018035c8935f39f22\", element=\"6dcfd1c0-97da-4452-91e7-19ec0a3608b3\")>,\n",
       " <selenium.webdriver.remote.webelement.WebElement (session=\"6aeadf13e34992e018035c8935f39f22\", element=\"1f799956-8e7a-4b95-8ebe-f2066f95595d\")>,\n",
       " <selenium.webdriver.remote.webelement.WebElement (session=\"6aeadf13e34992e018035c8935f39f22\", element=\"450b607d-5ba8-4f35-b791-5cf333cbfc80\")>,\n",
       " <selenium.webdriver.remote.webelement.WebElement (session=\"6aeadf13e34992e018035c8935f39f22\", element=\"957597f5-9ac8-4264-b7b3-6b416ff029a7\")>]"
      ]
     },
     "execution_count": 166,
     "metadata": {},
     "output_type": "execute_result"
    }
   ],
   "source": [
    "#now we will extract all location tags\n",
    "location_tags=driver.find_elements_by_xpath(\"//li[@class='fleft grey-text br2 placeHolderLi location']//span\")[:10]\n",
    "location_tags"
   ]
  },
  {
   "cell_type": "code",
   "execution_count": 167,
   "metadata": {},
   "outputs": [
    {
     "data": {
      "text/plain": [
       "['Mumbai, Hyderabad/Secunderabad, Pune, Gurgaon/Gurugram, Chennai, Bangalore/Bengaluru',\n",
       " 'Bangalore/Bengaluru, Delhi / NCR, Mumbai (All Areas)',\n",
       " 'Noida, Bangalore/Bengaluru',\n",
       " 'New Delhi, Gurgaon/Gurugram, Delhi / NCR',\n",
       " 'Gurgaon/Gurugram, Delhi / NCR',\n",
       " 'Gurgaon/Gurugram, Delhi / NCR',\n",
       " 'Noida',\n",
       " 'Noida, Bangalore/Bengaluru',\n",
       " 'Noida, Hyderabad/Secunderabad, Bangalore/Bengaluru',\n",
       " 'Bangalore/Bengaluru, Delhi / NCR, Mumbai (All Areas)']"
      ]
     },
     "execution_count": 167,
     "metadata": {},
     "output_type": "execute_result"
    }
   ],
   "source": [
    "#Now the text of the location is inside the tags extracted above\n",
    "#so we will run a loop to iterate over the tags extracted above and extrat the text inside them \n",
    "location=[]\n",
    "for i in location_tags:\n",
    "    location.append(i.text)\n",
    "location    "
   ]
  },
  {
   "cell_type": "code",
   "execution_count": 168,
   "metadata": {},
   "outputs": [
    {
     "data": {
      "text/plain": [
       "[<selenium.webdriver.remote.webelement.WebElement (session=\"6aeadf13e34992e018035c8935f39f22\", element=\"1b25ec5e-db7d-406d-82a9-3961306a10c8\")>,\n",
       " <selenium.webdriver.remote.webelement.WebElement (session=\"6aeadf13e34992e018035c8935f39f22\", element=\"a2062ac8-d7b6-4457-a150-5cabfefc22ed\")>,\n",
       " <selenium.webdriver.remote.webelement.WebElement (session=\"6aeadf13e34992e018035c8935f39f22\", element=\"54021bf9-478e-430c-8339-707019664509\")>,\n",
       " <selenium.webdriver.remote.webelement.WebElement (session=\"6aeadf13e34992e018035c8935f39f22\", element=\"f6c3927b-bdb4-4ba0-adb6-dc14f0a2e2e2\")>,\n",
       " <selenium.webdriver.remote.webelement.WebElement (session=\"6aeadf13e34992e018035c8935f39f22\", element=\"eeda510d-9c34-4a1f-b837-87e6bea291aa\")>,\n",
       " <selenium.webdriver.remote.webelement.WebElement (session=\"6aeadf13e34992e018035c8935f39f22\", element=\"66a51fb6-9958-4757-bfa8-922b2affb642\")>,\n",
       " <selenium.webdriver.remote.webelement.WebElement (session=\"6aeadf13e34992e018035c8935f39f22\", element=\"edd37749-b714-41b3-a016-b623a8079531\")>,\n",
       " <selenium.webdriver.remote.webelement.WebElement (session=\"6aeadf13e34992e018035c8935f39f22\", element=\"1abf6ef3-14b5-4d63-818c-1b0e028790d6\")>,\n",
       " <selenium.webdriver.remote.webelement.WebElement (session=\"6aeadf13e34992e018035c8935f39f22\", element=\"88cd519f-b357-4d49-b725-7f5908cb64d4\")>,\n",
       " <selenium.webdriver.remote.webelement.WebElement (session=\"6aeadf13e34992e018035c8935f39f22\", element=\"2215e935-0f45-4df3-9d65-96b0c3c135a2\")>]"
      ]
     },
     "execution_count": 168,
     "metadata": {},
     "output_type": "execute_result"
    }
   ],
   "source": [
    "# lets extract all the html yags having the experience required\n",
    "exp_tags=driver.find_elements_by_xpath(\"//li[@class='fleft grey-text br2 placeHolderLi experience']//span\")[:10]\n",
    "exp_tags"
   ]
  },
  {
   "cell_type": "code",
   "execution_count": 169,
   "metadata": {},
   "outputs": [
    {
     "data": {
      "text/plain": [
       "['0-3 Yrs',\n",
       " '3-5 Yrs',\n",
       " '3-7 Yrs',\n",
       " '3-5 Yrs',\n",
       " '3-6 Yrs',\n",
       " '3-6 Yrs',\n",
       " '3-5 Yrs',\n",
       " '3-8 Yrs',\n",
       " '4-9 Yrs',\n",
       " '5-8 Yrs']"
      ]
     },
     "execution_count": 169,
     "metadata": {},
     "output_type": "execute_result"
    }
   ],
   "source": [
    "#Now the text of the experience is inside the tags extracted above\n",
    "#so we will run a loop to iterate over the tags extracted above and extrat the text inside them \n",
    "Experience=[]\n",
    "for i in exp_tags:\n",
    "    Experience.append(i.text)\n",
    "Experience    "
   ]
  },
  {
   "cell_type": "markdown",
   "metadata": {},
   "source": [
    "So,now we have extracted the data required from the webpage and stored them in the 4 lists mentioned above.Now before creating a dataframe from the list,lets first check the length of each of the list.Because if the length of all of the lists are not equal,then the dataframe cannot be formed."
   ]
  },
  {
   "cell_type": "code",
   "execution_count": 170,
   "metadata": {},
   "outputs": [
    {
     "data": {
      "text/plain": [
       "(10, 10, 10, 10)"
      ]
     },
     "execution_count": 170,
     "metadata": {},
     "output_type": "execute_result"
    }
   ],
   "source": [
    "len(job_title),len(location),len(Company_name),len(Experience)"
   ]
  },
  {
   "cell_type": "code",
   "execution_count": 171,
   "metadata": {},
   "outputs": [],
   "source": [
    "#Now we will create a dataframe containing the above 4 lists\n",
    "Jobs=pd.DataFrame(({}))\n",
    "Jobs['Job_Title']=job_title\n",
    "Jobs['Location']=location\n",
    "Jobs['Company']=Company_name\n",
    "Jobs['Experience_Required']=Experience"
   ]
  },
  {
   "cell_type": "code",
   "execution_count": 172,
   "metadata": {},
   "outputs": [
    {
     "data": {
      "text/html": [
       "<div>\n",
       "<style scoped>\n",
       "    .dataframe tbody tr th:only-of-type {\n",
       "        vertical-align: middle;\n",
       "    }\n",
       "\n",
       "    .dataframe tbody tr th {\n",
       "        vertical-align: top;\n",
       "    }\n",
       "\n",
       "    .dataframe thead th {\n",
       "        text-align: right;\n",
       "    }\n",
       "</style>\n",
       "<table border=\"1\" class=\"dataframe\">\n",
       "  <thead>\n",
       "    <tr style=\"text-align: right;\">\n",
       "      <th></th>\n",
       "      <th>Job_Title</th>\n",
       "      <th>Location</th>\n",
       "      <th>Company</th>\n",
       "      <th>Experience_Required</th>\n",
       "    </tr>\n",
       "  </thead>\n",
       "  <tbody>\n",
       "    <tr>\n",
       "      <th>0</th>\n",
       "      <td>Data Scientist / Data Analyst -Business Analyst</td>\n",
       "      <td>Mumbai, Hyderabad/Secunderabad, Pune, Gurgaon/...</td>\n",
       "      <td>Inflexion Analytix Private Limited</td>\n",
       "      <td>0-3 Yrs</td>\n",
       "    </tr>\n",
       "    <tr>\n",
       "      <th>1</th>\n",
       "      <td>Data Scientist - High growth VC backed Influen...</td>\n",
       "      <td>Bangalore/Bengaluru, Delhi / NCR, Mumbai (All ...</td>\n",
       "      <td>Ravgins International Pvt. Ltd.</td>\n",
       "      <td>3-5 Yrs</td>\n",
       "    </tr>\n",
       "    <tr>\n",
       "      <th>2</th>\n",
       "      <td>Excellent opportunity For Data Scientist</td>\n",
       "      <td>Noida, Bangalore/Bengaluru</td>\n",
       "      <td>NEC CORPORATION INDIA PRIVATE LIMITED</td>\n",
       "      <td>3-7 Yrs</td>\n",
       "    </tr>\n",
       "    <tr>\n",
       "      <th>3</th>\n",
       "      <td>Data Scientist</td>\n",
       "      <td>New Delhi, Gurgaon/Gurugram, Delhi / NCR</td>\n",
       "      <td>Mobikwik</td>\n",
       "      <td>3-5 Yrs</td>\n",
       "    </tr>\n",
       "    <tr>\n",
       "      <th>4</th>\n",
       "      <td>DATA Scientist – Gurgaon (Exp 3-6 years)</td>\n",
       "      <td>Gurgaon/Gurugram, Delhi / NCR</td>\n",
       "      <td>CRESCENDO GLOBAL LEADERSHIP HIRING INDIA PRIVA...</td>\n",
       "      <td>3-6 Yrs</td>\n",
       "    </tr>\n",
       "    <tr>\n",
       "      <th>5</th>\n",
       "      <td>DATA Scientist – Gurgaon (Exp 3-6 years)</td>\n",
       "      <td>Gurgaon/Gurugram, Delhi / NCR</td>\n",
       "      <td>CRESCENDO GLOBAL LEADERSHIP HIRING INDIA PRIVA...</td>\n",
       "      <td>3-6 Yrs</td>\n",
       "    </tr>\n",
       "    <tr>\n",
       "      <th>6</th>\n",
       "      <td>Data Scientist - Noida</td>\n",
       "      <td>Noida</td>\n",
       "      <td>Optum Global Solutions (India) Private Limited</td>\n",
       "      <td>3-5 Yrs</td>\n",
       "    </tr>\n",
       "    <tr>\n",
       "      <th>7</th>\n",
       "      <td>Data Scientist - Noida/ B'lore</td>\n",
       "      <td>Noida, Bangalore/Bengaluru</td>\n",
       "      <td>NEC CORPORATION INDIA PRIVATE LIMITED</td>\n",
       "      <td>3-8 Yrs</td>\n",
       "    </tr>\n",
       "    <tr>\n",
       "      <th>8</th>\n",
       "      <td>Data Scientist</td>\n",
       "      <td>Noida, Hyderabad/Secunderabad, Bangalore/Benga...</td>\n",
       "      <td>IBM India Pvt. Limited</td>\n",
       "      <td>4-9 Yrs</td>\n",
       "    </tr>\n",
       "    <tr>\n",
       "      <th>9</th>\n",
       "      <td>Data Scientist</td>\n",
       "      <td>Bangalore/Bengaluru, Delhi / NCR, Mumbai (All ...</td>\n",
       "      <td>Cloudstrats Technologies Private Limited</td>\n",
       "      <td>5-8 Yrs</td>\n",
       "    </tr>\n",
       "  </tbody>\n",
       "</table>\n",
       "</div>"
      ],
      "text/plain": [
       "                                           Job_Title  \\\n",
       "0    Data Scientist / Data Analyst -Business Analyst   \n",
       "1  Data Scientist - High growth VC backed Influen...   \n",
       "2           Excellent opportunity For Data Scientist   \n",
       "3                                     Data Scientist   \n",
       "4           DATA Scientist – Gurgaon (Exp 3-6 years)   \n",
       "5           DATA Scientist – Gurgaon (Exp 3-6 years)   \n",
       "6                             Data Scientist - Noida   \n",
       "7                     Data Scientist - Noida/ B'lore   \n",
       "8                                     Data Scientist   \n",
       "9                                     Data Scientist   \n",
       "\n",
       "                                            Location  \\\n",
       "0  Mumbai, Hyderabad/Secunderabad, Pune, Gurgaon/...   \n",
       "1  Bangalore/Bengaluru, Delhi / NCR, Mumbai (All ...   \n",
       "2                         Noida, Bangalore/Bengaluru   \n",
       "3           New Delhi, Gurgaon/Gurugram, Delhi / NCR   \n",
       "4                      Gurgaon/Gurugram, Delhi / NCR   \n",
       "5                      Gurgaon/Gurugram, Delhi / NCR   \n",
       "6                                              Noida   \n",
       "7                         Noida, Bangalore/Bengaluru   \n",
       "8  Noida, Hyderabad/Secunderabad, Bangalore/Benga...   \n",
       "9  Bangalore/Bengaluru, Delhi / NCR, Mumbai (All ...   \n",
       "\n",
       "                                             Company Experience_Required  \n",
       "0                 Inflexion Analytix Private Limited             0-3 Yrs  \n",
       "1                    Ravgins International Pvt. Ltd.             3-5 Yrs  \n",
       "2              NEC CORPORATION INDIA PRIVATE LIMITED             3-7 Yrs  \n",
       "3                                           Mobikwik             3-5 Yrs  \n",
       "4  CRESCENDO GLOBAL LEADERSHIP HIRING INDIA PRIVA...             3-6 Yrs  \n",
       "5  CRESCENDO GLOBAL LEADERSHIP HIRING INDIA PRIVA...             3-6 Yrs  \n",
       "6     Optum Global Solutions (India) Private Limited             3-5 Yrs  \n",
       "7              NEC CORPORATION INDIA PRIVATE LIMITED             3-8 Yrs  \n",
       "8                             IBM India Pvt. Limited             4-9 Yrs  \n",
       "9           Cloudstrats Technologies Private Limited             5-8 Yrs  "
      ]
     },
     "execution_count": 172,
     "metadata": {},
     "output_type": "execute_result"
    }
   ],
   "source": [
    "Jobs"
   ]
  },
  {
   "cell_type": "markdown",
   "metadata": {},
   "source": [
    "### Question 4:Write a python program to scrape data for first 10 job results for Data scientist Designation in Noida location. You have to scrape company_name, No. of days ago when job was posted, Rating of the company.\n",
    "This task will be done in following steps:\n",
    "\n",
    "1. first get the webpage https://www.glassdoor.co.in/index.htm\n",
    "\n",
    "2. Enter “Data Scientist” in “Job Title,Keyword,Company” field and enter “Noida” in “location” field.\n",
    "\n",
    "3. Then click the search button. You will land up in the below page:\n",
    "\n",
    "4. Then scrape the data for the first 10 jobs results you get in the above shown page.\n",
    "\n",
    "5. Finally create a dataframe of the scraped data"
   ]
  },
  {
   "cell_type": "code",
   "execution_count": 194,
   "metadata": {},
   "outputs": [],
   "source": [
    "#Lets import the required libraries\n",
    "import selenium\n",
    "import pandas as pd\n",
    "from selenium import webdriver\n",
    "import time"
   ]
  },
  {
   "cell_type": "code",
   "execution_count": 195,
   "metadata": {},
   "outputs": [],
   "source": [
    "#Lets first connect to the web driver\n",
    "driver=webdriver.Chrome('chromedriver.exe')"
   ]
  },
  {
   "cell_type": "code",
   "execution_count": 196,
   "metadata": {},
   "outputs": [],
   "source": [
    "url='https://www.glassdoor.co.in/index.htm'\n",
    "driver.get(url)"
   ]
  },
  {
   "cell_type": "code",
   "execution_count": 199,
   "metadata": {},
   "outputs": [
    {
     "data": {
      "text/plain": [
       "<selenium.webdriver.remote.webelement.WebElement (session=\"43b0f94696f9958d01dd1f324f020ae6\", element=\"1c84ff1d-bf83-4f8c-99ad-a8a6f99ac15b\")>"
      ]
     },
     "execution_count": 199,
     "metadata": {},
     "output_type": "execute_result"
    }
   ],
   "source": [
    "#finding the element for search bar\n",
    "search_job=driver.find_element_by_id(\"scKeyword\")\n",
    "search_job"
   ]
  },
  {
   "cell_type": "code",
   "execution_count": 200,
   "metadata": {},
   "outputs": [],
   "source": [
    "#Write on search bar\n",
    "search_job.send_keys(\"Data Scientist\")"
   ]
  },
  {
   "cell_type": "code",
   "execution_count": 201,
   "metadata": {},
   "outputs": [],
   "source": [
    "#finding the element of job location bar\n",
    "search_loc=driver.find_element_by_id(\"scLocation\")\n",
    "#write on job location bar\n",
    "search_loc.send_keys(\"Noida\")"
   ]
  },
  {
   "cell_type": "code",
   "execution_count": 202,
   "metadata": {},
   "outputs": [
    {
     "data": {
      "text/plain": [
       "<selenium.webdriver.remote.webelement.WebElement (session=\"43b0f94696f9958d01dd1f324f020ae6\", element=\"a29f6128-a0d7-4ada-b2f0-4e4f51552822\")>"
      ]
     },
     "execution_count": 202,
     "metadata": {},
     "output_type": "execute_result"
    }
   ],
   "source": [
    "#do click on the search bar using xpath function\n",
    "search_button=driver.find_element_by_xpath(\"//button[@class='pl-0 pr-xsm SearchStyles__searchKeywordSubmit']\")\n",
    "search_button"
   ]
  },
  {
   "cell_type": "code",
   "execution_count": 203,
   "metadata": {},
   "outputs": [],
   "source": [
    "search_button.click()"
   ]
  },
  {
   "cell_type": "code",
   "execution_count": 204,
   "metadata": {},
   "outputs": [
    {
     "data": {
      "text/plain": [
       "[<selenium.webdriver.remote.webelement.WebElement (session=\"43b0f94696f9958d01dd1f324f020ae6\", element=\"5c6b9ea0-9b96-4989-bb40-92f9e2e679ba\")>,\n",
       " <selenium.webdriver.remote.webelement.WebElement (session=\"43b0f94696f9958d01dd1f324f020ae6\", element=\"5cb62fc3-da63-4f03-b0cd-2d0b02190faf\")>,\n",
       " <selenium.webdriver.remote.webelement.WebElement (session=\"43b0f94696f9958d01dd1f324f020ae6\", element=\"6f717f84-2cf9-42ac-8243-5f860db0fef8\")>,\n",
       " <selenium.webdriver.remote.webelement.WebElement (session=\"43b0f94696f9958d01dd1f324f020ae6\", element=\"5adb0381-dcac-4f02-9bdd-645a33b4af9b\")>,\n",
       " <selenium.webdriver.remote.webelement.WebElement (session=\"43b0f94696f9958d01dd1f324f020ae6\", element=\"41bbcc56-0e21-4a7f-b660-4e94c909cfdb\")>,\n",
       " <selenium.webdriver.remote.webelement.WebElement (session=\"43b0f94696f9958d01dd1f324f020ae6\", element=\"265ae2e9-b35e-420f-9f87-190dd84e3a0f\")>,\n",
       " <selenium.webdriver.remote.webelement.WebElement (session=\"43b0f94696f9958d01dd1f324f020ae6\", element=\"1e9f8a94-8fb0-4724-aad5-d0b325ba760f\")>,\n",
       " <selenium.webdriver.remote.webelement.WebElement (session=\"43b0f94696f9958d01dd1f324f020ae6\", element=\"cbd2a069-8236-4003-96f4-82d6db956495\")>,\n",
       " <selenium.webdriver.remote.webelement.WebElement (session=\"43b0f94696f9958d01dd1f324f020ae6\", element=\"4d1374fb-2dfc-4cc5-8dda-c0cb03d02c14\")>,\n",
       " <selenium.webdriver.remote.webelement.WebElement (session=\"43b0f94696f9958d01dd1f324f020ae6\", element=\"58f01134-340a-4cf8-bb28-1e9b3d02e295\")>]"
      ]
     },
     "execution_count": 204,
     "metadata": {},
     "output_type": "execute_result"
    }
   ],
   "source": [
    "#Now we will extract all html tags having the company name\n",
    "company_name=driver.find_elements_by_xpath(\"//div[@class= 'd-flex justify-content-between align-items-start']\")[:10]\n",
    "company_name"
   ]
  },
  {
   "cell_type": "code",
   "execution_count": 205,
   "metadata": {},
   "outputs": [
    {
     "data": {
      "text/plain": [
       "['dunnhumby',\n",
       " 'CRMNEXT',\n",
       " 'Jobsbale',\n",
       " 'UnitedHealth Group',\n",
       " 'WishFin',\n",
       " 'UnitedHealth Group',\n",
       " 'Adobe',\n",
       " 'HDFC Bank',\n",
       " 'Salasar New Age Technologies',\n",
       " 'Biz2Credit Inc']"
      ]
     },
     "execution_count": 205,
     "metadata": {},
     "output_type": "execute_result"
    }
   ],
   "source": [
    "#Now the text of the company  is inside the tags extracted above\n",
    "#so we will run a loop to iterate over the tags extracted above and extrat the text inside them \n",
    "Company=[]\n",
    "for i in company_name:\n",
    "    Company.append(i.text)\n",
    "Company    \n",
    "    "
   ]
  },
  {
   "cell_type": "code",
   "execution_count": 206,
   "metadata": {},
   "outputs": [
    {
     "data": {
      "text/plain": [
       "[<selenium.webdriver.remote.webelement.WebElement (session=\"43b0f94696f9958d01dd1f324f020ae6\", element=\"6349f2dc-2c66-4f6a-8384-93e50565cd8b\")>,\n",
       " <selenium.webdriver.remote.webelement.WebElement (session=\"43b0f94696f9958d01dd1f324f020ae6\", element=\"8fffbef5-5fcf-461f-b688-55fc5e353ebc\")>,\n",
       " <selenium.webdriver.remote.webelement.WebElement (session=\"43b0f94696f9958d01dd1f324f020ae6\", element=\"5e4b7deb-cb8e-40de-956d-45a9f92ca31c\")>,\n",
       " <selenium.webdriver.remote.webelement.WebElement (session=\"43b0f94696f9958d01dd1f324f020ae6\", element=\"e052daa9-7e5e-4200-90cd-1a5a003bd9e9\")>,\n",
       " <selenium.webdriver.remote.webelement.WebElement (session=\"43b0f94696f9958d01dd1f324f020ae6\", element=\"ccebbddd-5e65-40e1-a9e7-0e037f25251d\")>,\n",
       " <selenium.webdriver.remote.webelement.WebElement (session=\"43b0f94696f9958d01dd1f324f020ae6\", element=\"c9bd73bb-f5e9-46a0-9e3a-76b7cfef7bcb\")>,\n",
       " <selenium.webdriver.remote.webelement.WebElement (session=\"43b0f94696f9958d01dd1f324f020ae6\", element=\"345f6c9e-0172-4f9c-88b5-fa404774fb8a\")>,\n",
       " <selenium.webdriver.remote.webelement.WebElement (session=\"43b0f94696f9958d01dd1f324f020ae6\", element=\"0d7f70fa-b1c6-45e4-a0c4-1148ada3dff9\")>,\n",
       " <selenium.webdriver.remote.webelement.WebElement (session=\"43b0f94696f9958d01dd1f324f020ae6\", element=\"2063fa4c-c5ec-47ad-98ce-daafa9453032\")>,\n",
       " <selenium.webdriver.remote.webelement.WebElement (session=\"43b0f94696f9958d01dd1f324f020ae6\", element=\"8c25aa5c-3f32-436e-b53d-6c0b68d6f74a\")>]"
      ]
     },
     "execution_count": 206,
     "metadata": {},
     "output_type": "execute_result"
    }
   ],
   "source": [
    "#Now we will extract all the html tags having the number of days\n",
    "days_tags=driver.find_elements_by_xpath(\"//div[@class='d-flex align-items-end pl-std css-mi55ob']\")[:10]\n",
    "days_tags"
   ]
  },
  {
   "cell_type": "code",
   "execution_count": 207,
   "metadata": {},
   "outputs": [
    {
     "data": {
      "text/plain": [
       "['2d', '9d', '2d', '2d', '30d+', '2d', '21d', '30d+', '30d+', '30d+']"
      ]
     },
     "execution_count": 207,
     "metadata": {},
     "output_type": "execute_result"
    }
   ],
   "source": [
    "#Now the text of  days posted is inside the tags extracted above\n",
    "#so we will run a loop to iterate over the tags extracted above and extrat the text inside them \n",
    "days_posted=[]\n",
    "for i in days_tags:\n",
    "    days_posted.append(i.text)\n",
    "days_posted    "
   ]
  },
  {
   "cell_type": "code",
   "execution_count": 208,
   "metadata": {},
   "outputs": [
    {
     "data": {
      "text/plain": [
       "[<selenium.webdriver.remote.webelement.WebElement (session=\"43b0f94696f9958d01dd1f324f020ae6\", element=\"71e80de7-7314-4bc3-975e-b2b7a8645f4c\")>,\n",
       " <selenium.webdriver.remote.webelement.WebElement (session=\"43b0f94696f9958d01dd1f324f020ae6\", element=\"15730745-d0cf-4cc0-9011-92e7eaba5cfd\")>,\n",
       " <selenium.webdriver.remote.webelement.WebElement (session=\"43b0f94696f9958d01dd1f324f020ae6\", element=\"b838bc83-1a4c-41d6-be76-b69b8b17742b\")>,\n",
       " <selenium.webdriver.remote.webelement.WebElement (session=\"43b0f94696f9958d01dd1f324f020ae6\", element=\"2de12941-82d6-4115-a621-fbc8858cd9f8\")>,\n",
       " <selenium.webdriver.remote.webelement.WebElement (session=\"43b0f94696f9958d01dd1f324f020ae6\", element=\"7183128a-b340-4362-af4d-0f270e0c3d83\")>,\n",
       " <selenium.webdriver.remote.webelement.WebElement (session=\"43b0f94696f9958d01dd1f324f020ae6\", element=\"7679cf9f-e7e0-4e3d-9a69-6fecab554fee\")>,\n",
       " <selenium.webdriver.remote.webelement.WebElement (session=\"43b0f94696f9958d01dd1f324f020ae6\", element=\"ab65d378-f763-43b1-b68f-42a489b97fb7\")>,\n",
       " <selenium.webdriver.remote.webelement.WebElement (session=\"43b0f94696f9958d01dd1f324f020ae6\", element=\"5556d370-528b-40b3-8d09-459d3d264209\")>,\n",
       " <selenium.webdriver.remote.webelement.WebElement (session=\"43b0f94696f9958d01dd1f324f020ae6\", element=\"3b1c3b7f-219d-4e46-a696-a413b80cc6aa\")>,\n",
       " <selenium.webdriver.remote.webelement.WebElement (session=\"43b0f94696f9958d01dd1f324f020ae6\", element=\"d7294012-41d2-4f89-bef0-8768ab8aea9d\")>]"
      ]
     },
     "execution_count": 208,
     "metadata": {},
     "output_type": "execute_result"
    }
   ],
   "source": [
    "#lets extract all html tags having the rating\n",
    "rating_tags=driver.find_elements_by_xpath(\"//span[@class='css-19pjha7 e1cjmv6j1']\")[:10]\n",
    "rating_tags"
   ]
  },
  {
   "cell_type": "code",
   "execution_count": 209,
   "metadata": {},
   "outputs": [
    {
     "data": {
      "text/plain": [
       "['4.1', '3.6', '3.6', '3.8', '3.6', '4.4', '3.6', '3.8', '3.6', '4.1']"
      ]
     },
     "execution_count": 209,
     "metadata": {},
     "output_type": "execute_result"
    }
   ],
   "source": [
    "#Now the text of the rating is inside the tags extracted above\n",
    "#so we will run a loop to iterate over the tags extracted above and extrat the text inside them \n",
    "Rating=[]\n",
    "for i in rating_tags:\n",
    "    Rating.append(i.text)\n",
    "Rating    "
   ]
  },
  {
   "cell_type": "markdown",
   "metadata": {},
   "source": [
    "So,now we have extracted the data required from the webpage and stored them in the 4 lists mentioned above.Now before creating a dataframe from the list,lets first check the length of each of the list.Because if the length of all of the lists are not equal,then the dataframe cannot be formed."
   ]
  },
  {
   "cell_type": "code",
   "execution_count": 210,
   "metadata": {},
   "outputs": [
    {
     "data": {
      "text/plain": [
       "(10, 10, 10)"
      ]
     },
     "execution_count": 210,
     "metadata": {},
     "output_type": "execute_result"
    }
   ],
   "source": [
    "len(Company),len(days_posted),len(Rating)"
   ]
  },
  {
   "cell_type": "code",
   "execution_count": 211,
   "metadata": {},
   "outputs": [],
   "source": [
    "#lets create a dataframe\n",
    "JOBS=pd.DataFrame(({}))\n",
    "JOBS['Company']=Company\n",
    "JOBS['Days_posted']=days_posted\n",
    "JOBS['Rating']=Rating"
   ]
  },
  {
   "cell_type": "code",
   "execution_count": 212,
   "metadata": {},
   "outputs": [
    {
     "data": {
      "text/html": [
       "<div>\n",
       "<style scoped>\n",
       "    .dataframe tbody tr th:only-of-type {\n",
       "        vertical-align: middle;\n",
       "    }\n",
       "\n",
       "    .dataframe tbody tr th {\n",
       "        vertical-align: top;\n",
       "    }\n",
       "\n",
       "    .dataframe thead th {\n",
       "        text-align: right;\n",
       "    }\n",
       "</style>\n",
       "<table border=\"1\" class=\"dataframe\">\n",
       "  <thead>\n",
       "    <tr style=\"text-align: right;\">\n",
       "      <th></th>\n",
       "      <th>Company</th>\n",
       "      <th>Days_posted</th>\n",
       "      <th>Rating</th>\n",
       "    </tr>\n",
       "  </thead>\n",
       "  <tbody>\n",
       "    <tr>\n",
       "      <th>0</th>\n",
       "      <td>dunnhumby</td>\n",
       "      <td>2d</td>\n",
       "      <td>4.1</td>\n",
       "    </tr>\n",
       "    <tr>\n",
       "      <th>1</th>\n",
       "      <td>CRMNEXT</td>\n",
       "      <td>9d</td>\n",
       "      <td>3.6</td>\n",
       "    </tr>\n",
       "    <tr>\n",
       "      <th>2</th>\n",
       "      <td>Jobsbale</td>\n",
       "      <td>2d</td>\n",
       "      <td>3.6</td>\n",
       "    </tr>\n",
       "    <tr>\n",
       "      <th>3</th>\n",
       "      <td>UnitedHealth Group</td>\n",
       "      <td>2d</td>\n",
       "      <td>3.8</td>\n",
       "    </tr>\n",
       "    <tr>\n",
       "      <th>4</th>\n",
       "      <td>WishFin</td>\n",
       "      <td>30d+</td>\n",
       "      <td>3.6</td>\n",
       "    </tr>\n",
       "    <tr>\n",
       "      <th>5</th>\n",
       "      <td>UnitedHealth Group</td>\n",
       "      <td>2d</td>\n",
       "      <td>4.4</td>\n",
       "    </tr>\n",
       "    <tr>\n",
       "      <th>6</th>\n",
       "      <td>Adobe</td>\n",
       "      <td>21d</td>\n",
       "      <td>3.6</td>\n",
       "    </tr>\n",
       "    <tr>\n",
       "      <th>7</th>\n",
       "      <td>HDFC Bank</td>\n",
       "      <td>30d+</td>\n",
       "      <td>3.8</td>\n",
       "    </tr>\n",
       "    <tr>\n",
       "      <th>8</th>\n",
       "      <td>Salasar New Age Technologies</td>\n",
       "      <td>30d+</td>\n",
       "      <td>3.6</td>\n",
       "    </tr>\n",
       "    <tr>\n",
       "      <th>9</th>\n",
       "      <td>Biz2Credit Inc</td>\n",
       "      <td>30d+</td>\n",
       "      <td>4.1</td>\n",
       "    </tr>\n",
       "  </tbody>\n",
       "</table>\n",
       "</div>"
      ],
      "text/plain": [
       "                        Company Days_posted Rating\n",
       "0                     dunnhumby          2d    4.1\n",
       "1                       CRMNEXT          9d    3.6\n",
       "2                      Jobsbale          2d    3.6\n",
       "3            UnitedHealth Group          2d    3.8\n",
       "4                       WishFin        30d+    3.6\n",
       "5            UnitedHealth Group          2d    4.4\n",
       "6                         Adobe         21d    3.6\n",
       "7                     HDFC Bank        30d+    3.8\n",
       "8  Salasar New Age Technologies        30d+    3.6\n",
       "9                Biz2Credit Inc        30d+    4.1"
      ]
     },
     "execution_count": 212,
     "metadata": {},
     "output_type": "execute_result"
    }
   ],
   "source": [
    "JOBS"
   ]
  },
  {
   "cell_type": "markdown",
   "metadata": {},
   "source": [
    "# Question 5"
   ]
  },
  {
   "cell_type": "markdown",
   "metadata": {},
   "source": [
    "## Write a python program to scrape the salary data for Data Scientist designationin Noida location.You have to scrape Company name, Number of salaries, Average salary, Minsalary, Max Salary.\n",
    "The above task will be, done as shown in the below steps:\n",
    "\n",
    "1. first get the webpage https://www.glassdoor.co.in/Salaries/index.htm\n",
    "\n",
    "2. Enter “Data Scientist” in Job title field and “Noida” in location field.\n",
    "\n",
    "3. Click the search button.\n",
    "\n",
    "4. After that you will land on the below pageYou have to scrape whole data from this webpage\n",
    "\n",
    "5. Scrape data for first 10 companies. Scrape the min salary, max salary, companyname, Average salary and rating of the company.\n",
    "\n",
    "6. Store the data in a dataframe.\n"
   ]
  },
  {
   "cell_type": "code",
   "execution_count": 213,
   "metadata": {},
   "outputs": [],
   "source": [
    "#Lets import the required libraries\n",
    "import selenium\n",
    "import pandas as pd\n",
    "from selenium import webdriver\n",
    "import time"
   ]
  },
  {
   "cell_type": "code",
   "execution_count": 214,
   "metadata": {},
   "outputs": [],
   "source": [
    "#Lets first connect to the web driver\n",
    "driver=webdriver.Chrome('chromedriver.exe')"
   ]
  },
  {
   "cell_type": "code",
   "execution_count": 215,
   "metadata": {},
   "outputs": [],
   "source": [
    "url= 'https://www.glassdoor.co.in/Salaries/index.htm'\n",
    "driver.get(url)"
   ]
  },
  {
   "cell_type": "code",
   "execution_count": 216,
   "metadata": {},
   "outputs": [
    {
     "data": {
      "text/plain": [
       "<selenium.webdriver.remote.webelement.WebElement (session=\"d25f016a8579494a58a82a864f18bf31\", element=\"933ab5d6-fc32-405f-a29f-e5de5f011221\")>"
      ]
     },
     "execution_count": 216,
     "metadata": {},
     "output_type": "execute_result"
    }
   ],
   "source": [
    "#finding the element for search bar\n",
    "search_job=driver.find_element_by_id(\"KeywordSearch\")\n",
    "search_job"
   ]
  },
  {
   "cell_type": "code",
   "execution_count": 217,
   "metadata": {},
   "outputs": [],
   "source": [
    "#Write on the search bar\n",
    "search_job.send_keys(\"Data Scientist\")"
   ]
  },
  {
   "cell_type": "code",
   "execution_count": 218,
   "metadata": {},
   "outputs": [
    {
     "data": {
      "text/plain": [
       "<selenium.webdriver.remote.webelement.WebElement (session=\"d25f016a8579494a58a82a864f18bf31\", element=\"9f8b213b-f575-4ad8-bfe6-9479b231dfa5\")>"
      ]
     },
     "execution_count": 218,
     "metadata": {},
     "output_type": "execute_result"
    }
   ],
   "source": [
    "# Finding the element for the location search bar\n",
    "search_loc=driver.find_element_by_id(\"LocationSearch\")\n",
    "search_loc"
   ]
  },
  {
   "cell_type": "code",
   "execution_count": 219,
   "metadata": {},
   "outputs": [],
   "source": [
    "#Write on the location search bar\n",
    "search_loc.send_keys(\"Noida\")"
   ]
  },
  {
   "cell_type": "code",
   "execution_count": 222,
   "metadata": {},
   "outputs": [],
   "source": [
    "# lets click on the search button using the xpath function\n",
    "search_btn=driver.find_element_by_xpath(\"//button[@class='gd-btn-mkt']\").click()"
   ]
  },
  {
   "cell_type": "code",
   "execution_count": 223,
   "metadata": {},
   "outputs": [
    {
     "data": {
      "text/plain": [
       "[<selenium.webdriver.remote.webelement.WebElement (session=\"d25f016a8579494a58a82a864f18bf31\", element=\"520526ed-e0f7-4eda-8be7-c23b642deef1\")>,\n",
       " <selenium.webdriver.remote.webelement.WebElement (session=\"d25f016a8579494a58a82a864f18bf31\", element=\"f7de805e-e994-46d5-8bd9-6388da6e4d63\")>,\n",
       " <selenium.webdriver.remote.webelement.WebElement (session=\"d25f016a8579494a58a82a864f18bf31\", element=\"8e42ecff-0194-4301-afe5-ea2e74881dcd\")>,\n",
       " <selenium.webdriver.remote.webelement.WebElement (session=\"d25f016a8579494a58a82a864f18bf31\", element=\"add4ad37-dbe0-4ab6-a163-0e0443fa8c6b\")>,\n",
       " <selenium.webdriver.remote.webelement.WebElement (session=\"d25f016a8579494a58a82a864f18bf31\", element=\"d6c80bc6-3541-45f6-afdd-c89f6609be59\")>,\n",
       " <selenium.webdriver.remote.webelement.WebElement (session=\"d25f016a8579494a58a82a864f18bf31\", element=\"dde620ec-b588-4783-88e4-7023c2648642\")>,\n",
       " <selenium.webdriver.remote.webelement.WebElement (session=\"d25f016a8579494a58a82a864f18bf31\", element=\"713a47e1-19b0-4930-8a49-13d17743d65f\")>,\n",
       " <selenium.webdriver.remote.webelement.WebElement (session=\"d25f016a8579494a58a82a864f18bf31\", element=\"24a5668e-68fa-4fa7-8ef9-a78d6a8a8200\")>,\n",
       " <selenium.webdriver.remote.webelement.WebElement (session=\"d25f016a8579494a58a82a864f18bf31\", element=\"a48168ee-d2ac-4d7d-9a8d-8c7477354305\")>,\n",
       " <selenium.webdriver.remote.webelement.WebElement (session=\"d25f016a8579494a58a82a864f18bf31\", element=\"4e362399-2e9b-4e7b-86a0-7a396e0e3578\")>]"
      ]
     },
     "execution_count": 223,
     "metadata": {},
     "output_type": "execute_result"
    }
   ],
   "source": [
    "#Lets extract all html tags having the company name\n",
    "company_tags=driver.find_elements_by_xpath(\"//div[@class='d-flex']//p[2]\")[:10]\n",
    "company_tags"
   ]
  },
  {
   "cell_type": "code",
   "execution_count": 224,
   "metadata": {},
   "outputs": [
    {
     "data": {
      "text/plain": [
       "['Tata Consultancy Services',\n",
       " 'Accenture',\n",
       " 'IBM',\n",
       " 'Ericsson-Worldwide',\n",
       " 'Delhivery',\n",
       " 'UnitedHealth Group',\n",
       " 'Valiance Solutions',\n",
       " 'ZS Associates',\n",
       " 'EXL Service',\n",
       " 'Optum Global Solutions']"
      ]
     },
     "execution_count": 224,
     "metadata": {},
     "output_type": "execute_result"
    }
   ],
   "source": [
    "# Now we have all the tags in which there are name of the companies\n",
    "# Now we will extract the text from these tags one by one by looping over these tags\n",
    "Company=[]\n",
    "for i in company_tags:\n",
    "    Company.append(i.text)\n",
    "Company    "
   ]
  },
  {
   "cell_type": "code",
   "execution_count": 225,
   "metadata": {},
   "outputs": [
    {
     "data": {
      "text/plain": [
       "[<selenium.webdriver.remote.webelement.WebElement (session=\"d25f016a8579494a58a82a864f18bf31\", element=\"007e3049-5e04-4640-bc6b-01710a82a777\")>,\n",
       " <selenium.webdriver.remote.webelement.WebElement (session=\"d25f016a8579494a58a82a864f18bf31\", element=\"65f20870-e3d1-4a7d-b18a-351da5e9c124\")>,\n",
       " <selenium.webdriver.remote.webelement.WebElement (session=\"d25f016a8579494a58a82a864f18bf31\", element=\"7d4e7e64-df26-4ea6-a740-8dbca688842f\")>,\n",
       " <selenium.webdriver.remote.webelement.WebElement (session=\"d25f016a8579494a58a82a864f18bf31\", element=\"b55ca2f8-3e34-4372-83e1-582f55e2ca27\")>,\n",
       " <selenium.webdriver.remote.webelement.WebElement (session=\"d25f016a8579494a58a82a864f18bf31\", element=\"2ac071c1-bbc3-4bec-816f-80da9097e575\")>,\n",
       " <selenium.webdriver.remote.webelement.WebElement (session=\"d25f016a8579494a58a82a864f18bf31\", element=\"6d278bdb-cf52-43a4-ab0e-834681cc3d01\")>,\n",
       " <selenium.webdriver.remote.webelement.WebElement (session=\"d25f016a8579494a58a82a864f18bf31\", element=\"58e99995-cff3-4a0b-a8d0-498e4a6a0b54\")>,\n",
       " <selenium.webdriver.remote.webelement.WebElement (session=\"d25f016a8579494a58a82a864f18bf31\", element=\"39bf09bc-ed3b-45ab-ab38-5043de4777e3\")>,\n",
       " <selenium.webdriver.remote.webelement.WebElement (session=\"d25f016a8579494a58a82a864f18bf31\", element=\"e6a71e2a-194a-4876-a75c-f78ecf9dde6c\")>,\n",
       " <selenium.webdriver.remote.webelement.WebElement (session=\"d25f016a8579494a58a82a864f18bf31\", element=\"53ebe58c-3e82-41b4-a52d-2f165c9a92a0\")>]"
      ]
     },
     "execution_count": 225,
     "metadata": {},
     "output_type": "execute_result"
    }
   ],
   "source": [
    "#Lets extract all html tags having the minimum salary\n",
    "minsal_tags=driver.find_elements_by_xpath(\"//div[@class='common__RangeBarStyle__values d-flex justify-content-between ']//span[1]\")[:10]\n",
    "minsal_tags"
   ]
  },
  {
   "cell_type": "code",
   "execution_count": 226,
   "metadata": {},
   "outputs": [
    {
     "data": {
      "text/plain": [
       "['₹343K',\n",
       " '₹577K',\n",
       " '₹586K',\n",
       " '₹355K',\n",
       " '₹450K',\n",
       " '₹1,069K',\n",
       " '₹502K',\n",
       " '₹202K',\n",
       " '₹575K',\n",
       " '₹1,014K']"
      ]
     },
     "execution_count": 226,
     "metadata": {},
     "output_type": "execute_result"
    }
   ],
   "source": [
    "# Now we have all the tags in which there are the minimum salaries\n",
    "# Now we will extract the text from these tags one by one by looping over these tags\n",
    "min_salary=[]\n",
    "for i in minsal_tags:\n",
    "    min_salary.append(i.text)\n",
    "min_salary    "
   ]
  },
  {
   "cell_type": "code",
   "execution_count": 227,
   "metadata": {},
   "outputs": [
    {
     "data": {
      "text/plain": [
       "[<selenium.webdriver.remote.webelement.WebElement (session=\"d25f016a8579494a58a82a864f18bf31\", element=\"dd872384-3276-47ab-9858-03f30851946c\")>,\n",
       " <selenium.webdriver.remote.webelement.WebElement (session=\"d25f016a8579494a58a82a864f18bf31\", element=\"be099921-c177-42a1-aba8-03c8eb30f3c0\")>,\n",
       " <selenium.webdriver.remote.webelement.WebElement (session=\"d25f016a8579494a58a82a864f18bf31\", element=\"584b47d6-d106-4e36-91e6-f5e8d0e6ba1e\")>,\n",
       " <selenium.webdriver.remote.webelement.WebElement (session=\"d25f016a8579494a58a82a864f18bf31\", element=\"98a83694-2f63-434c-8051-832f4715194a\")>,\n",
       " <selenium.webdriver.remote.webelement.WebElement (session=\"d25f016a8579494a58a82a864f18bf31\", element=\"be2df12b-68a6-4f59-98e0-8b544dd2b853\")>,\n",
       " <selenium.webdriver.remote.webelement.WebElement (session=\"d25f016a8579494a58a82a864f18bf31\", element=\"56550c15-12b7-4b31-a441-31d90e4e9373\")>,\n",
       " <selenium.webdriver.remote.webelement.WebElement (session=\"d25f016a8579494a58a82a864f18bf31\", element=\"5759d2e2-9a4b-4556-86a1-949610d07201\")>,\n",
       " <selenium.webdriver.remote.webelement.WebElement (session=\"d25f016a8579494a58a82a864f18bf31\", element=\"41ef2a90-9bf0-467b-999e-73376d4231c2\")>,\n",
       " <selenium.webdriver.remote.webelement.WebElement (session=\"d25f016a8579494a58a82a864f18bf31\", element=\"7dc1cb5f-bf70-41fd-a5ba-da3f83352b3c\")>,\n",
       " <selenium.webdriver.remote.webelement.WebElement (session=\"d25f016a8579494a58a82a864f18bf31\", element=\"a5bd7710-543b-4385-8697-d264cf834a72\")>]"
      ]
     },
     "execution_count": 227,
     "metadata": {},
     "output_type": "execute_result"
    }
   ],
   "source": [
    "#Lets extract all tags having Maximum salary\n",
    "maxsalary_tags=driver.find_elements_by_xpath(\"//div[@class='common__RangeBarStyle__values d-flex justify-content-between ']//span[2]\")[:10]\n",
    "maxsalary_tags"
   ]
  },
  {
   "cell_type": "code",
   "execution_count": 228,
   "metadata": {},
   "outputs": [
    {
     "data": {
      "text/plain": [
       "['₹1,095K',\n",
       " '₹2,213K',\n",
       " '₹2,730K',\n",
       " '₹1,613K',\n",
       " '₹11,622K',\n",
       " '₹1,520K',\n",
       " '₹1,465K',\n",
       " '₹1,809K',\n",
       " '₹1,520K',\n",
       " '₹2,149K']"
      ]
     },
     "execution_count": 228,
     "metadata": {},
     "output_type": "execute_result"
    }
   ],
   "source": [
    "# Now we have all the tags in which there are the maximum salary\n",
    "# Now wewill extract the text from these tags one by one by looping over these tags\n",
    "Max_salary=[]\n",
    "for i in maxsalary_tags:\n",
    "    Max_salary.append(i.text)\n",
    "Max_salary    "
   ]
  },
  {
   "cell_type": "code",
   "execution_count": 229,
   "metadata": {},
   "outputs": [
    {
     "data": {
      "text/plain": [
       "[<selenium.webdriver.remote.webelement.WebElement (session=\"d25f016a8579494a58a82a864f18bf31\", element=\"c4d6dc5e-a0ae-43ae-b48d-018b912b101e\")>,\n",
       " <selenium.webdriver.remote.webelement.WebElement (session=\"d25f016a8579494a58a82a864f18bf31\", element=\"a79f73a4-4f26-4550-bae5-2ad5303ba5e5\")>,\n",
       " <selenium.webdriver.remote.webelement.WebElement (session=\"d25f016a8579494a58a82a864f18bf31\", element=\"6c0879d7-0b75-44b0-b70c-5b775285c1eb\")>,\n",
       " <selenium.webdriver.remote.webelement.WebElement (session=\"d25f016a8579494a58a82a864f18bf31\", element=\"28bde113-b48f-4ce0-beda-2976a6ce49a8\")>,\n",
       " <selenium.webdriver.remote.webelement.WebElement (session=\"d25f016a8579494a58a82a864f18bf31\", element=\"287682f5-b0c3-405b-8e5d-bb55b9139a8e\")>,\n",
       " <selenium.webdriver.remote.webelement.WebElement (session=\"d25f016a8579494a58a82a864f18bf31\", element=\"9f36b4c3-8eb2-4c03-abb3-d0b573cdeb04\")>,\n",
       " <selenium.webdriver.remote.webelement.WebElement (session=\"d25f016a8579494a58a82a864f18bf31\", element=\"e089a012-d63a-41e2-9431-efe835b76cc8\")>,\n",
       " <selenium.webdriver.remote.webelement.WebElement (session=\"d25f016a8579494a58a82a864f18bf31\", element=\"1cfb09a0-b504-48d6-934c-86fbb9feaab9\")>,\n",
       " <selenium.webdriver.remote.webelement.WebElement (session=\"d25f016a8579494a58a82a864f18bf31\", element=\"1497ec4a-8790-4227-9e06-f11763385454\")>,\n",
       " <selenium.webdriver.remote.webelement.WebElement (session=\"d25f016a8579494a58a82a864f18bf31\", element=\"33dd673d-4415-4149-80df-cc233b422001\")>]"
      ]
     },
     "execution_count": 229,
     "metadata": {},
     "output_type": "execute_result"
    }
   ],
   "source": [
    "#Lets extract all html tags having the average salary\n",
    "avg_salary=driver.find_elements_by_xpath(\"//div[@class='col-2 d-none d-md-flex flex-row justify-content-end']\")[:10]\n",
    "avg_salary"
   ]
  },
  {
   "cell_type": "code",
   "execution_count": 230,
   "metadata": {},
   "outputs": [
    {
     "data": {
      "text/plain": [
       "['₹ 6,11,228\\n/yr',\n",
       " '₹ 11,46,533\\n/yr',\n",
       " '₹ 8,97,795\\n/yr',\n",
       " '₹ 7,38,057\\n/yr',\n",
       " '₹ 12,39,781\\n/yr',\n",
       " '₹ 13,36,142\\n/yr',\n",
       " '₹ 8,15,192\\n/yr',\n",
       " '₹ 11,35,221\\n/yr',\n",
       " '₹ 11,44,243\\n/yr',\n",
       " '₹ 14,13,288\\n/yr']"
      ]
     },
     "execution_count": 230,
     "metadata": {},
     "output_type": "execute_result"
    }
   ],
   "source": [
    "# Now we have all the tags in which there are Average salary \n",
    "# Now we will extract the text from these tags one by one by looping over these tags\n",
    "Avg_Salary=[]\n",
    "for i in avg_salary:\n",
    "    Avg_Salary.append(i.text)\n",
    "Avg_Salary    "
   ]
  },
  {
   "cell_type": "code",
   "execution_count": 231,
   "metadata": {},
   "outputs": [
    {
     "data": {
      "text/plain": [
       "['₹ 6,11,228/yr',\n",
       " '₹ 11,46,533/yr',\n",
       " '₹ 8,97,795/yr',\n",
       " '₹ 7,38,057/yr',\n",
       " '₹ 12,39,781/yr',\n",
       " '₹ 13,36,142/yr',\n",
       " '₹ 8,15,192/yr',\n",
       " '₹ 11,35,221/yr',\n",
       " '₹ 11,44,243/yr',\n",
       " '₹ 14,13,288/yr']"
      ]
     },
     "execution_count": 231,
     "metadata": {},
     "output_type": "execute_result"
    }
   ],
   "source": [
    "# Now we have all the tags having the average salary\n",
    "# Now we will extract the text from these tags one by one by looping over these tags\n",
    "\n",
    "Avg_Salary=[]\n",
    "for i in avg_salary:\n",
    "    Avg_Salary.append(i.text.replace('\\n',''))\n",
    "Avg_Salary"
   ]
  },
  {
   "cell_type": "code",
   "execution_count": 239,
   "metadata": {},
   "outputs": [
    {
     "data": {
      "text/plain": [
       "[<selenium.webdriver.remote.webelement.WebElement (session=\"d25f016a8579494a58a82a864f18bf31\", element=\"dc5271ae-bb95-4c11-ae86-27f9f1ed87f7\")>,\n",
       " <selenium.webdriver.remote.webelement.WebElement (session=\"d25f016a8579494a58a82a864f18bf31\", element=\"4c6dbb0d-100d-476f-b471-3bc753523831\")>,\n",
       " <selenium.webdriver.remote.webelement.WebElement (session=\"d25f016a8579494a58a82a864f18bf31\", element=\"49f1b8bb-14da-4513-bbe3-6f30faafef44\")>,\n",
       " <selenium.webdriver.remote.webelement.WebElement (session=\"d25f016a8579494a58a82a864f18bf31\", element=\"dd017a8c-69c3-43ee-8e03-f796a04a8c8d\")>,\n",
       " <selenium.webdriver.remote.webelement.WebElement (session=\"d25f016a8579494a58a82a864f18bf31\", element=\"7e5f0e9c-b601-4276-89ea-d797469497de\")>,\n",
       " <selenium.webdriver.remote.webelement.WebElement (session=\"d25f016a8579494a58a82a864f18bf31\", element=\"1d4ac7da-1df3-421a-8f92-22bb30b4de6e\")>,\n",
       " <selenium.webdriver.remote.webelement.WebElement (session=\"d25f016a8579494a58a82a864f18bf31\", element=\"dae864c0-8f9a-42eb-8c92-cd3828a484a3\")>,\n",
       " <selenium.webdriver.remote.webelement.WebElement (session=\"d25f016a8579494a58a82a864f18bf31\", element=\"fa017406-7f29-48d4-99ee-56db37a74f87\")>,\n",
       " <selenium.webdriver.remote.webelement.WebElement (session=\"d25f016a8579494a58a82a864f18bf31\", element=\"f2af6a3c-c194-43fb-a2c5-88f31cbbcea9\")>,\n",
       " <selenium.webdriver.remote.webelement.WebElement (session=\"d25f016a8579494a58a82a864f18bf31\", element=\"dddeea46-a557-43f1-995f-25b70a424458\")>]"
      ]
     },
     "execution_count": 239,
     "metadata": {},
     "output_type": "execute_result"
    }
   ],
   "source": [
    "#Lets extract all tags having the number of salaries\n",
    "salary_num=driver.find_elements_by_xpath(\"//div[@class='d-flex']//p[5]\")[:10]\n",
    "salary_num"
   ]
  },
  {
   "cell_type": "code",
   "execution_count": 240,
   "metadata": {},
   "outputs": [
    {
     "data": {
      "text/plain": [
       "['16 salaries',\n",
       " '14 salaries',\n",
       " '14 salaries',\n",
       " '14 salaries',\n",
       " '14 salaries',\n",
       " '11 salaries',\n",
       " '9 salaries',\n",
       " '8 salaries',\n",
       " '8 salaries',\n",
       " '8 salaries']"
      ]
     },
     "execution_count": 240,
     "metadata": {},
     "output_type": "execute_result"
    }
   ],
   "source": [
    "# Now we have all the tags in which there are number of salaries\n",
    "# Now we will extract the text from these tags one by one by looping over these tags\n",
    "Salary_Number=[]\n",
    "for i in salary_num:\n",
    "    Salary_Number.append(i.text)\n",
    "Salary_Number    "
   ]
  },
  {
   "cell_type": "markdown",
   "metadata": {},
   "source": [
    "So,now we have extracted the data required from the webpage and stored them in the 4 lists mentioned above.Now before creating a dataframe from the list,lets first check the length of each of the list.Because if the length of all of the lists are not equal,then the dataframe cannot be formed."
   ]
  },
  {
   "cell_type": "code",
   "execution_count": 245,
   "metadata": {},
   "outputs": [
    {
     "data": {
      "text/plain": [
       "(10, 10, 10, 10, 10)"
      ]
     },
     "execution_count": 245,
     "metadata": {},
     "output_type": "execute_result"
    }
   ],
   "source": [
    "len(Company),len(Salary_Number),len(Avg_Salary),len(min_salary),len(Max_salary)"
   ]
  },
  {
   "cell_type": "code",
   "execution_count": 249,
   "metadata": {},
   "outputs": [],
   "source": [
    "# Lets create a dataframe\n",
    "Job_Salary=pd.DataFrame(({}))\n",
    "Job_Salary[\"Company\"]=Company\n",
    "Job_Salary[\"No. of salaries\"]=Salary_Number\n",
    "Job_Salary[\"Average Salary\"]=Avg_Salary\n",
    "Job_Salary[\"Minimum Salary\"]=min_salary\n",
    "Job_Salary[\"Maximum Salary\"]=Max_salary"
   ]
  },
  {
   "cell_type": "code",
   "execution_count": 250,
   "metadata": {},
   "outputs": [
    {
     "data": {
      "text/html": [
       "<div>\n",
       "<style scoped>\n",
       "    .dataframe tbody tr th:only-of-type {\n",
       "        vertical-align: middle;\n",
       "    }\n",
       "\n",
       "    .dataframe tbody tr th {\n",
       "        vertical-align: top;\n",
       "    }\n",
       "\n",
       "    .dataframe thead th {\n",
       "        text-align: right;\n",
       "    }\n",
       "</style>\n",
       "<table border=\"1\" class=\"dataframe\">\n",
       "  <thead>\n",
       "    <tr style=\"text-align: right;\">\n",
       "      <th></th>\n",
       "      <th>Company</th>\n",
       "      <th>No. of salaries</th>\n",
       "      <th>Average Salary</th>\n",
       "      <th>Minimum Salary</th>\n",
       "      <th>Maximum Salary</th>\n",
       "    </tr>\n",
       "  </thead>\n",
       "  <tbody>\n",
       "    <tr>\n",
       "      <th>0</th>\n",
       "      <td>Tata Consultancy Services</td>\n",
       "      <td>16 salaries</td>\n",
       "      <td>₹ 6,11,228/yr</td>\n",
       "      <td>₹343K</td>\n",
       "      <td>₹1,095K</td>\n",
       "    </tr>\n",
       "    <tr>\n",
       "      <th>1</th>\n",
       "      <td>Accenture</td>\n",
       "      <td>14 salaries</td>\n",
       "      <td>₹ 11,46,533/yr</td>\n",
       "      <td>₹577K</td>\n",
       "      <td>₹2,213K</td>\n",
       "    </tr>\n",
       "    <tr>\n",
       "      <th>2</th>\n",
       "      <td>IBM</td>\n",
       "      <td>14 salaries</td>\n",
       "      <td>₹ 8,97,795/yr</td>\n",
       "      <td>₹586K</td>\n",
       "      <td>₹2,730K</td>\n",
       "    </tr>\n",
       "    <tr>\n",
       "      <th>3</th>\n",
       "      <td>Ericsson-Worldwide</td>\n",
       "      <td>14 salaries</td>\n",
       "      <td>₹ 7,38,057/yr</td>\n",
       "      <td>₹355K</td>\n",
       "      <td>₹1,613K</td>\n",
       "    </tr>\n",
       "    <tr>\n",
       "      <th>4</th>\n",
       "      <td>Delhivery</td>\n",
       "      <td>14 salaries</td>\n",
       "      <td>₹ 12,39,781/yr</td>\n",
       "      <td>₹450K</td>\n",
       "      <td>₹11,622K</td>\n",
       "    </tr>\n",
       "    <tr>\n",
       "      <th>5</th>\n",
       "      <td>UnitedHealth Group</td>\n",
       "      <td>11 salaries</td>\n",
       "      <td>₹ 13,36,142/yr</td>\n",
       "      <td>₹1,069K</td>\n",
       "      <td>₹1,520K</td>\n",
       "    </tr>\n",
       "    <tr>\n",
       "      <th>6</th>\n",
       "      <td>Valiance Solutions</td>\n",
       "      <td>9 salaries</td>\n",
       "      <td>₹ 8,15,192/yr</td>\n",
       "      <td>₹502K</td>\n",
       "      <td>₹1,465K</td>\n",
       "    </tr>\n",
       "    <tr>\n",
       "      <th>7</th>\n",
       "      <td>ZS Associates</td>\n",
       "      <td>8 salaries</td>\n",
       "      <td>₹ 11,35,221/yr</td>\n",
       "      <td>₹202K</td>\n",
       "      <td>₹1,809K</td>\n",
       "    </tr>\n",
       "    <tr>\n",
       "      <th>8</th>\n",
       "      <td>EXL Service</td>\n",
       "      <td>8 salaries</td>\n",
       "      <td>₹ 11,44,243/yr</td>\n",
       "      <td>₹575K</td>\n",
       "      <td>₹1,520K</td>\n",
       "    </tr>\n",
       "    <tr>\n",
       "      <th>9</th>\n",
       "      <td>Optum Global Solutions</td>\n",
       "      <td>8 salaries</td>\n",
       "      <td>₹ 14,13,288/yr</td>\n",
       "      <td>₹1,014K</td>\n",
       "      <td>₹2,149K</td>\n",
       "    </tr>\n",
       "  </tbody>\n",
       "</table>\n",
       "</div>"
      ],
      "text/plain": [
       "                     Company No. of salaries  Average Salary Minimum Salary  \\\n",
       "0  Tata Consultancy Services     16 salaries   ₹ 6,11,228/yr          ₹343K   \n",
       "1                  Accenture     14 salaries  ₹ 11,46,533/yr          ₹577K   \n",
       "2                        IBM     14 salaries   ₹ 8,97,795/yr          ₹586K   \n",
       "3         Ericsson-Worldwide     14 salaries   ₹ 7,38,057/yr          ₹355K   \n",
       "4                  Delhivery     14 salaries  ₹ 12,39,781/yr          ₹450K   \n",
       "5         UnitedHealth Group     11 salaries  ₹ 13,36,142/yr        ₹1,069K   \n",
       "6         Valiance Solutions      9 salaries   ₹ 8,15,192/yr          ₹502K   \n",
       "7              ZS Associates      8 salaries  ₹ 11,35,221/yr          ₹202K   \n",
       "8                EXL Service      8 salaries  ₹ 11,44,243/yr          ₹575K   \n",
       "9     Optum Global Solutions      8 salaries  ₹ 14,13,288/yr        ₹1,014K   \n",
       "\n",
       "  Maximum Salary  \n",
       "0        ₹1,095K  \n",
       "1        ₹2,213K  \n",
       "2        ₹2,730K  \n",
       "3        ₹1,613K  \n",
       "4       ₹11,622K  \n",
       "5        ₹1,520K  \n",
       "6        ₹1,465K  \n",
       "7        ₹1,809K  \n",
       "8        ₹1,520K  \n",
       "9        ₹2,149K  "
      ]
     },
     "execution_count": 250,
     "metadata": {},
     "output_type": "execute_result"
    }
   ],
   "source": [
    "Job_Salary"
   ]
  },
  {
   "cell_type": "markdown",
   "metadata": {},
   "source": [
    "# Question5\n",
    "Scrape data of first 100 sunglasses listings on flipkart.com. You have toscrape four attributes:\n",
    "\n",
    "1. Brand\n",
    "\n",
    "2. Product Description\n",
    "\n",
    "3. Price\n",
    "\n",
    "4. Discount %\n"
   ]
  },
  {
   "cell_type": "code",
   "execution_count": 91,
   "metadata": {},
   "outputs": [],
   "source": [
    "# Lets import the required libraries\n",
    "import selenium\n",
    "import pandas as pd\n",
    "from selenium import webdriver\n",
    "import time"
   ]
  },
  {
   "cell_type": "code",
   "execution_count": 92,
   "metadata": {},
   "outputs": [],
   "source": [
    "#Lets first connect to the web driver\n",
    "driver=webdriver.Chrome('chromedriver.exe')"
   ]
  },
  {
   "cell_type": "code",
   "execution_count": 93,
   "metadata": {},
   "outputs": [],
   "source": [
    "url='https://www.flipkart.com/'\n",
    "driver.get(url)"
   ]
  },
  {
   "cell_type": "code",
   "execution_count": 94,
   "metadata": {},
   "outputs": [
    {
     "data": {
      "text/plain": [
       "<selenium.webdriver.remote.webelement.WebElement (session=\"5522e0367e935f3e286983eb1c99ef44\", element=\"2fe120f6-8dbf-469e-a46f-b33e41604ce1\")>"
      ]
     },
     "execution_count": 94,
     "metadata": {},
     "output_type": "execute_result"
    }
   ],
   "source": [
    "#finding the element for the search bar\n",
    "search_bar=driver.find_element_by_xpath(\"//input[@class='_3704LK']\")\n",
    "search_bar"
   ]
  },
  {
   "cell_type": "code",
   "execution_count": 95,
   "metadata": {},
   "outputs": [],
   "source": [
    "#write on the search bar\n",
    "search_bar.send_keys(\"sunglasses\")"
   ]
  },
  {
   "cell_type": "code",
   "execution_count": 96,
   "metadata": {},
   "outputs": [],
   "source": [
    "# click on the search button\n",
    "search_button=driver.find_element_by_xpath(\"//button[@class='L0Z3Pu']\")\n",
    "search_button.click()"
   ]
  },
  {
   "cell_type": "code",
   "execution_count": 97,
   "metadata": {},
   "outputs": [
    {
     "data": {
      "text/plain": [
       "[<selenium.webdriver.remote.webelement.WebElement (session=\"5522e0367e935f3e286983eb1c99ef44\", element=\"91ea88b1-8f7e-4a9a-8eb6-360925ec41b0\")>,\n",
       " <selenium.webdriver.remote.webelement.WebElement (session=\"5522e0367e935f3e286983eb1c99ef44\", element=\"0400309b-4657-4bce-83f9-b938366840fd\")>,\n",
       " <selenium.webdriver.remote.webelement.WebElement (session=\"5522e0367e935f3e286983eb1c99ef44\", element=\"3ca7f5c9-f02c-419f-a8b4-7c7743b39c5a\")>,\n",
       " <selenium.webdriver.remote.webelement.WebElement (session=\"5522e0367e935f3e286983eb1c99ef44\", element=\"98e8a417-4b96-4fab-9e41-5fc12a3c04aa\")>,\n",
       " <selenium.webdriver.remote.webelement.WebElement (session=\"5522e0367e935f3e286983eb1c99ef44\", element=\"4e84eb0d-097a-45d4-8dc0-756776bec354\")>,\n",
       " <selenium.webdriver.remote.webelement.WebElement (session=\"5522e0367e935f3e286983eb1c99ef44\", element=\"2e51d984-c2db-4ee6-88a4-b86ab63e26d0\")>,\n",
       " <selenium.webdriver.remote.webelement.WebElement (session=\"5522e0367e935f3e286983eb1c99ef44\", element=\"4eff65b1-1e63-4995-93bd-3ea497ff8d64\")>,\n",
       " <selenium.webdriver.remote.webelement.WebElement (session=\"5522e0367e935f3e286983eb1c99ef44\", element=\"0058d35b-6793-4ab1-8b0a-27a41809cf13\")>,\n",
       " <selenium.webdriver.remote.webelement.WebElement (session=\"5522e0367e935f3e286983eb1c99ef44\", element=\"9ffd038b-e937-475b-909a-09de4c6ea31a\")>,\n",
       " <selenium.webdriver.remote.webelement.WebElement (session=\"5522e0367e935f3e286983eb1c99ef44\", element=\"367f454a-748c-4797-a25b-851fe0013784\")>,\n",
       " <selenium.webdriver.remote.webelement.WebElement (session=\"5522e0367e935f3e286983eb1c99ef44\", element=\"324bac14-9342-4b8a-b04c-f42ab2ec79cf\")>,\n",
       " <selenium.webdriver.remote.webelement.WebElement (session=\"5522e0367e935f3e286983eb1c99ef44\", element=\"292b2179-0ed9-4166-b477-1a0782abd804\")>,\n",
       " <selenium.webdriver.remote.webelement.WebElement (session=\"5522e0367e935f3e286983eb1c99ef44\", element=\"509bc881-a893-4677-88f8-9dabeab9d7ca\")>,\n",
       " <selenium.webdriver.remote.webelement.WebElement (session=\"5522e0367e935f3e286983eb1c99ef44\", element=\"fb44e50c-5cad-4a40-8703-6c88bf9283e4\")>,\n",
       " <selenium.webdriver.remote.webelement.WebElement (session=\"5522e0367e935f3e286983eb1c99ef44\", element=\"fec51fb6-9da2-474d-993d-c1164982a5f1\")>,\n",
       " <selenium.webdriver.remote.webelement.WebElement (session=\"5522e0367e935f3e286983eb1c99ef44\", element=\"1bc3805e-e245-485d-b956-1b7949b8b649\")>,\n",
       " <selenium.webdriver.remote.webelement.WebElement (session=\"5522e0367e935f3e286983eb1c99ef44\", element=\"7c5e488f-17e9-4388-8931-3666bec16fd7\")>,\n",
       " <selenium.webdriver.remote.webelement.WebElement (session=\"5522e0367e935f3e286983eb1c99ef44\", element=\"53ae5946-fa24-4765-a49c-b1ef5ac5a93e\")>,\n",
       " <selenium.webdriver.remote.webelement.WebElement (session=\"5522e0367e935f3e286983eb1c99ef44\", element=\"67b0852a-d388-44a1-9b5c-7d91044b26cb\")>,\n",
       " <selenium.webdriver.remote.webelement.WebElement (session=\"5522e0367e935f3e286983eb1c99ef44\", element=\"634943e5-78ad-4d79-9977-dc24ee7f0337\")>,\n",
       " <selenium.webdriver.remote.webelement.WebElement (session=\"5522e0367e935f3e286983eb1c99ef44\", element=\"954593dc-84f6-4b79-85fd-13d73f1eeec5\")>,\n",
       " <selenium.webdriver.remote.webelement.WebElement (session=\"5522e0367e935f3e286983eb1c99ef44\", element=\"c99c0df2-336b-459c-bded-2b437dbd8236\")>,\n",
       " <selenium.webdriver.remote.webelement.WebElement (session=\"5522e0367e935f3e286983eb1c99ef44\", element=\"c8d5a3f7-7841-43e7-b4d2-384cb752323c\")>,\n",
       " <selenium.webdriver.remote.webelement.WebElement (session=\"5522e0367e935f3e286983eb1c99ef44\", element=\"6e629ca7-7cbc-434c-a485-fdacbb82e238\")>,\n",
       " <selenium.webdriver.remote.webelement.WebElement (session=\"5522e0367e935f3e286983eb1c99ef44\", element=\"405b59e7-a51e-468f-813e-e31933f2f55f\")>,\n",
       " <selenium.webdriver.remote.webelement.WebElement (session=\"5522e0367e935f3e286983eb1c99ef44\", element=\"4b51aab7-0e22-4cd3-bb4b-819a40c077c6\")>,\n",
       " <selenium.webdriver.remote.webelement.WebElement (session=\"5522e0367e935f3e286983eb1c99ef44\", element=\"9a85d975-2cd8-45a5-8d6f-8faf1ce809de\")>,\n",
       " <selenium.webdriver.remote.webelement.WebElement (session=\"5522e0367e935f3e286983eb1c99ef44\", element=\"fceab529-0381-4e4c-8253-40f8847b44cc\")>,\n",
       " <selenium.webdriver.remote.webelement.WebElement (session=\"5522e0367e935f3e286983eb1c99ef44\", element=\"4bff8f27-7428-40be-abc2-7ebcc6417e7b\")>,\n",
       " <selenium.webdriver.remote.webelement.WebElement (session=\"5522e0367e935f3e286983eb1c99ef44\", element=\"35d93fe7-07be-44d5-8e86-967a579fb5f3\")>,\n",
       " <selenium.webdriver.remote.webelement.WebElement (session=\"5522e0367e935f3e286983eb1c99ef44\", element=\"43ea1606-88dd-455e-9bad-b2ec67666d2c\")>,\n",
       " <selenium.webdriver.remote.webelement.WebElement (session=\"5522e0367e935f3e286983eb1c99ef44\", element=\"cdc1eafb-b4bb-4fc2-b162-34ef5f1515f3\")>,\n",
       " <selenium.webdriver.remote.webelement.WebElement (session=\"5522e0367e935f3e286983eb1c99ef44\", element=\"4120b053-df98-4e84-aaf3-6577fc40ea5b\")>,\n",
       " <selenium.webdriver.remote.webelement.WebElement (session=\"5522e0367e935f3e286983eb1c99ef44\", element=\"ced0cae7-3fb9-4218-ab32-d6a97273d3f3\")>,\n",
       " <selenium.webdriver.remote.webelement.WebElement (session=\"5522e0367e935f3e286983eb1c99ef44\", element=\"fc76760c-1466-482b-8db8-e8af34a9969d\")>,\n",
       " <selenium.webdriver.remote.webelement.WebElement (session=\"5522e0367e935f3e286983eb1c99ef44\", element=\"56715001-61e3-4e98-9e80-0494f356725d\")>,\n",
       " <selenium.webdriver.remote.webelement.WebElement (session=\"5522e0367e935f3e286983eb1c99ef44\", element=\"ff48c510-5522-4463-92bf-7c2ed90bc9ed\")>,\n",
       " <selenium.webdriver.remote.webelement.WebElement (session=\"5522e0367e935f3e286983eb1c99ef44\", element=\"fd1e7b92-9cf9-4282-85b4-8e822d838b42\")>,\n",
       " <selenium.webdriver.remote.webelement.WebElement (session=\"5522e0367e935f3e286983eb1c99ef44\", element=\"19ace460-3577-4af2-aa49-81aa8e8ce317\")>,\n",
       " <selenium.webdriver.remote.webelement.WebElement (session=\"5522e0367e935f3e286983eb1c99ef44\", element=\"1a8a0cbc-093b-43b1-8f7b-ce9ea949f631\")>]"
      ]
     },
     "execution_count": 97,
     "metadata": {},
     "output_type": "execute_result"
    }
   ],
   "source": [
    "#Lets extract all html tags having the brands\n",
    "brand_tags=driver.find_elements_by_xpath(\"//div[@class='_2WkVRV']\")\n",
    "brand_tags"
   ]
  },
  {
   "cell_type": "code",
   "execution_count": 98,
   "metadata": {},
   "outputs": [
    {
     "data": {
      "text/plain": [
       "['FDA COLLECTION',\n",
       " 'FDA COLLECTION',\n",
       " 'Fastrack',\n",
       " 'ROZZETTA CRAFT',\n",
       " 'Fastrack',\n",
       " 'PHENOMENAL',\n",
       " 'PIRASO',\n",
       " 'ROZZETTA CRAFT',\n",
       " 'Fastrack',\n",
       " 'Fastrack',\n",
       " 'HIPPON',\n",
       " 'DEIXELS',\n",
       " 'Silver Kartz',\n",
       " 'ROYAL SON',\n",
       " 'ROZZETTA CRAFT',\n",
       " 'PHENOMENAL',\n",
       " 'Singco India',\n",
       " 'NuVew',\n",
       " 'GANSTA',\n",
       " 'SO SHADES OF STYLE',\n",
       " 'Fastrack',\n",
       " 'DEIXELS',\n",
       " 'Fastrack',\n",
       " 'ROYAL SON',\n",
       " 'Fastrack',\n",
       " 'Fastrack',\n",
       " 'PHENOMENAL',\n",
       " 'Fastrack',\n",
       " 'ROYAL SON',\n",
       " 'NuVew',\n",
       " 'ROZZETTA CRAFT',\n",
       " 'elegante',\n",
       " 'ROZZETTA CRAFT',\n",
       " 'AISLIN',\n",
       " 'hipe',\n",
       " 'ROZZETTA CRAFT',\n",
       " 'Singco India',\n",
       " 'GANSTA',\n",
       " 'ROYAL SON',\n",
       " 'ROYAL SON']"
      ]
     },
     "execution_count": 98,
     "metadata": {},
     "output_type": "execute_result"
    }
   ],
   "source": [
    "# Now we have all the tags having brands of the products\n",
    "# Now we will extract the text from these tags one by one by looping over these tags\n",
    "\n",
    "Brand=[]\n",
    "for i in brand_tags:\n",
    "    Brand.append(i.text)\n",
    "Brand    "
   ]
  },
  {
   "cell_type": "code",
   "execution_count": 99,
   "metadata": {},
   "outputs": [
    {
     "data": {
      "text/plain": [
       "[<selenium.webdriver.remote.webelement.WebElement (session=\"5522e0367e935f3e286983eb1c99ef44\", element=\"35e7c7a0-f9af-4108-96f8-5daad0739897\")>,\n",
       " <selenium.webdriver.remote.webelement.WebElement (session=\"5522e0367e935f3e286983eb1c99ef44\", element=\"1f4a0883-bc32-40ea-9ffc-78d91be78493\")>,\n",
       " <selenium.webdriver.remote.webelement.WebElement (session=\"5522e0367e935f3e286983eb1c99ef44\", element=\"739eba67-8d39-40d4-9a8a-8507e6b38723\")>,\n",
       " <selenium.webdriver.remote.webelement.WebElement (session=\"5522e0367e935f3e286983eb1c99ef44\", element=\"83d42bf6-4b6c-48a5-babb-c0064b7f1e46\")>,\n",
       " <selenium.webdriver.remote.webelement.WebElement (session=\"5522e0367e935f3e286983eb1c99ef44\", element=\"441cfd52-cbc3-4c4f-9aea-f0b303d4f800\")>,\n",
       " <selenium.webdriver.remote.webelement.WebElement (session=\"5522e0367e935f3e286983eb1c99ef44\", element=\"df38e2b0-42ca-4e93-a34a-273f6d0daa9a\")>,\n",
       " <selenium.webdriver.remote.webelement.WebElement (session=\"5522e0367e935f3e286983eb1c99ef44\", element=\"0a23944d-5e56-4aa9-be36-fd4cfc732c70\")>,\n",
       " <selenium.webdriver.remote.webelement.WebElement (session=\"5522e0367e935f3e286983eb1c99ef44\", element=\"a1b5862d-b9e6-4f63-866b-5754ce1dc4d3\")>,\n",
       " <selenium.webdriver.remote.webelement.WebElement (session=\"5522e0367e935f3e286983eb1c99ef44\", element=\"39e20c8a-cc14-45bc-bc50-fecec9594212\")>,\n",
       " <selenium.webdriver.remote.webelement.WebElement (session=\"5522e0367e935f3e286983eb1c99ef44\", element=\"5ddc01e4-3182-4689-8049-3091f7ca874b\")>,\n",
       " <selenium.webdriver.remote.webelement.WebElement (session=\"5522e0367e935f3e286983eb1c99ef44\", element=\"2acf74a8-ffa1-4ecb-9dbe-384239329e9f\")>,\n",
       " <selenium.webdriver.remote.webelement.WebElement (session=\"5522e0367e935f3e286983eb1c99ef44\", element=\"acd6e7a0-5a31-4a05-97cd-140fc0223c5b\")>,\n",
       " <selenium.webdriver.remote.webelement.WebElement (session=\"5522e0367e935f3e286983eb1c99ef44\", element=\"5a48d38a-8a08-495a-b44c-bfe3965e46a8\")>,\n",
       " <selenium.webdriver.remote.webelement.WebElement (session=\"5522e0367e935f3e286983eb1c99ef44\", element=\"60fe8541-7f88-48f5-a689-35655c1a1a64\")>,\n",
       " <selenium.webdriver.remote.webelement.WebElement (session=\"5522e0367e935f3e286983eb1c99ef44\", element=\"01ae34d9-c3a2-4880-8489-62702362c479\")>,\n",
       " <selenium.webdriver.remote.webelement.WebElement (session=\"5522e0367e935f3e286983eb1c99ef44\", element=\"4f5128b4-2cde-4bd8-8ffc-6591d1e8b45a\")>,\n",
       " <selenium.webdriver.remote.webelement.WebElement (session=\"5522e0367e935f3e286983eb1c99ef44\", element=\"5ebf12c3-50e0-4b91-a5a6-2931ebfb277e\")>,\n",
       " <selenium.webdriver.remote.webelement.WebElement (session=\"5522e0367e935f3e286983eb1c99ef44\", element=\"8c6b24d9-ad89-4c98-9cfd-ba3bfe9f2579\")>,\n",
       " <selenium.webdriver.remote.webelement.WebElement (session=\"5522e0367e935f3e286983eb1c99ef44\", element=\"47f7ade6-f43b-47fb-b406-509625f58c18\")>,\n",
       " <selenium.webdriver.remote.webelement.WebElement (session=\"5522e0367e935f3e286983eb1c99ef44\", element=\"e627998f-e8e4-4966-b310-c8b5280a7ad9\")>,\n",
       " <selenium.webdriver.remote.webelement.WebElement (session=\"5522e0367e935f3e286983eb1c99ef44\", element=\"b337145c-e55a-4e49-bcec-bc0d1a65d163\")>,\n",
       " <selenium.webdriver.remote.webelement.WebElement (session=\"5522e0367e935f3e286983eb1c99ef44\", element=\"08194dd8-2ed9-451d-b0d9-432bd3bdbdce\")>,\n",
       " <selenium.webdriver.remote.webelement.WebElement (session=\"5522e0367e935f3e286983eb1c99ef44\", element=\"a5ccbea4-b44f-4402-87a4-2b294ca9f52f\")>,\n",
       " <selenium.webdriver.remote.webelement.WebElement (session=\"5522e0367e935f3e286983eb1c99ef44\", element=\"34e0bbb3-2448-44b5-93f8-dd08d766710f\")>,\n",
       " <selenium.webdriver.remote.webelement.WebElement (session=\"5522e0367e935f3e286983eb1c99ef44\", element=\"ac321fcf-357e-48d0-9b0c-33c24f5ce923\")>,\n",
       " <selenium.webdriver.remote.webelement.WebElement (session=\"5522e0367e935f3e286983eb1c99ef44\", element=\"7684256b-ed29-4d1a-868b-340e301dc62a\")>,\n",
       " <selenium.webdriver.remote.webelement.WebElement (session=\"5522e0367e935f3e286983eb1c99ef44\", element=\"3d9d9ff3-69c0-4bbd-8e21-a3f01bd93ac7\")>,\n",
       " <selenium.webdriver.remote.webelement.WebElement (session=\"5522e0367e935f3e286983eb1c99ef44\", element=\"d3809a04-040e-428b-a593-ed3d079c61a9\")>,\n",
       " <selenium.webdriver.remote.webelement.WebElement (session=\"5522e0367e935f3e286983eb1c99ef44\", element=\"2667e764-1744-4168-bdce-3806c7ed8df1\")>,\n",
       " <selenium.webdriver.remote.webelement.WebElement (session=\"5522e0367e935f3e286983eb1c99ef44\", element=\"0a1594bf-ceaa-47f1-be96-e4f1047ab2cf\")>,\n",
       " <selenium.webdriver.remote.webelement.WebElement (session=\"5522e0367e935f3e286983eb1c99ef44\", element=\"931611a7-aa7b-42cd-b020-0713d1a0f4ca\")>,\n",
       " <selenium.webdriver.remote.webelement.WebElement (session=\"5522e0367e935f3e286983eb1c99ef44\", element=\"e75490b5-54e4-4f1a-8280-1e439f76308f\")>,\n",
       " <selenium.webdriver.remote.webelement.WebElement (session=\"5522e0367e935f3e286983eb1c99ef44\", element=\"8ecf1384-4e6e-4ee2-9362-b544395c7d5d\")>,\n",
       " <selenium.webdriver.remote.webelement.WebElement (session=\"5522e0367e935f3e286983eb1c99ef44\", element=\"5464dda1-5b05-4a7e-92d3-baa26e5365de\")>,\n",
       " <selenium.webdriver.remote.webelement.WebElement (session=\"5522e0367e935f3e286983eb1c99ef44\", element=\"f94bbdf9-1347-4159-9d43-c4c9126fca4e\")>,\n",
       " <selenium.webdriver.remote.webelement.WebElement (session=\"5522e0367e935f3e286983eb1c99ef44\", element=\"3e821b0f-6055-4bd8-bc4f-43bbf6d1f52a\")>,\n",
       " <selenium.webdriver.remote.webelement.WebElement (session=\"5522e0367e935f3e286983eb1c99ef44\", element=\"7211c34b-50b6-48c4-b286-442dcdaf3cfe\")>,\n",
       " <selenium.webdriver.remote.webelement.WebElement (session=\"5522e0367e935f3e286983eb1c99ef44\", element=\"533372a8-191c-4e94-aa7a-299083120e48\")>,\n",
       " <selenium.webdriver.remote.webelement.WebElement (session=\"5522e0367e935f3e286983eb1c99ef44\", element=\"62f00f8f-a42b-4344-97f2-333589dc9b5c\")>,\n",
       " <selenium.webdriver.remote.webelement.WebElement (session=\"5522e0367e935f3e286983eb1c99ef44\", element=\"94ccf622-7678-4b16-a06e-13facc372b19\")>]"
      ]
     },
     "execution_count": 99,
     "metadata": {},
     "output_type": "execute_result"
    }
   ],
   "source": [
    "#Lets extract all html tags having the description of the product\n",
    "description_tags=driver.find_elements_by_xpath(\"//div[@class='_2B099V']//a[1]\")\n",
    "description_tags"
   ]
  },
  {
   "cell_type": "code",
   "execution_count": 100,
   "metadata": {},
   "outputs": [
    {
     "data": {
      "text/plain": [
       "['Gradient, Mirrored, UV Protection Round, Round, Round S...',\n",
       " 'Gradient, UV Protection Round, Round Sunglasses (20)',\n",
       " 'UV Protection Rectangular Sunglasses (Free Size)',\n",
       " 'UV Protection Retro Square Sunglasses (Free Size)',\n",
       " 'UV Protection Wayfarer Sunglasses (Free Size)',\n",
       " 'UV Protection Retro Square Sunglasses (Free Size)',\n",
       " 'UV Protection Aviator Sunglasses (Free Size)',\n",
       " 'UV Protection, Gradient Rectangular Sunglasses (Free Si...',\n",
       " 'UV Protection Wayfarer Sunglasses (Free Size)',\n",
       " 'Gradient, UV Protection Wayfarer Sunglasses (Free Size)',\n",
       " 'UV Protection Wayfarer Sunglasses (55)',\n",
       " 'UV Protection Aviator, Wayfarer Sunglasses (Free Size)',\n",
       " 'UV Protection Wayfarer Sunglasses (Free Size)',\n",
       " 'Polarized Wrap-around Sunglasses (66)',\n",
       " 'UV Protection, Riding Glasses Rectangular Sunglasses (F...',\n",
       " 'UV Protection, Mirrored Retro Square Sunglasses (53)',\n",
       " 'UV Protection Aviator Sunglasses (Free Size)',\n",
       " 'UV Protection Aviator Sunglasses (58)',\n",
       " 'UV Protection Aviator Sunglasses (57)',\n",
       " 'UV Protection Retro Square Sunglasses (60)',\n",
       " 'UV Protection Wayfarer Sunglasses (Free Size)',\n",
       " 'UV Protection Round Sunglasses (Free Size)',\n",
       " 'UV Protection Aviator Sunglasses (58)',\n",
       " 'UV Protection, Polarized Wrap-around Sunglasses (52)',\n",
       " 'UV Protection Aviator Sunglasses (Free Size)',\n",
       " 'UV Protection Aviator Sunglasses (58)',\n",
       " 'UV Protection, Mirrored Retro Square Sunglasses (Free S...',\n",
       " 'UV Protection Wayfarer Sunglasses (56)',\n",
       " 'Mirrored Aviator Sunglasses (55)',\n",
       " 'UV Protection, Night Vision, Riding Glasses, Polarized ...',\n",
       " 'UV Protection, Gradient Round Sunglasses (Free Size)',\n",
       " 'UV Protection Wrap-around Sunglasses (Free Size)',\n",
       " 'UV Protection Retro Square Sunglasses (Free Size)',\n",
       " 'UV Protection, Gradient Round, Shield Sunglasses (50)',\n",
       " 'UV Protection, Mirrored Round Sunglasses (Free Size)',\n",
       " 'Gradient, UV Protection Round Sunglasses (Free Size)',\n",
       " 'Mirrored, Riding Glasses, Others Sports Sunglasses (50)',\n",
       " 'UV Protection, Riding Glasses Wayfarer Sunglasses (53)',\n",
       " 'UV Protection Rectangular Sunglasses (58)',\n",
       " 'Polarized Wrap-around Sunglasses (66)']"
      ]
     },
     "execution_count": 100,
     "metadata": {},
     "output_type": "execute_result"
    }
   ],
   "source": [
    "# Now we have all the tags having the product description\n",
    "# Now we will extract the text from these tags one by one by looping over these tags\n",
    "\n",
    "description=[]\n",
    "for i in description_tags:\n",
    "    description.append(i.text)\n",
    "description    "
   ]
  },
  {
   "cell_type": "code",
   "execution_count": 101,
   "metadata": {},
   "outputs": [
    {
     "data": {
      "text/plain": [
       "[<selenium.webdriver.remote.webelement.WebElement (session=\"5522e0367e935f3e286983eb1c99ef44\", element=\"d9cda7a1-e8c5-4e55-8c82-0d012449a2e6\")>,\n",
       " <selenium.webdriver.remote.webelement.WebElement (session=\"5522e0367e935f3e286983eb1c99ef44\", element=\"65759416-070c-47e6-80f5-27568d2d3a6b\")>,\n",
       " <selenium.webdriver.remote.webelement.WebElement (session=\"5522e0367e935f3e286983eb1c99ef44\", element=\"bab25af7-b34c-4286-89e3-d24cb1dbc90a\")>,\n",
       " <selenium.webdriver.remote.webelement.WebElement (session=\"5522e0367e935f3e286983eb1c99ef44\", element=\"3f950451-1000-419b-82d6-02f720c7dbab\")>,\n",
       " <selenium.webdriver.remote.webelement.WebElement (session=\"5522e0367e935f3e286983eb1c99ef44\", element=\"97ce486d-93e3-4f6d-a60c-fa2395c0de46\")>,\n",
       " <selenium.webdriver.remote.webelement.WebElement (session=\"5522e0367e935f3e286983eb1c99ef44\", element=\"9085755b-0696-4cd6-ab72-8d5b36622c39\")>,\n",
       " <selenium.webdriver.remote.webelement.WebElement (session=\"5522e0367e935f3e286983eb1c99ef44\", element=\"97aed701-2d8f-4f35-9aab-afd89f255bdb\")>,\n",
       " <selenium.webdriver.remote.webelement.WebElement (session=\"5522e0367e935f3e286983eb1c99ef44\", element=\"155b407e-9e62-420e-87d1-f91e8b3c9c97\")>,\n",
       " <selenium.webdriver.remote.webelement.WebElement (session=\"5522e0367e935f3e286983eb1c99ef44\", element=\"bd5c3f0d-50d2-420d-a14a-67347f948342\")>,\n",
       " <selenium.webdriver.remote.webelement.WebElement (session=\"5522e0367e935f3e286983eb1c99ef44\", element=\"68164c68-4a6e-438c-bc7f-72c2d6832f27\")>,\n",
       " <selenium.webdriver.remote.webelement.WebElement (session=\"5522e0367e935f3e286983eb1c99ef44\", element=\"aeeeb918-a433-4920-ac21-d9938f1115b5\")>,\n",
       " <selenium.webdriver.remote.webelement.WebElement (session=\"5522e0367e935f3e286983eb1c99ef44\", element=\"9f115543-bd15-463e-983d-9b91202b9f67\")>,\n",
       " <selenium.webdriver.remote.webelement.WebElement (session=\"5522e0367e935f3e286983eb1c99ef44\", element=\"49e88cf9-f392-45be-8512-46b17d43ba80\")>,\n",
       " <selenium.webdriver.remote.webelement.WebElement (session=\"5522e0367e935f3e286983eb1c99ef44\", element=\"095e3822-8845-4e82-a59f-80f384a6fa01\")>,\n",
       " <selenium.webdriver.remote.webelement.WebElement (session=\"5522e0367e935f3e286983eb1c99ef44\", element=\"08e5ba91-f006-49d7-b4cb-5b46ca7b7a66\")>,\n",
       " <selenium.webdriver.remote.webelement.WebElement (session=\"5522e0367e935f3e286983eb1c99ef44\", element=\"449fc075-aa65-4a37-9e91-f02838e0b157\")>,\n",
       " <selenium.webdriver.remote.webelement.WebElement (session=\"5522e0367e935f3e286983eb1c99ef44\", element=\"4c46db46-6e6d-443d-bb35-267643bf0bce\")>,\n",
       " <selenium.webdriver.remote.webelement.WebElement (session=\"5522e0367e935f3e286983eb1c99ef44\", element=\"1fc795a1-158f-4605-a390-3e34f1f0368f\")>,\n",
       " <selenium.webdriver.remote.webelement.WebElement (session=\"5522e0367e935f3e286983eb1c99ef44\", element=\"1ada7a77-c368-4d1c-9fea-35daa3de7d70\")>,\n",
       " <selenium.webdriver.remote.webelement.WebElement (session=\"5522e0367e935f3e286983eb1c99ef44\", element=\"5f598afc-8920-4bb6-b3b8-7f1b61d74fd4\")>,\n",
       " <selenium.webdriver.remote.webelement.WebElement (session=\"5522e0367e935f3e286983eb1c99ef44\", element=\"2dfd53a0-63e8-47dc-a0a9-1972d7e13f4e\")>,\n",
       " <selenium.webdriver.remote.webelement.WebElement (session=\"5522e0367e935f3e286983eb1c99ef44\", element=\"154df5b3-358f-4640-ba87-6ea026e79bb4\")>,\n",
       " <selenium.webdriver.remote.webelement.WebElement (session=\"5522e0367e935f3e286983eb1c99ef44\", element=\"13b1bdd3-0146-4329-b015-e83f4b0f084f\")>,\n",
       " <selenium.webdriver.remote.webelement.WebElement (session=\"5522e0367e935f3e286983eb1c99ef44\", element=\"074becc3-6102-417c-a63a-c9e0b07204a3\")>,\n",
       " <selenium.webdriver.remote.webelement.WebElement (session=\"5522e0367e935f3e286983eb1c99ef44\", element=\"c8e245a9-34b8-43eb-b4c0-99d6a6c039b0\")>,\n",
       " <selenium.webdriver.remote.webelement.WebElement (session=\"5522e0367e935f3e286983eb1c99ef44\", element=\"591fd40e-68d0-4404-b021-ed0c35083630\")>,\n",
       " <selenium.webdriver.remote.webelement.WebElement (session=\"5522e0367e935f3e286983eb1c99ef44\", element=\"3ab8b25a-8073-4c1f-b48d-10e6b4aa113e\")>,\n",
       " <selenium.webdriver.remote.webelement.WebElement (session=\"5522e0367e935f3e286983eb1c99ef44\", element=\"5582892f-a77d-4bbe-b369-3064ff6536c4\")>,\n",
       " <selenium.webdriver.remote.webelement.WebElement (session=\"5522e0367e935f3e286983eb1c99ef44\", element=\"c2eee712-6b9f-43c4-a287-53afcaa57b7a\")>,\n",
       " <selenium.webdriver.remote.webelement.WebElement (session=\"5522e0367e935f3e286983eb1c99ef44\", element=\"38da7237-d3e4-4d79-83cf-a904271a9ffa\")>,\n",
       " <selenium.webdriver.remote.webelement.WebElement (session=\"5522e0367e935f3e286983eb1c99ef44\", element=\"1c1d9107-bda3-4cbf-8fe2-6b40c688757d\")>,\n",
       " <selenium.webdriver.remote.webelement.WebElement (session=\"5522e0367e935f3e286983eb1c99ef44\", element=\"90bddb6f-4ff0-4ff9-b47e-528ce5e5c73c\")>,\n",
       " <selenium.webdriver.remote.webelement.WebElement (session=\"5522e0367e935f3e286983eb1c99ef44\", element=\"a9d581fd-a55d-40fe-9a3c-6332bf012dec\")>,\n",
       " <selenium.webdriver.remote.webelement.WebElement (session=\"5522e0367e935f3e286983eb1c99ef44\", element=\"79ee76a9-4ecf-4aa2-bfd3-508f9dbf777c\")>,\n",
       " <selenium.webdriver.remote.webelement.WebElement (session=\"5522e0367e935f3e286983eb1c99ef44\", element=\"359ef502-a275-44fd-b005-93a26a18aef9\")>,\n",
       " <selenium.webdriver.remote.webelement.WebElement (session=\"5522e0367e935f3e286983eb1c99ef44\", element=\"45b1f751-998e-4424-b608-36609977934c\")>,\n",
       " <selenium.webdriver.remote.webelement.WebElement (session=\"5522e0367e935f3e286983eb1c99ef44\", element=\"5fb4e250-2c42-4761-82ad-d5aa0c587c7b\")>,\n",
       " <selenium.webdriver.remote.webelement.WebElement (session=\"5522e0367e935f3e286983eb1c99ef44\", element=\"68a84e72-d2b6-4794-96bb-9b494b411ab8\")>,\n",
       " <selenium.webdriver.remote.webelement.WebElement (session=\"5522e0367e935f3e286983eb1c99ef44\", element=\"f300cbc8-9b5d-48fb-a4b5-c5eb627e0650\")>,\n",
       " <selenium.webdriver.remote.webelement.WebElement (session=\"5522e0367e935f3e286983eb1c99ef44\", element=\"5f84be46-0ac5-4a47-b166-ce18097bc475\")>]"
      ]
     },
     "execution_count": 101,
     "metadata": {},
     "output_type": "execute_result"
    }
   ],
   "source": [
    "#lets extract all html tags having price\n",
    "price_tags=driver.find_elements_by_xpath(\"//div[@class='_30jeq3']\")\n",
    "price_tags"
   ]
  },
  {
   "cell_type": "code",
   "execution_count": 102,
   "metadata": {},
   "outputs": [
    {
     "data": {
      "text/plain": [
       "['₹169',\n",
       " '₹189',\n",
       " '₹630',\n",
       " '₹499',\n",
       " '₹758',\n",
       " '₹399',\n",
       " '₹349',\n",
       " '₹404',\n",
       " '₹733',\n",
       " '₹621',\n",
       " '₹251',\n",
       " '₹213',\n",
       " '₹246',\n",
       " '₹699',\n",
       " '₹449',\n",
       " '₹399',\n",
       " '₹339',\n",
       " '₹215',\n",
       " '₹281',\n",
       " '₹345',\n",
       " '₹837',\n",
       " '₹209',\n",
       " '₹1,085',\n",
       " '₹899',\n",
       " '₹674',\n",
       " '₹1,123',\n",
       " '₹399',\n",
       " '₹759',\n",
       " '₹379',\n",
       " '₹371',\n",
       " '₹449',\n",
       " '₹499',\n",
       " '₹499',\n",
       " '₹371',\n",
       " '₹219',\n",
       " '₹449',\n",
       " '₹249',\n",
       " '₹260',\n",
       " '₹474',\n",
       " '₹664']"
      ]
     },
     "execution_count": 102,
     "metadata": {},
     "output_type": "execute_result"
    }
   ],
   "source": [
    "# Now we have all the tags having the product price\n",
    "# Now we will extract the text from these tags one by one by looping over these tags\n",
    "\n",
    "price=[]\n",
    "for i in price_tags:\n",
    "    price.append(i.text)\n",
    "price    "
   ]
  },
  {
   "cell_type": "code",
   "execution_count": 103,
   "metadata": {},
   "outputs": [
    {
     "data": {
      "text/plain": [
       "[<selenium.webdriver.remote.webelement.WebElement (session=\"5522e0367e935f3e286983eb1c99ef44\", element=\"d36d68f0-daf8-4ca3-955e-d1938f76672d\")>,\n",
       " <selenium.webdriver.remote.webelement.WebElement (session=\"5522e0367e935f3e286983eb1c99ef44\", element=\"c4688b87-569f-42aa-bdb9-3bf4c108cdda\")>,\n",
       " <selenium.webdriver.remote.webelement.WebElement (session=\"5522e0367e935f3e286983eb1c99ef44\", element=\"949d7462-313f-4eb7-89f4-9f643a475a78\")>,\n",
       " <selenium.webdriver.remote.webelement.WebElement (session=\"5522e0367e935f3e286983eb1c99ef44\", element=\"c55d4dff-8319-49d9-bac4-8e1966b389a8\")>,\n",
       " <selenium.webdriver.remote.webelement.WebElement (session=\"5522e0367e935f3e286983eb1c99ef44\", element=\"55ce7f2c-6e6a-4cd5-9e1e-ec8a9c1bc77f\")>,\n",
       " <selenium.webdriver.remote.webelement.WebElement (session=\"5522e0367e935f3e286983eb1c99ef44\", element=\"6d06338c-db33-4588-a395-68fb529abcd1\")>,\n",
       " <selenium.webdriver.remote.webelement.WebElement (session=\"5522e0367e935f3e286983eb1c99ef44\", element=\"4fc90a59-440c-47d7-939e-bc0121b083ed\")>,\n",
       " <selenium.webdriver.remote.webelement.WebElement (session=\"5522e0367e935f3e286983eb1c99ef44\", element=\"280d8aea-0441-4461-a03b-5fd8fac6c036\")>,\n",
       " <selenium.webdriver.remote.webelement.WebElement (session=\"5522e0367e935f3e286983eb1c99ef44\", element=\"314f4e22-9399-49bd-bde0-ddd23595ff47\")>,\n",
       " <selenium.webdriver.remote.webelement.WebElement (session=\"5522e0367e935f3e286983eb1c99ef44\", element=\"7e66e34b-86b3-45df-9f23-6d10920cec91\")>,\n",
       " <selenium.webdriver.remote.webelement.WebElement (session=\"5522e0367e935f3e286983eb1c99ef44\", element=\"9494c03d-8805-4fbe-971f-aa892429cd95\")>,\n",
       " <selenium.webdriver.remote.webelement.WebElement (session=\"5522e0367e935f3e286983eb1c99ef44\", element=\"6396c3ad-e1f1-4673-94a2-5b8f3c898bea\")>,\n",
       " <selenium.webdriver.remote.webelement.WebElement (session=\"5522e0367e935f3e286983eb1c99ef44\", element=\"f8a0137f-3b62-4282-8dd5-a1e33350010b\")>,\n",
       " <selenium.webdriver.remote.webelement.WebElement (session=\"5522e0367e935f3e286983eb1c99ef44\", element=\"aaba426d-3f14-44c7-af4d-1e6f15dd0b24\")>,\n",
       " <selenium.webdriver.remote.webelement.WebElement (session=\"5522e0367e935f3e286983eb1c99ef44\", element=\"af92460f-0f04-4a4c-ba88-59325549a45f\")>,\n",
       " <selenium.webdriver.remote.webelement.WebElement (session=\"5522e0367e935f3e286983eb1c99ef44\", element=\"93b1ea79-7a1e-497b-950e-8411fc3dd852\")>,\n",
       " <selenium.webdriver.remote.webelement.WebElement (session=\"5522e0367e935f3e286983eb1c99ef44\", element=\"4fae17e0-4d3a-4663-8790-48fc050d53a4\")>,\n",
       " <selenium.webdriver.remote.webelement.WebElement (session=\"5522e0367e935f3e286983eb1c99ef44\", element=\"322f4116-fc18-4329-ba84-13893ea1f352\")>,\n",
       " <selenium.webdriver.remote.webelement.WebElement (session=\"5522e0367e935f3e286983eb1c99ef44\", element=\"aa4e14a8-bc58-4260-a2f4-b4fc01a90587\")>,\n",
       " <selenium.webdriver.remote.webelement.WebElement (session=\"5522e0367e935f3e286983eb1c99ef44\", element=\"56b9afae-e441-4d1e-994d-d2d68ac2ea9d\")>,\n",
       " <selenium.webdriver.remote.webelement.WebElement (session=\"5522e0367e935f3e286983eb1c99ef44\", element=\"354e7fd3-aa8f-4098-8301-7a8e20a69d2e\")>,\n",
       " <selenium.webdriver.remote.webelement.WebElement (session=\"5522e0367e935f3e286983eb1c99ef44\", element=\"100bc5c4-feb6-4bb3-a2e5-c36058f6eb67\")>,\n",
       " <selenium.webdriver.remote.webelement.WebElement (session=\"5522e0367e935f3e286983eb1c99ef44\", element=\"4a879197-8f92-491e-80ea-074dfa6df9ed\")>,\n",
       " <selenium.webdriver.remote.webelement.WebElement (session=\"5522e0367e935f3e286983eb1c99ef44\", element=\"6b8243fe-6391-4646-9174-52a98db08b72\")>,\n",
       " <selenium.webdriver.remote.webelement.WebElement (session=\"5522e0367e935f3e286983eb1c99ef44\", element=\"1ec93f92-de01-4e39-9289-10133e43281c\")>,\n",
       " <selenium.webdriver.remote.webelement.WebElement (session=\"5522e0367e935f3e286983eb1c99ef44\", element=\"5957f39b-6e79-4e3f-a1eb-3d5834623b07\")>,\n",
       " <selenium.webdriver.remote.webelement.WebElement (session=\"5522e0367e935f3e286983eb1c99ef44\", element=\"bd9f9ce9-5564-48af-8478-daac017bd86c\")>,\n",
       " <selenium.webdriver.remote.webelement.WebElement (session=\"5522e0367e935f3e286983eb1c99ef44\", element=\"2662046a-409b-4142-aff4-951b7274845e\")>,\n",
       " <selenium.webdriver.remote.webelement.WebElement (session=\"5522e0367e935f3e286983eb1c99ef44\", element=\"77dd75c6-455a-4f33-91f4-bdaf6850f239\")>,\n",
       " <selenium.webdriver.remote.webelement.WebElement (session=\"5522e0367e935f3e286983eb1c99ef44\", element=\"8ebd6da1-5499-4a40-9613-9e6414d1a6f5\")>,\n",
       " <selenium.webdriver.remote.webelement.WebElement (session=\"5522e0367e935f3e286983eb1c99ef44\", element=\"1bf1a750-7af6-4931-baac-8749dc93fa1b\")>,\n",
       " <selenium.webdriver.remote.webelement.WebElement (session=\"5522e0367e935f3e286983eb1c99ef44\", element=\"debf83a1-a70a-4c92-9c29-8aee7aaf2579\")>,\n",
       " <selenium.webdriver.remote.webelement.WebElement (session=\"5522e0367e935f3e286983eb1c99ef44\", element=\"a520e358-65c8-4d06-bf0f-8c3870a4be9f\")>,\n",
       " <selenium.webdriver.remote.webelement.WebElement (session=\"5522e0367e935f3e286983eb1c99ef44\", element=\"d8798b92-605e-48f3-a5a6-eb7601f00005\")>,\n",
       " <selenium.webdriver.remote.webelement.WebElement (session=\"5522e0367e935f3e286983eb1c99ef44\", element=\"a29294ff-bc43-4c98-a26e-4c9e61676ae2\")>,\n",
       " <selenium.webdriver.remote.webelement.WebElement (session=\"5522e0367e935f3e286983eb1c99ef44\", element=\"8c10b5ab-5766-4e39-8bf2-2109e1d31c54\")>,\n",
       " <selenium.webdriver.remote.webelement.WebElement (session=\"5522e0367e935f3e286983eb1c99ef44\", element=\"59d4afeb-a8f2-4658-bde1-931418ff5ee8\")>,\n",
       " <selenium.webdriver.remote.webelement.WebElement (session=\"5522e0367e935f3e286983eb1c99ef44\", element=\"a7e6057c-08b4-4015-9546-e923075ef80a\")>,\n",
       " <selenium.webdriver.remote.webelement.WebElement (session=\"5522e0367e935f3e286983eb1c99ef44\", element=\"57bdf58c-f905-4a85-adce-9e335ee68e64\")>,\n",
       " <selenium.webdriver.remote.webelement.WebElement (session=\"5522e0367e935f3e286983eb1c99ef44\", element=\"bf5e5dd1-8a8f-4421-8658-211c59ed95c7\")>]"
      ]
     },
     "execution_count": 103,
     "metadata": {},
     "output_type": "execute_result"
    }
   ],
   "source": [
    "#lets extract all html tags having discounts\n",
    "discount_tags=driver.find_elements_by_xpath(\"//div[@class='_3Ay6Sb']\")\n",
    "discount_tags"
   ]
  },
  {
   "cell_type": "code",
   "execution_count": 104,
   "metadata": {},
   "outputs": [
    {
     "data": {
      "text/plain": [
       "['87% off',\n",
       " '81% off',\n",
       " '21% off',\n",
       " '77% off',\n",
       " '15% off',\n",
       " '80% off',\n",
       " '78% off',\n",
       " '79% off',\n",
       " '18% off',\n",
       " '22% off',\n",
       " '79% off',\n",
       " '82% off',\n",
       " '83% off',\n",
       " '65% off',\n",
       " '79% off',\n",
       " '80% off',\n",
       " '71% off',\n",
       " '72% off',\n",
       " '85% off',\n",
       " '83% off',\n",
       " '6% off',\n",
       " '73% off',\n",
       " '16% off',\n",
       " '55% off',\n",
       " '25% off',\n",
       " '13% off',\n",
       " '80% off',\n",
       " '15% off',\n",
       " '74% off',\n",
       " '77% off',\n",
       " '77% off',\n",
       " '66% off',\n",
       " '77% off',\n",
       " '78% off',\n",
       " '86% off',\n",
       " '77% off',\n",
       " '83% off',\n",
       " '86% off',\n",
       " '68% off',\n",
       " '66% off']"
      ]
     },
     "execution_count": 104,
     "metadata": {},
     "output_type": "execute_result"
    }
   ],
   "source": [
    "# Now we have all the tags having the product discounts\n",
    "# Now we will extract the text from these tags one by one by looping over these tags\n",
    "\n",
    "discount=[]\n",
    "for i in discount_tags:\n",
    "    discount.append(i.text)\n",
    "discount    "
   ]
  },
  {
   "cell_type": "code",
   "execution_count": 105,
   "metadata": {},
   "outputs": [],
   "source": [
    "#Click on the next button\n",
    "next_button=driver.find_element_by_xpath(\"//a[@class='_1LKTO3']\")\n",
    "next_button.click()"
   ]
  },
  {
   "cell_type": "code",
   "execution_count": 106,
   "metadata": {},
   "outputs": [
    {
     "data": {
      "text/plain": [
       "[<selenium.webdriver.remote.webelement.WebElement (session=\"5522e0367e935f3e286983eb1c99ef44\", element=\"34315b84-ef84-49b4-8a43-c43c614375a4\")>,\n",
       " <selenium.webdriver.remote.webelement.WebElement (session=\"5522e0367e935f3e286983eb1c99ef44\", element=\"93a2f7c5-ee53-4d7e-b67d-177501923a55\")>,\n",
       " <selenium.webdriver.remote.webelement.WebElement (session=\"5522e0367e935f3e286983eb1c99ef44\", element=\"9c37af20-44e7-4530-9933-02b1f0054417\")>,\n",
       " <selenium.webdriver.remote.webelement.WebElement (session=\"5522e0367e935f3e286983eb1c99ef44\", element=\"3cbd0806-0bf6-4237-9e6b-a3f595670b4d\")>,\n",
       " <selenium.webdriver.remote.webelement.WebElement (session=\"5522e0367e935f3e286983eb1c99ef44\", element=\"40853b98-4a33-449b-99a5-d856fe67ab6f\")>,\n",
       " <selenium.webdriver.remote.webelement.WebElement (session=\"5522e0367e935f3e286983eb1c99ef44\", element=\"70d7a649-abb6-47de-8bdd-3c5ce5ac8543\")>,\n",
       " <selenium.webdriver.remote.webelement.WebElement (session=\"5522e0367e935f3e286983eb1c99ef44\", element=\"87dfca71-9333-43d2-8b11-537c68cbdbe7\")>,\n",
       " <selenium.webdriver.remote.webelement.WebElement (session=\"5522e0367e935f3e286983eb1c99ef44\", element=\"c7bac32f-3fbb-464c-8df6-c9cca510a5e2\")>,\n",
       " <selenium.webdriver.remote.webelement.WebElement (session=\"5522e0367e935f3e286983eb1c99ef44\", element=\"eaddaf6e-79ea-4bbd-95b2-30f39ac84240\")>,\n",
       " <selenium.webdriver.remote.webelement.WebElement (session=\"5522e0367e935f3e286983eb1c99ef44\", element=\"92fa5e4d-e870-4d93-9382-b3ad2abe0a89\")>,\n",
       " <selenium.webdriver.remote.webelement.WebElement (session=\"5522e0367e935f3e286983eb1c99ef44\", element=\"246b62a4-0b33-4cbb-ba2b-a13fed8c4a9f\")>,\n",
       " <selenium.webdriver.remote.webelement.WebElement (session=\"5522e0367e935f3e286983eb1c99ef44\", element=\"877d462f-7550-434a-a7a5-0a16ae72c246\")>,\n",
       " <selenium.webdriver.remote.webelement.WebElement (session=\"5522e0367e935f3e286983eb1c99ef44\", element=\"683f8320-826a-4457-ba00-059641126bb7\")>,\n",
       " <selenium.webdriver.remote.webelement.WebElement (session=\"5522e0367e935f3e286983eb1c99ef44\", element=\"ed46b4be-5b32-4ff6-93cd-dc9358e6abaa\")>,\n",
       " <selenium.webdriver.remote.webelement.WebElement (session=\"5522e0367e935f3e286983eb1c99ef44\", element=\"edacc5ae-4b98-4d4c-abc1-97b12eba3ecd\")>,\n",
       " <selenium.webdriver.remote.webelement.WebElement (session=\"5522e0367e935f3e286983eb1c99ef44\", element=\"0c57cbf7-3bfe-4994-9b4a-0d2cb494a4b7\")>,\n",
       " <selenium.webdriver.remote.webelement.WebElement (session=\"5522e0367e935f3e286983eb1c99ef44\", element=\"955f765b-c161-42aa-ade2-d6809f640d6b\")>,\n",
       " <selenium.webdriver.remote.webelement.WebElement (session=\"5522e0367e935f3e286983eb1c99ef44\", element=\"40168710-09e7-4749-b6bb-1f4df6398553\")>,\n",
       " <selenium.webdriver.remote.webelement.WebElement (session=\"5522e0367e935f3e286983eb1c99ef44\", element=\"e47f4fe9-e0cc-4308-88a4-82dce3119443\")>,\n",
       " <selenium.webdriver.remote.webelement.WebElement (session=\"5522e0367e935f3e286983eb1c99ef44\", element=\"5b92dbbc-e127-4423-af7f-c672386c89e7\")>,\n",
       " <selenium.webdriver.remote.webelement.WebElement (session=\"5522e0367e935f3e286983eb1c99ef44\", element=\"99a50f6a-de20-4589-8778-ae0b1e32129c\")>,\n",
       " <selenium.webdriver.remote.webelement.WebElement (session=\"5522e0367e935f3e286983eb1c99ef44\", element=\"e58488ab-deb2-4af3-b69b-8d77b502ff2c\")>,\n",
       " <selenium.webdriver.remote.webelement.WebElement (session=\"5522e0367e935f3e286983eb1c99ef44\", element=\"8897d7f2-65d4-45a4-80e8-b90c88beb758\")>,\n",
       " <selenium.webdriver.remote.webelement.WebElement (session=\"5522e0367e935f3e286983eb1c99ef44\", element=\"eea0eba1-523b-49ef-9b4c-0fd2577e230c\")>,\n",
       " <selenium.webdriver.remote.webelement.WebElement (session=\"5522e0367e935f3e286983eb1c99ef44\", element=\"54414f9d-c022-4f28-9955-2f4faaf15706\")>,\n",
       " <selenium.webdriver.remote.webelement.WebElement (session=\"5522e0367e935f3e286983eb1c99ef44\", element=\"32e23969-bf68-4bfd-b41b-23211625bd03\")>,\n",
       " <selenium.webdriver.remote.webelement.WebElement (session=\"5522e0367e935f3e286983eb1c99ef44\", element=\"436080a1-15e6-4ee0-a110-2182c4b8811d\")>,\n",
       " <selenium.webdriver.remote.webelement.WebElement (session=\"5522e0367e935f3e286983eb1c99ef44\", element=\"693ff6d0-ad83-42d1-b6e8-90bf1f99c4bd\")>,\n",
       " <selenium.webdriver.remote.webelement.WebElement (session=\"5522e0367e935f3e286983eb1c99ef44\", element=\"6cfe1948-131d-4a81-8d00-9082ddd11ed0\")>,\n",
       " <selenium.webdriver.remote.webelement.WebElement (session=\"5522e0367e935f3e286983eb1c99ef44\", element=\"dafedb5e-988e-43ff-a491-5dd0f062b964\")>,\n",
       " <selenium.webdriver.remote.webelement.WebElement (session=\"5522e0367e935f3e286983eb1c99ef44\", element=\"e6b618cd-7dff-4ee1-a4d0-b344d92f2496\")>,\n",
       " <selenium.webdriver.remote.webelement.WebElement (session=\"5522e0367e935f3e286983eb1c99ef44\", element=\"bfb9a4ec-4063-47b9-9a2c-f56ba20776d5\")>,\n",
       " <selenium.webdriver.remote.webelement.WebElement (session=\"5522e0367e935f3e286983eb1c99ef44\", element=\"3174139a-2190-46b3-8d0c-484d5016c9a2\")>,\n",
       " <selenium.webdriver.remote.webelement.WebElement (session=\"5522e0367e935f3e286983eb1c99ef44\", element=\"af9e0727-2490-44f1-8c98-ba817f7d0751\")>,\n",
       " <selenium.webdriver.remote.webelement.WebElement (session=\"5522e0367e935f3e286983eb1c99ef44\", element=\"ad0086ac-0d87-4b94-85d7-ef31f38ee658\")>,\n",
       " <selenium.webdriver.remote.webelement.WebElement (session=\"5522e0367e935f3e286983eb1c99ef44\", element=\"dd76228f-9ac6-4165-a598-3b7fefbed314\")>,\n",
       " <selenium.webdriver.remote.webelement.WebElement (session=\"5522e0367e935f3e286983eb1c99ef44\", element=\"111c427c-cf6d-4c13-b291-8f890aa20d56\")>,\n",
       " <selenium.webdriver.remote.webelement.WebElement (session=\"5522e0367e935f3e286983eb1c99ef44\", element=\"ed30c8ca-f130-464e-a1d3-fe8bd438b96d\")>,\n",
       " <selenium.webdriver.remote.webelement.WebElement (session=\"5522e0367e935f3e286983eb1c99ef44\", element=\"ef4b3f74-a4e6-42d7-af44-8e4883b9a515\")>,\n",
       " <selenium.webdriver.remote.webelement.WebElement (session=\"5522e0367e935f3e286983eb1c99ef44\", element=\"209c4ec3-d5cd-42ad-a52c-464728bbfe82\")>]"
      ]
     },
     "execution_count": 106,
     "metadata": {},
     "output_type": "execute_result"
    }
   ],
   "source": [
    "#lets extract all html tags having the brands of sunglasses\n",
    "brand_tags=driver.find_elements_by_xpath(\"//div[@class='_2WkVRV']\")\n",
    "brand_tags"
   ]
  },
  {
   "cell_type": "code",
   "execution_count": 107,
   "metadata": {},
   "outputs": [
    {
     "data": {
      "text/plain": [
       "['PHENOMENAL',\n",
       " 'Silver Kartz',\n",
       " 'ROYAL SON',\n",
       " 'NuVew',\n",
       " 'Fastrack',\n",
       " 'Villain',\n",
       " 'ROZZETTA CRAFT',\n",
       " 'GANSTA',\n",
       " 'hipe',\n",
       " 'NuVew',\n",
       " 'DEIXELS',\n",
       " 'ROYAL SON',\n",
       " 'AISLIN',\n",
       " 'AISLIN',\n",
       " 'PHENOMENAL',\n",
       " 'Flizz',\n",
       " 'ROYAL SON',\n",
       " 'Fastrack',\n",
       " 'Fastrack',\n",
       " 'NuVew',\n",
       " 'Fastrack',\n",
       " 'Fastrack',\n",
       " 'Fastrack',\n",
       " 'NuVew',\n",
       " 'ROYAL SON',\n",
       " 'hipe',\n",
       " 'hipe',\n",
       " 'GANSTA',\n",
       " 'hipe',\n",
       " 'NuVew',\n",
       " 'PHENOMENAL',\n",
       " 'ROYAL SON',\n",
       " 'PHENOMENAL',\n",
       " 'NuVew',\n",
       " 'GANSTA',\n",
       " 'GANSTA',\n",
       " 'Fastrack',\n",
       " 'DEIXELS',\n",
       " 'hipe',\n",
       " 'FDA COLLECTION']"
      ]
     },
     "execution_count": 107,
     "metadata": {},
     "output_type": "execute_result"
    }
   ],
   "source": [
    "# Now we have all the tags having brands of the products\n",
    "# Now we will extract the text from these tags one by one by looping over these tags\n",
    "\n",
    "brand1=[]\n",
    "for i in brand_tags:\n",
    "    brand1.append(i.text)\n",
    "brand1    "
   ]
  },
  {
   "cell_type": "code",
   "execution_count": 108,
   "metadata": {},
   "outputs": [
    {
     "data": {
      "text/plain": [
       "[<selenium.webdriver.remote.webelement.WebElement (session=\"5522e0367e935f3e286983eb1c99ef44\", element=\"b215e2d1-11dd-40bf-8612-f9aeab841a59\")>,\n",
       " <selenium.webdriver.remote.webelement.WebElement (session=\"5522e0367e935f3e286983eb1c99ef44\", element=\"d71d6285-8d1b-41b9-8030-60f504aa7e50\")>,\n",
       " <selenium.webdriver.remote.webelement.WebElement (session=\"5522e0367e935f3e286983eb1c99ef44\", element=\"f22e6226-0b87-42de-a64f-4d6b574c8d42\")>,\n",
       " <selenium.webdriver.remote.webelement.WebElement (session=\"5522e0367e935f3e286983eb1c99ef44\", element=\"49e325b5-1cd1-45f1-b750-229ae311e1af\")>,\n",
       " <selenium.webdriver.remote.webelement.WebElement (session=\"5522e0367e935f3e286983eb1c99ef44\", element=\"2861497e-6780-4c58-b6d6-b8f4c57f06d4\")>,\n",
       " <selenium.webdriver.remote.webelement.WebElement (session=\"5522e0367e935f3e286983eb1c99ef44\", element=\"2e66c9aa-e189-4a60-8be2-ff9b7d519907\")>,\n",
       " <selenium.webdriver.remote.webelement.WebElement (session=\"5522e0367e935f3e286983eb1c99ef44\", element=\"d03de428-a7b2-46c1-9149-1985b79c65be\")>,\n",
       " <selenium.webdriver.remote.webelement.WebElement (session=\"5522e0367e935f3e286983eb1c99ef44\", element=\"7252b7d6-e298-468c-9639-33e57ad6d383\")>,\n",
       " <selenium.webdriver.remote.webelement.WebElement (session=\"5522e0367e935f3e286983eb1c99ef44\", element=\"9d9a5081-2462-4d42-86d4-9b9ec3c9aa25\")>,\n",
       " <selenium.webdriver.remote.webelement.WebElement (session=\"5522e0367e935f3e286983eb1c99ef44\", element=\"99f1e78c-dbd6-488b-99b3-628373dfe2eb\")>,\n",
       " <selenium.webdriver.remote.webelement.WebElement (session=\"5522e0367e935f3e286983eb1c99ef44\", element=\"2efefdc9-b91c-4c2d-9a45-bef95297e889\")>,\n",
       " <selenium.webdriver.remote.webelement.WebElement (session=\"5522e0367e935f3e286983eb1c99ef44\", element=\"3d633e54-e28b-4023-8138-58f59c1bd34e\")>,\n",
       " <selenium.webdriver.remote.webelement.WebElement (session=\"5522e0367e935f3e286983eb1c99ef44\", element=\"333f084b-f5e8-4466-97f4-98202dd7496f\")>,\n",
       " <selenium.webdriver.remote.webelement.WebElement (session=\"5522e0367e935f3e286983eb1c99ef44\", element=\"9b2f6ae7-b4e0-48e6-8d17-5b872a05d075\")>,\n",
       " <selenium.webdriver.remote.webelement.WebElement (session=\"5522e0367e935f3e286983eb1c99ef44\", element=\"8d6b8b94-cbdc-4732-860c-e3613033b876\")>,\n",
       " <selenium.webdriver.remote.webelement.WebElement (session=\"5522e0367e935f3e286983eb1c99ef44\", element=\"52fee7e7-9a83-463b-8c8e-9156c4980bf3\")>,\n",
       " <selenium.webdriver.remote.webelement.WebElement (session=\"5522e0367e935f3e286983eb1c99ef44\", element=\"ec47c4af-4a18-40f9-a870-cccff8c4f721\")>,\n",
       " <selenium.webdriver.remote.webelement.WebElement (session=\"5522e0367e935f3e286983eb1c99ef44\", element=\"dde3a68b-2b43-43d8-8490-be688bec80c1\")>,\n",
       " <selenium.webdriver.remote.webelement.WebElement (session=\"5522e0367e935f3e286983eb1c99ef44\", element=\"ea7fa2a4-6351-4e11-9c85-a9cbe865a910\")>,\n",
       " <selenium.webdriver.remote.webelement.WebElement (session=\"5522e0367e935f3e286983eb1c99ef44\", element=\"af8c35f4-d377-44e3-89d5-fb96e7346583\")>,\n",
       " <selenium.webdriver.remote.webelement.WebElement (session=\"5522e0367e935f3e286983eb1c99ef44\", element=\"7852acb7-db87-4b4e-bd69-0fbbe9bf0cd0\")>,\n",
       " <selenium.webdriver.remote.webelement.WebElement (session=\"5522e0367e935f3e286983eb1c99ef44\", element=\"1aaffb3a-472b-491d-a980-b358e152a277\")>,\n",
       " <selenium.webdriver.remote.webelement.WebElement (session=\"5522e0367e935f3e286983eb1c99ef44\", element=\"23f7bde3-1588-47e8-9f83-c8d10717767c\")>,\n",
       " <selenium.webdriver.remote.webelement.WebElement (session=\"5522e0367e935f3e286983eb1c99ef44\", element=\"fe2444fb-25a9-491b-b93f-2f8799d230b2\")>,\n",
       " <selenium.webdriver.remote.webelement.WebElement (session=\"5522e0367e935f3e286983eb1c99ef44\", element=\"0628f766-be2b-4eb7-8fe9-118752ffc182\")>,\n",
       " <selenium.webdriver.remote.webelement.WebElement (session=\"5522e0367e935f3e286983eb1c99ef44\", element=\"f6d65991-faba-48c6-b450-cb137b48232f\")>,\n",
       " <selenium.webdriver.remote.webelement.WebElement (session=\"5522e0367e935f3e286983eb1c99ef44\", element=\"f896bd1e-83ee-40e6-8732-8ccd9b987278\")>,\n",
       " <selenium.webdriver.remote.webelement.WebElement (session=\"5522e0367e935f3e286983eb1c99ef44\", element=\"cdfbdca7-0ce5-4ae9-9e2f-acbf4e951fe6\")>,\n",
       " <selenium.webdriver.remote.webelement.WebElement (session=\"5522e0367e935f3e286983eb1c99ef44\", element=\"77b61cd6-c426-48fe-8799-d83fbcdeb8ba\")>,\n",
       " <selenium.webdriver.remote.webelement.WebElement (session=\"5522e0367e935f3e286983eb1c99ef44\", element=\"5b487a8b-4e83-4130-a990-abc831925d82\")>,\n",
       " <selenium.webdriver.remote.webelement.WebElement (session=\"5522e0367e935f3e286983eb1c99ef44\", element=\"3bccce35-6805-4dc2-95ab-e52c3545b374\")>,\n",
       " <selenium.webdriver.remote.webelement.WebElement (session=\"5522e0367e935f3e286983eb1c99ef44\", element=\"b3da55d9-b02d-4fcb-b591-f76f799fb546\")>,\n",
       " <selenium.webdriver.remote.webelement.WebElement (session=\"5522e0367e935f3e286983eb1c99ef44\", element=\"f09babdc-b35a-441e-81ce-bc85125969fb\")>,\n",
       " <selenium.webdriver.remote.webelement.WebElement (session=\"5522e0367e935f3e286983eb1c99ef44\", element=\"ac2f749f-e88e-4b13-9b50-1b924373c8d9\")>,\n",
       " <selenium.webdriver.remote.webelement.WebElement (session=\"5522e0367e935f3e286983eb1c99ef44\", element=\"3aab1234-36db-412c-b8d1-fb0f74d8a89d\")>,\n",
       " <selenium.webdriver.remote.webelement.WebElement (session=\"5522e0367e935f3e286983eb1c99ef44\", element=\"14329963-2ca6-4dc7-8bf1-e65b334ed53e\")>,\n",
       " <selenium.webdriver.remote.webelement.WebElement (session=\"5522e0367e935f3e286983eb1c99ef44\", element=\"ac0b6050-2438-41a4-9121-050c8518ecc2\")>,\n",
       " <selenium.webdriver.remote.webelement.WebElement (session=\"5522e0367e935f3e286983eb1c99ef44\", element=\"cc2ea07b-f364-4d89-8ec5-61c4624209e0\")>,\n",
       " <selenium.webdriver.remote.webelement.WebElement (session=\"5522e0367e935f3e286983eb1c99ef44\", element=\"007d6c64-5a62-4040-ada7-d42d34742e36\")>,\n",
       " <selenium.webdriver.remote.webelement.WebElement (session=\"5522e0367e935f3e286983eb1c99ef44\", element=\"ed19fee1-dbaf-43c9-bf5c-090cafe52086\")>]"
      ]
     },
     "execution_count": 108,
     "metadata": {},
     "output_type": "execute_result"
    }
   ],
   "source": [
    "#lets extract all html tags having the product description\n",
    "description_tags=driver.find_elements_by_xpath(\"//div[@class='_2B099V']//a[1]\")\n",
    "description_tags"
   ]
  },
  {
   "cell_type": "code",
   "execution_count": 109,
   "metadata": {},
   "outputs": [
    {
     "data": {
      "text/plain": [
       "['UV Protection, Mirrored Clubmaster Sunglasses (Free Siz...',\n",
       " 'UV Protection Oval Sunglasses (56)',\n",
       " 'UV Protection Rectangular Sunglasses (58)',\n",
       " 'UV Protection, Gradient, Night Vision, Mirrored Aviator...',\n",
       " 'Gradient, UV Protection Wayfarer Sunglasses (Free Size)',\n",
       " 'Others Retro Square Sunglasses (Free Size)',\n",
       " 'UV Protection, Gradient Rectangular Sunglasses (Free Si...',\n",
       " 'UV Protection Aviator Sunglasses (57)',\n",
       " 'Mirrored, UV Protection, Gradient Round Sunglasses (55)',\n",
       " 'UV Protection, Mirrored Aviator, Wayfarer Sunglasses (5...',\n",
       " 'UV Protection Wayfarer Sunglasses (Free Size)',\n",
       " 'Polarized, UV Protection Aviator Sunglasses (58)',\n",
       " 'UV Protection, Gradient Oval Sunglasses (58)',\n",
       " 'UV Protection, Gradient Wayfarer Sunglasses (57)',\n",
       " 'UV Protection Retro Square Sunglasses (Free Size)',\n",
       " 'UV Protection Retro Square Sunglasses (Free Size)',\n",
       " 'UV Protection, Gradient Wayfarer Sunglasses (55)',\n",
       " 'UV Protection Aviator Sunglasses (58)',\n",
       " 'UV Protection Shield Sunglasses (Free Size)',\n",
       " 'UV Protection, Night Vision Retro Square, Wayfarer Sung...',\n",
       " 'UV Protection Wayfarer Sunglasses (Free Size)',\n",
       " 'UV Protection Wayfarer Sunglasses (57)',\n",
       " 'UV Protection Wayfarer Sunglasses (Free Size)',\n",
       " 'UV Protection, Mirrored, Night Vision, Riding Glasses S...',\n",
       " 'UV Protection Wayfarer Sunglasses (55)',\n",
       " 'Mirrored Wayfarer Sunglasses (55)',\n",
       " 'UV Protection, Mirrored Aviator Sunglasses (Free Size)',\n",
       " 'UV Protection, Gradient Wayfarer Sunglasses (53)',\n",
       " 'UV Protection Sports Sunglasses (Free Size)',\n",
       " 'UV Protection Round, Shield Sunglasses (50)',\n",
       " 'UV Protection, Mirrored Retro Square Sunglasses (53)',\n",
       " 'Polarized Sports Sunglasses (68)',\n",
       " 'UV Protection Clubmaster Sunglasses (Free Size)',\n",
       " 'UV Protection, Riding Glasses Wayfarer Sunglasses (56)',\n",
       " 'Night Vision, Riding Glasses Wayfarer Sunglasses (53)',\n",
       " 'UV Protection, Mirrored, Gradient Wayfarer Sunglasses (...',\n",
       " 'Mirrored, UV Protection Wayfarer Sunglasses (Free Size)',\n",
       " 'Polarized, UV Protection, Riding Glasses Wayfarer Sungl...',\n",
       " 'UV Protection, Night Vision, Gradient, Mirrored Round, ...',\n",
       " 'Gradient, Mirrored, UV Protection, Polarized Round, Rou...']"
      ]
     },
     "execution_count": 109,
     "metadata": {},
     "output_type": "execute_result"
    }
   ],
   "source": [
    "# Now we have all the tags the product description\n",
    "# Now we will extract the text from these tags one by one by looping over these tags\n",
    "\n",
    "description1=[]\n",
    "for i in description_tags:\n",
    "    description1.append(i.text)\n",
    "description1    "
   ]
  },
  {
   "cell_type": "code",
   "execution_count": 111,
   "metadata": {},
   "outputs": [
    {
     "data": {
      "text/plain": [
       "[<selenium.webdriver.remote.webelement.WebElement (session=\"5522e0367e935f3e286983eb1c99ef44\", element=\"08de98c9-f64e-48b4-9bb3-87ba3e48bb4d\")>,\n",
       " <selenium.webdriver.remote.webelement.WebElement (session=\"5522e0367e935f3e286983eb1c99ef44\", element=\"0a98f013-dab0-4f58-9099-8cdca0fbdb57\")>,\n",
       " <selenium.webdriver.remote.webelement.WebElement (session=\"5522e0367e935f3e286983eb1c99ef44\", element=\"d6821dc3-18a5-4288-b360-0ed65d1ad96d\")>,\n",
       " <selenium.webdriver.remote.webelement.WebElement (session=\"5522e0367e935f3e286983eb1c99ef44\", element=\"5586a0b0-59da-4c75-9df5-d311d82bc892\")>,\n",
       " <selenium.webdriver.remote.webelement.WebElement (session=\"5522e0367e935f3e286983eb1c99ef44\", element=\"733bf8c3-a70b-48c4-ac7b-dcab2a598eab\")>,\n",
       " <selenium.webdriver.remote.webelement.WebElement (session=\"5522e0367e935f3e286983eb1c99ef44\", element=\"12e3743e-d92b-4299-b431-43ef708dd59f\")>,\n",
       " <selenium.webdriver.remote.webelement.WebElement (session=\"5522e0367e935f3e286983eb1c99ef44\", element=\"4cf8bc27-e492-439f-a1c0-f66e3154758a\")>,\n",
       " <selenium.webdriver.remote.webelement.WebElement (session=\"5522e0367e935f3e286983eb1c99ef44\", element=\"a9943253-d263-4864-ac6b-351b64ca6c22\")>,\n",
       " <selenium.webdriver.remote.webelement.WebElement (session=\"5522e0367e935f3e286983eb1c99ef44\", element=\"bc259b18-578c-40b2-931b-ba6b75f64cc3\")>,\n",
       " <selenium.webdriver.remote.webelement.WebElement (session=\"5522e0367e935f3e286983eb1c99ef44\", element=\"bc3f5095-d9c5-4df3-84a5-9a6bbb60c2b1\")>,\n",
       " <selenium.webdriver.remote.webelement.WebElement (session=\"5522e0367e935f3e286983eb1c99ef44\", element=\"f3e79456-c672-4382-bf6b-5d04e01a773e\")>,\n",
       " <selenium.webdriver.remote.webelement.WebElement (session=\"5522e0367e935f3e286983eb1c99ef44\", element=\"a9b811aa-8e4c-4e99-8a60-7d2fdcc03a03\")>,\n",
       " <selenium.webdriver.remote.webelement.WebElement (session=\"5522e0367e935f3e286983eb1c99ef44\", element=\"dd912215-6539-4c10-bb78-877c55fbef6b\")>,\n",
       " <selenium.webdriver.remote.webelement.WebElement (session=\"5522e0367e935f3e286983eb1c99ef44\", element=\"899c260f-5c89-4e55-9436-06bc82bdf930\")>,\n",
       " <selenium.webdriver.remote.webelement.WebElement (session=\"5522e0367e935f3e286983eb1c99ef44\", element=\"64d2e913-8539-4fcf-983a-0a0ce0471d72\")>,\n",
       " <selenium.webdriver.remote.webelement.WebElement (session=\"5522e0367e935f3e286983eb1c99ef44\", element=\"206faf88-75e4-4dfe-a1dc-2d31e53f696e\")>,\n",
       " <selenium.webdriver.remote.webelement.WebElement (session=\"5522e0367e935f3e286983eb1c99ef44\", element=\"9484b80a-0b22-4a40-8b2b-d4974e3c2c59\")>,\n",
       " <selenium.webdriver.remote.webelement.WebElement (session=\"5522e0367e935f3e286983eb1c99ef44\", element=\"4f921a9d-b23e-42d0-859a-61e629de6424\")>,\n",
       " <selenium.webdriver.remote.webelement.WebElement (session=\"5522e0367e935f3e286983eb1c99ef44\", element=\"2dc45abd-d7f3-43ec-970f-86039cf4763e\")>,\n",
       " <selenium.webdriver.remote.webelement.WebElement (session=\"5522e0367e935f3e286983eb1c99ef44\", element=\"6b47b0fe-5a63-4b7b-85a4-fb909a126171\")>,\n",
       " <selenium.webdriver.remote.webelement.WebElement (session=\"5522e0367e935f3e286983eb1c99ef44\", element=\"622342e5-e4a6-4525-9c92-fd4f69423bde\")>,\n",
       " <selenium.webdriver.remote.webelement.WebElement (session=\"5522e0367e935f3e286983eb1c99ef44\", element=\"f0572289-c057-4951-b4c4-85b0194e3c5a\")>,\n",
       " <selenium.webdriver.remote.webelement.WebElement (session=\"5522e0367e935f3e286983eb1c99ef44\", element=\"3ff792b9-0f45-4b6e-824b-c7a6d5123f86\")>,\n",
       " <selenium.webdriver.remote.webelement.WebElement (session=\"5522e0367e935f3e286983eb1c99ef44\", element=\"fda4a669-d73d-4e98-a57e-04684b3cba19\")>,\n",
       " <selenium.webdriver.remote.webelement.WebElement (session=\"5522e0367e935f3e286983eb1c99ef44\", element=\"2c5184e1-916f-43ed-8fce-6edb8ae4b596\")>,\n",
       " <selenium.webdriver.remote.webelement.WebElement (session=\"5522e0367e935f3e286983eb1c99ef44\", element=\"27f9a772-bea8-4d6f-a136-1de0550d8b94\")>,\n",
       " <selenium.webdriver.remote.webelement.WebElement (session=\"5522e0367e935f3e286983eb1c99ef44\", element=\"3586b8bf-11ee-43cd-8cb3-5f6a361b928d\")>,\n",
       " <selenium.webdriver.remote.webelement.WebElement (session=\"5522e0367e935f3e286983eb1c99ef44\", element=\"212d2b78-e25c-47ca-8954-ba62c53e603e\")>,\n",
       " <selenium.webdriver.remote.webelement.WebElement (session=\"5522e0367e935f3e286983eb1c99ef44\", element=\"2ff2996b-cf5f-46e2-a478-34149e5e19cf\")>,\n",
       " <selenium.webdriver.remote.webelement.WebElement (session=\"5522e0367e935f3e286983eb1c99ef44\", element=\"b6c7c9ad-7261-4c2d-a048-01e03512c5ad\")>,\n",
       " <selenium.webdriver.remote.webelement.WebElement (session=\"5522e0367e935f3e286983eb1c99ef44\", element=\"f49d6a11-6f21-4701-bcfe-8f8118d4842c\")>,\n",
       " <selenium.webdriver.remote.webelement.WebElement (session=\"5522e0367e935f3e286983eb1c99ef44\", element=\"52451eb8-fb62-4dd4-9b97-9377c600de26\")>,\n",
       " <selenium.webdriver.remote.webelement.WebElement (session=\"5522e0367e935f3e286983eb1c99ef44\", element=\"65a0b3d4-cd30-4390-8b77-011d19565187\")>,\n",
       " <selenium.webdriver.remote.webelement.WebElement (session=\"5522e0367e935f3e286983eb1c99ef44\", element=\"c921f8bd-a372-4258-af0c-181f2af2f882\")>,\n",
       " <selenium.webdriver.remote.webelement.WebElement (session=\"5522e0367e935f3e286983eb1c99ef44\", element=\"822dbba3-f446-4151-9476-d23089a23b5f\")>,\n",
       " <selenium.webdriver.remote.webelement.WebElement (session=\"5522e0367e935f3e286983eb1c99ef44\", element=\"c9338cfd-f8e6-4661-b7da-b51dd6688038\")>,\n",
       " <selenium.webdriver.remote.webelement.WebElement (session=\"5522e0367e935f3e286983eb1c99ef44\", element=\"3a114987-39c2-41f6-b034-3451f5838c3c\")>,\n",
       " <selenium.webdriver.remote.webelement.WebElement (session=\"5522e0367e935f3e286983eb1c99ef44\", element=\"c452b978-62d2-406f-ae57-74f9159cf949\")>,\n",
       " <selenium.webdriver.remote.webelement.WebElement (session=\"5522e0367e935f3e286983eb1c99ef44\", element=\"e426d119-cb31-4fb0-adc3-6ccaca6fc50f\")>,\n",
       " <selenium.webdriver.remote.webelement.WebElement (session=\"5522e0367e935f3e286983eb1c99ef44\", element=\"45e956b0-d266-4eb1-9058-f3d7a506bb4d\")>]"
      ]
     },
     "execution_count": 111,
     "metadata": {},
     "output_type": "execute_result"
    }
   ],
   "source": [
    "#Lets extract all html tags having the price of the product\n",
    "price_tags=driver.find_elements_by_xpath(\"//div[@class='_30jeq3']\")\n",
    "price_tags"
   ]
  },
  {
   "cell_type": "code",
   "execution_count": 112,
   "metadata": {},
   "outputs": [
    {
     "data": {
      "text/plain": [
       "['₹319',\n",
       " '₹284',\n",
       " '₹474',\n",
       " '₹365',\n",
       " '₹638',\n",
       " '₹599',\n",
       " '₹499',\n",
       " '₹359',\n",
       " '₹210',\n",
       " '₹349',\n",
       " '₹211',\n",
       " '₹711',\n",
       " '₹470',\n",
       " '₹525',\n",
       " '₹399',\n",
       " '₹399',\n",
       " '₹217',\n",
       " '₹1,115',\n",
       " '₹759',\n",
       " '₹272',\n",
       " '₹576',\n",
       " '₹559',\n",
       " '₹758',\n",
       " '₹391',\n",
       " '₹265',\n",
       " '₹219',\n",
       " '₹199',\n",
       " '₹349',\n",
       " '₹319',\n",
       " '₹235',\n",
       " '₹399',\n",
       " '₹1,234',\n",
       " '₹319',\n",
       " '₹377',\n",
       " '₹207',\n",
       " '₹281',\n",
       " '₹777',\n",
       " '₹249',\n",
       " '₹210',\n",
       " '₹189']"
      ]
     },
     "execution_count": 112,
     "metadata": {},
     "output_type": "execute_result"
    }
   ],
   "source": [
    "# Now we have all the tags having the product price\n",
    "# Now we will extract the text from these tags one by one by looping over these tags\n",
    "\n",
    "price1=[]\n",
    "for i in price_tags:\n",
    "    price1.append(i.text)\n",
    "price1    "
   ]
  },
  {
   "cell_type": "code",
   "execution_count": 113,
   "metadata": {},
   "outputs": [
    {
     "data": {
      "text/plain": [
       "[<selenium.webdriver.remote.webelement.WebElement (session=\"5522e0367e935f3e286983eb1c99ef44\", element=\"9042dde4-0a92-45bb-a4b8-acaa62eee058\")>,\n",
       " <selenium.webdriver.remote.webelement.WebElement (session=\"5522e0367e935f3e286983eb1c99ef44\", element=\"bd89054b-6a04-4fd3-a166-7425b4604879\")>,\n",
       " <selenium.webdriver.remote.webelement.WebElement (session=\"5522e0367e935f3e286983eb1c99ef44\", element=\"8abae14b-ae87-4971-89a6-fa3efc1c3951\")>,\n",
       " <selenium.webdriver.remote.webelement.WebElement (session=\"5522e0367e935f3e286983eb1c99ef44\", element=\"aa5aa316-c68a-4ac2-93ce-57c9060b5265\")>,\n",
       " <selenium.webdriver.remote.webelement.WebElement (session=\"5522e0367e935f3e286983eb1c99ef44\", element=\"560fa1f7-2398-480d-be72-c8ef6ddd2e67\")>,\n",
       " <selenium.webdriver.remote.webelement.WebElement (session=\"5522e0367e935f3e286983eb1c99ef44\", element=\"2d782ef0-76bb-4f31-8996-1700dc99b8ff\")>,\n",
       " <selenium.webdriver.remote.webelement.WebElement (session=\"5522e0367e935f3e286983eb1c99ef44\", element=\"6688fc2f-87bb-43c3-8dbe-b400e8faa4a5\")>,\n",
       " <selenium.webdriver.remote.webelement.WebElement (session=\"5522e0367e935f3e286983eb1c99ef44\", element=\"d46c464d-0fc9-4278-a594-b15a16bef003\")>,\n",
       " <selenium.webdriver.remote.webelement.WebElement (session=\"5522e0367e935f3e286983eb1c99ef44\", element=\"59075207-16fb-40c7-a1e4-38d1f22ff090\")>,\n",
       " <selenium.webdriver.remote.webelement.WebElement (session=\"5522e0367e935f3e286983eb1c99ef44\", element=\"63cc2791-f2e6-4c7d-8daf-df0fdc68d463\")>,\n",
       " <selenium.webdriver.remote.webelement.WebElement (session=\"5522e0367e935f3e286983eb1c99ef44\", element=\"ef3ca208-c074-4bd0-a46e-0226bcfe37ef\")>,\n",
       " <selenium.webdriver.remote.webelement.WebElement (session=\"5522e0367e935f3e286983eb1c99ef44\", element=\"6a4d1b57-610f-49d8-91be-ab6b069805ec\")>,\n",
       " <selenium.webdriver.remote.webelement.WebElement (session=\"5522e0367e935f3e286983eb1c99ef44\", element=\"0c5dd0a0-19f1-4e80-bf43-ca3631c5f609\")>,\n",
       " <selenium.webdriver.remote.webelement.WebElement (session=\"5522e0367e935f3e286983eb1c99ef44\", element=\"ecf3659e-afa0-4cb2-a970-71978088d663\")>,\n",
       " <selenium.webdriver.remote.webelement.WebElement (session=\"5522e0367e935f3e286983eb1c99ef44\", element=\"3c8470a0-8403-4bc4-bc01-f9aebaecebee\")>,\n",
       " <selenium.webdriver.remote.webelement.WebElement (session=\"5522e0367e935f3e286983eb1c99ef44\", element=\"36ff4cfb-9b69-4300-85d2-505c1264c123\")>,\n",
       " <selenium.webdriver.remote.webelement.WebElement (session=\"5522e0367e935f3e286983eb1c99ef44\", element=\"7fecdc10-0f51-4317-ae0e-36c63a2410af\")>,\n",
       " <selenium.webdriver.remote.webelement.WebElement (session=\"5522e0367e935f3e286983eb1c99ef44\", element=\"348e26c1-6b69-4760-9a32-838c7ce75426\")>,\n",
       " <selenium.webdriver.remote.webelement.WebElement (session=\"5522e0367e935f3e286983eb1c99ef44\", element=\"6c06b5e7-c7d3-438b-bdad-e9c52bb47c02\")>,\n",
       " <selenium.webdriver.remote.webelement.WebElement (session=\"5522e0367e935f3e286983eb1c99ef44\", element=\"a470361b-d7ab-4ce5-ba9e-bf2666d2eef1\")>,\n",
       " <selenium.webdriver.remote.webelement.WebElement (session=\"5522e0367e935f3e286983eb1c99ef44\", element=\"65f9f868-75e6-4b5f-b7b1-4bb8f1cef639\")>,\n",
       " <selenium.webdriver.remote.webelement.WebElement (session=\"5522e0367e935f3e286983eb1c99ef44\", element=\"b15e98d4-a932-4686-b8f4-63b1ce879737\")>,\n",
       " <selenium.webdriver.remote.webelement.WebElement (session=\"5522e0367e935f3e286983eb1c99ef44\", element=\"698c8756-006b-4988-954f-e1f5442b0c1e\")>,\n",
       " <selenium.webdriver.remote.webelement.WebElement (session=\"5522e0367e935f3e286983eb1c99ef44\", element=\"5778f108-2909-4def-9655-9f3239006308\")>,\n",
       " <selenium.webdriver.remote.webelement.WebElement (session=\"5522e0367e935f3e286983eb1c99ef44\", element=\"42643aea-87c1-49e9-82e2-55c17f249034\")>,\n",
       " <selenium.webdriver.remote.webelement.WebElement (session=\"5522e0367e935f3e286983eb1c99ef44\", element=\"03f51f40-e64d-4c99-9ba9-ce4c5bda0df8\")>,\n",
       " <selenium.webdriver.remote.webelement.WebElement (session=\"5522e0367e935f3e286983eb1c99ef44\", element=\"2af18e31-efc3-44d6-954d-5fa07575ef55\")>,\n",
       " <selenium.webdriver.remote.webelement.WebElement (session=\"5522e0367e935f3e286983eb1c99ef44\", element=\"85bf30f6-87f7-4193-b40f-6cab30138e90\")>,\n",
       " <selenium.webdriver.remote.webelement.WebElement (session=\"5522e0367e935f3e286983eb1c99ef44\", element=\"0700541f-0eb8-45f2-852c-cda8b501764e\")>,\n",
       " <selenium.webdriver.remote.webelement.WebElement (session=\"5522e0367e935f3e286983eb1c99ef44\", element=\"ebea37e4-7131-4fc7-8e81-7e58c8c3686f\")>,\n",
       " <selenium.webdriver.remote.webelement.WebElement (session=\"5522e0367e935f3e286983eb1c99ef44\", element=\"e2115216-4a3d-484f-b789-3676c2176392\")>,\n",
       " <selenium.webdriver.remote.webelement.WebElement (session=\"5522e0367e935f3e286983eb1c99ef44\", element=\"4b6913b6-d0eb-488e-b354-86e698ee7876\")>,\n",
       " <selenium.webdriver.remote.webelement.WebElement (session=\"5522e0367e935f3e286983eb1c99ef44\", element=\"f026790c-e3f4-49fe-8c19-1d22df662e7e\")>,\n",
       " <selenium.webdriver.remote.webelement.WebElement (session=\"5522e0367e935f3e286983eb1c99ef44\", element=\"1b028fc1-0c00-4624-961f-653472329f81\")>,\n",
       " <selenium.webdriver.remote.webelement.WebElement (session=\"5522e0367e935f3e286983eb1c99ef44\", element=\"2d564322-0267-4ece-89bf-eb6f048e9119\")>,\n",
       " <selenium.webdriver.remote.webelement.WebElement (session=\"5522e0367e935f3e286983eb1c99ef44\", element=\"da402980-73e7-46d9-8221-9d392b13a9d8\")>,\n",
       " <selenium.webdriver.remote.webelement.WebElement (session=\"5522e0367e935f3e286983eb1c99ef44\", element=\"a2f9bde7-0dc8-4cef-a7c5-4854f9ca8da8\")>,\n",
       " <selenium.webdriver.remote.webelement.WebElement (session=\"5522e0367e935f3e286983eb1c99ef44\", element=\"1557be8c-1167-4db4-98a9-2fa6b30a8a43\")>,\n",
       " <selenium.webdriver.remote.webelement.WebElement (session=\"5522e0367e935f3e286983eb1c99ef44\", element=\"7e254602-0852-4b4c-8c17-adf2f2b6e78a\")>,\n",
       " <selenium.webdriver.remote.webelement.WebElement (session=\"5522e0367e935f3e286983eb1c99ef44\", element=\"b57119c9-f617-4a09-bc46-84c8abcf42a6\")>]"
      ]
     },
     "execution_count": 113,
     "metadata": {},
     "output_type": "execute_result"
    }
   ],
   "source": [
    "#lets extract all html tags having the product discount \n",
    "discount_tags=driver.find_elements_by_xpath(\"//div[@class='_3Ay6Sb']\")\n",
    "discount_tags"
   ]
  },
  {
   "cell_type": "code",
   "execution_count": 114,
   "metadata": {},
   "outputs": [
    {
     "data": {
      "text/plain": [
       "['84% off',\n",
       " '76% off',\n",
       " '68% off',\n",
       " '70% off',\n",
       " '20% off',\n",
       " '20% off',\n",
       " '77% off',\n",
       " '82% off',\n",
       " '85% off',\n",
       " '70% off',\n",
       " '57% off',\n",
       " '64% off',\n",
       " '69% off',\n",
       " '80% off',\n",
       " '80% off',\n",
       " '81% off',\n",
       " '78% off',\n",
       " '14% off',\n",
       " '15% off',\n",
       " '74% off',\n",
       " '27% off',\n",
       " '30% off',\n",
       " '15% off',\n",
       " '68% off',\n",
       " '79% off',\n",
       " '78% off',\n",
       " '80% off',\n",
       " '82% off',\n",
       " '83% off',\n",
       " '77% off',\n",
       " '80% off',\n",
       " '50% off',\n",
       " '84% off',\n",
       " '75% off',\n",
       " '88% off',\n",
       " '85% off',\n",
       " '22% off',\n",
       " '58% off',\n",
       " '78% off',\n",
       " '81% off']"
      ]
     },
     "execution_count": 114,
     "metadata": {},
     "output_type": "execute_result"
    }
   ],
   "source": [
    "# Now we have all the tags having the product discounts\n",
    "# Now we will extract the text from these tags one by one by looping over these tags\n",
    "\n",
    "discount1=[]\n",
    "for i in discount_tags:\n",
    "    discount1.append(i.text)\n",
    "discount1    "
   ]
  },
  {
   "cell_type": "code",
   "execution_count": 115,
   "metadata": {},
   "outputs": [],
   "source": [
    "#by clicking next button move on to next page\n",
    "next_btn=driver.find_element_by_xpath(\"//nav[@class='yFHi8N']//a[12]\")\n",
    "next_btn.click()"
   ]
  },
  {
   "cell_type": "code",
   "execution_count": 116,
   "metadata": {},
   "outputs": [
    {
     "data": {
      "text/plain": [
       "[<selenium.webdriver.remote.webelement.WebElement (session=\"5522e0367e935f3e286983eb1c99ef44\", element=\"eaafd1db-fd98-4973-819c-cdf26ea6ecdd\")>,\n",
       " <selenium.webdriver.remote.webelement.WebElement (session=\"5522e0367e935f3e286983eb1c99ef44\", element=\"0409ffc8-8109-4d8e-88c6-e0e2234f9930\")>,\n",
       " <selenium.webdriver.remote.webelement.WebElement (session=\"5522e0367e935f3e286983eb1c99ef44\", element=\"25f920b7-b971-4b36-bcfe-9633d583f7ad\")>,\n",
       " <selenium.webdriver.remote.webelement.WebElement (session=\"5522e0367e935f3e286983eb1c99ef44\", element=\"ac871816-2f07-4f66-bfd5-cba09773c25b\")>,\n",
       " <selenium.webdriver.remote.webelement.WebElement (session=\"5522e0367e935f3e286983eb1c99ef44\", element=\"3979b60b-c05e-4ca5-8488-89511d4a872f\")>,\n",
       " <selenium.webdriver.remote.webelement.WebElement (session=\"5522e0367e935f3e286983eb1c99ef44\", element=\"e95900f5-c91d-43c6-871a-31b986817dcd\")>,\n",
       " <selenium.webdriver.remote.webelement.WebElement (session=\"5522e0367e935f3e286983eb1c99ef44\", element=\"34f7b1fc-9a3b-4c41-a7b5-d02e93314d06\")>,\n",
       " <selenium.webdriver.remote.webelement.WebElement (session=\"5522e0367e935f3e286983eb1c99ef44\", element=\"3442e121-9840-4eac-9e08-8c425f84eb42\")>,\n",
       " <selenium.webdriver.remote.webelement.WebElement (session=\"5522e0367e935f3e286983eb1c99ef44\", element=\"2ed72fbc-7a58-44f8-b46b-424ada3817af\")>,\n",
       " <selenium.webdriver.remote.webelement.WebElement (session=\"5522e0367e935f3e286983eb1c99ef44\", element=\"c163c242-7a7e-4430-8c35-39f5279d0b64\")>,\n",
       " <selenium.webdriver.remote.webelement.WebElement (session=\"5522e0367e935f3e286983eb1c99ef44\", element=\"8a98d7c1-db9b-45d1-9b37-ef7ac275b725\")>,\n",
       " <selenium.webdriver.remote.webelement.WebElement (session=\"5522e0367e935f3e286983eb1c99ef44\", element=\"9154ebf3-e123-4a26-89e5-423f60e1d202\")>,\n",
       " <selenium.webdriver.remote.webelement.WebElement (session=\"5522e0367e935f3e286983eb1c99ef44\", element=\"e81abc8a-599b-4564-9180-7025d3db6285\")>,\n",
       " <selenium.webdriver.remote.webelement.WebElement (session=\"5522e0367e935f3e286983eb1c99ef44\", element=\"abdbdfac-bc25-40bf-b5b6-0f4f9fd8bada\")>,\n",
       " <selenium.webdriver.remote.webelement.WebElement (session=\"5522e0367e935f3e286983eb1c99ef44\", element=\"c3707ea5-f5d3-4296-8cfd-9de81e725910\")>,\n",
       " <selenium.webdriver.remote.webelement.WebElement (session=\"5522e0367e935f3e286983eb1c99ef44\", element=\"5151ac35-e6d3-4718-9009-59f295044e3f\")>,\n",
       " <selenium.webdriver.remote.webelement.WebElement (session=\"5522e0367e935f3e286983eb1c99ef44\", element=\"8c18413c-0a90-4dac-8e31-a496521e0a2d\")>,\n",
       " <selenium.webdriver.remote.webelement.WebElement (session=\"5522e0367e935f3e286983eb1c99ef44\", element=\"6731c9b4-a8f3-49b5-87d4-4c23de92973b\")>,\n",
       " <selenium.webdriver.remote.webelement.WebElement (session=\"5522e0367e935f3e286983eb1c99ef44\", element=\"a05c813c-2c6c-4033-a3b2-c5caf36485aa\")>,\n",
       " <selenium.webdriver.remote.webelement.WebElement (session=\"5522e0367e935f3e286983eb1c99ef44\", element=\"ef9fa3fc-7bf0-487c-85c4-bfda28bfcc10\")>]"
      ]
     },
     "execution_count": 116,
     "metadata": {},
     "output_type": "execute_result"
    }
   ],
   "source": [
    "#Lets extract all html tags having the brand of sunglass\n",
    "brand_tags=driver.find_elements_by_xpath(\"//div[@class='_2WkVRV']\")[:20]\n",
    "brand_tags"
   ]
  },
  {
   "cell_type": "code",
   "execution_count": 117,
   "metadata": {},
   "outputs": [
    {
     "data": {
      "text/plain": [
       "['ROYAL SON',\n",
       " 'hipe',\n",
       " 'ROZZETTA CRAFT',\n",
       " 'ROYAL SON',\n",
       " 'GANSTA',\n",
       " 'ROZZETTA CRAFT',\n",
       " 'Fastrack',\n",
       " 'ROZZETTA CRAFT',\n",
       " 'Crackers',\n",
       " 'SO SHADES OF STYLE',\n",
       " 'Singco India',\n",
       " 'Badfella',\n",
       " 'PHENOMENAL',\n",
       " 'ROYAL SON',\n",
       " 'GANSTA',\n",
       " 'elegante',\n",
       " 'Singco India',\n",
       " 'Fastrack',\n",
       " 'Fastrack',\n",
       " 'ROYAL SON']"
      ]
     },
     "execution_count": 117,
     "metadata": {},
     "output_type": "execute_result"
    }
   ],
   "source": [
    "# Now we have all the tags having brands of the products\n",
    "# Now we will extract the text from these tags one by one by looping over these tags\n",
    "\n",
    "brand2=[]\n",
    "for i in brand_tags:\n",
    "    brand2.append(i.text)\n",
    "brand2    "
   ]
  },
  {
   "cell_type": "code",
   "execution_count": 118,
   "metadata": {},
   "outputs": [
    {
     "data": {
      "text/plain": [
       "[<selenium.webdriver.remote.webelement.WebElement (session=\"5522e0367e935f3e286983eb1c99ef44\", element=\"c39b7506-859f-4297-af6c-42c81b175aef\")>,\n",
       " <selenium.webdriver.remote.webelement.WebElement (session=\"5522e0367e935f3e286983eb1c99ef44\", element=\"ff4cc483-ba65-4762-82c8-fbff61afd441\")>,\n",
       " <selenium.webdriver.remote.webelement.WebElement (session=\"5522e0367e935f3e286983eb1c99ef44\", element=\"d7e5cdd5-7cc2-455e-af3e-a59a2e3a4a8d\")>,\n",
       " <selenium.webdriver.remote.webelement.WebElement (session=\"5522e0367e935f3e286983eb1c99ef44\", element=\"bf048989-be60-40a1-9d02-dc8c6f72ddfd\")>,\n",
       " <selenium.webdriver.remote.webelement.WebElement (session=\"5522e0367e935f3e286983eb1c99ef44\", element=\"8cf57165-3596-4212-b169-e9f826b17c5d\")>,\n",
       " <selenium.webdriver.remote.webelement.WebElement (session=\"5522e0367e935f3e286983eb1c99ef44\", element=\"4635b60b-57b2-4e8c-b90f-080a24969d6d\")>,\n",
       " <selenium.webdriver.remote.webelement.WebElement (session=\"5522e0367e935f3e286983eb1c99ef44\", element=\"f496ba1c-449b-4ead-a618-8f61e8c99ac1\")>,\n",
       " <selenium.webdriver.remote.webelement.WebElement (session=\"5522e0367e935f3e286983eb1c99ef44\", element=\"14cd1eab-0c54-4e8a-8bc3-d7f9e4fe9f56\")>,\n",
       " <selenium.webdriver.remote.webelement.WebElement (session=\"5522e0367e935f3e286983eb1c99ef44\", element=\"04d1984c-5de7-4487-9842-4bf5d5cff4d8\")>,\n",
       " <selenium.webdriver.remote.webelement.WebElement (session=\"5522e0367e935f3e286983eb1c99ef44\", element=\"0b94ae0f-636c-4f14-a580-428fde05c8a3\")>,\n",
       " <selenium.webdriver.remote.webelement.WebElement (session=\"5522e0367e935f3e286983eb1c99ef44\", element=\"f5d9f2e9-28e6-4407-9999-1230e9db71bc\")>,\n",
       " <selenium.webdriver.remote.webelement.WebElement (session=\"5522e0367e935f3e286983eb1c99ef44\", element=\"89fd6177-8824-4a9b-baad-8f5b19d5a6f4\")>,\n",
       " <selenium.webdriver.remote.webelement.WebElement (session=\"5522e0367e935f3e286983eb1c99ef44\", element=\"400781f2-9d29-47cf-b354-fe84012630fc\")>,\n",
       " <selenium.webdriver.remote.webelement.WebElement (session=\"5522e0367e935f3e286983eb1c99ef44\", element=\"ad63826f-3016-416c-86fc-474291c8a87e\")>,\n",
       " <selenium.webdriver.remote.webelement.WebElement (session=\"5522e0367e935f3e286983eb1c99ef44\", element=\"02a1f287-1866-40f7-b9a5-a1e10395f929\")>,\n",
       " <selenium.webdriver.remote.webelement.WebElement (session=\"5522e0367e935f3e286983eb1c99ef44\", element=\"9d0abc20-2056-4ea6-8597-b375d5c552e3\")>,\n",
       " <selenium.webdriver.remote.webelement.WebElement (session=\"5522e0367e935f3e286983eb1c99ef44\", element=\"e6ef1694-0c90-4fd2-8197-facf7b234787\")>,\n",
       " <selenium.webdriver.remote.webelement.WebElement (session=\"5522e0367e935f3e286983eb1c99ef44\", element=\"1bfcb96b-9e53-4d62-b528-4b3c43dae4f8\")>,\n",
       " <selenium.webdriver.remote.webelement.WebElement (session=\"5522e0367e935f3e286983eb1c99ef44\", element=\"f7d8a551-cde8-47b4-b11c-4f6d1ab2cd15\")>,\n",
       " <selenium.webdriver.remote.webelement.WebElement (session=\"5522e0367e935f3e286983eb1c99ef44\", element=\"63c06a03-bd02-4cb6-840a-ce5758ccd7c5\")>]"
      ]
     },
     "execution_count": 118,
     "metadata": {},
     "output_type": "execute_result"
    }
   ],
   "source": [
    "#Lets extract all html tags having product description\n",
    "desc_tags=driver.find_elements_by_xpath(\"//div[@class='_2B099V']//a[1]\")[:20]\n",
    "desc_tags"
   ]
  },
  {
   "cell_type": "code",
   "execution_count": 119,
   "metadata": {},
   "outputs": [
    {
     "data": {
      "text/plain": [
       "['UV Protection Aviator Sunglasses (Free Size)',\n",
       " 'Gradient, UV Protection Round Sunglasses (Free Size)',\n",
       " 'UV Protection, Gradient Rectangular Sunglasses (Free Si...',\n",
       " 'Polarized Wrap-around Sunglasses (66)',\n",
       " 'UV Protection, Night Vision, Riding Glasses Aviator Sun...',\n",
       " 'Mirrored, UV Protection Round Sunglasses (Free Size)',\n",
       " 'UV Protection Rectangular Sunglasses (59)',\n",
       " 'Polarized, UV Protection Aviator Sunglasses (Free Size)',\n",
       " 'UV Protection Aviator Sunglasses (55)',\n",
       " 'UV Protection Retro Square Sunglasses (60)',\n",
       " 'UV Protection Round Sunglasses (Free Size)',\n",
       " 'Polarized, UV Protection Retro Square Sunglasses (53)',\n",
       " 'UV Protection, Mirrored, Gradient Retro Square Sunglass...',\n",
       " 'UV Protection, Polarized Wrap-around Sunglasses (52)',\n",
       " 'UV Protection, Mirrored Wayfarer Sunglasses (53)',\n",
       " 'UV Protection Round Sunglasses (Free Size)',\n",
       " 'UV Protection, Riding Glasses, Others Aviator, Wayfarer...',\n",
       " 'UV Protection Shield Sunglasses (Free Size)',\n",
       " 'UV Protection Aviator Sunglasses (58)',\n",
       " 'UV Protection Wrap-around Sunglasses (52)']"
      ]
     },
     "execution_count": 119,
     "metadata": {},
     "output_type": "execute_result"
    }
   ],
   "source": [
    "# Now we have all the tags having the product description\n",
    "# Now we will extract the text from these tags one by one by looping over these tags\n",
    "\n",
    "description2=[]\n",
    "for i in desc_tags:\n",
    "    description2.append(i.text)\n",
    "description2    "
   ]
  },
  {
   "cell_type": "code",
   "execution_count": 120,
   "metadata": {},
   "outputs": [
    {
     "data": {
      "text/plain": [
       "[<selenium.webdriver.remote.webelement.WebElement (session=\"5522e0367e935f3e286983eb1c99ef44\", element=\"af73d72f-62a8-4ee9-8077-d9c68f6b6f87\")>,\n",
       " <selenium.webdriver.remote.webelement.WebElement (session=\"5522e0367e935f3e286983eb1c99ef44\", element=\"8b39cadb-23d0-4fea-b5a6-4715fda2e5f4\")>,\n",
       " <selenium.webdriver.remote.webelement.WebElement (session=\"5522e0367e935f3e286983eb1c99ef44\", element=\"f400c5a9-8097-4c19-9b57-78c3fe0de1fa\")>,\n",
       " <selenium.webdriver.remote.webelement.WebElement (session=\"5522e0367e935f3e286983eb1c99ef44\", element=\"9f79c4b5-d1cc-401c-9dac-cc80b410b7ed\")>,\n",
       " <selenium.webdriver.remote.webelement.WebElement (session=\"5522e0367e935f3e286983eb1c99ef44\", element=\"68d323fa-650f-47ad-8314-3199b3877964\")>,\n",
       " <selenium.webdriver.remote.webelement.WebElement (session=\"5522e0367e935f3e286983eb1c99ef44\", element=\"4079932a-4a5e-48bc-8dea-5b0b8feeafea\")>,\n",
       " <selenium.webdriver.remote.webelement.WebElement (session=\"5522e0367e935f3e286983eb1c99ef44\", element=\"da79964c-d1f1-446f-9d18-a72300decf01\")>,\n",
       " <selenium.webdriver.remote.webelement.WebElement (session=\"5522e0367e935f3e286983eb1c99ef44\", element=\"26608603-3bf3-4903-b7a0-b201c07062f5\")>,\n",
       " <selenium.webdriver.remote.webelement.WebElement (session=\"5522e0367e935f3e286983eb1c99ef44\", element=\"502fc270-b2cd-4ba4-aee7-2d116b867ef9\")>,\n",
       " <selenium.webdriver.remote.webelement.WebElement (session=\"5522e0367e935f3e286983eb1c99ef44\", element=\"f63c465f-ce0d-4aa3-ad1c-31db31acac20\")>,\n",
       " <selenium.webdriver.remote.webelement.WebElement (session=\"5522e0367e935f3e286983eb1c99ef44\", element=\"9d0f2d0e-d6ef-4b27-9565-573bb51f3d6c\")>,\n",
       " <selenium.webdriver.remote.webelement.WebElement (session=\"5522e0367e935f3e286983eb1c99ef44\", element=\"e1b95f63-b230-49af-8e85-636b4ae10156\")>,\n",
       " <selenium.webdriver.remote.webelement.WebElement (session=\"5522e0367e935f3e286983eb1c99ef44\", element=\"91c84b79-95ae-4190-bb6d-a91a94dce572\")>,\n",
       " <selenium.webdriver.remote.webelement.WebElement (session=\"5522e0367e935f3e286983eb1c99ef44\", element=\"a748c8d2-6ffe-436d-a819-fa64b9e0873d\")>,\n",
       " <selenium.webdriver.remote.webelement.WebElement (session=\"5522e0367e935f3e286983eb1c99ef44\", element=\"3a967840-ccd7-45d3-996e-8c548b957797\")>,\n",
       " <selenium.webdriver.remote.webelement.WebElement (session=\"5522e0367e935f3e286983eb1c99ef44\", element=\"26e0e1af-513e-4e7f-8134-155709a057ad\")>,\n",
       " <selenium.webdriver.remote.webelement.WebElement (session=\"5522e0367e935f3e286983eb1c99ef44\", element=\"4eee611f-7ca5-4e3f-b4aa-4f77db402ca7\")>,\n",
       " <selenium.webdriver.remote.webelement.WebElement (session=\"5522e0367e935f3e286983eb1c99ef44\", element=\"d7ef725c-a7a7-4ad0-a9bd-86f3025042f6\")>,\n",
       " <selenium.webdriver.remote.webelement.WebElement (session=\"5522e0367e935f3e286983eb1c99ef44\", element=\"fb245f49-d853-45a8-8738-865ebfeb0f7a\")>,\n",
       " <selenium.webdriver.remote.webelement.WebElement (session=\"5522e0367e935f3e286983eb1c99ef44\", element=\"90a9dae0-2d70-464e-9cdc-3815ef9dcde7\")>]"
      ]
     },
     "execution_count": 120,
     "metadata": {},
     "output_type": "execute_result"
    }
   ],
   "source": [
    "#lets extract all html tags having the product price\n",
    "price_tags=driver.find_elements_by_xpath(\"//div[@class='_30jeq3']\")[:20]\n",
    "price_tags"
   ]
  },
  {
   "cell_type": "code",
   "execution_count": 121,
   "metadata": {},
   "outputs": [
    {
     "data": {
      "text/plain": [
       "['₹499',\n",
       " '₹219',\n",
       " '₹449',\n",
       " '₹699',\n",
       " '₹292',\n",
       " '₹399',\n",
       " '₹1,097',\n",
       " '₹449',\n",
       " '₹189',\n",
       " '₹345',\n",
       " '₹205',\n",
       " '₹269',\n",
       " '₹207',\n",
       " '₹899',\n",
       " '₹199',\n",
       " '₹199',\n",
       " '₹209',\n",
       " '₹792',\n",
       " '₹1,148',\n",
       " '₹899']"
      ]
     },
     "execution_count": 121,
     "metadata": {},
     "output_type": "execute_result"
    }
   ],
   "source": [
    "# Now we have all the tags having  the product price\n",
    "# Now we will extract the text from these tags one by one by looping over these tags\n",
    "\n",
    "price2=[]\n",
    "for i in price_tags:\n",
    "    price2.append(i.text)\n",
    "price2    "
   ]
  },
  {
   "cell_type": "code",
   "execution_count": 122,
   "metadata": {},
   "outputs": [
    {
     "data": {
      "text/plain": [
       "[<selenium.webdriver.remote.webelement.WebElement (session=\"5522e0367e935f3e286983eb1c99ef44\", element=\"dfd04141-1a5b-44c0-a771-f64dd16bbfd6\")>,\n",
       " <selenium.webdriver.remote.webelement.WebElement (session=\"5522e0367e935f3e286983eb1c99ef44\", element=\"e224e099-3051-4a02-aade-551c150b1b59\")>,\n",
       " <selenium.webdriver.remote.webelement.WebElement (session=\"5522e0367e935f3e286983eb1c99ef44\", element=\"67a166c3-ec8b-42b7-bb94-4c9964f9915d\")>,\n",
       " <selenium.webdriver.remote.webelement.WebElement (session=\"5522e0367e935f3e286983eb1c99ef44\", element=\"96ae4957-b4a9-45b8-b379-d4bc94c98c83\")>,\n",
       " <selenium.webdriver.remote.webelement.WebElement (session=\"5522e0367e935f3e286983eb1c99ef44\", element=\"2c2375c3-e600-4c5d-91a7-5bc394179ac5\")>,\n",
       " <selenium.webdriver.remote.webelement.WebElement (session=\"5522e0367e935f3e286983eb1c99ef44\", element=\"f5e1f3c3-bb3b-47ef-816e-4d2605102b13\")>,\n",
       " <selenium.webdriver.remote.webelement.WebElement (session=\"5522e0367e935f3e286983eb1c99ef44\", element=\"a431c145-6d73-4dae-a165-f01c243d2d87\")>,\n",
       " <selenium.webdriver.remote.webelement.WebElement (session=\"5522e0367e935f3e286983eb1c99ef44\", element=\"f5e30e3b-9737-4a76-826c-c0f80f153b6a\")>,\n",
       " <selenium.webdriver.remote.webelement.WebElement (session=\"5522e0367e935f3e286983eb1c99ef44\", element=\"2e8a034e-d378-47b7-a5ea-f4db448c001a\")>,\n",
       " <selenium.webdriver.remote.webelement.WebElement (session=\"5522e0367e935f3e286983eb1c99ef44\", element=\"633ac53f-650e-4fe1-af6a-ebc0569f2d71\")>,\n",
       " <selenium.webdriver.remote.webelement.WebElement (session=\"5522e0367e935f3e286983eb1c99ef44\", element=\"7fb7e6ff-c48c-4c08-9960-43c67bc99306\")>,\n",
       " <selenium.webdriver.remote.webelement.WebElement (session=\"5522e0367e935f3e286983eb1c99ef44\", element=\"4d3dcdb2-a434-4f6b-ae1e-b38966ad632f\")>,\n",
       " <selenium.webdriver.remote.webelement.WebElement (session=\"5522e0367e935f3e286983eb1c99ef44\", element=\"351f19ae-93c3-4042-8d7f-b05a54f83175\")>,\n",
       " <selenium.webdriver.remote.webelement.WebElement (session=\"5522e0367e935f3e286983eb1c99ef44\", element=\"98bdd81b-0a81-42da-96f1-2fd25d316cbe\")>,\n",
       " <selenium.webdriver.remote.webelement.WebElement (session=\"5522e0367e935f3e286983eb1c99ef44\", element=\"f47a400a-0f64-489c-9066-97b63e6096ab\")>,\n",
       " <selenium.webdriver.remote.webelement.WebElement (session=\"5522e0367e935f3e286983eb1c99ef44\", element=\"48f53bff-9ee4-469b-a6ad-6cfa18e377f6\")>,\n",
       " <selenium.webdriver.remote.webelement.WebElement (session=\"5522e0367e935f3e286983eb1c99ef44\", element=\"440da756-896e-4fe1-b7c1-d3516692a0bd\")>,\n",
       " <selenium.webdriver.remote.webelement.WebElement (session=\"5522e0367e935f3e286983eb1c99ef44\", element=\"986806dc-0398-4494-8cf0-075c0c6c21ba\")>,\n",
       " <selenium.webdriver.remote.webelement.WebElement (session=\"5522e0367e935f3e286983eb1c99ef44\", element=\"d8536cc2-1308-4544-b348-f2788381b940\")>,\n",
       " <selenium.webdriver.remote.webelement.WebElement (session=\"5522e0367e935f3e286983eb1c99ef44\", element=\"2d5b426f-de52-4b53-ac8d-109992c20a9a\")>]"
      ]
     },
     "execution_count": 122,
     "metadata": {},
     "output_type": "execute_result"
    }
   ],
   "source": [
    "#lets extract all html tags having product discount\n",
    "discount_tags=driver.find_elements_by_xpath(\"//div[@class='_3Ay6Sb']\")[:20]\n",
    "discount_tags"
   ]
  },
  {
   "cell_type": "code",
   "execution_count": 123,
   "metadata": {},
   "outputs": [
    {
     "data": {
      "text/plain": [
       "['61% off',\n",
       " '83% off',\n",
       " '77% off',\n",
       " '65% off',\n",
       " '85% off',\n",
       " '72% off',\n",
       " '15% off',\n",
       " '77% off',\n",
       " '81% off',\n",
       " '83% off',\n",
       " '79% off',\n",
       " '73% off',\n",
       " '89% off',\n",
       " '55% off',\n",
       " '80% off',\n",
       " '80% off',\n",
       " '70% off',\n",
       " '11% off',\n",
       " '11% off',\n",
       " '55% off']"
      ]
     },
     "execution_count": 123,
     "metadata": {},
     "output_type": "execute_result"
    }
   ],
   "source": [
    "# Now we have all the tags having the product discounts\n",
    "# Now we will extract the text from these tags one by one by looping over these tags\n",
    "\n",
    "discount2=[]\n",
    "for i in discount_tags:\n",
    "    discount2.append(i.text)\n",
    "discount2    "
   ]
  },
  {
   "cell_type": "code",
   "execution_count": 124,
   "metadata": {},
   "outputs": [
    {
     "data": {
      "text/plain": [
       "['FDA COLLECTION',\n",
       " 'FDA COLLECTION',\n",
       " 'Fastrack',\n",
       " 'ROZZETTA CRAFT',\n",
       " 'Fastrack',\n",
       " 'PHENOMENAL',\n",
       " 'PIRASO',\n",
       " 'ROZZETTA CRAFT',\n",
       " 'Fastrack',\n",
       " 'Fastrack',\n",
       " 'HIPPON',\n",
       " 'DEIXELS',\n",
       " 'Silver Kartz',\n",
       " 'ROYAL SON',\n",
       " 'ROZZETTA CRAFT',\n",
       " 'PHENOMENAL',\n",
       " 'Singco India',\n",
       " 'NuVew',\n",
       " 'GANSTA',\n",
       " 'SO SHADES OF STYLE',\n",
       " 'Fastrack',\n",
       " 'DEIXELS',\n",
       " 'Fastrack',\n",
       " 'ROYAL SON',\n",
       " 'Fastrack',\n",
       " 'Fastrack',\n",
       " 'PHENOMENAL',\n",
       " 'Fastrack',\n",
       " 'ROYAL SON',\n",
       " 'NuVew',\n",
       " 'ROZZETTA CRAFT',\n",
       " 'elegante',\n",
       " 'ROZZETTA CRAFT',\n",
       " 'AISLIN',\n",
       " 'hipe',\n",
       " 'ROZZETTA CRAFT',\n",
       " 'Singco India',\n",
       " 'GANSTA',\n",
       " 'ROYAL SON',\n",
       " 'ROYAL SON',\n",
       " 'PHENOMENAL',\n",
       " 'Silver Kartz',\n",
       " 'ROYAL SON',\n",
       " 'NuVew',\n",
       " 'Fastrack',\n",
       " 'Villain',\n",
       " 'ROZZETTA CRAFT',\n",
       " 'GANSTA',\n",
       " 'hipe',\n",
       " 'NuVew',\n",
       " 'DEIXELS',\n",
       " 'ROYAL SON',\n",
       " 'AISLIN',\n",
       " 'AISLIN',\n",
       " 'PHENOMENAL',\n",
       " 'Flizz',\n",
       " 'ROYAL SON',\n",
       " 'Fastrack',\n",
       " 'Fastrack',\n",
       " 'NuVew',\n",
       " 'Fastrack',\n",
       " 'Fastrack',\n",
       " 'Fastrack',\n",
       " 'NuVew',\n",
       " 'ROYAL SON',\n",
       " 'hipe',\n",
       " 'hipe',\n",
       " 'GANSTA',\n",
       " 'hipe',\n",
       " 'NuVew',\n",
       " 'PHENOMENAL',\n",
       " 'ROYAL SON',\n",
       " 'PHENOMENAL',\n",
       " 'NuVew',\n",
       " 'GANSTA',\n",
       " 'GANSTA',\n",
       " 'Fastrack',\n",
       " 'DEIXELS',\n",
       " 'hipe',\n",
       " 'FDA COLLECTION',\n",
       " 'ROYAL SON',\n",
       " 'hipe',\n",
       " 'ROZZETTA CRAFT',\n",
       " 'ROYAL SON',\n",
       " 'GANSTA',\n",
       " 'ROZZETTA CRAFT',\n",
       " 'Fastrack',\n",
       " 'ROZZETTA CRAFT',\n",
       " 'Crackers',\n",
       " 'SO SHADES OF STYLE',\n",
       " 'Singco India',\n",
       " 'Badfella',\n",
       " 'PHENOMENAL',\n",
       " 'ROYAL SON',\n",
       " 'GANSTA',\n",
       " 'elegante',\n",
       " 'Singco India',\n",
       " 'Fastrack',\n",
       " 'Fastrack',\n",
       " 'ROYAL SON']"
      ]
     },
     "execution_count": 124,
     "metadata": {},
     "output_type": "execute_result"
    }
   ],
   "source": [
    "#Join all brands extracted from different pages\n",
    "product_brand=Brand+brand1+brand2\n",
    "product_brand"
   ]
  },
  {
   "cell_type": "code",
   "execution_count": 125,
   "metadata": {},
   "outputs": [
    {
     "data": {
      "text/plain": [
       "['Gradient, Mirrored, UV Protection Round, Round, Round S...',\n",
       " 'Gradient, UV Protection Round, Round Sunglasses (20)',\n",
       " 'UV Protection Rectangular Sunglasses (Free Size)',\n",
       " 'UV Protection Retro Square Sunglasses (Free Size)',\n",
       " 'UV Protection Wayfarer Sunglasses (Free Size)',\n",
       " 'UV Protection Retro Square Sunglasses (Free Size)',\n",
       " 'UV Protection Aviator Sunglasses (Free Size)',\n",
       " 'UV Protection, Gradient Rectangular Sunglasses (Free Si...',\n",
       " 'UV Protection Wayfarer Sunglasses (Free Size)',\n",
       " 'Gradient, UV Protection Wayfarer Sunglasses (Free Size)',\n",
       " 'UV Protection Wayfarer Sunglasses (55)',\n",
       " 'UV Protection Aviator, Wayfarer Sunglasses (Free Size)',\n",
       " 'UV Protection Wayfarer Sunglasses (Free Size)',\n",
       " 'Polarized Wrap-around Sunglasses (66)',\n",
       " 'UV Protection, Riding Glasses Rectangular Sunglasses (F...',\n",
       " 'UV Protection, Mirrored Retro Square Sunglasses (53)',\n",
       " 'UV Protection Aviator Sunglasses (Free Size)',\n",
       " 'UV Protection Aviator Sunglasses (58)',\n",
       " 'UV Protection Aviator Sunglasses (57)',\n",
       " 'UV Protection Retro Square Sunglasses (60)',\n",
       " 'UV Protection Wayfarer Sunglasses (Free Size)',\n",
       " 'UV Protection Round Sunglasses (Free Size)',\n",
       " 'UV Protection Aviator Sunglasses (58)',\n",
       " 'UV Protection, Polarized Wrap-around Sunglasses (52)',\n",
       " 'UV Protection Aviator Sunglasses (Free Size)',\n",
       " 'UV Protection Aviator Sunglasses (58)',\n",
       " 'UV Protection, Mirrored Retro Square Sunglasses (Free S...',\n",
       " 'UV Protection Wayfarer Sunglasses (56)',\n",
       " 'Mirrored Aviator Sunglasses (55)',\n",
       " 'UV Protection, Night Vision, Riding Glasses, Polarized ...',\n",
       " 'UV Protection, Gradient Round Sunglasses (Free Size)',\n",
       " 'UV Protection Wrap-around Sunglasses (Free Size)',\n",
       " 'UV Protection Retro Square Sunglasses (Free Size)',\n",
       " 'UV Protection, Gradient Round, Shield Sunglasses (50)',\n",
       " 'UV Protection, Mirrored Round Sunglasses (Free Size)',\n",
       " 'Gradient, UV Protection Round Sunglasses (Free Size)',\n",
       " 'Mirrored, Riding Glasses, Others Sports Sunglasses (50)',\n",
       " 'UV Protection, Riding Glasses Wayfarer Sunglasses (53)',\n",
       " 'UV Protection Rectangular Sunglasses (58)',\n",
       " 'Polarized Wrap-around Sunglasses (66)',\n",
       " 'UV Protection, Mirrored Clubmaster Sunglasses (Free Siz...',\n",
       " 'UV Protection Oval Sunglasses (56)',\n",
       " 'UV Protection Rectangular Sunglasses (58)',\n",
       " 'UV Protection, Gradient, Night Vision, Mirrored Aviator...',\n",
       " 'Gradient, UV Protection Wayfarer Sunglasses (Free Size)',\n",
       " 'Others Retro Square Sunglasses (Free Size)',\n",
       " 'UV Protection, Gradient Rectangular Sunglasses (Free Si...',\n",
       " 'UV Protection Aviator Sunglasses (57)',\n",
       " 'Mirrored, UV Protection, Gradient Round Sunglasses (55)',\n",
       " 'UV Protection, Mirrored Aviator, Wayfarer Sunglasses (5...',\n",
       " 'UV Protection Wayfarer Sunglasses (Free Size)',\n",
       " 'Polarized, UV Protection Aviator Sunglasses (58)',\n",
       " 'UV Protection, Gradient Oval Sunglasses (58)',\n",
       " 'UV Protection, Gradient Wayfarer Sunglasses (57)',\n",
       " 'UV Protection Retro Square Sunglasses (Free Size)',\n",
       " 'UV Protection Retro Square Sunglasses (Free Size)',\n",
       " 'UV Protection, Gradient Wayfarer Sunglasses (55)',\n",
       " 'UV Protection Aviator Sunglasses (58)',\n",
       " 'UV Protection Shield Sunglasses (Free Size)',\n",
       " 'UV Protection, Night Vision Retro Square, Wayfarer Sung...',\n",
       " 'UV Protection Wayfarer Sunglasses (Free Size)',\n",
       " 'UV Protection Wayfarer Sunglasses (57)',\n",
       " 'UV Protection Wayfarer Sunglasses (Free Size)',\n",
       " 'UV Protection, Mirrored, Night Vision, Riding Glasses S...',\n",
       " 'UV Protection Wayfarer Sunglasses (55)',\n",
       " 'Mirrored Wayfarer Sunglasses (55)',\n",
       " 'UV Protection, Mirrored Aviator Sunglasses (Free Size)',\n",
       " 'UV Protection, Gradient Wayfarer Sunglasses (53)',\n",
       " 'UV Protection Sports Sunglasses (Free Size)',\n",
       " 'UV Protection Round, Shield Sunglasses (50)',\n",
       " 'UV Protection, Mirrored Retro Square Sunglasses (53)',\n",
       " 'Polarized Sports Sunglasses (68)',\n",
       " 'UV Protection Clubmaster Sunglasses (Free Size)',\n",
       " 'UV Protection, Riding Glasses Wayfarer Sunglasses (56)',\n",
       " 'Night Vision, Riding Glasses Wayfarer Sunglasses (53)',\n",
       " 'UV Protection, Mirrored, Gradient Wayfarer Sunglasses (...',\n",
       " 'Mirrored, UV Protection Wayfarer Sunglasses (Free Size)',\n",
       " 'Polarized, UV Protection, Riding Glasses Wayfarer Sungl...',\n",
       " 'UV Protection, Night Vision, Gradient, Mirrored Round, ...',\n",
       " 'Gradient, Mirrored, UV Protection, Polarized Round, Rou...',\n",
       " 'UV Protection Aviator Sunglasses (Free Size)',\n",
       " 'Gradient, UV Protection Round Sunglasses (Free Size)',\n",
       " 'UV Protection, Gradient Rectangular Sunglasses (Free Si...',\n",
       " 'Polarized Wrap-around Sunglasses (66)',\n",
       " 'UV Protection, Night Vision, Riding Glasses Aviator Sun...',\n",
       " 'Mirrored, UV Protection Round Sunglasses (Free Size)',\n",
       " 'UV Protection Rectangular Sunglasses (59)',\n",
       " 'Polarized, UV Protection Aviator Sunglasses (Free Size)',\n",
       " 'UV Protection Aviator Sunglasses (55)',\n",
       " 'UV Protection Retro Square Sunglasses (60)',\n",
       " 'UV Protection Round Sunglasses (Free Size)',\n",
       " 'Polarized, UV Protection Retro Square Sunglasses (53)',\n",
       " 'UV Protection, Mirrored, Gradient Retro Square Sunglass...',\n",
       " 'UV Protection, Polarized Wrap-around Sunglasses (52)',\n",
       " 'UV Protection, Mirrored Wayfarer Sunglasses (53)',\n",
       " 'UV Protection Round Sunglasses (Free Size)',\n",
       " 'UV Protection, Riding Glasses, Others Aviator, Wayfarer...',\n",
       " 'UV Protection Shield Sunglasses (Free Size)',\n",
       " 'UV Protection Aviator Sunglasses (58)',\n",
       " 'UV Protection Wrap-around Sunglasses (52)']"
      ]
     },
     "execution_count": 125,
     "metadata": {},
     "output_type": "execute_result"
    }
   ],
   "source": [
    "#Join product description extracted from different pages\n",
    "Description=description+description1+description2\n",
    "Description"
   ]
  },
  {
   "cell_type": "code",
   "execution_count": 126,
   "metadata": {},
   "outputs": [
    {
     "data": {
      "text/plain": [
       "['₹169',\n",
       " '₹189',\n",
       " '₹630',\n",
       " '₹499',\n",
       " '₹758',\n",
       " '₹399',\n",
       " '₹349',\n",
       " '₹404',\n",
       " '₹733',\n",
       " '₹621',\n",
       " '₹251',\n",
       " '₹213',\n",
       " '₹246',\n",
       " '₹699',\n",
       " '₹449',\n",
       " '₹399',\n",
       " '₹339',\n",
       " '₹215',\n",
       " '₹281',\n",
       " '₹345',\n",
       " '₹837',\n",
       " '₹209',\n",
       " '₹1,085',\n",
       " '₹899',\n",
       " '₹674',\n",
       " '₹1,123',\n",
       " '₹399',\n",
       " '₹759',\n",
       " '₹379',\n",
       " '₹371',\n",
       " '₹449',\n",
       " '₹499',\n",
       " '₹499',\n",
       " '₹371',\n",
       " '₹219',\n",
       " '₹449',\n",
       " '₹249',\n",
       " '₹260',\n",
       " '₹474',\n",
       " '₹664',\n",
       " '₹319',\n",
       " '₹284',\n",
       " '₹474',\n",
       " '₹365',\n",
       " '₹638',\n",
       " '₹599',\n",
       " '₹499',\n",
       " '₹359',\n",
       " '₹210',\n",
       " '₹349',\n",
       " '₹211',\n",
       " '₹711',\n",
       " '₹470',\n",
       " '₹525',\n",
       " '₹399',\n",
       " '₹399',\n",
       " '₹217',\n",
       " '₹1,115',\n",
       " '₹759',\n",
       " '₹272',\n",
       " '₹576',\n",
       " '₹559',\n",
       " '₹758',\n",
       " '₹391',\n",
       " '₹265',\n",
       " '₹219',\n",
       " '₹199',\n",
       " '₹349',\n",
       " '₹319',\n",
       " '₹235',\n",
       " '₹399',\n",
       " '₹1,234',\n",
       " '₹319',\n",
       " '₹377',\n",
       " '₹207',\n",
       " '₹281',\n",
       " '₹777',\n",
       " '₹249',\n",
       " '₹210',\n",
       " '₹189',\n",
       " '₹499',\n",
       " '₹219',\n",
       " '₹449',\n",
       " '₹699',\n",
       " '₹292',\n",
       " '₹399',\n",
       " '₹1,097',\n",
       " '₹449',\n",
       " '₹189',\n",
       " '₹345',\n",
       " '₹205',\n",
       " '₹269',\n",
       " '₹207',\n",
       " '₹899',\n",
       " '₹199',\n",
       " '₹199',\n",
       " '₹209',\n",
       " '₹792',\n",
       " '₹1,148',\n",
       " '₹899']"
      ]
     },
     "execution_count": 126,
     "metadata": {},
     "output_type": "execute_result"
    }
   ],
   "source": [
    "#join all product prices extracted from different pages\n",
    "Price=price+price1+price2\n",
    "Price"
   ]
  },
  {
   "cell_type": "code",
   "execution_count": 127,
   "metadata": {},
   "outputs": [
    {
     "data": {
      "text/plain": [
       "['87% off',\n",
       " '81% off',\n",
       " '21% off',\n",
       " '77% off',\n",
       " '15% off',\n",
       " '80% off',\n",
       " '78% off',\n",
       " '79% off',\n",
       " '18% off',\n",
       " '22% off',\n",
       " '79% off',\n",
       " '82% off',\n",
       " '83% off',\n",
       " '65% off',\n",
       " '79% off',\n",
       " '80% off',\n",
       " '71% off',\n",
       " '72% off',\n",
       " '85% off',\n",
       " '83% off',\n",
       " '6% off',\n",
       " '73% off',\n",
       " '16% off',\n",
       " '55% off',\n",
       " '25% off',\n",
       " '13% off',\n",
       " '80% off',\n",
       " '15% off',\n",
       " '74% off',\n",
       " '77% off',\n",
       " '77% off',\n",
       " '66% off',\n",
       " '77% off',\n",
       " '78% off',\n",
       " '86% off',\n",
       " '77% off',\n",
       " '83% off',\n",
       " '86% off',\n",
       " '68% off',\n",
       " '66% off',\n",
       " '84% off',\n",
       " '76% off',\n",
       " '68% off',\n",
       " '70% off',\n",
       " '20% off',\n",
       " '20% off',\n",
       " '77% off',\n",
       " '82% off',\n",
       " '85% off',\n",
       " '70% off',\n",
       " '57% off',\n",
       " '64% off',\n",
       " '69% off',\n",
       " '80% off',\n",
       " '80% off',\n",
       " '81% off',\n",
       " '78% off',\n",
       " '14% off',\n",
       " '15% off',\n",
       " '74% off',\n",
       " '27% off',\n",
       " '30% off',\n",
       " '15% off',\n",
       " '68% off',\n",
       " '79% off',\n",
       " '78% off',\n",
       " '80% off',\n",
       " '82% off',\n",
       " '83% off',\n",
       " '77% off',\n",
       " '80% off',\n",
       " '50% off',\n",
       " '84% off',\n",
       " '75% off',\n",
       " '88% off',\n",
       " '85% off',\n",
       " '22% off',\n",
       " '58% off',\n",
       " '78% off',\n",
       " '81% off',\n",
       " '61% off',\n",
       " '83% off',\n",
       " '77% off',\n",
       " '65% off',\n",
       " '85% off',\n",
       " '72% off',\n",
       " '15% off',\n",
       " '77% off',\n",
       " '81% off',\n",
       " '83% off',\n",
       " '79% off',\n",
       " '73% off',\n",
       " '89% off',\n",
       " '55% off',\n",
       " '80% off',\n",
       " '80% off',\n",
       " '70% off',\n",
       " '11% off',\n",
       " '11% off',\n",
       " '55% off']"
      ]
     },
     "execution_count": 127,
     "metadata": {},
     "output_type": "execute_result"
    }
   ],
   "source": [
    "#join all product discounts extracted from different pages\n",
    "Discount=discount+discount1+discount2\n",
    "Discount"
   ]
  },
  {
   "cell_type": "markdown",
   "metadata": {},
   "source": [
    "So,now we have extracted the data required from the webpage and stored them in the 4 lists mentioned above.Now before creating a dataframe from the list,lets first check the length of each of the list.Because if the length of all of the lists are not equal,then the dataframe cannot be formed."
   ]
  },
  {
   "cell_type": "code",
   "execution_count": 128,
   "metadata": {},
   "outputs": [
    {
     "data": {
      "text/plain": [
       "(100, 100, 100, 100)"
      ]
     },
     "execution_count": 128,
     "metadata": {},
     "output_type": "execute_result"
    }
   ],
   "source": [
    "len(product_brand),len(Description),len(Price),len(Discount)"
   ]
  },
  {
   "cell_type": "code",
   "execution_count": 129,
   "metadata": {},
   "outputs": [],
   "source": [
    "import pandas as pd\n",
    "#lets make a dataframe named sunglasses\n",
    "sunglasses=pd.DataFrame(({}))\n",
    "sunglasses['Brand']=product_brand\n",
    "sunglasses['Description']=Description\n",
    "sunglasses['Price']=Price\n",
    "sunglasses['Discount']=Discount"
   ]
  },
  {
   "cell_type": "code",
   "execution_count": 130,
   "metadata": {},
   "outputs": [
    {
     "data": {
      "text/html": [
       "<div>\n",
       "<style scoped>\n",
       "    .dataframe tbody tr th:only-of-type {\n",
       "        vertical-align: middle;\n",
       "    }\n",
       "\n",
       "    .dataframe tbody tr th {\n",
       "        vertical-align: top;\n",
       "    }\n",
       "\n",
       "    .dataframe thead th {\n",
       "        text-align: right;\n",
       "    }\n",
       "</style>\n",
       "<table border=\"1\" class=\"dataframe\">\n",
       "  <thead>\n",
       "    <tr style=\"text-align: right;\">\n",
       "      <th></th>\n",
       "      <th>Brand</th>\n",
       "      <th>Description</th>\n",
       "      <th>Price</th>\n",
       "      <th>Discount</th>\n",
       "    </tr>\n",
       "  </thead>\n",
       "  <tbody>\n",
       "    <tr>\n",
       "      <th>0</th>\n",
       "      <td>FDA COLLECTION</td>\n",
       "      <td>Gradient, Mirrored, UV Protection Round, Round...</td>\n",
       "      <td>₹169</td>\n",
       "      <td>87% off</td>\n",
       "    </tr>\n",
       "    <tr>\n",
       "      <th>1</th>\n",
       "      <td>FDA COLLECTION</td>\n",
       "      <td>Gradient, UV Protection Round, Round Sunglasse...</td>\n",
       "      <td>₹189</td>\n",
       "      <td>81% off</td>\n",
       "    </tr>\n",
       "    <tr>\n",
       "      <th>2</th>\n",
       "      <td>Fastrack</td>\n",
       "      <td>UV Protection Rectangular Sunglasses (Free Size)</td>\n",
       "      <td>₹630</td>\n",
       "      <td>21% off</td>\n",
       "    </tr>\n",
       "    <tr>\n",
       "      <th>3</th>\n",
       "      <td>ROZZETTA CRAFT</td>\n",
       "      <td>UV Protection Retro Square Sunglasses (Free Size)</td>\n",
       "      <td>₹499</td>\n",
       "      <td>77% off</td>\n",
       "    </tr>\n",
       "    <tr>\n",
       "      <th>4</th>\n",
       "      <td>Fastrack</td>\n",
       "      <td>UV Protection Wayfarer Sunglasses (Free Size)</td>\n",
       "      <td>₹758</td>\n",
       "      <td>15% off</td>\n",
       "    </tr>\n",
       "    <tr>\n",
       "      <th>...</th>\n",
       "      <td>...</td>\n",
       "      <td>...</td>\n",
       "      <td>...</td>\n",
       "      <td>...</td>\n",
       "    </tr>\n",
       "    <tr>\n",
       "      <th>95</th>\n",
       "      <td>elegante</td>\n",
       "      <td>UV Protection Round Sunglasses (Free Size)</td>\n",
       "      <td>₹199</td>\n",
       "      <td>80% off</td>\n",
       "    </tr>\n",
       "    <tr>\n",
       "      <th>96</th>\n",
       "      <td>Singco India</td>\n",
       "      <td>UV Protection, Riding Glasses, Others Aviator,...</td>\n",
       "      <td>₹209</td>\n",
       "      <td>70% off</td>\n",
       "    </tr>\n",
       "    <tr>\n",
       "      <th>97</th>\n",
       "      <td>Fastrack</td>\n",
       "      <td>UV Protection Shield Sunglasses (Free Size)</td>\n",
       "      <td>₹792</td>\n",
       "      <td>11% off</td>\n",
       "    </tr>\n",
       "    <tr>\n",
       "      <th>98</th>\n",
       "      <td>Fastrack</td>\n",
       "      <td>UV Protection Aviator Sunglasses (58)</td>\n",
       "      <td>₹1,148</td>\n",
       "      <td>11% off</td>\n",
       "    </tr>\n",
       "    <tr>\n",
       "      <th>99</th>\n",
       "      <td>ROYAL SON</td>\n",
       "      <td>UV Protection Wrap-around Sunglasses (52)</td>\n",
       "      <td>₹899</td>\n",
       "      <td>55% off</td>\n",
       "    </tr>\n",
       "  </tbody>\n",
       "</table>\n",
       "<p>100 rows × 4 columns</p>\n",
       "</div>"
      ],
      "text/plain": [
       "             Brand                                        Description   Price  \\\n",
       "0   FDA COLLECTION  Gradient, Mirrored, UV Protection Round, Round...    ₹169   \n",
       "1   FDA COLLECTION  Gradient, UV Protection Round, Round Sunglasse...    ₹189   \n",
       "2         Fastrack   UV Protection Rectangular Sunglasses (Free Size)    ₹630   \n",
       "3   ROZZETTA CRAFT  UV Protection Retro Square Sunglasses (Free Size)    ₹499   \n",
       "4         Fastrack      UV Protection Wayfarer Sunglasses (Free Size)    ₹758   \n",
       "..             ...                                                ...     ...   \n",
       "95        elegante         UV Protection Round Sunglasses (Free Size)    ₹199   \n",
       "96    Singco India  UV Protection, Riding Glasses, Others Aviator,...    ₹209   \n",
       "97        Fastrack        UV Protection Shield Sunglasses (Free Size)    ₹792   \n",
       "98        Fastrack              UV Protection Aviator Sunglasses (58)  ₹1,148   \n",
       "99       ROYAL SON          UV Protection Wrap-around Sunglasses (52)    ₹899   \n",
       "\n",
       "   Discount  \n",
       "0   87% off  \n",
       "1   81% off  \n",
       "2   21% off  \n",
       "3   77% off  \n",
       "4   15% off  \n",
       "..      ...  \n",
       "95  80% off  \n",
       "96  70% off  \n",
       "97  11% off  \n",
       "98  11% off  \n",
       "99  55% off  \n",
       "\n",
       "[100 rows x 4 columns]"
      ]
     },
     "execution_count": 130,
     "metadata": {},
     "output_type": "execute_result"
    }
   ],
   "source": [
    "sunglasses"
   ]
  },
  {
   "cell_type": "markdown",
   "metadata": {},
   "source": [
    "# Question7:\n",
    "Scrape 100 reviews data from flipkart.com for iphone11 phone.\n",
    "You have to go the link: https://www.flipkart.com/apple-iphone-11-black-64-gb-includes\u0002earpods-power\u0002adapter/p/itm0f37c2240b217?pid=MOBFKCTSVZAXUHGR&lid=LSTMOBFKCTSVZAXUHGREPBFGI&marketplace.\n"
   ]
  },
  {
   "cell_type": "code",
   "execution_count": 101,
   "metadata": {},
   "outputs": [],
   "source": [
    "driver=webdriver.Chrome('chromedriver.exe')"
   ]
  },
  {
   "cell_type": "code",
   "execution_count": 102,
   "metadata": {},
   "outputs": [],
   "source": [
    "url='https://www.flipkart.com/apple-iphone-11-black-64-gb-includes\u0002earpods-power\u0002adapter/p/itm0f37c2240b217?pid=MOBFKCTSVZAXUHGR&lid=LSTMOBFKCTSVZAXUHGREPBFGI&marketplace'\n",
    "driver.get(url)"
   ]
  },
  {
   "cell_type": "code",
   "execution_count": 103,
   "metadata": {},
   "outputs": [],
   "source": [
    "rating=[]\n",
    "review_summary=[]\n",
    "full_review=[]"
   ]
  },
  {
   "cell_type": "code",
   "execution_count": 106,
   "metadata": {},
   "outputs": [],
   "source": [
    "#extracting rating,review_summary and  full_review over 10 pages\n",
    "for i in range(0,10):\n",
    "    for j in driver.find_elements_by_xpath(\"//div[@class='_3LWZlK _1BLPMq']\"):\n",
    "        rating.append(j.text)\n",
    "    for k in driver.find_elements_by_class_name(\"_2-N8zT\"):\n",
    "        review_summary.append(k.text)\n",
    "    for l in driver.find_elements_by_class_name(\"t-ZTKy\"):\n",
    "        full_review.append(l.text)\n",
    "    driver.find_element_by_xpath(\"//a[@class='_1LKTO3']\").click()  #click on next button\n",
    "    time.sleep(4)"
   ]
  },
  {
   "cell_type": "code",
   "execution_count": 108,
   "metadata": {},
   "outputs": [
    {
     "data": {
      "text/plain": [
       "['5',\n",
       " '5',\n",
       " '5',\n",
       " '5',\n",
       " '5',\n",
       " '5',\n",
       " '4',\n",
       " '5',\n",
       " '5',\n",
       " '5',\n",
       " '5',\n",
       " '5',\n",
       " '5',\n",
       " '5',\n",
       " '5',\n",
       " '4',\n",
       " '5',\n",
       " '5',\n",
       " '5',\n",
       " '5',\n",
       " '5',\n",
       " '5',\n",
       " '5',\n",
       " '5',\n",
       " '5',\n",
       " '5',\n",
       " '4',\n",
       " '5',\n",
       " '5',\n",
       " '5',\n",
       " '5',\n",
       " '5',\n",
       " '5',\n",
       " '5',\n",
       " '5',\n",
       " '5',\n",
       " '4',\n",
       " '5',\n",
       " '5',\n",
       " '5',\n",
       " '5',\n",
       " '5',\n",
       " '5',\n",
       " '5',\n",
       " '5',\n",
       " '4',\n",
       " '5',\n",
       " '5',\n",
       " '5',\n",
       " '5',\n",
       " '5',\n",
       " '5',\n",
       " '5',\n",
       " '5',\n",
       " '5',\n",
       " '5',\n",
       " '4',\n",
       " '5',\n",
       " '5',\n",
       " '5',\n",
       " '5',\n",
       " '5',\n",
       " '5',\n",
       " '5',\n",
       " '5',\n",
       " '4',\n",
       " '5',\n",
       " '5',\n",
       " '5',\n",
       " '5',\n",
       " '5',\n",
       " '5',\n",
       " '5',\n",
       " '5',\n",
       " '5',\n",
       " '5',\n",
       " '4',\n",
       " '5',\n",
       " '5',\n",
       " '5',\n",
       " '5',\n",
       " '5',\n",
       " '5',\n",
       " '5',\n",
       " '5',\n",
       " '5',\n",
       " '4',\n",
       " '5',\n",
       " '5',\n",
       " '5',\n",
       " '5',\n",
       " '5',\n",
       " '5',\n",
       " '5',\n",
       " '5',\n",
       " '4',\n",
       " '5',\n",
       " '5',\n",
       " '5',\n",
       " '5']"
      ]
     },
     "execution_count": 108,
     "metadata": {},
     "output_type": "execute_result"
    }
   ],
   "source": [
    "#collecting first 100 ratings\n",
    "Rating=rating[:100]\n",
    "Rating"
   ]
  },
  {
   "cell_type": "code",
   "execution_count": 109,
   "metadata": {},
   "outputs": [
    {
     "data": {
      "text/plain": [
       "['Brilliant',\n",
       " 'Perfect product!',\n",
       " 'Great product',\n",
       " 'Worth every penny',\n",
       " 'Good choice',\n",
       " 'Highly recommended',\n",
       " 'Perfect product!',\n",
       " 'Fabulous!',\n",
       " 'Perfect product!',\n",
       " 'Wonderful',\n",
       " 'Worth every penny',\n",
       " 'Perfect product!',\n",
       " 'Worth every penny',\n",
       " 'Nice product',\n",
       " 'Simply awesome',\n",
       " 'Terrific',\n",
       " 'Highly recommended',\n",
       " 'Classy product',\n",
       " 'Wonderful',\n",
       " 'Brilliant',\n",
       " 'Brilliant',\n",
       " 'Perfect product!',\n",
       " 'Great product',\n",
       " 'Worth every penny',\n",
       " 'Good choice',\n",
       " 'Highly recommended',\n",
       " 'Perfect product!',\n",
       " 'Fabulous!',\n",
       " 'Perfect product!',\n",
       " 'Wonderful',\n",
       " 'Brilliant',\n",
       " 'Perfect product!',\n",
       " 'Great product',\n",
       " 'Worth every penny',\n",
       " 'Good choice',\n",
       " 'Highly recommended',\n",
       " 'Perfect product!',\n",
       " 'Fabulous!',\n",
       " 'Perfect product!',\n",
       " 'Wonderful',\n",
       " 'Worth every penny',\n",
       " 'Perfect product!',\n",
       " 'Worth every penny',\n",
       " 'Nice product',\n",
       " 'Simply awesome',\n",
       " 'Terrific',\n",
       " 'Highly recommended',\n",
       " 'Classy product',\n",
       " 'Wonderful',\n",
       " 'Brilliant',\n",
       " 'Brilliant',\n",
       " 'Perfect product!',\n",
       " 'Great product',\n",
       " 'Worth every penny',\n",
       " 'Good choice',\n",
       " 'Highly recommended',\n",
       " 'Perfect product!',\n",
       " 'Fabulous!',\n",
       " 'Perfect product!',\n",
       " 'Wonderful',\n",
       " 'Worth every penny',\n",
       " 'Perfect product!',\n",
       " 'Worth every penny',\n",
       " 'Nice product',\n",
       " 'Simply awesome',\n",
       " 'Terrific',\n",
       " 'Highly recommended',\n",
       " 'Classy product',\n",
       " 'Wonderful',\n",
       " 'Brilliant',\n",
       " 'Brilliant',\n",
       " 'Perfect product!',\n",
       " 'Great product',\n",
       " 'Worth every penny',\n",
       " 'Good choice',\n",
       " 'Highly recommended',\n",
       " 'Perfect product!',\n",
       " 'Fabulous!',\n",
       " 'Perfect product!',\n",
       " 'Wonderful',\n",
       " 'Brilliant',\n",
       " 'Perfect product!',\n",
       " 'Great product',\n",
       " 'Worth every penny',\n",
       " 'Good choice',\n",
       " 'Highly recommended',\n",
       " 'Perfect product!',\n",
       " 'Fabulous!',\n",
       " 'Perfect product!',\n",
       " 'Wonderful',\n",
       " 'Worth every penny',\n",
       " 'Perfect product!',\n",
       " 'Worth every penny',\n",
       " 'Nice product',\n",
       " 'Simply awesome',\n",
       " 'Terrific',\n",
       " 'Highly recommended',\n",
       " 'Classy product',\n",
       " 'Wonderful',\n",
       " 'Brilliant']"
      ]
     },
     "execution_count": 109,
     "metadata": {},
     "output_type": "execute_result"
    }
   ],
   "source": [
    "#collecting first 100 review summaries\n",
    "Review_sum=review_summary[:100]\n",
    "Review_sum"
   ]
  },
  {
   "cell_type": "code",
   "execution_count": 110,
   "metadata": {},
   "outputs": [
    {
     "data": {
      "text/plain": [
       "['The Best Phone for the Money\\n\\nThe iPhone 11 offers superb cameras, a more durable design and excellent battery life for an affordable price.\\n\\nCompelling ultra-wide camera\\nNew Night mode is excellent\\nLong battery life',\n",
       " 'Amazing phone with great cameras and better battery which gives you the best performance. I just love the camera .',\n",
       " 'Amazing Powerful and Durable Gadget.\\n\\nI’m am very happy with the camera picture quality, Amazing face id unlocked in dark room, Strong battery with perfect screen size as you can carry easily in pocket. This is my third iPhone.\\n\\nI shifted from android Samsung Note series to iPhone because of the strong build quality and peace of mind for next 3-4 years.\\n\\nDon’t think to much just go for it and I suggest you to go for minimum 128gb variant or more 256gb.\\n\\nI’ve attached my puppy pics and no fi...\\nREAD MORE',\n",
       " 'Previously I was using one plus 3t it was a great phone\\nAnd then I decided to upgrade I am stuck between Samsung s10 plus or iPhone 11\\nI have seen the specs and everything were good except the display it’s somewhere between 720-1080 and it’s not even an amoled it’s an LCD display\\nBut I decided to go with iPhone because I have never used an IOS device I have Been an android user from the past 9 years I ordered IPhone 11 (128gb) product red\\nMy experience after using 3 weeks\\n1. The delivery ...\\nREAD MORE',\n",
       " 'So far it’s been an AMAZING experience coming back to iOS after nearly a decade but it’s not as versatile as android though phone is sturdy dropped it accidentally a couple of times and nothing happened fortunately camera is awesome',\n",
       " 'iphone 11 is a very good phone to buy only if you can compromise for the display. The display on this is device is pretty good but you can get other options with better displays in this price segment.\\nIf you can survive with an HD+ LCD panel with thicker bezels and a notch up top then this is a very good phone for you.\\nCameras are awesome, battery backup excellent, great performance and a decent premium look. Good job Apple !',\n",
       " 'It’s a must buy who is looking for an upgrade from previous generation of iPhones. If you are using XR then still you can hold on for sometime and upgrade to 2020 model else this phone is a must buy . Camera quality is amazing and wide angle is something to count upon. Performance wise it’s amazing and feels premium while holding in hand. So a big YES for this device. Go for 128 GB variant as the 4K videos will occupy lots of space and the storage can get over very quickly. Try to buy it with...\\nREAD MORE',\n",
       " 'This is my first iOS phone. I am very happy with this product. Very much satisfied with this. I love this phone.',\n",
       " 'Value for money❤️❤️\\nIts awesome mobile phone in the world ...\\nDisplay was very good and bright ..\\nTrust me freinds you r never regret after Buying..\\nJust go for it....\\nI love this phone and i switch to iphone x to 11',\n",
       " '*Review after 10 months of usage*\\nDoesn\\'t seem bulky with decent touch and camera. The \"standard maintained\" quality of IPhone. Go for it, if your budget is not more enough for pro models. It\\'s a value for money among the 11 series Stereo speakers are so good, you will love the stereo sound. Battery backup is not decent but still better than Iphone 7 and 8.Processor is fast, the phone doesn\\'t lag at all even with heavy games, waterproof, faster face id and with no fingerprint scanners. The ca...\\nREAD MORE',\n",
       " 'Best budget Iphone till date ❤️ go for it guys without second thought. Let me explain you guys about Camera, Display, battery, and performance.\\n\\nCamera: at this price range there is no comparison of camera, you’ll love the picture quality as well as video quality. I am a Vlogger I wanted an iPhone with 4k video by front camera and I got this phone and I am more than happy 😃\\n\\nBattery: I use this phone roughly as I am active social media person and I have a youtube channel. so the battery ba...\\nREAD MORE',\n",
       " \"Iphone is just awesome.. battery backup is very very nice.. continuously for 10 hours we can use it.camera is just awesome.. display is just fab.i love it alot..i had to wait 15 days for it as i pre ordered it..overalll it's worth the price..these all images are clicked by my iPhone..and i love it.\",\n",
       " 'It’s been almost a month since I have been using this phone. I upgraded from an iPhone 8. The main issue with my 8 was battery and this phone is just awesome when it comes to battery. It lasts a day and a half for me with my regular use , internet connected always with 4g\\nCan’t move forward without saying this. Battery of this phone is a life saver when I am traveling or at work when I don’t get the option to charge\\nCamera is superb. Front cam selfies and back cam photos are just awesome.\\n...\\nREAD MORE',\n",
       " 'Awesome Phone. Slightly high price but worth. Better than iPhone XR.\\nCamera is superb and wide angle camera is very clear.\\n12MP selfie camera is also very good.\\nA13 Chip gives a very good and smooth performance.',\n",
       " 'Excellent camera, good performance, no lag. The lcd display is also good.. but difference come when we watch movie in prime and Netflix, the colours are not vibrant.. as we see in amoled display.. and the charger in box is of 5 watts.. takes more than 3 hours to charge from 0 to 100.. so guys be prepare to buy 18 watts charger . Finally I am an android user, it was my first Iapple phone, I promise u guys the iOS is so smooth.. overall the phone is damn good.... close eyes to buy it.. thanks t...\\nREAD MORE',\n",
       " 'Really worth of money. i just love it. It is the best phone ever.',\n",
       " \"It's my first time to use iOS phone and I am loving my upgradation 😍😍 I love the color, I love the assebility of the phone....I need to learn more about its functionality, but as far as I have seen, it's quite easy and it has a lot of functions to work on, specially if you are a content writer or a blogger you get a lot of content creation platforms and they are really amazing.\\n\\nThis phone not only for good quality photography but a lot of other task too.😍💯\",\n",
       " 'Superb Product !!!\\nA big and worthy upgrade from mi 3S to iphone 11 .\\nTotally loved it !',\n",
       " 'This is my first ever I phone. Before this I was using my google nexus 5. But moving from android to iOS is a great experience. It’s worth at this price. I will highly recommend it if you want to move to iOS. The best part of this phone is it’s camera and it’s battery life. This two things have won my heart. I loved it. Happy to have it in my hand. Still exploring its features. And can’t forget to mention Flipkart service. Very prompt service and fast delivery.',\n",
       " 'I have migrated from OP 7pro... and trust me, iPhone 11 is totally worth it.. following are the reasons:-\\n1)there is ABSOLUTELY NO ISSUE WITH THE DISPLAY... its crisp, sharp and I found it to be much much better than OP7 pro. Netflix, Prime video all run crisply... you won’t miss a thing. True Tone works flawlessly...the display brightness is perfect. OP have not calibrated their screens properly.\\n2) iPhone 11 series have really good cameras... others have spoken in depth about them.\\n3) bat...\\nREAD MORE',\n",
       " 'The Best Phone for the Money\\n\\nThe iPhone 11 offers superb cameras, a more durable design and excellent battery life for an affordable price.\\n\\nCompelling ultra-wide camera\\nNew Night mode is excellent\\nLong battery life',\n",
       " 'Amazing phone with great cameras and better battery which gives you the best performance. I just love the camera .',\n",
       " 'Amazing Powerful and Durable Gadget.\\n\\nI’m am very happy with the camera picture quality, Amazing face id unlocked in dark room, Strong battery with perfect screen size as you can carry easily in pocket. This is my third iPhone.\\n\\nI shifted from android Samsung Note series to iPhone because of the strong build quality and peace of mind for next 3-4 years.\\n\\nDon’t think to much just go for it and I suggest you to go for minimum 128gb variant or more 256gb.\\n\\nI’ve attached my puppy pics and no fi...\\nREAD MORE',\n",
       " 'Previously I was using one plus 3t it was a great phone\\nAnd then I decided to upgrade I am stuck between Samsung s10 plus or iPhone 11\\nI have seen the specs and everything were good except the display it’s somewhere between 720-1080 and it’s not even an amoled it’s an LCD display\\nBut I decided to go with iPhone because I have never used an IOS device I have Been an android user from the past 9 years I ordered IPhone 11 (128gb) product red\\nMy experience after using 3 weeks\\n1. The delivery ...\\nREAD MORE',\n",
       " 'So far it’s been an AMAZING experience coming back to iOS after nearly a decade but it’s not as versatile as android though phone is sturdy dropped it accidentally a couple of times and nothing happened fortunately camera is awesome',\n",
       " 'iphone 11 is a very good phone to buy only if you can compromise for the display. The display on this is device is pretty good but you can get other options with better displays in this price segment.\\nIf you can survive with an HD+ LCD panel with thicker bezels and a notch up top then this is a very good phone for you.\\nCameras are awesome, battery backup excellent, great performance and a decent premium look. Good job Apple !',\n",
       " 'It’s a must buy who is looking for an upgrade from previous generation of iPhones. If you are using XR then still you can hold on for sometime and upgrade to 2020 model else this phone is a must buy . Camera quality is amazing and wide angle is something to count upon. Performance wise it’s amazing and feels premium while holding in hand. So a big YES for this device. Go for 128 GB variant as the 4K videos will occupy lots of space and the storage can get over very quickly. Try to buy it with...\\nREAD MORE',\n",
       " 'This is my first iOS phone. I am very happy with this product. Very much satisfied with this. I love this phone.',\n",
       " 'Value for money❤️❤️\\nIts awesome mobile phone in the world ...\\nDisplay was very good and bright ..\\nTrust me freinds you r never regret after Buying..\\nJust go for it....\\nI love this phone and i switch to iphone x to 11',\n",
       " '*Review after 10 months of usage*\\nDoesn\\'t seem bulky with decent touch and camera. The \"standard maintained\" quality of IPhone. Go for it, if your budget is not more enough for pro models. It\\'s a value for money among the 11 series Stereo speakers are so good, you will love the stereo sound. Battery backup is not decent but still better than Iphone 7 and 8.Processor is fast, the phone doesn\\'t lag at all even with heavy games, waterproof, faster face id and with no fingerprint scanners. The ca...\\nREAD MORE',\n",
       " 'The Best Phone for the Money\\n\\nThe iPhone 11 offers superb cameras, a more durable design and excellent battery life for an affordable price.\\n\\nCompelling ultra-wide camera\\nNew Night mode is excellent\\nLong battery life',\n",
       " 'Amazing phone with great cameras and better battery which gives you the best performance. I just love the camera .',\n",
       " 'Amazing Powerful and Durable Gadget.\\n\\nI’m am very happy with the camera picture quality, Amazing face id unlocked in dark room, Strong battery with perfect screen size as you can carry easily in pocket. This is my third iPhone.\\n\\nI shifted from android Samsung Note series to iPhone because of the strong build quality and peace of mind for next 3-4 years.\\n\\nDon’t think to much just go for it and I suggest you to go for minimum 128gb variant or more 256gb.\\n\\nI’ve attached my puppy pics and no fi...\\nREAD MORE',\n",
       " 'Previously I was using one plus 3t it was a great phone\\nAnd then I decided to upgrade I am stuck between Samsung s10 plus or iPhone 11\\nI have seen the specs and everything were good except the display it’s somewhere between 720-1080 and it’s not even an amoled it’s an LCD display\\nBut I decided to go with iPhone because I have never used an IOS device I have Been an android user from the past 9 years I ordered IPhone 11 (128gb) product red\\nMy experience after using 3 weeks\\n1. The delivery ...\\nREAD MORE',\n",
       " 'So far it’s been an AMAZING experience coming back to iOS after nearly a decade but it’s not as versatile as android though phone is sturdy dropped it accidentally a couple of times and nothing happened fortunately camera is awesome',\n",
       " 'iphone 11 is a very good phone to buy only if you can compromise for the display. The display on this is device is pretty good but you can get other options with better displays in this price segment.\\nIf you can survive with an HD+ LCD panel with thicker bezels and a notch up top then this is a very good phone for you.\\nCameras are awesome, battery backup excellent, great performance and a decent premium look. Good job Apple !',\n",
       " 'It’s a must buy who is looking for an upgrade from previous generation of iPhones. If you are using XR then still you can hold on for sometime and upgrade to 2020 model else this phone is a must buy . Camera quality is amazing and wide angle is something to count upon. Performance wise it’s amazing and feels premium while holding in hand. So a big YES for this device. Go for 128 GB variant as the 4K videos will occupy lots of space and the storage can get over very quickly. Try to buy it with...\\nREAD MORE',\n",
       " 'This is my first iOS phone. I am very happy with this product. Very much satisfied with this. I love this phone.',\n",
       " 'Value for money❤️❤️\\nIts awesome mobile phone in the world ...\\nDisplay was very good and bright ..\\nTrust me freinds you r never regret after Buying..\\nJust go for it....\\nI love this phone and i switch to iphone x to 11',\n",
       " '*Review after 10 months of usage*\\nDoesn\\'t seem bulky with decent touch and camera. The \"standard maintained\" quality of IPhone. Go for it, if your budget is not more enough for pro models. It\\'s a value for money among the 11 series Stereo speakers are so good, you will love the stereo sound. Battery backup is not decent but still better than Iphone 7 and 8.Processor is fast, the phone doesn\\'t lag at all even with heavy games, waterproof, faster face id and with no fingerprint scanners. The ca...\\nREAD MORE',\n",
       " 'Best budget Iphone till date ❤️ go for it guys without second thought. Let me explain you guys about Camera, Display, battery, and performance.\\n\\nCamera: at this price range there is no comparison of camera, you’ll love the picture quality as well as video quality. I am a Vlogger I wanted an iPhone with 4k video by front camera and I got this phone and I am more than happy 😃\\n\\nBattery: I use this phone roughly as I am active social media person and I have a youtube channel. so the battery ba...\\nREAD MORE',\n",
       " \"Iphone is just awesome.. battery backup is very very nice.. continuously for 10 hours we can use it.camera is just awesome.. display is just fab.i love it alot..i had to wait 15 days for it as i pre ordered it..overalll it's worth the price..these all images are clicked by my iPhone..and i love it.\",\n",
       " 'It’s been almost a month since I have been using this phone. I upgraded from an iPhone 8. The main issue with my 8 was battery and this phone is just awesome when it comes to battery. It lasts a day and a half for me with my regular use , internet connected always with 4g\\nCan’t move forward without saying this. Battery of this phone is a life saver when I am traveling or at work when I don’t get the option to charge\\nCamera is superb. Front cam selfies and back cam photos are just awesome.\\n...\\nREAD MORE',\n",
       " 'Awesome Phone. Slightly high price but worth. Better than iPhone XR.\\nCamera is superb and wide angle camera is very clear.\\n12MP selfie camera is also very good.\\nA13 Chip gives a very good and smooth performance.',\n",
       " 'Excellent camera, good performance, no lag. The lcd display is also good.. but difference come when we watch movie in prime and Netflix, the colours are not vibrant.. as we see in amoled display.. and the charger in box is of 5 watts.. takes more than 3 hours to charge from 0 to 100.. so guys be prepare to buy 18 watts charger . Finally I am an android user, it was my first Iapple phone, I promise u guys the iOS is so smooth.. overall the phone is damn good.... close eyes to buy it.. thanks t...\\nREAD MORE',\n",
       " 'Really worth of money. i just love it. It is the best phone ever.',\n",
       " \"It's my first time to use iOS phone and I am loving my upgradation 😍😍 I love the color, I love the assebility of the phone....I need to learn more about its functionality, but as far as I have seen, it's quite easy and it has a lot of functions to work on, specially if you are a content writer or a blogger you get a lot of content creation platforms and they are really amazing.\\n\\nThis phone not only for good quality photography but a lot of other task too.😍💯\",\n",
       " 'Superb Product !!!\\nA big and worthy upgrade from mi 3S to iphone 11 .\\nTotally loved it !',\n",
       " 'This is my first ever I phone. Before this I was using my google nexus 5. But moving from android to iOS is a great experience. It’s worth at this price. I will highly recommend it if you want to move to iOS. The best part of this phone is it’s camera and it’s battery life. This two things have won my heart. I loved it. Happy to have it in my hand. Still exploring its features. And can’t forget to mention Flipkart service. Very prompt service and fast delivery.',\n",
       " 'I have migrated from OP 7pro... and trust me, iPhone 11 is totally worth it.. following are the reasons:-\\n1)there is ABSOLUTELY NO ISSUE WITH THE DISPLAY... its crisp, sharp and I found it to be much much better than OP7 pro. Netflix, Prime video all run crisply... you won’t miss a thing. True Tone works flawlessly...the display brightness is perfect. OP have not calibrated their screens properly.\\n2) iPhone 11 series have really good cameras... others have spoken in depth about them.\\n3) bat...\\nREAD MORE',\n",
       " 'The Best Phone for the Money\\n\\nThe iPhone 11 offers superb cameras, a more durable design and excellent battery life for an affordable price.\\n\\nCompelling ultra-wide camera\\nNew Night mode is excellent\\nLong battery life',\n",
       " 'Amazing phone with great cameras and better battery which gives you the best performance. I just love the camera .',\n",
       " 'Amazing Powerful and Durable Gadget.\\n\\nI’m am very happy with the camera picture quality, Amazing face id unlocked in dark room, Strong battery with perfect screen size as you can carry easily in pocket. This is my third iPhone.\\n\\nI shifted from android Samsung Note series to iPhone because of the strong build quality and peace of mind for next 3-4 years.\\n\\nDon’t think to much just go for it and I suggest you to go for minimum 128gb variant or more 256gb.\\n\\nI’ve attached my puppy pics and no fi...\\nREAD MORE',\n",
       " 'Previously I was using one plus 3t it was a great phone\\nAnd then I decided to upgrade I am stuck between Samsung s10 plus or iPhone 11\\nI have seen the specs and everything were good except the display it’s somewhere between 720-1080 and it’s not even an amoled it’s an LCD display\\nBut I decided to go with iPhone because I have never used an IOS device I have Been an android user from the past 9 years I ordered IPhone 11 (128gb) product red\\nMy experience after using 3 weeks\\n1. The delivery ...\\nREAD MORE',\n",
       " 'So far it’s been an AMAZING experience coming back to iOS after nearly a decade but it’s not as versatile as android though phone is sturdy dropped it accidentally a couple of times and nothing happened fortunately camera is awesome',\n",
       " 'iphone 11 is a very good phone to buy only if you can compromise for the display. The display on this is device is pretty good but you can get other options with better displays in this price segment.\\nIf you can survive with an HD+ LCD panel with thicker bezels and a notch up top then this is a very good phone for you.\\nCameras are awesome, battery backup excellent, great performance and a decent premium look. Good job Apple !',\n",
       " 'It’s a must buy who is looking for an upgrade from previous generation of iPhones. If you are using XR then still you can hold on for sometime and upgrade to 2020 model else this phone is a must buy . Camera quality is amazing and wide angle is something to count upon. Performance wise it’s amazing and feels premium while holding in hand. So a big YES for this device. Go for 128 GB variant as the 4K videos will occupy lots of space and the storage can get over very quickly. Try to buy it with...\\nREAD MORE',\n",
       " 'This is my first iOS phone. I am very happy with this product. Very much satisfied with this. I love this phone.',\n",
       " 'Value for money❤️❤️\\nIts awesome mobile phone in the world ...\\nDisplay was very good and bright ..\\nTrust me freinds you r never regret after Buying..\\nJust go for it....\\nI love this phone and i switch to iphone x to 11',\n",
       " '*Review after 10 months of usage*\\nDoesn\\'t seem bulky with decent touch and camera. The \"standard maintained\" quality of IPhone. Go for it, if your budget is not more enough for pro models. It\\'s a value for money among the 11 series Stereo speakers are so good, you will love the stereo sound. Battery backup is not decent but still better than Iphone 7 and 8.Processor is fast, the phone doesn\\'t lag at all even with heavy games, waterproof, faster face id and with no fingerprint scanners. The ca...\\nREAD MORE',\n",
       " 'Best budget Iphone till date ❤️ go for it guys without second thought. Let me explain you guys about Camera, Display, battery, and performance.\\n\\nCamera: at this price range there is no comparison of camera, you’ll love the picture quality as well as video quality. I am a Vlogger I wanted an iPhone with 4k video by front camera and I got this phone and I am more than happy 😃\\n\\nBattery: I use this phone roughly as I am active social media person and I have a youtube channel. so the battery ba...\\nREAD MORE',\n",
       " \"Iphone is just awesome.. battery backup is very very nice.. continuously for 10 hours we can use it.camera is just awesome.. display is just fab.i love it alot..i had to wait 15 days for it as i pre ordered it..overalll it's worth the price..these all images are clicked by my iPhone..and i love it.\",\n",
       " 'It’s been almost a month since I have been using this phone. I upgraded from an iPhone 8. The main issue with my 8 was battery and this phone is just awesome when it comes to battery. It lasts a day and a half for me with my regular use , internet connected always with 4g\\nCan’t move forward without saying this. Battery of this phone is a life saver when I am traveling or at work when I don’t get the option to charge\\nCamera is superb. Front cam selfies and back cam photos are just awesome.\\n...\\nREAD MORE',\n",
       " 'Awesome Phone. Slightly high price but worth. Better than iPhone XR.\\nCamera is superb and wide angle camera is very clear.\\n12MP selfie camera is also very good.\\nA13 Chip gives a very good and smooth performance.',\n",
       " 'Excellent camera, good performance, no lag. The lcd display is also good.. but difference come when we watch movie in prime and Netflix, the colours are not vibrant.. as we see in amoled display.. and the charger in box is of 5 watts.. takes more than 3 hours to charge from 0 to 100.. so guys be prepare to buy 18 watts charger . Finally I am an android user, it was my first Iapple phone, I promise u guys the iOS is so smooth.. overall the phone is damn good.... close eyes to buy it.. thanks t...\\nREAD MORE',\n",
       " 'Really worth of money. i just love it. It is the best phone ever.',\n",
       " \"It's my first time to use iOS phone and I am loving my upgradation 😍😍 I love the color, I love the assebility of the phone....I need to learn more about its functionality, but as far as I have seen, it's quite easy and it has a lot of functions to work on, specially if you are a content writer or a blogger you get a lot of content creation platforms and they are really amazing.\\n\\nThis phone not only for good quality photography but a lot of other task too.😍💯\",\n",
       " 'Superb Product !!!\\nA big and worthy upgrade from mi 3S to iphone 11 .\\nTotally loved it !',\n",
       " 'This is my first ever I phone. Before this I was using my google nexus 5. But moving from android to iOS is a great experience. It’s worth at this price. I will highly recommend it if you want to move to iOS. The best part of this phone is it’s camera and it’s battery life. This two things have won my heart. I loved it. Happy to have it in my hand. Still exploring its features. And can’t forget to mention Flipkart service. Very prompt service and fast delivery.',\n",
       " 'I have migrated from OP 7pro... and trust me, iPhone 11 is totally worth it.. following are the reasons:-\\n1)there is ABSOLUTELY NO ISSUE WITH THE DISPLAY... its crisp, sharp and I found it to be much much better than OP7 pro. Netflix, Prime video all run crisply... you won’t miss a thing. True Tone works flawlessly...the display brightness is perfect. OP have not calibrated their screens properly.\\n2) iPhone 11 series have really good cameras... others have spoken in depth about them.\\n3) bat...\\nREAD MORE',\n",
       " 'The Best Phone for the Money\\n\\nThe iPhone 11 offers superb cameras, a more durable design and excellent battery life for an affordable price.\\n\\nCompelling ultra-wide camera\\nNew Night mode is excellent\\nLong battery life',\n",
       " 'Amazing phone with great cameras and better battery which gives you the best performance. I just love the camera .',\n",
       " 'Amazing Powerful and Durable Gadget.\\n\\nI’m am very happy with the camera picture quality, Amazing face id unlocked in dark room, Strong battery with perfect screen size as you can carry easily in pocket. This is my third iPhone.\\n\\nI shifted from android Samsung Note series to iPhone because of the strong build quality and peace of mind for next 3-4 years.\\n\\nDon’t think to much just go for it and I suggest you to go for minimum 128gb variant or more 256gb.\\n\\nI’ve attached my puppy pics and no fi...\\nREAD MORE',\n",
       " 'Previously I was using one plus 3t it was a great phone\\nAnd then I decided to upgrade I am stuck between Samsung s10 plus or iPhone 11\\nI have seen the specs and everything were good except the display it’s somewhere between 720-1080 and it’s not even an amoled it’s an LCD display\\nBut I decided to go with iPhone because I have never used an IOS device I have Been an android user from the past 9 years I ordered IPhone 11 (128gb) product red\\nMy experience after using 3 weeks\\n1. The delivery ...\\nREAD MORE',\n",
       " 'So far it’s been an AMAZING experience coming back to iOS after nearly a decade but it’s not as versatile as android though phone is sturdy dropped it accidentally a couple of times and nothing happened fortunately camera is awesome',\n",
       " 'iphone 11 is a very good phone to buy only if you can compromise for the display. The display on this is device is pretty good but you can get other options with better displays in this price segment.\\nIf you can survive with an HD+ LCD panel with thicker bezels and a notch up top then this is a very good phone for you.\\nCameras are awesome, battery backup excellent, great performance and a decent premium look. Good job Apple !',\n",
       " 'It’s a must buy who is looking for an upgrade from previous generation of iPhones. If you are using XR then still you can hold on for sometime and upgrade to 2020 model else this phone is a must buy . Camera quality is amazing and wide angle is something to count upon. Performance wise it’s amazing and feels premium while holding in hand. So a big YES for this device. Go for 128 GB variant as the 4K videos will occupy lots of space and the storage can get over very quickly. Try to buy it with...\\nREAD MORE',\n",
       " 'This is my first iOS phone. I am very happy with this product. Very much satisfied with this. I love this phone.',\n",
       " 'Value for money❤️❤️\\nIts awesome mobile phone in the world ...\\nDisplay was very good and bright ..\\nTrust me freinds you r never regret after Buying..\\nJust go for it....\\nI love this phone and i switch to iphone x to 11',\n",
       " '*Review after 10 months of usage*\\nDoesn\\'t seem bulky with decent touch and camera. The \"standard maintained\" quality of IPhone. Go for it, if your budget is not more enough for pro models. It\\'s a value for money among the 11 series Stereo speakers are so good, you will love the stereo sound. Battery backup is not decent but still better than Iphone 7 and 8.Processor is fast, the phone doesn\\'t lag at all even with heavy games, waterproof, faster face id and with no fingerprint scanners. The ca...\\nREAD MORE',\n",
       " 'The Best Phone for the Money\\n\\nThe iPhone 11 offers superb cameras, a more durable design and excellent battery life for an affordable price.\\n\\nCompelling ultra-wide camera\\nNew Night mode is excellent\\nLong battery life',\n",
       " 'Amazing phone with great cameras and better battery which gives you the best performance. I just love the camera .',\n",
       " 'Amazing Powerful and Durable Gadget.\\n\\nI’m am very happy with the camera picture quality, Amazing face id unlocked in dark room, Strong battery with perfect screen size as you can carry easily in pocket. This is my third iPhone.\\n\\nI shifted from android Samsung Note series to iPhone because of the strong build quality and peace of mind for next 3-4 years.\\n\\nDon’t think to much just go for it and I suggest you to go for minimum 128gb variant or more 256gb.\\n\\nI’ve attached my puppy pics and no fi...\\nREAD MORE',\n",
       " 'Previously I was using one plus 3t it was a great phone\\nAnd then I decided to upgrade I am stuck between Samsung s10 plus or iPhone 11\\nI have seen the specs and everything were good except the display it’s somewhere between 720-1080 and it’s not even an amoled it’s an LCD display\\nBut I decided to go with iPhone because I have never used an IOS device I have Been an android user from the past 9 years I ordered IPhone 11 (128gb) product red\\nMy experience after using 3 weeks\\n1. The delivery ...\\nREAD MORE',\n",
       " 'So far it’s been an AMAZING experience coming back to iOS after nearly a decade but it’s not as versatile as android though phone is sturdy dropped it accidentally a couple of times and nothing happened fortunately camera is awesome',\n",
       " 'iphone 11 is a very good phone to buy only if you can compromise for the display. The display on this is device is pretty good but you can get other options with better displays in this price segment.\\nIf you can survive with an HD+ LCD panel with thicker bezels and a notch up top then this is a very good phone for you.\\nCameras are awesome, battery backup excellent, great performance and a decent premium look. Good job Apple !',\n",
       " 'It’s a must buy who is looking for an upgrade from previous generation of iPhones. If you are using XR then still you can hold on for sometime and upgrade to 2020 model else this phone is a must buy . Camera quality is amazing and wide angle is something to count upon. Performance wise it’s amazing and feels premium while holding in hand. So a big YES for this device. Go for 128 GB variant as the 4K videos will occupy lots of space and the storage can get over very quickly. Try to buy it with...\\nREAD MORE',\n",
       " 'This is my first iOS phone. I am very happy with this product. Very much satisfied with this. I love this phone.',\n",
       " 'Value for money❤️❤️\\nIts awesome mobile phone in the world ...\\nDisplay was very good and bright ..\\nTrust me freinds you r never regret after Buying..\\nJust go for it....\\nI love this phone and i switch to iphone x to 11',\n",
       " '*Review after 10 months of usage*\\nDoesn\\'t seem bulky with decent touch and camera. The \"standard maintained\" quality of IPhone. Go for it, if your budget is not more enough for pro models. It\\'s a value for money among the 11 series Stereo speakers are so good, you will love the stereo sound. Battery backup is not decent but still better than Iphone 7 and 8.Processor is fast, the phone doesn\\'t lag at all even with heavy games, waterproof, faster face id and with no fingerprint scanners. The ca...\\nREAD MORE',\n",
       " 'Best budget Iphone till date ❤️ go for it guys without second thought. Let me explain you guys about Camera, Display, battery, and performance.\\n\\nCamera: at this price range there is no comparison of camera, you’ll love the picture quality as well as video quality. I am a Vlogger I wanted an iPhone with 4k video by front camera and I got this phone and I am more than happy 😃\\n\\nBattery: I use this phone roughly as I am active social media person and I have a youtube channel. so the battery ba...\\nREAD MORE',\n",
       " \"Iphone is just awesome.. battery backup is very very nice.. continuously for 10 hours we can use it.camera is just awesome.. display is just fab.i love it alot..i had to wait 15 days for it as i pre ordered it..overalll it's worth the price..these all images are clicked by my iPhone..and i love it.\",\n",
       " 'It’s been almost a month since I have been using this phone. I upgraded from an iPhone 8. The main issue with my 8 was battery and this phone is just awesome when it comes to battery. It lasts a day and a half for me with my regular use , internet connected always with 4g\\nCan’t move forward without saying this. Battery of this phone is a life saver when I am traveling or at work when I don’t get the option to charge\\nCamera is superb. Front cam selfies and back cam photos are just awesome.\\n...\\nREAD MORE',\n",
       " 'Awesome Phone. Slightly high price but worth. Better than iPhone XR.\\nCamera is superb and wide angle camera is very clear.\\n12MP selfie camera is also very good.\\nA13 Chip gives a very good and smooth performance.',\n",
       " 'Excellent camera, good performance, no lag. The lcd display is also good.. but difference come when we watch movie in prime and Netflix, the colours are not vibrant.. as we see in amoled display.. and the charger in box is of 5 watts.. takes more than 3 hours to charge from 0 to 100.. so guys be prepare to buy 18 watts charger . Finally I am an android user, it was my first Iapple phone, I promise u guys the iOS is so smooth.. overall the phone is damn good.... close eyes to buy it.. thanks t...\\nREAD MORE',\n",
       " 'Really worth of money. i just love it. It is the best phone ever.',\n",
       " \"It's my first time to use iOS phone and I am loving my upgradation 😍😍 I love the color, I love the assebility of the phone....I need to learn more about its functionality, but as far as I have seen, it's quite easy and it has a lot of functions to work on, specially if you are a content writer or a blogger you get a lot of content creation platforms and they are really amazing.\\n\\nThis phone not only for good quality photography but a lot of other task too.😍💯\",\n",
       " 'Superb Product !!!\\nA big and worthy upgrade from mi 3S to iphone 11 .\\nTotally loved it !',\n",
       " 'This is my first ever I phone. Before this I was using my google nexus 5. But moving from android to iOS is a great experience. It’s worth at this price. I will highly recommend it if you want to move to iOS. The best part of this phone is it’s camera and it’s battery life. This two things have won my heart. I loved it. Happy to have it in my hand. Still exploring its features. And can’t forget to mention Flipkart service. Very prompt service and fast delivery.',\n",
       " 'I have migrated from OP 7pro... and trust me, iPhone 11 is totally worth it.. following are the reasons:-\\n1)there is ABSOLUTELY NO ISSUE WITH THE DISPLAY... its crisp, sharp and I found it to be much much better than OP7 pro. Netflix, Prime video all run crisply... you won’t miss a thing. True Tone works flawlessly...the display brightness is perfect. OP have not calibrated their screens properly.\\n2) iPhone 11 series have really good cameras... others have spoken in depth about them.\\n3) bat...\\nREAD MORE']"
      ]
     },
     "execution_count": 110,
     "metadata": {},
     "output_type": "execute_result"
    }
   ],
   "source": [
    "#collecting first 100 reviews\n",
    "Full_review=full_review[:100]\n",
    "Full_review"
   ]
  },
  {
   "cell_type": "markdown",
   "metadata": {},
   "source": [
    "So,now we have extracted the data required from the webpage and stored them in the 3 lists mentioned above.Now before creating a dataframe from the list,lets first check the length of each of the list.Because if the length of all of the lists are not equal,then the dataframe cannot be formed."
   ]
  },
  {
   "cell_type": "code",
   "execution_count": 111,
   "metadata": {},
   "outputs": [
    {
     "data": {
      "text/plain": [
       "(100, 100, 100)"
      ]
     },
     "execution_count": 111,
     "metadata": {},
     "output_type": "execute_result"
    }
   ],
   "source": [
    "len(Rating),len(Review_sum),len(Full_review)"
   ]
  },
  {
   "cell_type": "code",
   "execution_count": 112,
   "metadata": {},
   "outputs": [],
   "source": [
    "#building a dataframe named iphone_reviews\n",
    "iphone_reviews=pd.DataFrame(({}))\n",
    "iphone_reviews['Rating']=Rating\n",
    "iphone_reviews['Review Summary']=Review_sum\n",
    "iphone_reviews['Full Review']=Full_review"
   ]
  },
  {
   "cell_type": "code",
   "execution_count": 113,
   "metadata": {},
   "outputs": [
    {
     "data": {
      "text/html": [
       "<div>\n",
       "<style scoped>\n",
       "    .dataframe tbody tr th:only-of-type {\n",
       "        vertical-align: middle;\n",
       "    }\n",
       "\n",
       "    .dataframe tbody tr th {\n",
       "        vertical-align: top;\n",
       "    }\n",
       "\n",
       "    .dataframe thead th {\n",
       "        text-align: right;\n",
       "    }\n",
       "</style>\n",
       "<table border=\"1\" class=\"dataframe\">\n",
       "  <thead>\n",
       "    <tr style=\"text-align: right;\">\n",
       "      <th></th>\n",
       "      <th>Rating</th>\n",
       "      <th>Review Summary</th>\n",
       "      <th>Full Review</th>\n",
       "    </tr>\n",
       "  </thead>\n",
       "  <tbody>\n",
       "    <tr>\n",
       "      <th>0</th>\n",
       "      <td>5</td>\n",
       "      <td>Brilliant</td>\n",
       "      <td>The Best Phone for the Money\\n\\nThe iPhone 11 ...</td>\n",
       "    </tr>\n",
       "    <tr>\n",
       "      <th>1</th>\n",
       "      <td>5</td>\n",
       "      <td>Perfect product!</td>\n",
       "      <td>Amazing phone with great cameras and better ba...</td>\n",
       "    </tr>\n",
       "    <tr>\n",
       "      <th>2</th>\n",
       "      <td>5</td>\n",
       "      <td>Great product</td>\n",
       "      <td>Amazing Powerful and Durable Gadget.\\n\\nI’m am...</td>\n",
       "    </tr>\n",
       "    <tr>\n",
       "      <th>3</th>\n",
       "      <td>5</td>\n",
       "      <td>Worth every penny</td>\n",
       "      <td>Previously I was using one plus 3t it was a gr...</td>\n",
       "    </tr>\n",
       "    <tr>\n",
       "      <th>4</th>\n",
       "      <td>5</td>\n",
       "      <td>Good choice</td>\n",
       "      <td>So far it’s been an AMAZING experience coming ...</td>\n",
       "    </tr>\n",
       "    <tr>\n",
       "      <th>...</th>\n",
       "      <td>...</td>\n",
       "      <td>...</td>\n",
       "      <td>...</td>\n",
       "    </tr>\n",
       "    <tr>\n",
       "      <th>95</th>\n",
       "      <td>4</td>\n",
       "      <td>Terrific</td>\n",
       "      <td>Really worth of money. i just love it. It is t...</td>\n",
       "    </tr>\n",
       "    <tr>\n",
       "      <th>96</th>\n",
       "      <td>5</td>\n",
       "      <td>Highly recommended</td>\n",
       "      <td>It's my first time to use iOS phone and I am l...</td>\n",
       "    </tr>\n",
       "    <tr>\n",
       "      <th>97</th>\n",
       "      <td>5</td>\n",
       "      <td>Classy product</td>\n",
       "      <td>Superb Product !!!\\nA big and worthy upgrade f...</td>\n",
       "    </tr>\n",
       "    <tr>\n",
       "      <th>98</th>\n",
       "      <td>5</td>\n",
       "      <td>Wonderful</td>\n",
       "      <td>This is my first ever I phone. Before this I w...</td>\n",
       "    </tr>\n",
       "    <tr>\n",
       "      <th>99</th>\n",
       "      <td>5</td>\n",
       "      <td>Brilliant</td>\n",
       "      <td>I have migrated from OP 7pro... and trust me, ...</td>\n",
       "    </tr>\n",
       "  </tbody>\n",
       "</table>\n",
       "<p>100 rows × 3 columns</p>\n",
       "</div>"
      ],
      "text/plain": [
       "   Rating      Review Summary  \\\n",
       "0       5           Brilliant   \n",
       "1       5    Perfect product!   \n",
       "2       5       Great product   \n",
       "3       5   Worth every penny   \n",
       "4       5         Good choice   \n",
       "..    ...                 ...   \n",
       "95      4            Terrific   \n",
       "96      5  Highly recommended   \n",
       "97      5      Classy product   \n",
       "98      5           Wonderful   \n",
       "99      5           Brilliant   \n",
       "\n",
       "                                          Full Review  \n",
       "0   The Best Phone for the Money\\n\\nThe iPhone 11 ...  \n",
       "1   Amazing phone with great cameras and better ba...  \n",
       "2   Amazing Powerful and Durable Gadget.\\n\\nI’m am...  \n",
       "3   Previously I was using one plus 3t it was a gr...  \n",
       "4   So far it’s been an AMAZING experience coming ...  \n",
       "..                                                ...  \n",
       "95  Really worth of money. i just love it. It is t...  \n",
       "96  It's my first time to use iOS phone and I am l...  \n",
       "97  Superb Product !!!\\nA big and worthy upgrade f...  \n",
       "98  This is my first ever I phone. Before this I w...  \n",
       "99  I have migrated from OP 7pro... and trust me, ...  \n",
       "\n",
       "[100 rows x 3 columns]"
      ]
     },
     "execution_count": 113,
     "metadata": {},
     "output_type": "execute_result"
    }
   ],
   "source": [
    "iphone_reviews"
   ]
  },
  {
   "cell_type": "markdown",
   "metadata": {},
   "source": [
    "# Q8:\n",
    "Scrape data for first 100 sneakers you find when you visit flipkart.com and \n",
    "search for “sneakers” in the search field.\n",
    "You have to scrape 4 attributes of each sneaker :\n",
    "1. Brand\n",
    "\n",
    "2. Product Description\n",
    "\n",
    "3. Price\n",
    "\n",
    "4. discount %"
   ]
  },
  {
   "cell_type": "code",
   "execution_count": 320,
   "metadata": {},
   "outputs": [],
   "source": [
    "#lets first connect to the webdriver\n",
    "driver=webdriver.Chrome('chromedriver.exe')"
   ]
  },
  {
   "cell_type": "code",
   "execution_count": 321,
   "metadata": {},
   "outputs": [],
   "source": [
    "#accessing the webpage\n",
    "url='https://www.flipkart.com/'\n",
    "driver.get(url)"
   ]
  },
  {
   "cell_type": "code",
   "execution_count": 322,
   "metadata": {},
   "outputs": [
    {
     "data": {
      "text/plain": [
       "<selenium.webdriver.remote.webelement.WebElement (session=\"5197c8547257cae371eb2ba9eb3e11e2\", element=\"83e55a26-9a04-4242-b85c-70441bfbc8c3\")>"
      ]
     },
     "execution_count": 322,
     "metadata": {},
     "output_type": "execute_result"
    }
   ],
   "source": [
    "#finding the element for search bar\n",
    "search_bar=driver.find_element_by_xpath(\"//div[@class='_3OO5Xc']//input\")\n",
    "search_bar"
   ]
  },
  {
   "cell_type": "code",
   "execution_count": 323,
   "metadata": {},
   "outputs": [],
   "source": [
    "#Write on the search bar\n",
    "search_bar.send_keys(\"sneakers\")"
   ]
  },
  {
   "cell_type": "code",
   "execution_count": 324,
   "metadata": {},
   "outputs": [],
   "source": [
    "#find the element for the search button\n",
    "search_btn=driver.find_element_by_xpath(\"//button[@class='L0Z3Pu']\")\n",
    "#click on the search button\n",
    "search_btn.click()"
   ]
  },
  {
   "cell_type": "code",
   "execution_count": 325,
   "metadata": {},
   "outputs": [
    {
     "data": {
      "text/plain": [
       "[<selenium.webdriver.remote.webelement.WebElement (session=\"5197c8547257cae371eb2ba9eb3e11e2\", element=\"e886d861-adde-4290-8c25-a78959fa2319\")>,\n",
       " <selenium.webdriver.remote.webelement.WebElement (session=\"5197c8547257cae371eb2ba9eb3e11e2\", element=\"89375e17-84d1-4bb2-acb4-cd209604649e\")>,\n",
       " <selenium.webdriver.remote.webelement.WebElement (session=\"5197c8547257cae371eb2ba9eb3e11e2\", element=\"825c461c-4631-4540-a36c-6831ad813f57\")>,\n",
       " <selenium.webdriver.remote.webelement.WebElement (session=\"5197c8547257cae371eb2ba9eb3e11e2\", element=\"d9c532d5-ff70-430e-854a-51da5153c606\")>,\n",
       " <selenium.webdriver.remote.webelement.WebElement (session=\"5197c8547257cae371eb2ba9eb3e11e2\", element=\"6a7f49de-5784-4ee5-9ac1-a535c67eb13d\")>,\n",
       " <selenium.webdriver.remote.webelement.WebElement (session=\"5197c8547257cae371eb2ba9eb3e11e2\", element=\"2064685e-989c-4acb-9682-8e56d8674f8e\")>,\n",
       " <selenium.webdriver.remote.webelement.WebElement (session=\"5197c8547257cae371eb2ba9eb3e11e2\", element=\"0ca72101-18ed-4196-a720-547abed2c2af\")>,\n",
       " <selenium.webdriver.remote.webelement.WebElement (session=\"5197c8547257cae371eb2ba9eb3e11e2\", element=\"d74dccc0-5f0f-45a8-b4f4-b44db9d4a6b5\")>,\n",
       " <selenium.webdriver.remote.webelement.WebElement (session=\"5197c8547257cae371eb2ba9eb3e11e2\", element=\"b3f7e635-9b16-467b-8d4d-aad8c2fee838\")>,\n",
       " <selenium.webdriver.remote.webelement.WebElement (session=\"5197c8547257cae371eb2ba9eb3e11e2\", element=\"c9b16826-5a96-45da-b9fe-61db58ef6a57\")>,\n",
       " <selenium.webdriver.remote.webelement.WebElement (session=\"5197c8547257cae371eb2ba9eb3e11e2\", element=\"763bc561-33d0-4ccc-b4c4-891586d1d548\")>,\n",
       " <selenium.webdriver.remote.webelement.WebElement (session=\"5197c8547257cae371eb2ba9eb3e11e2\", element=\"47928648-7ede-47b9-a871-73e13358486a\")>,\n",
       " <selenium.webdriver.remote.webelement.WebElement (session=\"5197c8547257cae371eb2ba9eb3e11e2\", element=\"5b9c1324-9a41-4371-b0fa-78327843efa8\")>,\n",
       " <selenium.webdriver.remote.webelement.WebElement (session=\"5197c8547257cae371eb2ba9eb3e11e2\", element=\"bc635c07-f2b1-494b-85a8-d1d48971667b\")>,\n",
       " <selenium.webdriver.remote.webelement.WebElement (session=\"5197c8547257cae371eb2ba9eb3e11e2\", element=\"3be618e0-48f0-43a5-b1df-d31e590227c1\")>,\n",
       " <selenium.webdriver.remote.webelement.WebElement (session=\"5197c8547257cae371eb2ba9eb3e11e2\", element=\"71c79bae-732a-40d9-a489-e41a9dac03b1\")>,\n",
       " <selenium.webdriver.remote.webelement.WebElement (session=\"5197c8547257cae371eb2ba9eb3e11e2\", element=\"3641f1af-5c07-4991-b089-d8b68078155d\")>,\n",
       " <selenium.webdriver.remote.webelement.WebElement (session=\"5197c8547257cae371eb2ba9eb3e11e2\", element=\"5f532dd3-4ddf-482e-ae6e-c5726c72aa54\")>,\n",
       " <selenium.webdriver.remote.webelement.WebElement (session=\"5197c8547257cae371eb2ba9eb3e11e2\", element=\"6ce6726c-ec0b-4b84-93f5-3017cd0c5a3f\")>,\n",
       " <selenium.webdriver.remote.webelement.WebElement (session=\"5197c8547257cae371eb2ba9eb3e11e2\", element=\"7fe50614-bce5-48e9-b288-3ebf7bb9dc10\")>,\n",
       " <selenium.webdriver.remote.webelement.WebElement (session=\"5197c8547257cae371eb2ba9eb3e11e2\", element=\"7a0789da-2043-4204-9f4e-ba0089b884fd\")>,\n",
       " <selenium.webdriver.remote.webelement.WebElement (session=\"5197c8547257cae371eb2ba9eb3e11e2\", element=\"9f6074d7-c82d-47d6-937b-107b2e334644\")>,\n",
       " <selenium.webdriver.remote.webelement.WebElement (session=\"5197c8547257cae371eb2ba9eb3e11e2\", element=\"537461b9-93f1-4921-acaf-4f0e32de1bf6\")>,\n",
       " <selenium.webdriver.remote.webelement.WebElement (session=\"5197c8547257cae371eb2ba9eb3e11e2\", element=\"89814440-505d-42e3-a378-5f25335b49df\")>,\n",
       " <selenium.webdriver.remote.webelement.WebElement (session=\"5197c8547257cae371eb2ba9eb3e11e2\", element=\"62a37516-460b-4c74-a372-978993dce6bd\")>,\n",
       " <selenium.webdriver.remote.webelement.WebElement (session=\"5197c8547257cae371eb2ba9eb3e11e2\", element=\"602c3f5c-4db9-4dd8-9808-fdc3ef43bf0c\")>,\n",
       " <selenium.webdriver.remote.webelement.WebElement (session=\"5197c8547257cae371eb2ba9eb3e11e2\", element=\"00c65d7f-336f-4731-8ad2-abd933781cc7\")>,\n",
       " <selenium.webdriver.remote.webelement.WebElement (session=\"5197c8547257cae371eb2ba9eb3e11e2\", element=\"83f28afb-17ce-4f2f-92fa-1ba43042cfdc\")>,\n",
       " <selenium.webdriver.remote.webelement.WebElement (session=\"5197c8547257cae371eb2ba9eb3e11e2\", element=\"a049eb9f-5146-40c0-910d-105bcf18e6db\")>,\n",
       " <selenium.webdriver.remote.webelement.WebElement (session=\"5197c8547257cae371eb2ba9eb3e11e2\", element=\"5a69d10e-8920-4a12-be24-bee8c8d8a515\")>,\n",
       " <selenium.webdriver.remote.webelement.WebElement (session=\"5197c8547257cae371eb2ba9eb3e11e2\", element=\"157ea625-573b-400e-8b51-af6e8419328c\")>,\n",
       " <selenium.webdriver.remote.webelement.WebElement (session=\"5197c8547257cae371eb2ba9eb3e11e2\", element=\"8bf37a60-0f68-42e3-b8cc-588b2f98553d\")>,\n",
       " <selenium.webdriver.remote.webelement.WebElement (session=\"5197c8547257cae371eb2ba9eb3e11e2\", element=\"546f1f50-6e02-4ff4-9662-1ce7b8ab4728\")>,\n",
       " <selenium.webdriver.remote.webelement.WebElement (session=\"5197c8547257cae371eb2ba9eb3e11e2\", element=\"0f3cde3f-8aa6-4f0b-8158-1bef57ee3148\")>,\n",
       " <selenium.webdriver.remote.webelement.WebElement (session=\"5197c8547257cae371eb2ba9eb3e11e2\", element=\"2e4b1222-61da-4675-be2c-5393520a046d\")>,\n",
       " <selenium.webdriver.remote.webelement.WebElement (session=\"5197c8547257cae371eb2ba9eb3e11e2\", element=\"d9826991-bfb1-4640-993a-b1feb37a5a95\")>,\n",
       " <selenium.webdriver.remote.webelement.WebElement (session=\"5197c8547257cae371eb2ba9eb3e11e2\", element=\"ebcb7d90-0b44-4f17-acc3-bf12a4e31d29\")>,\n",
       " <selenium.webdriver.remote.webelement.WebElement (session=\"5197c8547257cae371eb2ba9eb3e11e2\", element=\"a3990127-5c91-40d8-94aa-67a2f6619ba8\")>,\n",
       " <selenium.webdriver.remote.webelement.WebElement (session=\"5197c8547257cae371eb2ba9eb3e11e2\", element=\"38afddb5-b12a-4319-987a-4e9a4a457469\")>,\n",
       " <selenium.webdriver.remote.webelement.WebElement (session=\"5197c8547257cae371eb2ba9eb3e11e2\", element=\"21376b3d-4af5-4c76-a685-8f9d2bd2a443\")>]"
      ]
     },
     "execution_count": 325,
     "metadata": {},
     "output_type": "execute_result"
    }
   ],
   "source": [
    "#lets extract all html tags having the brands\n",
    "brand_tags=driver.find_elements_by_xpath(\"//div[@class='_2WkVRV']\")\n",
    "brand_tags"
   ]
  },
  {
   "cell_type": "code",
   "execution_count": 326,
   "metadata": {},
   "outputs": [
    {
     "data": {
      "text/plain": [
       "['ROADSTER',\n",
       " 'ROADSTER',\n",
       " 'Robbie jones',\n",
       " 'Numenzo',\n",
       " 'Robbie jones',\n",
       " 'aadi',\n",
       " 'HOTSTYLE',\n",
       " 'Stefano Rads',\n",
       " 'BRUTON',\n",
       " 'VIPSJAZZY',\n",
       " 'BRUTON',\n",
       " 'ORICUM',\n",
       " 'Shoes Bank',\n",
       " 'ASTEROID',\n",
       " 'Birde',\n",
       " 'World Wear Footwear',\n",
       " '\"trend\"',\n",
       " 'bluemaker',\n",
       " 'Zsyto',\n",
       " 'World Wear Footwear',\n",
       " 'Robbie jones',\n",
       " 'World Wear Footwear',\n",
       " 'Numenzo',\n",
       " 'ASTEROID',\n",
       " 'World Wear Footwear',\n",
       " 'PUMA',\n",
       " 'World Wear Footwear',\n",
       " 'HOTSTYLE',\n",
       " '3SIX5',\n",
       " 'Rising Wolf',\n",
       " 'SCATCHITE',\n",
       " 'luxury fashion',\n",
       " 'restinfoot',\n",
       " \"LEVI'S\",\n",
       " 'M K FOOTWEAR',\n",
       " 'SPARX',\n",
       " 'Airland',\n",
       " 'Axter',\n",
       " 'World Wear Footwear',\n",
       " 'Skymate']"
      ]
     },
     "execution_count": 326,
     "metadata": {},
     "output_type": "execute_result"
    }
   ],
   "source": [
    "# Now we have all the tags in which there are the product brands\n",
    "# Now wewill extract the text from these tags one by one by looping over these tags\n",
    "brand1=[]\n",
    "for i in brand_tags:\n",
    "    brand1.append(i.text)\n",
    "brand1    "
   ]
  },
  {
   "cell_type": "code",
   "execution_count": 328,
   "metadata": {},
   "outputs": [
    {
     "data": {
      "text/plain": [
       "[<selenium.webdriver.remote.webelement.WebElement (session=\"5197c8547257cae371eb2ba9eb3e11e2\", element=\"1d43f1aa-2ca6-41e8-8e6b-0f781ec8eb57\")>,\n",
       " <selenium.webdriver.remote.webelement.WebElement (session=\"5197c8547257cae371eb2ba9eb3e11e2\", element=\"507d079d-04c1-4b3f-96d0-9cb1e4fd1b36\")>,\n",
       " <selenium.webdriver.remote.webelement.WebElement (session=\"5197c8547257cae371eb2ba9eb3e11e2\", element=\"53ce5ca6-9d88-407a-83c1-4701a26fcad5\")>,\n",
       " <selenium.webdriver.remote.webelement.WebElement (session=\"5197c8547257cae371eb2ba9eb3e11e2\", element=\"c2301f81-6458-42f8-bfc6-716ffc72b984\")>,\n",
       " <selenium.webdriver.remote.webelement.WebElement (session=\"5197c8547257cae371eb2ba9eb3e11e2\", element=\"8f2ff2f9-4b9f-478c-bd19-b2c3d62ac71f\")>,\n",
       " <selenium.webdriver.remote.webelement.WebElement (session=\"5197c8547257cae371eb2ba9eb3e11e2\", element=\"1f1a6501-6d3a-44e6-a870-4654d58a5717\")>,\n",
       " <selenium.webdriver.remote.webelement.WebElement (session=\"5197c8547257cae371eb2ba9eb3e11e2\", element=\"40403516-8134-4d52-b8d1-94a3ed34f01f\")>,\n",
       " <selenium.webdriver.remote.webelement.WebElement (session=\"5197c8547257cae371eb2ba9eb3e11e2\", element=\"d1cca977-17b0-4f19-a418-ee5d2dbc1423\")>,\n",
       " <selenium.webdriver.remote.webelement.WebElement (session=\"5197c8547257cae371eb2ba9eb3e11e2\", element=\"783a797e-d9ca-4ea3-aed0-3c0c828376cc\")>,\n",
       " <selenium.webdriver.remote.webelement.WebElement (session=\"5197c8547257cae371eb2ba9eb3e11e2\", element=\"f4f4d2eb-2345-4628-9a0d-c0a4a551da8d\")>,\n",
       " <selenium.webdriver.remote.webelement.WebElement (session=\"5197c8547257cae371eb2ba9eb3e11e2\", element=\"60d2285f-7359-404c-a390-7226a4ebb97f\")>,\n",
       " <selenium.webdriver.remote.webelement.WebElement (session=\"5197c8547257cae371eb2ba9eb3e11e2\", element=\"d3c8fdd3-35bd-4cf1-afbc-34f1144ada04\")>,\n",
       " <selenium.webdriver.remote.webelement.WebElement (session=\"5197c8547257cae371eb2ba9eb3e11e2\", element=\"a8eb8fdf-c3d2-4f06-8dd5-902a8a8a0728\")>,\n",
       " <selenium.webdriver.remote.webelement.WebElement (session=\"5197c8547257cae371eb2ba9eb3e11e2\", element=\"dfca2f68-5bdb-48be-a0fd-228bfcd0375e\")>,\n",
       " <selenium.webdriver.remote.webelement.WebElement (session=\"5197c8547257cae371eb2ba9eb3e11e2\", element=\"cc93bf99-681d-45e4-b8b8-d03e87bb7bb2\")>,\n",
       " <selenium.webdriver.remote.webelement.WebElement (session=\"5197c8547257cae371eb2ba9eb3e11e2\", element=\"6fd93a21-c521-4212-b6cd-e03b8b939ef6\")>,\n",
       " <selenium.webdriver.remote.webelement.WebElement (session=\"5197c8547257cae371eb2ba9eb3e11e2\", element=\"5a0f4336-c7eb-4274-83e9-4481ebbb7192\")>,\n",
       " <selenium.webdriver.remote.webelement.WebElement (session=\"5197c8547257cae371eb2ba9eb3e11e2\", element=\"dcdc96a8-de93-4f28-af24-9eb1bc208e8b\")>,\n",
       " <selenium.webdriver.remote.webelement.WebElement (session=\"5197c8547257cae371eb2ba9eb3e11e2\", element=\"386de14b-3b79-4f80-adfd-113a5bdc580e\")>,\n",
       " <selenium.webdriver.remote.webelement.WebElement (session=\"5197c8547257cae371eb2ba9eb3e11e2\", element=\"0e7eb4dd-ad4d-4906-89af-59f1b5b2cfce\")>,\n",
       " <selenium.webdriver.remote.webelement.WebElement (session=\"5197c8547257cae371eb2ba9eb3e11e2\", element=\"30aeffda-7d08-44b2-890d-f0ce564b92a8\")>,\n",
       " <selenium.webdriver.remote.webelement.WebElement (session=\"5197c8547257cae371eb2ba9eb3e11e2\", element=\"5a233b6a-f0d9-41f8-ae1f-a725a4eda329\")>,\n",
       " <selenium.webdriver.remote.webelement.WebElement (session=\"5197c8547257cae371eb2ba9eb3e11e2\", element=\"155889ee-4461-488b-80c0-928100363e95\")>,\n",
       " <selenium.webdriver.remote.webelement.WebElement (session=\"5197c8547257cae371eb2ba9eb3e11e2\", element=\"e87f00a0-e615-4c3e-be3b-d691f494f4a1\")>,\n",
       " <selenium.webdriver.remote.webelement.WebElement (session=\"5197c8547257cae371eb2ba9eb3e11e2\", element=\"6da4a2c5-9626-44c7-8445-4245484cf558\")>,\n",
       " <selenium.webdriver.remote.webelement.WebElement (session=\"5197c8547257cae371eb2ba9eb3e11e2\", element=\"61118c15-6c98-4262-adb7-9d18113f2234\")>,\n",
       " <selenium.webdriver.remote.webelement.WebElement (session=\"5197c8547257cae371eb2ba9eb3e11e2\", element=\"221be32e-9959-41f4-9abc-cb06764f9fd2\")>,\n",
       " <selenium.webdriver.remote.webelement.WebElement (session=\"5197c8547257cae371eb2ba9eb3e11e2\", element=\"b5c032b8-4c8d-4afb-9453-9a0507128a2f\")>,\n",
       " <selenium.webdriver.remote.webelement.WebElement (session=\"5197c8547257cae371eb2ba9eb3e11e2\", element=\"0dacba7b-a677-4c37-9dfb-857f4d77c6e8\")>,\n",
       " <selenium.webdriver.remote.webelement.WebElement (session=\"5197c8547257cae371eb2ba9eb3e11e2\", element=\"d8f9bedc-e10f-4efa-8e30-4adb55958190\")>,\n",
       " <selenium.webdriver.remote.webelement.WebElement (session=\"5197c8547257cae371eb2ba9eb3e11e2\", element=\"7eba5fbd-44ac-405b-8ba0-f13560a0d0a7\")>,\n",
       " <selenium.webdriver.remote.webelement.WebElement (session=\"5197c8547257cae371eb2ba9eb3e11e2\", element=\"8eb774ef-5d2f-4936-aed8-dbfa3989a3cd\")>,\n",
       " <selenium.webdriver.remote.webelement.WebElement (session=\"5197c8547257cae371eb2ba9eb3e11e2\", element=\"55bc0b1b-4273-4442-ba29-473436df5eba\")>,\n",
       " <selenium.webdriver.remote.webelement.WebElement (session=\"5197c8547257cae371eb2ba9eb3e11e2\", element=\"93fd2e67-56a3-4a73-8345-bd7f479366bd\")>,\n",
       " <selenium.webdriver.remote.webelement.WebElement (session=\"5197c8547257cae371eb2ba9eb3e11e2\", element=\"127b3274-1ab5-4cf9-9224-ab4b0a7e0ee1\")>,\n",
       " <selenium.webdriver.remote.webelement.WebElement (session=\"5197c8547257cae371eb2ba9eb3e11e2\", element=\"cd6658b2-bebf-4efd-a8a6-53723c704c4c\")>,\n",
       " <selenium.webdriver.remote.webelement.WebElement (session=\"5197c8547257cae371eb2ba9eb3e11e2\", element=\"917e1323-5c62-4b5c-be6a-595315bcc310\")>,\n",
       " <selenium.webdriver.remote.webelement.WebElement (session=\"5197c8547257cae371eb2ba9eb3e11e2\", element=\"332cc554-0fcd-40d6-be72-eb16641fbf65\")>,\n",
       " <selenium.webdriver.remote.webelement.WebElement (session=\"5197c8547257cae371eb2ba9eb3e11e2\", element=\"3a3e92c1-6884-47a2-8501-e711f8383c36\")>,\n",
       " <selenium.webdriver.remote.webelement.WebElement (session=\"5197c8547257cae371eb2ba9eb3e11e2\", element=\"4a819924-12e9-4b28-bd0c-5abb08c58476\")>]"
      ]
     },
     "execution_count": 328,
     "metadata": {},
     "output_type": "execute_result"
    }
   ],
   "source": [
    "#lets extract all html tags having description\n",
    "desc_tags=driver.find_elements_by_xpath(\"//div[@class='_2B099V']//a[1]\")\n",
    "desc_tags"
   ]
  },
  {
   "cell_type": "code",
   "execution_count": 329,
   "metadata": {},
   "outputs": [
    {
     "data": {
      "text/plain": [
       "['Sneakers For Men',\n",
       " 'Sneakers For Men',\n",
       " 'Casual Sneakers Shoes For Men Sneakers For Men',\n",
       " 'Sneakers For Men',\n",
       " 'Sneakers For Men',\n",
       " 'Sneakers For Men',\n",
       " 'Sneakers Sneakers For Men',\n",
       " 'Classy Sneakers For Men',\n",
       " 'Combo Pack Of 4 Canvas Sneakers For Men',\n",
       " 'Sneakers For Men',\n",
       " 'Sneakers For Men',\n",
       " 'Combo pack of 2 casual sneaker shoes for men Sneakers F...',\n",
       " \"White Sneaker For Men's/Boy's Sneakers For Men\",\n",
       " 'Skate Board White Shoes Men Running Flat PU Sneakers Ma...',\n",
       " 'Combo Pack of 4 Casual Shoes Sneakers For Men',\n",
       " '5011-Latest Collection Stylish Casual Loafer Sneakers S...',\n",
       " 'Fashionable casual sneakers shoes for men Sneakers For ...',\n",
       " 'casual for men (blue 06) Sneakers For Men',\n",
       " 'Sneakers For Men',\n",
       " 'New Latest Affordable Range of Combo Pack of 2 Trendy S...',\n",
       " 'Casual Sneakers Black Shoes For Men Sneakers For Men',\n",
       " 'Combo Pack of 4 Latest Collection Stylish Casual Loafer...',\n",
       " 'Casual Sneaker Sneakers For Men',\n",
       " 'Skate Board Black Shoes Men Running Flat PU Sneakers Ma...',\n",
       " 'Men 5014 Latest Collection Stylish Casual Sports Loafer...',\n",
       " 'Icon IDP Sneakers For Men',\n",
       " 'Sneakers For Men',\n",
       " 'Sneakers Sneakers For Men',\n",
       " 'ORIFWSH(OR)-1077 Sneakers For Men',\n",
       " 'Sneakers For Men',\n",
       " 'Sneakers Sneakers For Men',\n",
       " 'Fashionable casual sneaker shoes Sneakers For Men',\n",
       " 'Casual shoes Sneakers For Men',\n",
       " 'Basic 2.0 Sneakers For Men',\n",
       " 'M K Footwear 702_Blue Sneakers For Men',\n",
       " 'SD-323 Sneakers For Men',\n",
       " 'shoe Sneakers For Men',\n",
       " 'Combo Pack of 2 Latest Collection Stylish Casual Loafer...',\n",
       " 'Latest Collection-1227 Stylish Casual Sports Sneakers F...',\n",
       " 'Sneakers For Men']"
      ]
     },
     "execution_count": 329,
     "metadata": {},
     "output_type": "execute_result"
    }
   ],
   "source": [
    "# Now we have all the tags in which there are the product description\n",
    "# Now wewill extract the text from these tags one by one by looping over these tags\n",
    "\n",
    "desc1=[]\n",
    "for i in desc_tags:\n",
    "    desc1.append(i.text)\n",
    "desc1    "
   ]
  },
  {
   "cell_type": "code",
   "execution_count": 331,
   "metadata": {},
   "outputs": [
    {
     "data": {
      "text/plain": [
       "[<selenium.webdriver.remote.webelement.WebElement (session=\"5197c8547257cae371eb2ba9eb3e11e2\", element=\"2d1aa14c-39de-4462-a2d7-2c84139c3b1d\")>,\n",
       " <selenium.webdriver.remote.webelement.WebElement (session=\"5197c8547257cae371eb2ba9eb3e11e2\", element=\"50a6e807-7ff1-4559-ac4e-e07dbd2bf7eb\")>,\n",
       " <selenium.webdriver.remote.webelement.WebElement (session=\"5197c8547257cae371eb2ba9eb3e11e2\", element=\"a7f98454-a3a8-4d93-a2fa-8d4b07e9fdb8\")>,\n",
       " <selenium.webdriver.remote.webelement.WebElement (session=\"5197c8547257cae371eb2ba9eb3e11e2\", element=\"4e33c188-1815-4e9d-9be0-375b9f640b22\")>,\n",
       " <selenium.webdriver.remote.webelement.WebElement (session=\"5197c8547257cae371eb2ba9eb3e11e2\", element=\"a102f536-2151-4d38-b158-2eb56a986aa6\")>,\n",
       " <selenium.webdriver.remote.webelement.WebElement (session=\"5197c8547257cae371eb2ba9eb3e11e2\", element=\"3c4bfd1d-2007-4eae-85d6-74be174ac078\")>,\n",
       " <selenium.webdriver.remote.webelement.WebElement (session=\"5197c8547257cae371eb2ba9eb3e11e2\", element=\"088e5b42-cf30-45a9-925d-f546772a6159\")>,\n",
       " <selenium.webdriver.remote.webelement.WebElement (session=\"5197c8547257cae371eb2ba9eb3e11e2\", element=\"f0c7530b-ba16-4b86-b33a-5c4bfad1c8f0\")>,\n",
       " <selenium.webdriver.remote.webelement.WebElement (session=\"5197c8547257cae371eb2ba9eb3e11e2\", element=\"87f5f23e-2558-47d8-ad79-a1c59c4393c5\")>,\n",
       " <selenium.webdriver.remote.webelement.WebElement (session=\"5197c8547257cae371eb2ba9eb3e11e2\", element=\"9fc1d49f-c2f5-43c6-892d-8dc97bfdad73\")>,\n",
       " <selenium.webdriver.remote.webelement.WebElement (session=\"5197c8547257cae371eb2ba9eb3e11e2\", element=\"f4e79a6f-1e44-4d11-b313-579edffad799\")>,\n",
       " <selenium.webdriver.remote.webelement.WebElement (session=\"5197c8547257cae371eb2ba9eb3e11e2\", element=\"9c40aa0d-7f1a-42d6-9cc6-078a9198f3c9\")>,\n",
       " <selenium.webdriver.remote.webelement.WebElement (session=\"5197c8547257cae371eb2ba9eb3e11e2\", element=\"2a41ba33-fdff-44c0-9768-836816afc4d9\")>,\n",
       " <selenium.webdriver.remote.webelement.WebElement (session=\"5197c8547257cae371eb2ba9eb3e11e2\", element=\"a62a2cb1-06c5-4bce-93a8-9aee487caacd\")>,\n",
       " <selenium.webdriver.remote.webelement.WebElement (session=\"5197c8547257cae371eb2ba9eb3e11e2\", element=\"c5d7c617-c776-4e8d-a1f2-14f206597b19\")>,\n",
       " <selenium.webdriver.remote.webelement.WebElement (session=\"5197c8547257cae371eb2ba9eb3e11e2\", element=\"4c6cea9d-fe4f-4f70-83cd-82a792084ef3\")>,\n",
       " <selenium.webdriver.remote.webelement.WebElement (session=\"5197c8547257cae371eb2ba9eb3e11e2\", element=\"65d0a090-74ec-4db2-9bf3-ea40f131ffd4\")>,\n",
       " <selenium.webdriver.remote.webelement.WebElement (session=\"5197c8547257cae371eb2ba9eb3e11e2\", element=\"d2c405b5-5340-4557-8dd0-a61e757bbe07\")>,\n",
       " <selenium.webdriver.remote.webelement.WebElement (session=\"5197c8547257cae371eb2ba9eb3e11e2\", element=\"476f2f01-409f-4215-81c4-91e33831478f\")>,\n",
       " <selenium.webdriver.remote.webelement.WebElement (session=\"5197c8547257cae371eb2ba9eb3e11e2\", element=\"58f11942-3e42-4216-913c-0651e6b84164\")>,\n",
       " <selenium.webdriver.remote.webelement.WebElement (session=\"5197c8547257cae371eb2ba9eb3e11e2\", element=\"62e39c4d-60d6-4aef-8223-e2a13a2f8722\")>,\n",
       " <selenium.webdriver.remote.webelement.WebElement (session=\"5197c8547257cae371eb2ba9eb3e11e2\", element=\"363e69a5-6acb-44d9-a307-8beb1183432f\")>,\n",
       " <selenium.webdriver.remote.webelement.WebElement (session=\"5197c8547257cae371eb2ba9eb3e11e2\", element=\"a5e59810-deba-4e08-8dca-9e9eb001da01\")>,\n",
       " <selenium.webdriver.remote.webelement.WebElement (session=\"5197c8547257cae371eb2ba9eb3e11e2\", element=\"4dec6f03-a64e-4837-bdbc-355d69c735c8\")>,\n",
       " <selenium.webdriver.remote.webelement.WebElement (session=\"5197c8547257cae371eb2ba9eb3e11e2\", element=\"142f4e63-f5e1-4aa7-b995-157de7785fce\")>,\n",
       " <selenium.webdriver.remote.webelement.WebElement (session=\"5197c8547257cae371eb2ba9eb3e11e2\", element=\"108dca9f-6d0a-4ab9-89b5-3cf040e936f4\")>,\n",
       " <selenium.webdriver.remote.webelement.WebElement (session=\"5197c8547257cae371eb2ba9eb3e11e2\", element=\"82af7ca8-deed-4124-ad07-2c118355eea1\")>,\n",
       " <selenium.webdriver.remote.webelement.WebElement (session=\"5197c8547257cae371eb2ba9eb3e11e2\", element=\"22b368e8-92a2-4656-aa1d-faa4516183bf\")>,\n",
       " <selenium.webdriver.remote.webelement.WebElement (session=\"5197c8547257cae371eb2ba9eb3e11e2\", element=\"0919d357-7482-4dc8-b401-e43014ffc666\")>,\n",
       " <selenium.webdriver.remote.webelement.WebElement (session=\"5197c8547257cae371eb2ba9eb3e11e2\", element=\"f22d9ce5-ed78-4c0f-bd70-a3b9140ef586\")>,\n",
       " <selenium.webdriver.remote.webelement.WebElement (session=\"5197c8547257cae371eb2ba9eb3e11e2\", element=\"85b19155-c190-4ac1-836d-99d66f6b735a\")>,\n",
       " <selenium.webdriver.remote.webelement.WebElement (session=\"5197c8547257cae371eb2ba9eb3e11e2\", element=\"ac45c012-02d7-4bb6-a05d-0de507201c21\")>,\n",
       " <selenium.webdriver.remote.webelement.WebElement (session=\"5197c8547257cae371eb2ba9eb3e11e2\", element=\"3cc076b3-9996-4859-82a7-ab73c2dbbfa3\")>,\n",
       " <selenium.webdriver.remote.webelement.WebElement (session=\"5197c8547257cae371eb2ba9eb3e11e2\", element=\"21b1b62e-9426-489f-be45-979d1f062cfd\")>,\n",
       " <selenium.webdriver.remote.webelement.WebElement (session=\"5197c8547257cae371eb2ba9eb3e11e2\", element=\"a7ff16e6-4fe5-4ace-b120-3736e192c935\")>,\n",
       " <selenium.webdriver.remote.webelement.WebElement (session=\"5197c8547257cae371eb2ba9eb3e11e2\", element=\"a69b343f-201d-4514-adc9-766e9af832eb\")>,\n",
       " <selenium.webdriver.remote.webelement.WebElement (session=\"5197c8547257cae371eb2ba9eb3e11e2\", element=\"7385bc83-498d-444c-aced-c6a0d0080432\")>,\n",
       " <selenium.webdriver.remote.webelement.WebElement (session=\"5197c8547257cae371eb2ba9eb3e11e2\", element=\"9af8c9de-a03b-4dea-bd19-2550e2330069\")>,\n",
       " <selenium.webdriver.remote.webelement.WebElement (session=\"5197c8547257cae371eb2ba9eb3e11e2\", element=\"29b9640b-1e78-4022-97cf-d9fb7b950566\")>,\n",
       " <selenium.webdriver.remote.webelement.WebElement (session=\"5197c8547257cae371eb2ba9eb3e11e2\", element=\"ba30ac65-fcfa-481c-a388-14dee61f4a1c\")>]"
      ]
     },
     "execution_count": 331,
     "metadata": {},
     "output_type": "execute_result"
    }
   ],
   "source": [
    "#lets extract all html tags having product price\n",
    "price_tags=driver.find_elements_by_xpath(\"//div[@class='_30jeq3']\")\n",
    "price_tags"
   ]
  },
  {
   "cell_type": "code",
   "execution_count": 332,
   "metadata": {},
   "outputs": [
    {
     "data": {
      "text/plain": [
       "['₹1,919',\n",
       " '₹1,859',\n",
       " '₹399',\n",
       " '₹398',\n",
       " '₹474',\n",
       " '₹298',\n",
       " '₹283',\n",
       " '₹242',\n",
       " '₹499',\n",
       " '₹419',\n",
       " '₹299',\n",
       " '₹398',\n",
       " '₹349',\n",
       " '₹451',\n",
       " '₹842',\n",
       " '₹240',\n",
       " '₹449',\n",
       " '₹474',\n",
       " '₹328',\n",
       " '₹498',\n",
       " '₹428',\n",
       " '₹499',\n",
       " '₹539',\n",
       " '₹451',\n",
       " '₹240',\n",
       " '₹1,047',\n",
       " '₹240',\n",
       " '₹299',\n",
       " '₹214',\n",
       " '₹485',\n",
       " '₹398',\n",
       " '₹429',\n",
       " '₹379',\n",
       " '₹1,499',\n",
       " '₹389',\n",
       " '₹630',\n",
       " '₹265',\n",
       " '₹299',\n",
       " '₹240',\n",
       " '₹224']"
      ]
     },
     "execution_count": 332,
     "metadata": {},
     "output_type": "execute_result"
    }
   ],
   "source": [
    "# Now we have all the tags in which there are the product price\n",
    "# Now wewill extract the text from these tags one by one by looping over these tags\n",
    "price1=[]\n",
    "for i in price_tags:\n",
    "    price1.append(i.text)\n",
    "price1    "
   ]
  },
  {
   "cell_type": "code",
   "execution_count": 334,
   "metadata": {},
   "outputs": [
    {
     "data": {
      "text/plain": [
       "[<selenium.webdriver.remote.webelement.WebElement (session=\"5197c8547257cae371eb2ba9eb3e11e2\", element=\"f2c1cddf-718f-4b02-b90e-c028d1077cbb\")>,\n",
       " <selenium.webdriver.remote.webelement.WebElement (session=\"5197c8547257cae371eb2ba9eb3e11e2\", element=\"7761dee3-f6a0-4120-8932-8d58b4e262f4\")>,\n",
       " <selenium.webdriver.remote.webelement.WebElement (session=\"5197c8547257cae371eb2ba9eb3e11e2\", element=\"ff5e4c51-8844-4f64-a372-c14506c9ed47\")>,\n",
       " <selenium.webdriver.remote.webelement.WebElement (session=\"5197c8547257cae371eb2ba9eb3e11e2\", element=\"877eb8e9-ecbd-4e1c-a440-b356cf957e98\")>,\n",
       " <selenium.webdriver.remote.webelement.WebElement (session=\"5197c8547257cae371eb2ba9eb3e11e2\", element=\"fa8f3de4-13e0-412b-bcbc-e8494ec709c3\")>,\n",
       " <selenium.webdriver.remote.webelement.WebElement (session=\"5197c8547257cae371eb2ba9eb3e11e2\", element=\"98e46608-72a1-47ca-86ef-0fd2f6e8a95c\")>,\n",
       " <selenium.webdriver.remote.webelement.WebElement (session=\"5197c8547257cae371eb2ba9eb3e11e2\", element=\"c20153a8-6fe5-4890-aec1-8376b6bd5790\")>,\n",
       " <selenium.webdriver.remote.webelement.WebElement (session=\"5197c8547257cae371eb2ba9eb3e11e2\", element=\"4772bf4f-991b-42d2-88dc-876521dc55d4\")>,\n",
       " <selenium.webdriver.remote.webelement.WebElement (session=\"5197c8547257cae371eb2ba9eb3e11e2\", element=\"6422a9b0-5952-4807-bf6d-80067b36fa13\")>,\n",
       " <selenium.webdriver.remote.webelement.WebElement (session=\"5197c8547257cae371eb2ba9eb3e11e2\", element=\"fe3d0aea-4ef3-42a9-8305-96fd452f76db\")>,\n",
       " <selenium.webdriver.remote.webelement.WebElement (session=\"5197c8547257cae371eb2ba9eb3e11e2\", element=\"987784d4-d206-4b01-b2ae-2a4af96b8b05\")>,\n",
       " <selenium.webdriver.remote.webelement.WebElement (session=\"5197c8547257cae371eb2ba9eb3e11e2\", element=\"4951afd1-6706-45f7-a86e-1b0c9a776c68\")>,\n",
       " <selenium.webdriver.remote.webelement.WebElement (session=\"5197c8547257cae371eb2ba9eb3e11e2\", element=\"14361155-fdc5-4961-819a-edc19c082c27\")>,\n",
       " <selenium.webdriver.remote.webelement.WebElement (session=\"5197c8547257cae371eb2ba9eb3e11e2\", element=\"5875509e-3675-4315-8d23-280d719d50e0\")>,\n",
       " <selenium.webdriver.remote.webelement.WebElement (session=\"5197c8547257cae371eb2ba9eb3e11e2\", element=\"a75a3ea3-b36a-4b21-b213-e39ec029066b\")>,\n",
       " <selenium.webdriver.remote.webelement.WebElement (session=\"5197c8547257cae371eb2ba9eb3e11e2\", element=\"9de898d6-d3df-4bde-a499-8c72ebdbd100\")>,\n",
       " <selenium.webdriver.remote.webelement.WebElement (session=\"5197c8547257cae371eb2ba9eb3e11e2\", element=\"193ba6b7-e6e4-4271-af8b-6e22ddb73f2d\")>,\n",
       " <selenium.webdriver.remote.webelement.WebElement (session=\"5197c8547257cae371eb2ba9eb3e11e2\", element=\"4b0f25e8-b1c0-4d1a-8c97-2e911d8efe36\")>,\n",
       " <selenium.webdriver.remote.webelement.WebElement (session=\"5197c8547257cae371eb2ba9eb3e11e2\", element=\"f5063bd3-f544-418a-ab0c-821c23b90880\")>,\n",
       " <selenium.webdriver.remote.webelement.WebElement (session=\"5197c8547257cae371eb2ba9eb3e11e2\", element=\"2045b0f6-fc60-4ff2-8baa-f6d07693a7e3\")>,\n",
       " <selenium.webdriver.remote.webelement.WebElement (session=\"5197c8547257cae371eb2ba9eb3e11e2\", element=\"387b2dba-600d-4bc4-838b-41143ff05172\")>,\n",
       " <selenium.webdriver.remote.webelement.WebElement (session=\"5197c8547257cae371eb2ba9eb3e11e2\", element=\"a1053e8c-e878-4c4b-8854-36847e2e05b1\")>,\n",
       " <selenium.webdriver.remote.webelement.WebElement (session=\"5197c8547257cae371eb2ba9eb3e11e2\", element=\"61f078b0-6fa7-467c-9a46-bd8f1ba51b77\")>,\n",
       " <selenium.webdriver.remote.webelement.WebElement (session=\"5197c8547257cae371eb2ba9eb3e11e2\", element=\"f30e9606-3004-4b57-b488-8382cf2f2724\")>,\n",
       " <selenium.webdriver.remote.webelement.WebElement (session=\"5197c8547257cae371eb2ba9eb3e11e2\", element=\"830baa6e-21e1-482a-9d49-2273ee0f23fd\")>,\n",
       " <selenium.webdriver.remote.webelement.WebElement (session=\"5197c8547257cae371eb2ba9eb3e11e2\", element=\"f6610cef-e0ec-4970-ab52-592cac3b7574\")>,\n",
       " <selenium.webdriver.remote.webelement.WebElement (session=\"5197c8547257cae371eb2ba9eb3e11e2\", element=\"2b100954-a862-41b2-9345-f5948dc3f035\")>,\n",
       " <selenium.webdriver.remote.webelement.WebElement (session=\"5197c8547257cae371eb2ba9eb3e11e2\", element=\"cdd7535d-1676-4426-979e-df4cf9fbc064\")>,\n",
       " <selenium.webdriver.remote.webelement.WebElement (session=\"5197c8547257cae371eb2ba9eb3e11e2\", element=\"0af15bea-ff76-4a14-bc1a-70d64c9a9cd4\")>,\n",
       " <selenium.webdriver.remote.webelement.WebElement (session=\"5197c8547257cae371eb2ba9eb3e11e2\", element=\"fc69f3d9-d36d-4335-927c-0c8088341b14\")>,\n",
       " <selenium.webdriver.remote.webelement.WebElement (session=\"5197c8547257cae371eb2ba9eb3e11e2\", element=\"26e576df-4e73-42b4-9f4b-b983326ea4d9\")>,\n",
       " <selenium.webdriver.remote.webelement.WebElement (session=\"5197c8547257cae371eb2ba9eb3e11e2\", element=\"eea73cb1-1c7d-4a61-bf2b-908338960f22\")>,\n",
       " <selenium.webdriver.remote.webelement.WebElement (session=\"5197c8547257cae371eb2ba9eb3e11e2\", element=\"deb62de6-e8c3-40c6-ac00-638ee558f006\")>,\n",
       " <selenium.webdriver.remote.webelement.WebElement (session=\"5197c8547257cae371eb2ba9eb3e11e2\", element=\"9a2dfeb8-430c-42c0-b068-0bbd6cc3b66a\")>,\n",
       " <selenium.webdriver.remote.webelement.WebElement (session=\"5197c8547257cae371eb2ba9eb3e11e2\", element=\"7017afc4-5f28-49b4-95e7-d88abfd294f3\")>,\n",
       " <selenium.webdriver.remote.webelement.WebElement (session=\"5197c8547257cae371eb2ba9eb3e11e2\", element=\"8878fd8b-b377-4ae4-8864-0604acfca655\")>,\n",
       " <selenium.webdriver.remote.webelement.WebElement (session=\"5197c8547257cae371eb2ba9eb3e11e2\", element=\"b1fb85d1-20f7-47be-80c3-9bd67b96b2af\")>,\n",
       " <selenium.webdriver.remote.webelement.WebElement (session=\"5197c8547257cae371eb2ba9eb3e11e2\", element=\"5a1446c2-5c9b-4c0f-ab0c-1aed238ac8f5\")>,\n",
       " <selenium.webdriver.remote.webelement.WebElement (session=\"5197c8547257cae371eb2ba9eb3e11e2\", element=\"6ad80cd9-20b7-488c-a096-92850dd3a73f\")>,\n",
       " <selenium.webdriver.remote.webelement.WebElement (session=\"5197c8547257cae371eb2ba9eb3e11e2\", element=\"38463f02-5dbe-4729-ab70-c170b6798de6\")>]"
      ]
     },
     "execution_count": 334,
     "metadata": {},
     "output_type": "execute_result"
    }
   ],
   "source": [
    "#lets extract all html tags having discount\n",
    "discount_tags=driver.find_elements_by_xpath(\"//div[@class='_3Ay6Sb']\")\n",
    "discount_tags"
   ]
  },
  {
   "cell_type": "code",
   "execution_count": 335,
   "metadata": {},
   "outputs": [
    {
     "data": {
      "text/plain": [
       "['31% off',\n",
       " '33% off',\n",
       " '60% off',\n",
       " '60% off',\n",
       " '52% off',\n",
       " '70% off',\n",
       " '43% off',\n",
       " '65% off',\n",
       " '85% off',\n",
       " '58% off',\n",
       " '76% off',\n",
       " '60% off',\n",
       " '65% off',\n",
       " '54% off',\n",
       " '57% off',\n",
       " '51% off',\n",
       " '77% off',\n",
       " '52% off',\n",
       " '74% off',\n",
       " '75% off',\n",
       " '57% off',\n",
       " '81% off',\n",
       " '46% off',\n",
       " '54% off',\n",
       " '51% off',\n",
       " '68% off',\n",
       " '51% off',\n",
       " '40% off',\n",
       " '57% off',\n",
       " '75% off',\n",
       " '60% off',\n",
       " '85% off',\n",
       " '62% off',\n",
       " '50% off',\n",
       " '61% off',\n",
       " '15% off',\n",
       " '46% off',\n",
       " '78% off',\n",
       " '51% off',\n",
       " '55% off']"
      ]
     },
     "execution_count": 335,
     "metadata": {},
     "output_type": "execute_result"
    }
   ],
   "source": [
    "# Now we have all the tags in which there are the product discount\n",
    "# Now wewill extract the text from these tags one by one by looping over these tags\n",
    "discount1=[]\n",
    "for i in discount_tags:\n",
    "    discount1.append(i.text)\n",
    "discount1    "
   ]
  },
  {
   "cell_type": "code",
   "execution_count": 337,
   "metadata": {},
   "outputs": [],
   "source": [
    "#click on the next button\n",
    "next_btn=driver.find_element_by_xpath(\"//a[@class='_1LKTO3']\")\n",
    "next_btn.click()"
   ]
  },
  {
   "cell_type": "code",
   "execution_count": 338,
   "metadata": {},
   "outputs": [
    {
     "data": {
      "text/plain": [
       "[<selenium.webdriver.remote.webelement.WebElement (session=\"5197c8547257cae371eb2ba9eb3e11e2\", element=\"e286b143-faa1-4a38-9073-44abadf642f5\")>,\n",
       " <selenium.webdriver.remote.webelement.WebElement (session=\"5197c8547257cae371eb2ba9eb3e11e2\", element=\"434f341e-8ec2-4d9a-babc-f0b33189404f\")>,\n",
       " <selenium.webdriver.remote.webelement.WebElement (session=\"5197c8547257cae371eb2ba9eb3e11e2\", element=\"0d14719b-b27c-476a-8cd6-d5c07fb95e75\")>,\n",
       " <selenium.webdriver.remote.webelement.WebElement (session=\"5197c8547257cae371eb2ba9eb3e11e2\", element=\"9120e261-2948-46cc-ae3d-183fd355eefe\")>,\n",
       " <selenium.webdriver.remote.webelement.WebElement (session=\"5197c8547257cae371eb2ba9eb3e11e2\", element=\"245d0d96-3234-47d2-a841-bc6be0c03285\")>,\n",
       " <selenium.webdriver.remote.webelement.WebElement (session=\"5197c8547257cae371eb2ba9eb3e11e2\", element=\"03345154-4676-4afc-8327-2726a3fcf141\")>,\n",
       " <selenium.webdriver.remote.webelement.WebElement (session=\"5197c8547257cae371eb2ba9eb3e11e2\", element=\"e1fdbd06-d46c-4d62-a22d-e3cd5cba1d6d\")>,\n",
       " <selenium.webdriver.remote.webelement.WebElement (session=\"5197c8547257cae371eb2ba9eb3e11e2\", element=\"dfc3110b-e7c6-4f40-b1f1-f06bf48859c3\")>,\n",
       " <selenium.webdriver.remote.webelement.WebElement (session=\"5197c8547257cae371eb2ba9eb3e11e2\", element=\"aee0d1a1-802e-4c38-9cca-1c9416c79fc3\")>,\n",
       " <selenium.webdriver.remote.webelement.WebElement (session=\"5197c8547257cae371eb2ba9eb3e11e2\", element=\"4fcf9a7d-223b-444d-b52d-01ffcef51864\")>,\n",
       " <selenium.webdriver.remote.webelement.WebElement (session=\"5197c8547257cae371eb2ba9eb3e11e2\", element=\"d4435d2a-8f5a-4593-930a-e6ee850b4458\")>,\n",
       " <selenium.webdriver.remote.webelement.WebElement (session=\"5197c8547257cae371eb2ba9eb3e11e2\", element=\"f241e0bd-b0ea-4b02-8150-381fa0e4f28d\")>,\n",
       " <selenium.webdriver.remote.webelement.WebElement (session=\"5197c8547257cae371eb2ba9eb3e11e2\", element=\"da640532-8f83-4532-bccb-50714e332baf\")>,\n",
       " <selenium.webdriver.remote.webelement.WebElement (session=\"5197c8547257cae371eb2ba9eb3e11e2\", element=\"7a1a1b9f-0abf-4b21-9dc1-0edf5980643b\")>,\n",
       " <selenium.webdriver.remote.webelement.WebElement (session=\"5197c8547257cae371eb2ba9eb3e11e2\", element=\"8df2580c-bb6d-4df8-84df-2b3b54b3d4dd\")>,\n",
       " <selenium.webdriver.remote.webelement.WebElement (session=\"5197c8547257cae371eb2ba9eb3e11e2\", element=\"221b2d02-ee35-4213-aed9-86cac42493b5\")>,\n",
       " <selenium.webdriver.remote.webelement.WebElement (session=\"5197c8547257cae371eb2ba9eb3e11e2\", element=\"7ff441a0-fd6e-45fb-b82e-ad6709ed50ff\")>,\n",
       " <selenium.webdriver.remote.webelement.WebElement (session=\"5197c8547257cae371eb2ba9eb3e11e2\", element=\"0778419c-dc58-4b0e-9755-57c3a7abbea7\")>,\n",
       " <selenium.webdriver.remote.webelement.WebElement (session=\"5197c8547257cae371eb2ba9eb3e11e2\", element=\"f0cec695-1ba5-4bca-8202-9b8e471cc3c9\")>,\n",
       " <selenium.webdriver.remote.webelement.WebElement (session=\"5197c8547257cae371eb2ba9eb3e11e2\", element=\"99fd2c8b-898f-4667-a750-d1f5855ca79f\")>,\n",
       " <selenium.webdriver.remote.webelement.WebElement (session=\"5197c8547257cae371eb2ba9eb3e11e2\", element=\"be4b262d-2a5f-450a-b0c2-81cff5f8949a\")>,\n",
       " <selenium.webdriver.remote.webelement.WebElement (session=\"5197c8547257cae371eb2ba9eb3e11e2\", element=\"87adf15b-785f-4e0c-b893-45cad03a6b04\")>,\n",
       " <selenium.webdriver.remote.webelement.WebElement (session=\"5197c8547257cae371eb2ba9eb3e11e2\", element=\"71f25483-0a25-4cd0-8b92-042c0984cb76\")>,\n",
       " <selenium.webdriver.remote.webelement.WebElement (session=\"5197c8547257cae371eb2ba9eb3e11e2\", element=\"20a8817d-97ab-4615-b825-3685287b84bc\")>,\n",
       " <selenium.webdriver.remote.webelement.WebElement (session=\"5197c8547257cae371eb2ba9eb3e11e2\", element=\"7f7ffb2f-7146-4e18-a4b6-781b6ea7494b\")>,\n",
       " <selenium.webdriver.remote.webelement.WebElement (session=\"5197c8547257cae371eb2ba9eb3e11e2\", element=\"c589d09c-9ef8-4449-8401-c5a669164eeb\")>,\n",
       " <selenium.webdriver.remote.webelement.WebElement (session=\"5197c8547257cae371eb2ba9eb3e11e2\", element=\"b6891a41-1688-483b-939c-523a466ce196\")>,\n",
       " <selenium.webdriver.remote.webelement.WebElement (session=\"5197c8547257cae371eb2ba9eb3e11e2\", element=\"7f8562a7-60d0-4e8e-8412-c271e7817c30\")>,\n",
       " <selenium.webdriver.remote.webelement.WebElement (session=\"5197c8547257cae371eb2ba9eb3e11e2\", element=\"e061d3af-409f-45a9-bd9f-cd011bed2908\")>,\n",
       " <selenium.webdriver.remote.webelement.WebElement (session=\"5197c8547257cae371eb2ba9eb3e11e2\", element=\"d48b3d82-ceda-43bd-8af8-62eed1fc9d68\")>,\n",
       " <selenium.webdriver.remote.webelement.WebElement (session=\"5197c8547257cae371eb2ba9eb3e11e2\", element=\"5884a7ac-6039-46a4-a7c4-8eebe7852d57\")>,\n",
       " <selenium.webdriver.remote.webelement.WebElement (session=\"5197c8547257cae371eb2ba9eb3e11e2\", element=\"c115313e-6d32-4275-9b9a-b7ddf5a8f222\")>,\n",
       " <selenium.webdriver.remote.webelement.WebElement (session=\"5197c8547257cae371eb2ba9eb3e11e2\", element=\"91127a7c-f228-4281-b3b3-485742c0804e\")>,\n",
       " <selenium.webdriver.remote.webelement.WebElement (session=\"5197c8547257cae371eb2ba9eb3e11e2\", element=\"ba27f746-d7f7-46b7-a854-002ca889d32e\")>,\n",
       " <selenium.webdriver.remote.webelement.WebElement (session=\"5197c8547257cae371eb2ba9eb3e11e2\", element=\"04733e88-8b22-418a-b629-04fbcd5855f0\")>,\n",
       " <selenium.webdriver.remote.webelement.WebElement (session=\"5197c8547257cae371eb2ba9eb3e11e2\", element=\"e3df2a1a-14b5-46d5-8b27-ef3db05f0d41\")>,\n",
       " <selenium.webdriver.remote.webelement.WebElement (session=\"5197c8547257cae371eb2ba9eb3e11e2\", element=\"da8e3f48-3b54-4ade-8a31-2de4acb1134e\")>,\n",
       " <selenium.webdriver.remote.webelement.WebElement (session=\"5197c8547257cae371eb2ba9eb3e11e2\", element=\"849efe42-d752-4fc9-a3c1-63e32887f349\")>,\n",
       " <selenium.webdriver.remote.webelement.WebElement (session=\"5197c8547257cae371eb2ba9eb3e11e2\", element=\"046fa68c-a5ec-4f7e-8202-9dd5de5bf961\")>,\n",
       " <selenium.webdriver.remote.webelement.WebElement (session=\"5197c8547257cae371eb2ba9eb3e11e2\", element=\"f8eb48b6-1e6a-4528-ac93-c7f3728604c8\")>]"
      ]
     },
     "execution_count": 338,
     "metadata": {},
     "output_type": "execute_result"
    }
   ],
   "source": [
    "#extract all html tags having all product brands from page2\n",
    "brand_tags=driver.find_elements_by_xpath(\"//div[@class='_2WkVRV']\")\n",
    "brand_tags"
   ]
  },
  {
   "cell_type": "code",
   "execution_count": 339,
   "metadata": {},
   "outputs": [
    {
     "data": {
      "text/plain": [
       "['luxury fashion',\n",
       " 'Robbie jones',\n",
       " 'M K FOOTWEAR',\n",
       " 'Robbie jones',\n",
       " 'Airland',\n",
       " 'Axter',\n",
       " 'SPARX',\n",
       " 'World Wear Footwear',\n",
       " 'bluemaker',\n",
       " 'Robbie jones',\n",
       " 'Numenzo',\n",
       " 'believe',\n",
       " 'T-ROCK',\n",
       " 'City Soles',\n",
       " 'ROCKFIELD',\n",
       " 'VORII',\n",
       " 'SPARX',\n",
       " 'BRUTON',\n",
       " 'ESSENCE',\n",
       " 'Bucik',\n",
       " 'HOTSTYLE',\n",
       " 'zovim',\n",
       " 'Jokatoo',\n",
       " 'HOTSTYLE',\n",
       " 'ESSENCE',\n",
       " 'Absolute comfort',\n",
       " 'HOTSTYLE',\n",
       " 'Raftar',\n",
       " 'TR',\n",
       " 'VISTAARA',\n",
       " '3SIX5',\n",
       " 'Walkstyle',\n",
       " 'Svpanther',\n",
       " 'STRANGER BROTHERS',\n",
       " 'Baogi',\n",
       " 'Edoeviv',\n",
       " 'Camfoot',\n",
       " 'LEATHERKRAFT',\n",
       " 'Robbie jones',\n",
       " \"LEVI'S\"]"
      ]
     },
     "execution_count": 339,
     "metadata": {},
     "output_type": "execute_result"
    }
   ],
   "source": [
    "# Now we have all the tags in which there are the brands of products\n",
    "# Now wewill extract the text from these tags one by one by looping over these tags\n",
    "\n",
    "brand2=[]\n",
    "for i in brand_tags:\n",
    "    brand2.append(i.text)\n",
    "brand2    "
   ]
  },
  {
   "cell_type": "code",
   "execution_count": 341,
   "metadata": {},
   "outputs": [
    {
     "data": {
      "text/plain": [
       "[<selenium.webdriver.remote.webelement.WebElement (session=\"5197c8547257cae371eb2ba9eb3e11e2\", element=\"ccb2f387-9463-46b6-950e-7454970ef45c\")>,\n",
       " <selenium.webdriver.remote.webelement.WebElement (session=\"5197c8547257cae371eb2ba9eb3e11e2\", element=\"bdc7b6df-89d9-441c-843d-11dad0d0c68f\")>,\n",
       " <selenium.webdriver.remote.webelement.WebElement (session=\"5197c8547257cae371eb2ba9eb3e11e2\", element=\"adc96b6d-cc67-40da-afff-fd28b1520dee\")>,\n",
       " <selenium.webdriver.remote.webelement.WebElement (session=\"5197c8547257cae371eb2ba9eb3e11e2\", element=\"b653d3ad-6dec-4fbc-a45b-9a0719f0d26f\")>,\n",
       " <selenium.webdriver.remote.webelement.WebElement (session=\"5197c8547257cae371eb2ba9eb3e11e2\", element=\"ad495966-62c2-4c70-8af6-ec06c2190afd\")>,\n",
       " <selenium.webdriver.remote.webelement.WebElement (session=\"5197c8547257cae371eb2ba9eb3e11e2\", element=\"13a64e14-5764-451d-96e3-d1206e43a696\")>,\n",
       " <selenium.webdriver.remote.webelement.WebElement (session=\"5197c8547257cae371eb2ba9eb3e11e2\", element=\"22115c1e-6922-43f5-ba1d-7a427c6edca2\")>,\n",
       " <selenium.webdriver.remote.webelement.WebElement (session=\"5197c8547257cae371eb2ba9eb3e11e2\", element=\"03cd87c3-7881-400c-b7e9-e977d686fc65\")>,\n",
       " <selenium.webdriver.remote.webelement.WebElement (session=\"5197c8547257cae371eb2ba9eb3e11e2\", element=\"046f64bd-3d6b-4def-bc87-067a1a22685e\")>,\n",
       " <selenium.webdriver.remote.webelement.WebElement (session=\"5197c8547257cae371eb2ba9eb3e11e2\", element=\"b051969e-5022-4bef-be01-a924a0f1a81e\")>,\n",
       " <selenium.webdriver.remote.webelement.WebElement (session=\"5197c8547257cae371eb2ba9eb3e11e2\", element=\"a7c7da7c-d47e-4bc8-8e36-a9d6e76d6e0a\")>,\n",
       " <selenium.webdriver.remote.webelement.WebElement (session=\"5197c8547257cae371eb2ba9eb3e11e2\", element=\"549ebec3-554c-4331-b30f-9502f3463faa\")>,\n",
       " <selenium.webdriver.remote.webelement.WebElement (session=\"5197c8547257cae371eb2ba9eb3e11e2\", element=\"52f3e08c-aeac-4f4e-aa7f-876465f08400\")>,\n",
       " <selenium.webdriver.remote.webelement.WebElement (session=\"5197c8547257cae371eb2ba9eb3e11e2\", element=\"f9a7e85f-b1c3-4fdd-b8fc-5c6533e57f47\")>,\n",
       " <selenium.webdriver.remote.webelement.WebElement (session=\"5197c8547257cae371eb2ba9eb3e11e2\", element=\"6ba16a41-7c8f-4438-ae54-2ca934af431b\")>,\n",
       " <selenium.webdriver.remote.webelement.WebElement (session=\"5197c8547257cae371eb2ba9eb3e11e2\", element=\"95936165-df4f-435a-ab45-2e6fde0c8d6a\")>,\n",
       " <selenium.webdriver.remote.webelement.WebElement (session=\"5197c8547257cae371eb2ba9eb3e11e2\", element=\"dce53e99-9deb-498b-b851-ac55cb4aebe6\")>,\n",
       " <selenium.webdriver.remote.webelement.WebElement (session=\"5197c8547257cae371eb2ba9eb3e11e2\", element=\"a588303a-0c48-4fc7-8024-5bda3582ecc8\")>,\n",
       " <selenium.webdriver.remote.webelement.WebElement (session=\"5197c8547257cae371eb2ba9eb3e11e2\", element=\"695e02f0-b7ae-4757-8ff8-8d642d0cc7f1\")>,\n",
       " <selenium.webdriver.remote.webelement.WebElement (session=\"5197c8547257cae371eb2ba9eb3e11e2\", element=\"8c435cbd-4d98-4ba6-bac1-c7862874d8df\")>,\n",
       " <selenium.webdriver.remote.webelement.WebElement (session=\"5197c8547257cae371eb2ba9eb3e11e2\", element=\"ea2bf65e-6a20-4a6a-90ed-563168e40495\")>,\n",
       " <selenium.webdriver.remote.webelement.WebElement (session=\"5197c8547257cae371eb2ba9eb3e11e2\", element=\"184d23d8-69cc-420a-ac25-c7a8a6f04272\")>,\n",
       " <selenium.webdriver.remote.webelement.WebElement (session=\"5197c8547257cae371eb2ba9eb3e11e2\", element=\"1d4a7a4e-c9a0-45ac-9989-92afe2005cbd\")>,\n",
       " <selenium.webdriver.remote.webelement.WebElement (session=\"5197c8547257cae371eb2ba9eb3e11e2\", element=\"7ca03e4c-c78f-42ec-9b9b-4c7d484c0668\")>,\n",
       " <selenium.webdriver.remote.webelement.WebElement (session=\"5197c8547257cae371eb2ba9eb3e11e2\", element=\"36980dcb-e65c-4e43-ad5d-0935ecf5f9f0\")>,\n",
       " <selenium.webdriver.remote.webelement.WebElement (session=\"5197c8547257cae371eb2ba9eb3e11e2\", element=\"f58b0fcd-236d-4339-b177-c4ddde7592b7\")>,\n",
       " <selenium.webdriver.remote.webelement.WebElement (session=\"5197c8547257cae371eb2ba9eb3e11e2\", element=\"87240852-c82b-477c-9a55-552a6ae47aac\")>,\n",
       " <selenium.webdriver.remote.webelement.WebElement (session=\"5197c8547257cae371eb2ba9eb3e11e2\", element=\"0d8bb937-d563-4681-a647-8b6ec0581db9\")>,\n",
       " <selenium.webdriver.remote.webelement.WebElement (session=\"5197c8547257cae371eb2ba9eb3e11e2\", element=\"a5fb2ea3-01f6-4535-9017-3250af5b25ab\")>,\n",
       " <selenium.webdriver.remote.webelement.WebElement (session=\"5197c8547257cae371eb2ba9eb3e11e2\", element=\"7dd21c29-a589-43ea-89d3-f1cf184024de\")>,\n",
       " <selenium.webdriver.remote.webelement.WebElement (session=\"5197c8547257cae371eb2ba9eb3e11e2\", element=\"1aa7d294-f77f-42e3-afdc-1d328489b559\")>,\n",
       " <selenium.webdriver.remote.webelement.WebElement (session=\"5197c8547257cae371eb2ba9eb3e11e2\", element=\"97cd57c5-6f5c-4721-bec5-2a84a1af7c34\")>,\n",
       " <selenium.webdriver.remote.webelement.WebElement (session=\"5197c8547257cae371eb2ba9eb3e11e2\", element=\"8028b617-447c-47ae-a04e-62aa12f9ea9d\")>,\n",
       " <selenium.webdriver.remote.webelement.WebElement (session=\"5197c8547257cae371eb2ba9eb3e11e2\", element=\"96bb575d-a015-4069-9a13-78fb930e7771\")>,\n",
       " <selenium.webdriver.remote.webelement.WebElement (session=\"5197c8547257cae371eb2ba9eb3e11e2\", element=\"53177288-9e47-4475-9a4e-833c218fc25a\")>,\n",
       " <selenium.webdriver.remote.webelement.WebElement (session=\"5197c8547257cae371eb2ba9eb3e11e2\", element=\"ac9813dd-002e-473b-bff8-a6842e89ef31\")>,\n",
       " <selenium.webdriver.remote.webelement.WebElement (session=\"5197c8547257cae371eb2ba9eb3e11e2\", element=\"54e1f80f-f634-4b04-8b11-8aa9ef0b7321\")>,\n",
       " <selenium.webdriver.remote.webelement.WebElement (session=\"5197c8547257cae371eb2ba9eb3e11e2\", element=\"fd347870-5a15-42f4-a2b6-58a55b41d1d2\")>,\n",
       " <selenium.webdriver.remote.webelement.WebElement (session=\"5197c8547257cae371eb2ba9eb3e11e2\", element=\"8b881258-7e2e-4e90-8ed6-8444999ee886\")>,\n",
       " <selenium.webdriver.remote.webelement.WebElement (session=\"5197c8547257cae371eb2ba9eb3e11e2\", element=\"25353cc6-7e79-49f9-a766-9bedb07575db\")>]"
      ]
     },
     "execution_count": 341,
     "metadata": {},
     "output_type": "execute_result"
    }
   ],
   "source": [
    "#lets extract all html tags having product description\n",
    "desc_tags=driver.find_elements_by_xpath(\"//div[@class='_2B099V']//a[1]\")\n",
    "desc_tags"
   ]
  },
  {
   "cell_type": "code",
   "execution_count": 342,
   "metadata": {},
   "outputs": [
    {
     "data": {
      "text/plain": [
       "['Fashionable casual sneaker shoes Sneakers For Men',\n",
       " 'Sneakers Sneakers For Men',\n",
       " 'M K Footwear 702_Blue Sneakers For Men',\n",
       " 'Sneakers For Men',\n",
       " 'shoe Sneakers For Men',\n",
       " 'Combo Pack of 2 Latest Collection Stylish Casual Loafer...',\n",
       " 'SD-323 Sneakers For Men',\n",
       " 'Latest Collection-1227 Stylish Casual Sports Sneakers F...',\n",
       " 'casual for men Sneakers For Men',\n",
       " 'casual Sneakers White Shoes For Men And Boys Sneakers F...',\n",
       " 'Sneakers For Men',\n",
       " 'Sneakers for men(black_6) Sneakers For Men',\n",
       " 'Synthetic Leather Casual Partywear Wedding Sneakers Sho...',\n",
       " 'Cipramo Canvas Shoes for Men Sneakers For Men',\n",
       " 'Sneakers For Men',\n",
       " 'Latest Stylish Casual sneakers for men | Lace up lightw...',\n",
       " 'SM-482 Sneakers For Men',\n",
       " 'Combo Pack Of 4 Canvas Sneakers For Men',\n",
       " 'Sneakers For Men',\n",
       " 'Multicolor Casual Shoes Mesh for Men Sneakers For Men',\n",
       " 'Sneakers For Men',\n",
       " \"casual , Partywear Sneakers Shoes For Men's and Boys bl...\",\n",
       " 'casual sneaker shoes and partywear shoes Casuals For Me...',\n",
       " '5001 Sneakers For Men',\n",
       " 'Sneakers For Men',\n",
       " 'COMBO-(2)-RWT Sneakers For Men',\n",
       " 'Sneakers Sneakers For Men',\n",
       " 'Sneakers For Men',\n",
       " 'Sneakers For Men',\n",
       " '349 Red Sneakers For Men',\n",
       " 'Boxer-303 Sneakers For Men',\n",
       " 'Sneakers For Men',\n",
       " '1002 Sneakers For Men',\n",
       " 'Sneakers For Men',\n",
       " 'Sneakers for man Sneakers For Men',\n",
       " 'Sneakers Sneakers For Men',\n",
       " 'Combo Pack of 2 Latest Collection Stylish Casual Shoes ...',\n",
       " 'Sneakers For Men',\n",
       " 'Casual Sneakers Shoes For Men Sneakers For Men',\n",
       " 'AART CORE Sneakers For Men']"
      ]
     },
     "execution_count": 342,
     "metadata": {},
     "output_type": "execute_result"
    }
   ],
   "source": [
    "# Now we have all the tags having product description\n",
    "# Now wewill extract the text from these tags one by one by looping over these tags\n",
    "\n",
    "desc2=[]\n",
    "for i in desc_tags:\n",
    "    desc2.append(i.text)\n",
    "desc2    "
   ]
  },
  {
   "cell_type": "code",
   "execution_count": 344,
   "metadata": {},
   "outputs": [
    {
     "data": {
      "text/plain": [
       "[<selenium.webdriver.remote.webelement.WebElement (session=\"5197c8547257cae371eb2ba9eb3e11e2\", element=\"88228a5a-c508-4ea8-826e-be6c495b511c\")>,\n",
       " <selenium.webdriver.remote.webelement.WebElement (session=\"5197c8547257cae371eb2ba9eb3e11e2\", element=\"aaa05e44-8b07-4695-8e4e-b3fd2253b1b5\")>,\n",
       " <selenium.webdriver.remote.webelement.WebElement (session=\"5197c8547257cae371eb2ba9eb3e11e2\", element=\"5061c139-b705-4f43-8af5-a71d840a83fc\")>,\n",
       " <selenium.webdriver.remote.webelement.WebElement (session=\"5197c8547257cae371eb2ba9eb3e11e2\", element=\"9e87ad0a-6fe0-414c-9c4a-f5dced8058cd\")>,\n",
       " <selenium.webdriver.remote.webelement.WebElement (session=\"5197c8547257cae371eb2ba9eb3e11e2\", element=\"258a4162-f5e4-4dd8-bb80-093469ae35f8\")>,\n",
       " <selenium.webdriver.remote.webelement.WebElement (session=\"5197c8547257cae371eb2ba9eb3e11e2\", element=\"7127514a-c7a4-4570-9b56-ec5d178fd778\")>,\n",
       " <selenium.webdriver.remote.webelement.WebElement (session=\"5197c8547257cae371eb2ba9eb3e11e2\", element=\"8eb8f5bd-edc8-4fba-aa1f-9a51dea8ca7c\")>,\n",
       " <selenium.webdriver.remote.webelement.WebElement (session=\"5197c8547257cae371eb2ba9eb3e11e2\", element=\"c143c2bc-c183-443f-96e9-7ee7d173d247\")>,\n",
       " <selenium.webdriver.remote.webelement.WebElement (session=\"5197c8547257cae371eb2ba9eb3e11e2\", element=\"4f73d37b-94a3-4928-9ce3-93bb0aa4b116\")>,\n",
       " <selenium.webdriver.remote.webelement.WebElement (session=\"5197c8547257cae371eb2ba9eb3e11e2\", element=\"9fc1c85e-6961-4f5b-b360-71eed68205cb\")>,\n",
       " <selenium.webdriver.remote.webelement.WebElement (session=\"5197c8547257cae371eb2ba9eb3e11e2\", element=\"886dcb49-f16e-490f-ad4a-7aae600208e9\")>,\n",
       " <selenium.webdriver.remote.webelement.WebElement (session=\"5197c8547257cae371eb2ba9eb3e11e2\", element=\"f6ef57d8-f43c-4bdb-9087-0ade9e22dba7\")>,\n",
       " <selenium.webdriver.remote.webelement.WebElement (session=\"5197c8547257cae371eb2ba9eb3e11e2\", element=\"0b012343-c23a-4091-bedc-928fc8242474\")>,\n",
       " <selenium.webdriver.remote.webelement.WebElement (session=\"5197c8547257cae371eb2ba9eb3e11e2\", element=\"3a1152b3-01a1-4d14-ac5c-75134975dc65\")>,\n",
       " <selenium.webdriver.remote.webelement.WebElement (session=\"5197c8547257cae371eb2ba9eb3e11e2\", element=\"983dca9c-d444-4085-a410-ee72efc87091\")>,\n",
       " <selenium.webdriver.remote.webelement.WebElement (session=\"5197c8547257cae371eb2ba9eb3e11e2\", element=\"116f4042-388a-482e-8531-5f37c95cb9a8\")>,\n",
       " <selenium.webdriver.remote.webelement.WebElement (session=\"5197c8547257cae371eb2ba9eb3e11e2\", element=\"d8bb72c7-d940-42a6-ad71-00f5176afa5c\")>,\n",
       " <selenium.webdriver.remote.webelement.WebElement (session=\"5197c8547257cae371eb2ba9eb3e11e2\", element=\"e454e8a3-b4ba-4124-a407-7cccf85c136d\")>,\n",
       " <selenium.webdriver.remote.webelement.WebElement (session=\"5197c8547257cae371eb2ba9eb3e11e2\", element=\"14887cff-497d-46ab-8f5f-7c5fa16e1693\")>,\n",
       " <selenium.webdriver.remote.webelement.WebElement (session=\"5197c8547257cae371eb2ba9eb3e11e2\", element=\"372fd447-a6e2-4cf4-83c6-8ac8699a4dd4\")>,\n",
       " <selenium.webdriver.remote.webelement.WebElement (session=\"5197c8547257cae371eb2ba9eb3e11e2\", element=\"436f373a-52a4-4266-9c2f-31d192156dcc\")>,\n",
       " <selenium.webdriver.remote.webelement.WebElement (session=\"5197c8547257cae371eb2ba9eb3e11e2\", element=\"befc87b8-798a-42ed-bf10-14895f508d65\")>,\n",
       " <selenium.webdriver.remote.webelement.WebElement (session=\"5197c8547257cae371eb2ba9eb3e11e2\", element=\"da43fa2a-a3db-4604-b4d1-769d4a4b49e1\")>,\n",
       " <selenium.webdriver.remote.webelement.WebElement (session=\"5197c8547257cae371eb2ba9eb3e11e2\", element=\"89aca723-2be0-490c-b709-d40e69de66c2\")>,\n",
       " <selenium.webdriver.remote.webelement.WebElement (session=\"5197c8547257cae371eb2ba9eb3e11e2\", element=\"7213392c-00c3-4f08-a771-8befd8881f4d\")>,\n",
       " <selenium.webdriver.remote.webelement.WebElement (session=\"5197c8547257cae371eb2ba9eb3e11e2\", element=\"d1188a33-cebd-46b3-b6f5-9caac1ee0e7e\")>,\n",
       " <selenium.webdriver.remote.webelement.WebElement (session=\"5197c8547257cae371eb2ba9eb3e11e2\", element=\"4b762e71-3a1d-4c98-b8f8-9763b8900472\")>,\n",
       " <selenium.webdriver.remote.webelement.WebElement (session=\"5197c8547257cae371eb2ba9eb3e11e2\", element=\"419a35c0-62f6-4c29-9f3a-e98a397e4271\")>,\n",
       " <selenium.webdriver.remote.webelement.WebElement (session=\"5197c8547257cae371eb2ba9eb3e11e2\", element=\"96b43765-429f-4a4a-a43d-2d91ba003ac2\")>,\n",
       " <selenium.webdriver.remote.webelement.WebElement (session=\"5197c8547257cae371eb2ba9eb3e11e2\", element=\"68b00eec-a2ee-403c-8df6-09e90fabbb00\")>,\n",
       " <selenium.webdriver.remote.webelement.WebElement (session=\"5197c8547257cae371eb2ba9eb3e11e2\", element=\"66e3ef99-0436-4d49-9909-7bd9d7682301\")>,\n",
       " <selenium.webdriver.remote.webelement.WebElement (session=\"5197c8547257cae371eb2ba9eb3e11e2\", element=\"df8f2adb-de4e-4b59-ae19-05a8a60aca7c\")>,\n",
       " <selenium.webdriver.remote.webelement.WebElement (session=\"5197c8547257cae371eb2ba9eb3e11e2\", element=\"7b5921f8-3b0f-4853-aa94-ab1b4bd0197c\")>,\n",
       " <selenium.webdriver.remote.webelement.WebElement (session=\"5197c8547257cae371eb2ba9eb3e11e2\", element=\"8bfaffab-5d55-46e7-aa29-7e1db4831d11\")>,\n",
       " <selenium.webdriver.remote.webelement.WebElement (session=\"5197c8547257cae371eb2ba9eb3e11e2\", element=\"d59efc79-44ea-4792-9db7-2603034108fd\")>,\n",
       " <selenium.webdriver.remote.webelement.WebElement (session=\"5197c8547257cae371eb2ba9eb3e11e2\", element=\"bdc61550-7f67-4f9f-ab0a-8090cd3f2603\")>,\n",
       " <selenium.webdriver.remote.webelement.WebElement (session=\"5197c8547257cae371eb2ba9eb3e11e2\", element=\"11bf8e30-064f-4ea7-adf0-6b72791e2b1f\")>,\n",
       " <selenium.webdriver.remote.webelement.WebElement (session=\"5197c8547257cae371eb2ba9eb3e11e2\", element=\"210e0d53-a96c-4933-9a74-cef2dd49fa92\")>,\n",
       " <selenium.webdriver.remote.webelement.WebElement (session=\"5197c8547257cae371eb2ba9eb3e11e2\", element=\"65091f1f-be05-4862-b624-5621ec82d612\")>,\n",
       " <selenium.webdriver.remote.webelement.WebElement (session=\"5197c8547257cae371eb2ba9eb3e11e2\", element=\"24332b20-0400-407b-ab23-21055fa1212a\")>]"
      ]
     },
     "execution_count": 344,
     "metadata": {},
     "output_type": "execute_result"
    }
   ],
   "source": [
    "#lets extract all html tags having product price\n",
    "price_tags=driver.find_elements_by_xpath(\"//div[@class='_30jeq3']\")\n",
    "price_tags"
   ]
  },
  {
   "cell_type": "code",
   "execution_count": 345,
   "metadata": {},
   "outputs": [
    {
     "data": {
      "text/plain": [
       "['₹429',\n",
       " '₹428',\n",
       " '₹389',\n",
       " '₹474',\n",
       " '₹265',\n",
       " '₹299',\n",
       " '₹630',\n",
       " '₹240',\n",
       " '₹474',\n",
       " '₹474',\n",
       " '₹429',\n",
       " '₹446',\n",
       " '₹398',\n",
       " '₹630',\n",
       " '₹399',\n",
       " '₹379',\n",
       " '₹965',\n",
       " '₹499',\n",
       " '₹468',\n",
       " '₹568',\n",
       " '₹214',\n",
       " '₹499',\n",
       " '₹418',\n",
       " '₹337',\n",
       " '₹468',\n",
       " '₹367',\n",
       " '₹299',\n",
       " '₹372',\n",
       " '₹599',\n",
       " '₹259',\n",
       " '₹284',\n",
       " '₹569',\n",
       " '₹556',\n",
       " '₹474',\n",
       " '₹449',\n",
       " '₹451',\n",
       " '₹328',\n",
       " '₹299',\n",
       " '₹474',\n",
       " '₹1,499']"
      ]
     },
     "execution_count": 345,
     "metadata": {},
     "output_type": "execute_result"
    }
   ],
   "source": [
    "# Now we have all the tags in which there are the product prices\n",
    "# Now wewill extract the text from these tags one by one by looping over these tags\n",
    "\n",
    "price2=[]\n",
    "for i in price_tags:\n",
    "    price2.append(i.text)\n",
    "price2    "
   ]
  },
  {
   "cell_type": "code",
   "execution_count": 347,
   "metadata": {},
   "outputs": [
    {
     "data": {
      "text/plain": [
       "[<selenium.webdriver.remote.webelement.WebElement (session=\"5197c8547257cae371eb2ba9eb3e11e2\", element=\"6d5a740b-123a-4c0f-ba60-ebcd54ab1196\")>,\n",
       " <selenium.webdriver.remote.webelement.WebElement (session=\"5197c8547257cae371eb2ba9eb3e11e2\", element=\"b442bcae-f4f8-4bd1-a8e2-cbc1d919f82d\")>,\n",
       " <selenium.webdriver.remote.webelement.WebElement (session=\"5197c8547257cae371eb2ba9eb3e11e2\", element=\"a0a762dd-f398-496f-9ebf-a6646fad920d\")>,\n",
       " <selenium.webdriver.remote.webelement.WebElement (session=\"5197c8547257cae371eb2ba9eb3e11e2\", element=\"59d9219a-a9ec-41ce-af50-c40db9d42d96\")>,\n",
       " <selenium.webdriver.remote.webelement.WebElement (session=\"5197c8547257cae371eb2ba9eb3e11e2\", element=\"789b12f6-74b1-4faf-a9a7-36ea8d168a62\")>,\n",
       " <selenium.webdriver.remote.webelement.WebElement (session=\"5197c8547257cae371eb2ba9eb3e11e2\", element=\"2d9ddf76-34b3-470a-a7b2-07d4f4eac0f6\")>,\n",
       " <selenium.webdriver.remote.webelement.WebElement (session=\"5197c8547257cae371eb2ba9eb3e11e2\", element=\"6de8efde-e68c-4326-a536-07b03c80e314\")>,\n",
       " <selenium.webdriver.remote.webelement.WebElement (session=\"5197c8547257cae371eb2ba9eb3e11e2\", element=\"f5585f58-452e-49da-b6c7-72e375a104cf\")>,\n",
       " <selenium.webdriver.remote.webelement.WebElement (session=\"5197c8547257cae371eb2ba9eb3e11e2\", element=\"83e9c838-b0b8-4ce7-b967-67ceeceda28e\")>,\n",
       " <selenium.webdriver.remote.webelement.WebElement (session=\"5197c8547257cae371eb2ba9eb3e11e2\", element=\"833a830e-f0e3-427d-af55-c4a478b600e9\")>,\n",
       " <selenium.webdriver.remote.webelement.WebElement (session=\"5197c8547257cae371eb2ba9eb3e11e2\", element=\"453a7edd-b48e-42bc-a613-838061f1b5d8\")>,\n",
       " <selenium.webdriver.remote.webelement.WebElement (session=\"5197c8547257cae371eb2ba9eb3e11e2\", element=\"de775cdb-41bf-4941-84b5-38fa12977160\")>,\n",
       " <selenium.webdriver.remote.webelement.WebElement (session=\"5197c8547257cae371eb2ba9eb3e11e2\", element=\"aa119b65-ff51-430d-9eb6-1f3f48d04ecc\")>,\n",
       " <selenium.webdriver.remote.webelement.WebElement (session=\"5197c8547257cae371eb2ba9eb3e11e2\", element=\"6fbf328e-78b4-4eeb-804b-3a9c91db0f14\")>,\n",
       " <selenium.webdriver.remote.webelement.WebElement (session=\"5197c8547257cae371eb2ba9eb3e11e2\", element=\"b3bae33f-2ffc-4a61-81c3-1b036edbdd84\")>,\n",
       " <selenium.webdriver.remote.webelement.WebElement (session=\"5197c8547257cae371eb2ba9eb3e11e2\", element=\"7c32efd1-2b4d-4cf4-8db3-572bea898aa4\")>,\n",
       " <selenium.webdriver.remote.webelement.WebElement (session=\"5197c8547257cae371eb2ba9eb3e11e2\", element=\"a4a259ad-dcc9-41eb-8000-c685a9c8ea71\")>,\n",
       " <selenium.webdriver.remote.webelement.WebElement (session=\"5197c8547257cae371eb2ba9eb3e11e2\", element=\"481fde40-aafa-46e4-9488-c0d4ce0d0484\")>,\n",
       " <selenium.webdriver.remote.webelement.WebElement (session=\"5197c8547257cae371eb2ba9eb3e11e2\", element=\"aa905214-b26c-4f11-b289-ad9c0160637f\")>,\n",
       " <selenium.webdriver.remote.webelement.WebElement (session=\"5197c8547257cae371eb2ba9eb3e11e2\", element=\"f33c4d62-ac26-4251-97d7-d67051cd88b5\")>,\n",
       " <selenium.webdriver.remote.webelement.WebElement (session=\"5197c8547257cae371eb2ba9eb3e11e2\", element=\"1b30cf8a-da64-4d93-8a5a-956e87c39267\")>,\n",
       " <selenium.webdriver.remote.webelement.WebElement (session=\"5197c8547257cae371eb2ba9eb3e11e2\", element=\"4a733d52-74b9-4b6f-bf55-65e5f10810b6\")>,\n",
       " <selenium.webdriver.remote.webelement.WebElement (session=\"5197c8547257cae371eb2ba9eb3e11e2\", element=\"34068b5c-bcca-4103-9171-46400d10ce52\")>,\n",
       " <selenium.webdriver.remote.webelement.WebElement (session=\"5197c8547257cae371eb2ba9eb3e11e2\", element=\"57584103-7909-4da4-9877-a3bd3c96f55e\")>,\n",
       " <selenium.webdriver.remote.webelement.WebElement (session=\"5197c8547257cae371eb2ba9eb3e11e2\", element=\"c9e1b462-ccf8-45f9-b618-79cfe77e01f9\")>,\n",
       " <selenium.webdriver.remote.webelement.WebElement (session=\"5197c8547257cae371eb2ba9eb3e11e2\", element=\"a6841d1b-c8f3-439e-bb75-8ce8b5b07568\")>,\n",
       " <selenium.webdriver.remote.webelement.WebElement (session=\"5197c8547257cae371eb2ba9eb3e11e2\", element=\"0dd44c0f-0f5a-439c-9596-b65429f12155\")>,\n",
       " <selenium.webdriver.remote.webelement.WebElement (session=\"5197c8547257cae371eb2ba9eb3e11e2\", element=\"3fcd4608-55ac-48f0-9b2c-10e4a428fbf8\")>,\n",
       " <selenium.webdriver.remote.webelement.WebElement (session=\"5197c8547257cae371eb2ba9eb3e11e2\", element=\"60630c81-4d1c-4f32-8707-19c71309a539\")>,\n",
       " <selenium.webdriver.remote.webelement.WebElement (session=\"5197c8547257cae371eb2ba9eb3e11e2\", element=\"101a71fa-024e-4e8b-adc6-4b1e4c44ed1b\")>,\n",
       " <selenium.webdriver.remote.webelement.WebElement (session=\"5197c8547257cae371eb2ba9eb3e11e2\", element=\"9fe54391-8f76-44e8-8956-8559e278fab5\")>,\n",
       " <selenium.webdriver.remote.webelement.WebElement (session=\"5197c8547257cae371eb2ba9eb3e11e2\", element=\"577791ca-2cf6-458a-b74a-2b9c21dc3074\")>,\n",
       " <selenium.webdriver.remote.webelement.WebElement (session=\"5197c8547257cae371eb2ba9eb3e11e2\", element=\"3809377b-6d00-4d3f-8925-459ebfaea65a\")>,\n",
       " <selenium.webdriver.remote.webelement.WebElement (session=\"5197c8547257cae371eb2ba9eb3e11e2\", element=\"46c326c5-726b-40da-a958-c330581f902a\")>,\n",
       " <selenium.webdriver.remote.webelement.WebElement (session=\"5197c8547257cae371eb2ba9eb3e11e2\", element=\"a47e0aa9-8858-4498-be20-52a9eca7a126\")>,\n",
       " <selenium.webdriver.remote.webelement.WebElement (session=\"5197c8547257cae371eb2ba9eb3e11e2\", element=\"39aa91ec-0560-4530-8904-c2cea25b66eb\")>,\n",
       " <selenium.webdriver.remote.webelement.WebElement (session=\"5197c8547257cae371eb2ba9eb3e11e2\", element=\"eff710d2-3e8c-48ca-9fb3-76adf4920f97\")>,\n",
       " <selenium.webdriver.remote.webelement.WebElement (session=\"5197c8547257cae371eb2ba9eb3e11e2\", element=\"871a30d2-3d30-4d00-be30-b0e112dabc74\")>,\n",
       " <selenium.webdriver.remote.webelement.WebElement (session=\"5197c8547257cae371eb2ba9eb3e11e2\", element=\"5aeaddb2-6a28-46a1-81f4-a230536cb24f\")>,\n",
       " <selenium.webdriver.remote.webelement.WebElement (session=\"5197c8547257cae371eb2ba9eb3e11e2\", element=\"f572b617-7b86-4cc8-a83c-00bf293807fd\")>]"
      ]
     },
     "execution_count": 347,
     "metadata": {},
     "output_type": "execute_result"
    }
   ],
   "source": [
    "#lets extract all html tags having product discount\n",
    "discount_tags=driver.find_elements_by_xpath(\"//a[@class='_3bPFwb']//span\")\n",
    "discount_tags"
   ]
  },
  {
   "cell_type": "code",
   "execution_count": 348,
   "metadata": {},
   "outputs": [
    {
     "data": {
      "text/plain": [
       "['85% off',\n",
       " '38% off',\n",
       " '61% off',\n",
       " '52% off',\n",
       " '46% off',\n",
       " '78% off',\n",
       " '15% off',\n",
       " '51% off',\n",
       " '52% off',\n",
       " '52% off',\n",
       " '57% off',\n",
       " '55% off',\n",
       " '60% off',\n",
       " '36% off',\n",
       " '60% off',\n",
       " '62% off',\n",
       " '28% off',\n",
       " '85% off',\n",
       " '53% off',\n",
       " '71% off',\n",
       " '57% off',\n",
       " '50% off',\n",
       " '71% off',\n",
       " '32% off',\n",
       " '53% off',\n",
       " '63% off',\n",
       " '40% off',\n",
       " '62% off',\n",
       " '70% off',\n",
       " '48% off',\n",
       " '43% off',\n",
       " '62% off',\n",
       " '44% off',\n",
       " '52% off',\n",
       " '55% off',\n",
       " '35% off',\n",
       " '67% off',\n",
       " '70% off',\n",
       " '52% off',\n",
       " '50% off']"
      ]
     },
     "execution_count": 348,
     "metadata": {},
     "output_type": "execute_result"
    }
   ],
   "source": [
    "# Now we have all the tags having product discounts\n",
    "# Now we will extract the text from these tags one by one by looping over these tags\n",
    "\n",
    "discount2=[]\n",
    "for i in discount_tags:\n",
    "    discount2.append(i.text)\n",
    "discount2    "
   ]
  },
  {
   "cell_type": "code",
   "execution_count": 350,
   "metadata": {},
   "outputs": [],
   "source": [
    "#click on the next button to access page3\n",
    "driver.find_element_by_xpath(\"//div[@class='_2MImiq']//a[12]\").click()"
   ]
  },
  {
   "cell_type": "code",
   "execution_count": 351,
   "metadata": {},
   "outputs": [
    {
     "data": {
      "text/plain": [
       "[<selenium.webdriver.remote.webelement.WebElement (session=\"5197c8547257cae371eb2ba9eb3e11e2\", element=\"30f15ce2-5c7e-43eb-9da2-a3aa9a06c5e0\")>,\n",
       " <selenium.webdriver.remote.webelement.WebElement (session=\"5197c8547257cae371eb2ba9eb3e11e2\", element=\"d1c9e454-da69-4100-8962-a1c35a380149\")>,\n",
       " <selenium.webdriver.remote.webelement.WebElement (session=\"5197c8547257cae371eb2ba9eb3e11e2\", element=\"fe40d69a-1c1b-4e12-abad-62583df6e37f\")>,\n",
       " <selenium.webdriver.remote.webelement.WebElement (session=\"5197c8547257cae371eb2ba9eb3e11e2\", element=\"f7859777-1183-44b4-978d-33e4889cb7b3\")>,\n",
       " <selenium.webdriver.remote.webelement.WebElement (session=\"5197c8547257cae371eb2ba9eb3e11e2\", element=\"cf4fe8bf-eb51-4cd2-af51-5dfd535b4c9b\")>,\n",
       " <selenium.webdriver.remote.webelement.WebElement (session=\"5197c8547257cae371eb2ba9eb3e11e2\", element=\"643962e8-665e-41bc-8080-fcd5b19ab415\")>,\n",
       " <selenium.webdriver.remote.webelement.WebElement (session=\"5197c8547257cae371eb2ba9eb3e11e2\", element=\"8caaa32d-f714-4224-9efd-76ea8d39d864\")>,\n",
       " <selenium.webdriver.remote.webelement.WebElement (session=\"5197c8547257cae371eb2ba9eb3e11e2\", element=\"5b862460-2f7c-499d-9a01-8cf1fffafeba\")>,\n",
       " <selenium.webdriver.remote.webelement.WebElement (session=\"5197c8547257cae371eb2ba9eb3e11e2\", element=\"762b5fa6-68a6-440c-a667-c3b6d72680d8\")>,\n",
       " <selenium.webdriver.remote.webelement.WebElement (session=\"5197c8547257cae371eb2ba9eb3e11e2\", element=\"394bd6cc-9f4a-4540-9686-aa8406bac769\")>,\n",
       " <selenium.webdriver.remote.webelement.WebElement (session=\"5197c8547257cae371eb2ba9eb3e11e2\", element=\"f428c8b4-f23d-4821-bde1-67da630c043a\")>,\n",
       " <selenium.webdriver.remote.webelement.WebElement (session=\"5197c8547257cae371eb2ba9eb3e11e2\", element=\"2acc8bd6-712a-4cd5-8146-2849b060b345\")>,\n",
       " <selenium.webdriver.remote.webelement.WebElement (session=\"5197c8547257cae371eb2ba9eb3e11e2\", element=\"38ebd7ea-0e86-4ff8-94d1-2d0c8a434b2e\")>,\n",
       " <selenium.webdriver.remote.webelement.WebElement (session=\"5197c8547257cae371eb2ba9eb3e11e2\", element=\"5102761e-5147-4aa9-8aff-9f52fc799a67\")>,\n",
       " <selenium.webdriver.remote.webelement.WebElement (session=\"5197c8547257cae371eb2ba9eb3e11e2\", element=\"a77098d2-75b0-49b9-8b98-9f8ac71448b0\")>,\n",
       " <selenium.webdriver.remote.webelement.WebElement (session=\"5197c8547257cae371eb2ba9eb3e11e2\", element=\"bfb8a01a-675a-4341-9432-e41f09665d7f\")>,\n",
       " <selenium.webdriver.remote.webelement.WebElement (session=\"5197c8547257cae371eb2ba9eb3e11e2\", element=\"764cbeee-a606-42a6-b9d4-f17511531809\")>,\n",
       " <selenium.webdriver.remote.webelement.WebElement (session=\"5197c8547257cae371eb2ba9eb3e11e2\", element=\"619bdccb-24cd-424c-a51f-587f1fd91858\")>,\n",
       " <selenium.webdriver.remote.webelement.WebElement (session=\"5197c8547257cae371eb2ba9eb3e11e2\", element=\"b7129af1-3468-4e26-a4ae-3d7b93b15067\")>,\n",
       " <selenium.webdriver.remote.webelement.WebElement (session=\"5197c8547257cae371eb2ba9eb3e11e2\", element=\"964cada0-3bda-4a2e-bd91-ef3ae0678f5a\")>]"
      ]
     },
     "execution_count": 351,
     "metadata": {},
     "output_type": "execute_result"
    }
   ],
   "source": [
    "#extract all html tags having all product brands from page2\n",
    "brand_tags=driver.find_elements_by_xpath(\"//div[@class='_2WkVRV']\")[:20]\n",
    "brand_tags"
   ]
  },
  {
   "cell_type": "code",
   "execution_count": 352,
   "metadata": {},
   "outputs": [
    {
     "data": {
      "text/plain": [
       "['TR',\n",
       " 'SWIGGY',\n",
       " 'SPARX',\n",
       " 'World Wear Footwear',\n",
       " 'Jack Diamond',\n",
       " 'SPARX',\n",
       " 'World Wear Footwear',\n",
       " 'RODDICK',\n",
       " 'Ardeo',\n",
       " 'World Wear Footwear',\n",
       " 'Axter',\n",
       " 'BRUTON',\n",
       " 'MOU',\n",
       " 'GUSTO',\n",
       " 'Imcolus',\n",
       " 'Xtoon',\n",
       " 'World Wear Footwear',\n",
       " 'oxpeo',\n",
       " 'BLACK BOTTOM',\n",
       " 'Skymate']"
      ]
     },
     "execution_count": 352,
     "metadata": {},
     "output_type": "execute_result"
    }
   ],
   "source": [
    "# Now we have all the tags having brands of the products\n",
    "# Now we will extract the text from these tags one by one by looping over these tags\n",
    "\n",
    "brand3=[]\n",
    "for i in brand_tags:\n",
    "    brand3.append(i.text)\n",
    "brand3    "
   ]
  },
  {
   "cell_type": "code",
   "execution_count": 354,
   "metadata": {},
   "outputs": [
    {
     "data": {
      "text/plain": [
       "[<selenium.webdriver.remote.webelement.WebElement (session=\"5197c8547257cae371eb2ba9eb3e11e2\", element=\"1cddcc83-d420-4028-9c23-1c70110e5001\")>,\n",
       " <selenium.webdriver.remote.webelement.WebElement (session=\"5197c8547257cae371eb2ba9eb3e11e2\", element=\"85273ee4-177b-4f94-8a03-ff0ecbf45aad\")>,\n",
       " <selenium.webdriver.remote.webelement.WebElement (session=\"5197c8547257cae371eb2ba9eb3e11e2\", element=\"47058525-5d40-4132-9707-8bc1c9bf12fe\")>,\n",
       " <selenium.webdriver.remote.webelement.WebElement (session=\"5197c8547257cae371eb2ba9eb3e11e2\", element=\"77600ab1-d13f-40b9-a615-099e5cecc836\")>,\n",
       " <selenium.webdriver.remote.webelement.WebElement (session=\"5197c8547257cae371eb2ba9eb3e11e2\", element=\"1b62547e-8dba-4090-82a2-53bc82552699\")>,\n",
       " <selenium.webdriver.remote.webelement.WebElement (session=\"5197c8547257cae371eb2ba9eb3e11e2\", element=\"420a2354-78b1-4a2a-9666-ed46625e696c\")>,\n",
       " <selenium.webdriver.remote.webelement.WebElement (session=\"5197c8547257cae371eb2ba9eb3e11e2\", element=\"c6608a49-0478-464c-baf0-e5e43a3688c6\")>,\n",
       " <selenium.webdriver.remote.webelement.WebElement (session=\"5197c8547257cae371eb2ba9eb3e11e2\", element=\"73fbeba0-bc4d-4ccc-8951-af7e0b0626f5\")>,\n",
       " <selenium.webdriver.remote.webelement.WebElement (session=\"5197c8547257cae371eb2ba9eb3e11e2\", element=\"086d3a31-beb4-4801-bafa-3a07f45080a0\")>,\n",
       " <selenium.webdriver.remote.webelement.WebElement (session=\"5197c8547257cae371eb2ba9eb3e11e2\", element=\"06105a2a-11e5-4f35-a834-83383539bb97\")>,\n",
       " <selenium.webdriver.remote.webelement.WebElement (session=\"5197c8547257cae371eb2ba9eb3e11e2\", element=\"ac4cf6c7-d286-45ba-abf3-f31251e0035f\")>,\n",
       " <selenium.webdriver.remote.webelement.WebElement (session=\"5197c8547257cae371eb2ba9eb3e11e2\", element=\"92a03165-5da1-4075-ac81-5c41c61a8497\")>,\n",
       " <selenium.webdriver.remote.webelement.WebElement (session=\"5197c8547257cae371eb2ba9eb3e11e2\", element=\"fb09a378-8c29-4b23-9b7c-380dd9f1eb43\")>,\n",
       " <selenium.webdriver.remote.webelement.WebElement (session=\"5197c8547257cae371eb2ba9eb3e11e2\", element=\"e6bc9abd-e80b-45fc-8e3d-eed42b2b7202\")>,\n",
       " <selenium.webdriver.remote.webelement.WebElement (session=\"5197c8547257cae371eb2ba9eb3e11e2\", element=\"3a0a870c-10ba-4bce-a874-0211eb37aeaa\")>,\n",
       " <selenium.webdriver.remote.webelement.WebElement (session=\"5197c8547257cae371eb2ba9eb3e11e2\", element=\"bf341fbd-cd70-4721-98ca-47d883f45196\")>,\n",
       " <selenium.webdriver.remote.webelement.WebElement (session=\"5197c8547257cae371eb2ba9eb3e11e2\", element=\"21ee74b7-0321-4e13-b067-1a33fcc53202\")>,\n",
       " <selenium.webdriver.remote.webelement.WebElement (session=\"5197c8547257cae371eb2ba9eb3e11e2\", element=\"43baa4fe-e6d4-4bde-9e97-067a9cd40ff8\")>,\n",
       " <selenium.webdriver.remote.webelement.WebElement (session=\"5197c8547257cae371eb2ba9eb3e11e2\", element=\"df1258ba-7ed1-421e-bbf0-681ac2d850b4\")>,\n",
       " <selenium.webdriver.remote.webelement.WebElement (session=\"5197c8547257cae371eb2ba9eb3e11e2\", element=\"5416ef88-6794-4b51-9913-49b3d1124b23\")>]"
      ]
     },
     "execution_count": 354,
     "metadata": {},
     "output_type": "execute_result"
    }
   ],
   "source": [
    "#lets extract all html tags having description\n",
    "desc_tags=driver.find_elements_by_xpath(\"//div[@class='_2B099V']//a[1]\")[:20]\n",
    "desc_tags"
   ]
  },
  {
   "cell_type": "code",
   "execution_count": 355,
   "metadata": {},
   "outputs": [
    {
     "data": {
      "text/plain": [
       "['Sneakers For Men',\n",
       " 'Casual Loafers, Sneakers Shoes for Men Pack of 5 Combo(...',\n",
       " 'SM-439 Sneakers For Men',\n",
       " 'New Latest Affordable Range of Combo Pack of 2 Trendy S...',\n",
       " 'Sneakers For Men',\n",
       " 'SM439G Sneakers For Men',\n",
       " 'Sneakers For Men',\n",
       " 'Sneakers For Men',\n",
       " 'NEW WHITE TRENDY SNEAKERS FOR MEN Sneakers For Men',\n",
       " 'New Latest Affordable Range of Combo Pack of 2 Trendy S...',\n",
       " 'Combo Pack of 2 Casual Loafer Sneakers Shoes Sneakers F...',\n",
       " 'CUBIC_1 Sneakers For Men',\n",
       " 'Sneakers For Men',\n",
       " 'Sneakers For Men',\n",
       " 'Sneakers For Men',\n",
       " 'Casual shoes Sneakers For Men',\n",
       " 'Combo Pack of 2 Top Rated, Best Rates Training Shoes, W...',\n",
       " 'Colourblocked Trending Multicolor Ultralight canvas Spo...',\n",
       " 'Fashion Outdoor Canvas Casual Light Weight Partywear Sn...',\n",
       " 'Sneakers For Men']"
      ]
     },
     "execution_count": 355,
     "metadata": {},
     "output_type": "execute_result"
    }
   ],
   "source": [
    "# Now we have all the tags having the description of the products\n",
    "# Now we will extract the text from these tags one by one by looping over these tags\n",
    "\n",
    "desc3=[]\n",
    "for i in desc_tags:\n",
    "    desc3.append(i.text)\n",
    "desc3    "
   ]
  },
  {
   "cell_type": "code",
   "execution_count": 357,
   "metadata": {},
   "outputs": [
    {
     "data": {
      "text/plain": [
       "[<selenium.webdriver.remote.webelement.WebElement (session=\"5197c8547257cae371eb2ba9eb3e11e2\", element=\"be1c0ee3-7c1d-4da5-bf6d-c12f4737f658\")>,\n",
       " <selenium.webdriver.remote.webelement.WebElement (session=\"5197c8547257cae371eb2ba9eb3e11e2\", element=\"8abe9cb7-dc34-44e5-b1e4-936c4ec4539d\")>,\n",
       " <selenium.webdriver.remote.webelement.WebElement (session=\"5197c8547257cae371eb2ba9eb3e11e2\", element=\"140a6742-9197-44fd-8821-8b4e2d98b776\")>,\n",
       " <selenium.webdriver.remote.webelement.WebElement (session=\"5197c8547257cae371eb2ba9eb3e11e2\", element=\"30af2b04-c40f-4663-91cc-fb29a2b32b24\")>,\n",
       " <selenium.webdriver.remote.webelement.WebElement (session=\"5197c8547257cae371eb2ba9eb3e11e2\", element=\"2656426a-6c53-4703-ae5b-c4c968a56aa1\")>,\n",
       " <selenium.webdriver.remote.webelement.WebElement (session=\"5197c8547257cae371eb2ba9eb3e11e2\", element=\"b6f984a9-330e-4b28-ad14-008c2a4a8719\")>,\n",
       " <selenium.webdriver.remote.webelement.WebElement (session=\"5197c8547257cae371eb2ba9eb3e11e2\", element=\"f877dc97-2fd3-4964-98ca-9842fc239fef\")>,\n",
       " <selenium.webdriver.remote.webelement.WebElement (session=\"5197c8547257cae371eb2ba9eb3e11e2\", element=\"3764733e-2ae5-436d-8e06-bd9c7fcf08f7\")>,\n",
       " <selenium.webdriver.remote.webelement.WebElement (session=\"5197c8547257cae371eb2ba9eb3e11e2\", element=\"23177eb1-a4d6-413c-ab3d-8de556844d3d\")>,\n",
       " <selenium.webdriver.remote.webelement.WebElement (session=\"5197c8547257cae371eb2ba9eb3e11e2\", element=\"a97d2ee7-dbaa-4330-8624-8d8dabbe4b06\")>,\n",
       " <selenium.webdriver.remote.webelement.WebElement (session=\"5197c8547257cae371eb2ba9eb3e11e2\", element=\"e123bbbb-89c3-452c-9894-cbebc0001276\")>,\n",
       " <selenium.webdriver.remote.webelement.WebElement (session=\"5197c8547257cae371eb2ba9eb3e11e2\", element=\"935e79b6-a63e-4b3c-b4c4-8eb1de47d26d\")>,\n",
       " <selenium.webdriver.remote.webelement.WebElement (session=\"5197c8547257cae371eb2ba9eb3e11e2\", element=\"f121ef9d-f84e-47d6-ae28-0a5e671c89d5\")>,\n",
       " <selenium.webdriver.remote.webelement.WebElement (session=\"5197c8547257cae371eb2ba9eb3e11e2\", element=\"fa0e3261-2efc-49a6-82ab-34d6933256e6\")>,\n",
       " <selenium.webdriver.remote.webelement.WebElement (session=\"5197c8547257cae371eb2ba9eb3e11e2\", element=\"8fa18145-a676-4597-ba9b-a5c52dcfdf60\")>,\n",
       " <selenium.webdriver.remote.webelement.WebElement (session=\"5197c8547257cae371eb2ba9eb3e11e2\", element=\"b5c41b5b-2af6-466c-b2e4-9f7e08dbf17e\")>,\n",
       " <selenium.webdriver.remote.webelement.WebElement (session=\"5197c8547257cae371eb2ba9eb3e11e2\", element=\"33f71fdd-4e8d-4f20-9296-20065426b774\")>,\n",
       " <selenium.webdriver.remote.webelement.WebElement (session=\"5197c8547257cae371eb2ba9eb3e11e2\", element=\"9a74d50e-e28d-49a9-9397-d59adbdb7926\")>,\n",
       " <selenium.webdriver.remote.webelement.WebElement (session=\"5197c8547257cae371eb2ba9eb3e11e2\", element=\"6beca8d9-3d78-43ff-9a5a-76b8d731ccd1\")>,\n",
       " <selenium.webdriver.remote.webelement.WebElement (session=\"5197c8547257cae371eb2ba9eb3e11e2\", element=\"5866fa18-86e2-4c48-8ff7-52e9742a0f09\")>]"
      ]
     },
     "execution_count": 357,
     "metadata": {},
     "output_type": "execute_result"
    }
   ],
   "source": [
    "#lets extract all html tags having product price\n",
    "price_tags=driver.find_elements_by_xpath(\"//div[@class='_30jeq3']\")[:20]\n",
    "price_tags"
   ]
  },
  {
   "cell_type": "code",
   "execution_count": 358,
   "metadata": {},
   "outputs": [
    {
     "data": {
      "text/plain": [
       "['₹379',\n",
       " '₹759',\n",
       " '₹599',\n",
       " '₹498',\n",
       " '₹635',\n",
       " '₹699',\n",
       " '₹240',\n",
       " '₹370',\n",
       " '₹349',\n",
       " '₹498',\n",
       " '₹299',\n",
       " '₹299',\n",
       " '₹498',\n",
       " '₹389',\n",
       " '₹489',\n",
       " '₹359',\n",
       " '₹399',\n",
       " '₹398',\n",
       " '₹449',\n",
       " '₹449']"
      ]
     },
     "execution_count": 358,
     "metadata": {},
     "output_type": "execute_result"
    }
   ],
   "source": [
    "# Now we have all the tags having the price of the products\n",
    "# Now we will extract the text from these tags one by one by looping over these tags\n",
    "\n",
    "price3=[]\n",
    "for i in price_tags:\n",
    "    price3.append(i.text)\n",
    "price3    "
   ]
  },
  {
   "cell_type": "code",
   "execution_count": 359,
   "metadata": {},
   "outputs": [
    {
     "data": {
      "text/plain": [
       "[<selenium.webdriver.remote.webelement.WebElement (session=\"5197c8547257cae371eb2ba9eb3e11e2\", element=\"ee3c444c-38c6-443f-bfa5-cbaef8365e69\")>,\n",
       " <selenium.webdriver.remote.webelement.WebElement (session=\"5197c8547257cae371eb2ba9eb3e11e2\", element=\"2fb689ea-23a2-4e1a-82fd-7521c78922f7\")>,\n",
       " <selenium.webdriver.remote.webelement.WebElement (session=\"5197c8547257cae371eb2ba9eb3e11e2\", element=\"3da4e2d8-84a3-4bac-8af3-325fa993cf6d\")>,\n",
       " <selenium.webdriver.remote.webelement.WebElement (session=\"5197c8547257cae371eb2ba9eb3e11e2\", element=\"fd511eab-c7e6-4a74-89da-d25e684b3acb\")>,\n",
       " <selenium.webdriver.remote.webelement.WebElement (session=\"5197c8547257cae371eb2ba9eb3e11e2\", element=\"5886aa4d-14c5-47b9-aac8-04cc42307769\")>,\n",
       " <selenium.webdriver.remote.webelement.WebElement (session=\"5197c8547257cae371eb2ba9eb3e11e2\", element=\"add64ae9-79ab-4a7e-92ae-63e9eeda97f8\")>,\n",
       " <selenium.webdriver.remote.webelement.WebElement (session=\"5197c8547257cae371eb2ba9eb3e11e2\", element=\"21043954-225d-49a2-8026-433e1c59ca18\")>,\n",
       " <selenium.webdriver.remote.webelement.WebElement (session=\"5197c8547257cae371eb2ba9eb3e11e2\", element=\"f89bfd32-820c-4ccb-8e17-042e7fa62b9c\")>,\n",
       " <selenium.webdriver.remote.webelement.WebElement (session=\"5197c8547257cae371eb2ba9eb3e11e2\", element=\"52c660f1-6686-4e3d-bceb-b1c7581df734\")>,\n",
       " <selenium.webdriver.remote.webelement.WebElement (session=\"5197c8547257cae371eb2ba9eb3e11e2\", element=\"4847c3ef-f275-40e6-9496-7d3ec9afdf66\")>,\n",
       " <selenium.webdriver.remote.webelement.WebElement (session=\"5197c8547257cae371eb2ba9eb3e11e2\", element=\"0eabf54f-f79e-4c12-854a-2c5366bd0fbf\")>,\n",
       " <selenium.webdriver.remote.webelement.WebElement (session=\"5197c8547257cae371eb2ba9eb3e11e2\", element=\"757d99f9-5c6a-4979-9c2d-562d1dc3daf7\")>,\n",
       " <selenium.webdriver.remote.webelement.WebElement (session=\"5197c8547257cae371eb2ba9eb3e11e2\", element=\"87ea43ae-e267-45e6-933b-4393df1a9476\")>,\n",
       " <selenium.webdriver.remote.webelement.WebElement (session=\"5197c8547257cae371eb2ba9eb3e11e2\", element=\"bff19c04-6bb8-4eab-a5ae-024e3f6b3c17\")>,\n",
       " <selenium.webdriver.remote.webelement.WebElement (session=\"5197c8547257cae371eb2ba9eb3e11e2\", element=\"7514e06e-2323-4a06-88bc-f73195eef03d\")>,\n",
       " <selenium.webdriver.remote.webelement.WebElement (session=\"5197c8547257cae371eb2ba9eb3e11e2\", element=\"5bf57f0c-4304-4c17-b5df-b5c183269f9c\")>,\n",
       " <selenium.webdriver.remote.webelement.WebElement (session=\"5197c8547257cae371eb2ba9eb3e11e2\", element=\"97a8a758-c282-45d6-b028-5078dc833c1e\")>,\n",
       " <selenium.webdriver.remote.webelement.WebElement (session=\"5197c8547257cae371eb2ba9eb3e11e2\", element=\"9cdc0f49-7460-4b74-b7bc-6e0aaaf2658d\")>,\n",
       " <selenium.webdriver.remote.webelement.WebElement (session=\"5197c8547257cae371eb2ba9eb3e11e2\", element=\"33aad70e-ea24-44ce-a4f5-4b7cedba58b5\")>,\n",
       " <selenium.webdriver.remote.webelement.WebElement (session=\"5197c8547257cae371eb2ba9eb3e11e2\", element=\"f54510a3-fd6e-4930-abc9-fc580b546ddb\")>]"
      ]
     },
     "execution_count": 359,
     "metadata": {},
     "output_type": "execute_result"
    }
   ],
   "source": [
    "#lets extract all html tags having product discount\n",
    "discount_tags=driver.find_elements_by_xpath(\"//div[@class='_3Ay6Sb']\")[:20]\n",
    "discount_tags"
   ]
  },
  {
   "cell_type": "code",
   "execution_count": 360,
   "metadata": {},
   "outputs": [
    {
     "data": {
      "text/plain": [
       "['62% off',\n",
       " '69% off',\n",
       " '14% off',\n",
       " '75% off',\n",
       " '36% off',\n",
       " '51% off',\n",
       " '62% off',\n",
       " '65% off',\n",
       " '75% off',\n",
       " '78% off',\n",
       " '76% off',\n",
       " '50% off',\n",
       " '61% off',\n",
       " '51% off',\n",
       " '64% off',\n",
       " '60% off',\n",
       " '60% off',\n",
       " '55% off',\n",
       " '70% off',\n",
       " '50% off']"
      ]
     },
     "execution_count": 360,
     "metadata": {},
     "output_type": "execute_result"
    }
   ],
   "source": [
    "# Now we have all the tags having the discount of the products\n",
    "# Now we will extract the text from these tags one by one by looping over these tags\n",
    "\n",
    "discount3=[]\n",
    "for i in discount_tags:\n",
    "    discount3.append(i.text)\n",
    "discount3    "
   ]
  },
  {
   "cell_type": "code",
   "execution_count": 362,
   "metadata": {},
   "outputs": [
    {
     "data": {
      "text/plain": [
       "['ROADSTER',\n",
       " 'ROADSTER',\n",
       " 'Robbie jones',\n",
       " 'Numenzo',\n",
       " 'Robbie jones',\n",
       " 'aadi',\n",
       " 'HOTSTYLE',\n",
       " 'Stefano Rads',\n",
       " 'BRUTON',\n",
       " 'VIPSJAZZY',\n",
       " 'BRUTON',\n",
       " 'ORICUM',\n",
       " 'Shoes Bank',\n",
       " 'ASTEROID',\n",
       " 'Birde',\n",
       " 'World Wear Footwear',\n",
       " '\"trend\"',\n",
       " 'bluemaker',\n",
       " 'Zsyto',\n",
       " 'World Wear Footwear',\n",
       " 'Robbie jones',\n",
       " 'World Wear Footwear',\n",
       " 'Numenzo',\n",
       " 'ASTEROID',\n",
       " 'World Wear Footwear',\n",
       " 'PUMA',\n",
       " 'World Wear Footwear',\n",
       " 'HOTSTYLE',\n",
       " '3SIX5',\n",
       " 'Rising Wolf',\n",
       " 'SCATCHITE',\n",
       " 'luxury fashion',\n",
       " 'restinfoot',\n",
       " \"LEVI'S\",\n",
       " 'M K FOOTWEAR',\n",
       " 'SPARX',\n",
       " 'Airland',\n",
       " 'Axter',\n",
       " 'World Wear Footwear',\n",
       " 'Skymate',\n",
       " 'luxury fashion',\n",
       " 'Robbie jones',\n",
       " 'M K FOOTWEAR',\n",
       " 'Robbie jones',\n",
       " 'Airland',\n",
       " 'Axter',\n",
       " 'SPARX',\n",
       " 'World Wear Footwear',\n",
       " 'bluemaker',\n",
       " 'Robbie jones',\n",
       " 'Numenzo',\n",
       " 'believe',\n",
       " 'T-ROCK',\n",
       " 'City Soles',\n",
       " 'ROCKFIELD',\n",
       " 'VORII',\n",
       " 'SPARX',\n",
       " 'BRUTON',\n",
       " 'ESSENCE',\n",
       " 'Bucik',\n",
       " 'HOTSTYLE',\n",
       " 'zovim',\n",
       " 'Jokatoo',\n",
       " 'HOTSTYLE',\n",
       " 'ESSENCE',\n",
       " 'Absolute comfort',\n",
       " 'HOTSTYLE',\n",
       " 'Raftar',\n",
       " 'TR',\n",
       " 'VISTAARA',\n",
       " '3SIX5',\n",
       " 'Walkstyle',\n",
       " 'Svpanther',\n",
       " 'STRANGER BROTHERS',\n",
       " 'Baogi',\n",
       " 'Edoeviv',\n",
       " 'Camfoot',\n",
       " 'LEATHERKRAFT',\n",
       " 'Robbie jones',\n",
       " \"LEVI'S\",\n",
       " 'TR',\n",
       " 'SWIGGY',\n",
       " 'SPARX',\n",
       " 'World Wear Footwear',\n",
       " 'Jack Diamond',\n",
       " 'SPARX',\n",
       " 'World Wear Footwear',\n",
       " 'RODDICK',\n",
       " 'Ardeo',\n",
       " 'World Wear Footwear',\n",
       " 'Axter',\n",
       " 'BRUTON',\n",
       " 'MOU',\n",
       " 'GUSTO',\n",
       " 'Imcolus',\n",
       " 'Xtoon',\n",
       " 'World Wear Footwear',\n",
       " 'oxpeo',\n",
       " 'BLACK BOTTOM',\n",
       " 'Skymate']"
      ]
     },
     "execution_count": 362,
     "metadata": {},
     "output_type": "execute_result"
    }
   ],
   "source": [
    "#lets join all brands from different pages\n",
    "Brand=brand1+brand2+brand3\n",
    "Brand"
   ]
  },
  {
   "cell_type": "code",
   "execution_count": 363,
   "metadata": {},
   "outputs": [
    {
     "data": {
      "text/plain": [
       "['Sneakers For Men',\n",
       " 'Sneakers For Men',\n",
       " 'Casual Sneakers Shoes For Men Sneakers For Men',\n",
       " 'Sneakers For Men',\n",
       " 'Sneakers For Men',\n",
       " 'Sneakers For Men',\n",
       " 'Sneakers Sneakers For Men',\n",
       " 'Classy Sneakers For Men',\n",
       " 'Combo Pack Of 4 Canvas Sneakers For Men',\n",
       " 'Sneakers For Men',\n",
       " 'Sneakers For Men',\n",
       " 'Combo pack of 2 casual sneaker shoes for men Sneakers F...',\n",
       " \"White Sneaker For Men's/Boy's Sneakers For Men\",\n",
       " 'Skate Board White Shoes Men Running Flat PU Sneakers Ma...',\n",
       " 'Combo Pack of 4 Casual Shoes Sneakers For Men',\n",
       " '5011-Latest Collection Stylish Casual Loafer Sneakers S...',\n",
       " 'Fashionable casual sneakers shoes for men Sneakers For ...',\n",
       " 'casual for men (blue 06) Sneakers For Men',\n",
       " 'Sneakers For Men',\n",
       " 'New Latest Affordable Range of Combo Pack of 2 Trendy S...',\n",
       " 'Casual Sneakers Black Shoes For Men Sneakers For Men',\n",
       " 'Combo Pack of 4 Latest Collection Stylish Casual Loafer...',\n",
       " 'Casual Sneaker Sneakers For Men',\n",
       " 'Skate Board Black Shoes Men Running Flat PU Sneakers Ma...',\n",
       " 'Men 5014 Latest Collection Stylish Casual Sports Loafer...',\n",
       " 'Icon IDP Sneakers For Men',\n",
       " 'Sneakers For Men',\n",
       " 'Sneakers Sneakers For Men',\n",
       " 'ORIFWSH(OR)-1077 Sneakers For Men',\n",
       " 'Sneakers For Men',\n",
       " 'Sneakers Sneakers For Men',\n",
       " 'Fashionable casual sneaker shoes Sneakers For Men',\n",
       " 'Casual shoes Sneakers For Men',\n",
       " 'Basic 2.0 Sneakers For Men',\n",
       " 'M K Footwear 702_Blue Sneakers For Men',\n",
       " 'SD-323 Sneakers For Men',\n",
       " 'shoe Sneakers For Men',\n",
       " 'Combo Pack of 2 Latest Collection Stylish Casual Loafer...',\n",
       " 'Latest Collection-1227 Stylish Casual Sports Sneakers F...',\n",
       " 'Sneakers For Men',\n",
       " 'Fashionable casual sneaker shoes Sneakers For Men',\n",
       " 'Sneakers Sneakers For Men',\n",
       " 'M K Footwear 702_Blue Sneakers For Men',\n",
       " 'Sneakers For Men',\n",
       " 'shoe Sneakers For Men',\n",
       " 'Combo Pack of 2 Latest Collection Stylish Casual Loafer...',\n",
       " 'SD-323 Sneakers For Men',\n",
       " 'Latest Collection-1227 Stylish Casual Sports Sneakers F...',\n",
       " 'casual for men Sneakers For Men',\n",
       " 'casual Sneakers White Shoes For Men And Boys Sneakers F...',\n",
       " 'Sneakers For Men',\n",
       " 'Sneakers for men(black_6) Sneakers For Men',\n",
       " 'Synthetic Leather Casual Partywear Wedding Sneakers Sho...',\n",
       " 'Cipramo Canvas Shoes for Men Sneakers For Men',\n",
       " 'Sneakers For Men',\n",
       " 'Latest Stylish Casual sneakers for men | Lace up lightw...',\n",
       " 'SM-482 Sneakers For Men',\n",
       " 'Combo Pack Of 4 Canvas Sneakers For Men',\n",
       " 'Sneakers For Men',\n",
       " 'Multicolor Casual Shoes Mesh for Men Sneakers For Men',\n",
       " 'Sneakers For Men',\n",
       " \"casual , Partywear Sneakers Shoes For Men's and Boys bl...\",\n",
       " 'casual sneaker shoes and partywear shoes Casuals For Me...',\n",
       " '5001 Sneakers For Men',\n",
       " 'Sneakers For Men',\n",
       " 'COMBO-(2)-RWT Sneakers For Men',\n",
       " 'Sneakers Sneakers For Men',\n",
       " 'Sneakers For Men',\n",
       " 'Sneakers For Men',\n",
       " '349 Red Sneakers For Men',\n",
       " 'Boxer-303 Sneakers For Men',\n",
       " 'Sneakers For Men',\n",
       " '1002 Sneakers For Men',\n",
       " 'Sneakers For Men',\n",
       " 'Sneakers for man Sneakers For Men',\n",
       " 'Sneakers Sneakers For Men',\n",
       " 'Combo Pack of 2 Latest Collection Stylish Casual Shoes ...',\n",
       " 'Sneakers For Men',\n",
       " 'Casual Sneakers Shoes For Men Sneakers For Men',\n",
       " 'AART CORE Sneakers For Men',\n",
       " 'Sneakers For Men',\n",
       " 'Casual Loafers, Sneakers Shoes for Men Pack of 5 Combo(...',\n",
       " 'SM-439 Sneakers For Men',\n",
       " 'New Latest Affordable Range of Combo Pack of 2 Trendy S...',\n",
       " 'Sneakers For Men',\n",
       " 'SM439G Sneakers For Men',\n",
       " 'Sneakers For Men',\n",
       " 'Sneakers For Men',\n",
       " 'NEW WHITE TRENDY SNEAKERS FOR MEN Sneakers For Men',\n",
       " 'New Latest Affordable Range of Combo Pack of 2 Trendy S...',\n",
       " 'Combo Pack of 2 Casual Loafer Sneakers Shoes Sneakers F...',\n",
       " 'CUBIC_1 Sneakers For Men',\n",
       " 'Sneakers For Men',\n",
       " 'Sneakers For Men',\n",
       " 'Sneakers For Men',\n",
       " 'Casual shoes Sneakers For Men',\n",
       " 'Combo Pack of 2 Top Rated, Best Rates Training Shoes, W...',\n",
       " 'Colourblocked Trending Multicolor Ultralight canvas Spo...',\n",
       " 'Fashion Outdoor Canvas Casual Light Weight Partywear Sn...',\n",
       " 'Sneakers For Men']"
      ]
     },
     "execution_count": 363,
     "metadata": {},
     "output_type": "execute_result"
    }
   ],
   "source": [
    "#join all product description from different pages\n",
    "Description=desc1+desc2+desc3\n",
    "Description"
   ]
  },
  {
   "cell_type": "code",
   "execution_count": 364,
   "metadata": {},
   "outputs": [
    {
     "data": {
      "text/plain": [
       "['₹1,919',\n",
       " '₹1,859',\n",
       " '₹399',\n",
       " '₹398',\n",
       " '₹474',\n",
       " '₹298',\n",
       " '₹283',\n",
       " '₹242',\n",
       " '₹499',\n",
       " '₹419',\n",
       " '₹299',\n",
       " '₹398',\n",
       " '₹349',\n",
       " '₹451',\n",
       " '₹842',\n",
       " '₹240',\n",
       " '₹449',\n",
       " '₹474',\n",
       " '₹328',\n",
       " '₹498',\n",
       " '₹428',\n",
       " '₹499',\n",
       " '₹539',\n",
       " '₹451',\n",
       " '₹240',\n",
       " '₹1,047',\n",
       " '₹240',\n",
       " '₹299',\n",
       " '₹214',\n",
       " '₹485',\n",
       " '₹398',\n",
       " '₹429',\n",
       " '₹379',\n",
       " '₹1,499',\n",
       " '₹389',\n",
       " '₹630',\n",
       " '₹265',\n",
       " '₹299',\n",
       " '₹240',\n",
       " '₹224',\n",
       " '₹429',\n",
       " '₹428',\n",
       " '₹389',\n",
       " '₹474',\n",
       " '₹265',\n",
       " '₹299',\n",
       " '₹630',\n",
       " '₹240',\n",
       " '₹474',\n",
       " '₹474',\n",
       " '₹429',\n",
       " '₹446',\n",
       " '₹398',\n",
       " '₹630',\n",
       " '₹399',\n",
       " '₹379',\n",
       " '₹965',\n",
       " '₹499',\n",
       " '₹468',\n",
       " '₹568',\n",
       " '₹214',\n",
       " '₹499',\n",
       " '₹418',\n",
       " '₹337',\n",
       " '₹468',\n",
       " '₹367',\n",
       " '₹299',\n",
       " '₹372',\n",
       " '₹599',\n",
       " '₹259',\n",
       " '₹284',\n",
       " '₹569',\n",
       " '₹556',\n",
       " '₹474',\n",
       " '₹449',\n",
       " '₹451',\n",
       " '₹328',\n",
       " '₹299',\n",
       " '₹474',\n",
       " '₹1,499',\n",
       " '₹379',\n",
       " '₹759',\n",
       " '₹599',\n",
       " '₹498',\n",
       " '₹635',\n",
       " '₹699',\n",
       " '₹240',\n",
       " '₹370',\n",
       " '₹349',\n",
       " '₹498',\n",
       " '₹299',\n",
       " '₹299',\n",
       " '₹498',\n",
       " '₹389',\n",
       " '₹489',\n",
       " '₹359',\n",
       " '₹399',\n",
       " '₹398',\n",
       " '₹449',\n",
       " '₹449']"
      ]
     },
     "execution_count": 364,
     "metadata": {},
     "output_type": "execute_result"
    }
   ],
   "source": [
    "#join all prices extracted from different pages\n",
    "price=price1+price2+price3\n",
    "price"
   ]
  },
  {
   "cell_type": "code",
   "execution_count": 365,
   "metadata": {},
   "outputs": [
    {
     "data": {
      "text/plain": [
       "['31% off',\n",
       " '33% off',\n",
       " '60% off',\n",
       " '60% off',\n",
       " '52% off',\n",
       " '70% off',\n",
       " '43% off',\n",
       " '65% off',\n",
       " '85% off',\n",
       " '58% off',\n",
       " '76% off',\n",
       " '60% off',\n",
       " '65% off',\n",
       " '54% off',\n",
       " '57% off',\n",
       " '51% off',\n",
       " '77% off',\n",
       " '52% off',\n",
       " '74% off',\n",
       " '75% off',\n",
       " '57% off',\n",
       " '81% off',\n",
       " '46% off',\n",
       " '54% off',\n",
       " '51% off',\n",
       " '68% off',\n",
       " '51% off',\n",
       " '40% off',\n",
       " '57% off',\n",
       " '75% off',\n",
       " '60% off',\n",
       " '85% off',\n",
       " '62% off',\n",
       " '50% off',\n",
       " '61% off',\n",
       " '15% off',\n",
       " '46% off',\n",
       " '78% off',\n",
       " '51% off',\n",
       " '55% off',\n",
       " '85% off',\n",
       " '38% off',\n",
       " '61% off',\n",
       " '52% off',\n",
       " '46% off',\n",
       " '78% off',\n",
       " '15% off',\n",
       " '51% off',\n",
       " '52% off',\n",
       " '52% off',\n",
       " '57% off',\n",
       " '55% off',\n",
       " '60% off',\n",
       " '36% off',\n",
       " '60% off',\n",
       " '62% off',\n",
       " '28% off',\n",
       " '85% off',\n",
       " '53% off',\n",
       " '71% off',\n",
       " '57% off',\n",
       " '50% off',\n",
       " '71% off',\n",
       " '32% off',\n",
       " '53% off',\n",
       " '63% off',\n",
       " '40% off',\n",
       " '62% off',\n",
       " '70% off',\n",
       " '48% off',\n",
       " '43% off',\n",
       " '62% off',\n",
       " '44% off',\n",
       " '52% off',\n",
       " '55% off',\n",
       " '35% off',\n",
       " '67% off',\n",
       " '70% off',\n",
       " '52% off',\n",
       " '50% off',\n",
       " '62% off',\n",
       " '69% off',\n",
       " '14% off',\n",
       " '75% off',\n",
       " '36% off',\n",
       " '51% off',\n",
       " '62% off',\n",
       " '65% off',\n",
       " '75% off',\n",
       " '78% off',\n",
       " '76% off',\n",
       " '50% off',\n",
       " '61% off',\n",
       " '51% off',\n",
       " '64% off',\n",
       " '60% off',\n",
       " '60% off',\n",
       " '55% off',\n",
       " '70% off',\n",
       " '50% off']"
      ]
     },
     "execution_count": 365,
     "metadata": {},
     "output_type": "execute_result"
    }
   ],
   "source": [
    "#join all discounts extracted from different pages\n",
    "discount=discount1+discount2+discount3\n",
    "discount"
   ]
  },
  {
   "cell_type": "markdown",
   "metadata": {},
   "source": [
    "Now we are going to check the length of the 4 lists extracted.if the lengths are not same,we can't able to form a dataframe."
   ]
  },
  {
   "cell_type": "code",
   "execution_count": 366,
   "metadata": {},
   "outputs": [
    {
     "data": {
      "text/plain": [
       "(100, 100, 100, 100)"
      ]
     },
     "execution_count": 366,
     "metadata": {},
     "output_type": "execute_result"
    }
   ],
   "source": [
    "len(Brand),len(Description),len(price),len(discount)"
   ]
  },
  {
   "cell_type": "code",
   "execution_count": 369,
   "metadata": {},
   "outputs": [],
   "source": [
    "import pandas as pd\n",
    "# lets create a dataframe\n",
    "Sneakers=pd.DataFrame(({}))\n",
    "Sneakers[\"Brand\"]=Brand\n",
    "Sneakers[\"Description\"]=Description\n",
    "Sneakers[\"price\"]=price\n",
    "Sneakers[\"discount\"]=discount"
   ]
  },
  {
   "cell_type": "code",
   "execution_count": 384,
   "metadata": {},
   "outputs": [
    {
     "data": {
      "text/html": [
       "<div>\n",
       "<style scoped>\n",
       "    .dataframe tbody tr th:only-of-type {\n",
       "        vertical-align: middle;\n",
       "    }\n",
       "\n",
       "    .dataframe tbody tr th {\n",
       "        vertical-align: top;\n",
       "    }\n",
       "\n",
       "    .dataframe thead th {\n",
       "        text-align: right;\n",
       "    }\n",
       "</style>\n",
       "<table border=\"1\" class=\"dataframe\">\n",
       "  <thead>\n",
       "    <tr style=\"text-align: right;\">\n",
       "      <th></th>\n",
       "      <th>Brand</th>\n",
       "      <th>Description</th>\n",
       "      <th>price</th>\n",
       "      <th>discount</th>\n",
       "    </tr>\n",
       "  </thead>\n",
       "  <tbody>\n",
       "    <tr>\n",
       "      <th>0</th>\n",
       "      <td>ROADSTER</td>\n",
       "      <td>Sneakers For Men</td>\n",
       "      <td>₹1,919</td>\n",
       "      <td>31% off</td>\n",
       "    </tr>\n",
       "    <tr>\n",
       "      <th>1</th>\n",
       "      <td>ROADSTER</td>\n",
       "      <td>Sneakers For Men</td>\n",
       "      <td>₹1,859</td>\n",
       "      <td>33% off</td>\n",
       "    </tr>\n",
       "    <tr>\n",
       "      <th>2</th>\n",
       "      <td>Robbie jones</td>\n",
       "      <td>Casual Sneakers Shoes For Men Sneakers For Men</td>\n",
       "      <td>₹399</td>\n",
       "      <td>60% off</td>\n",
       "    </tr>\n",
       "    <tr>\n",
       "      <th>3</th>\n",
       "      <td>Numenzo</td>\n",
       "      <td>Sneakers For Men</td>\n",
       "      <td>₹398</td>\n",
       "      <td>60% off</td>\n",
       "    </tr>\n",
       "    <tr>\n",
       "      <th>4</th>\n",
       "      <td>Robbie jones</td>\n",
       "      <td>Sneakers For Men</td>\n",
       "      <td>₹474</td>\n",
       "      <td>52% off</td>\n",
       "    </tr>\n",
       "    <tr>\n",
       "      <th>...</th>\n",
       "      <td>...</td>\n",
       "      <td>...</td>\n",
       "      <td>...</td>\n",
       "      <td>...</td>\n",
       "    </tr>\n",
       "    <tr>\n",
       "      <th>95</th>\n",
       "      <td>Xtoon</td>\n",
       "      <td>Casual shoes Sneakers For Men</td>\n",
       "      <td>₹359</td>\n",
       "      <td>60% off</td>\n",
       "    </tr>\n",
       "    <tr>\n",
       "      <th>96</th>\n",
       "      <td>World Wear Footwear</td>\n",
       "      <td>Combo Pack of 2 Top Rated, Best Rates Training...</td>\n",
       "      <td>₹399</td>\n",
       "      <td>60% off</td>\n",
       "    </tr>\n",
       "    <tr>\n",
       "      <th>97</th>\n",
       "      <td>oxpeo</td>\n",
       "      <td>Colourblocked Trending Multicolor Ultralight c...</td>\n",
       "      <td>₹398</td>\n",
       "      <td>55% off</td>\n",
       "    </tr>\n",
       "    <tr>\n",
       "      <th>98</th>\n",
       "      <td>BLACK BOTTOM</td>\n",
       "      <td>Fashion Outdoor Canvas Casual Light Weight Par...</td>\n",
       "      <td>₹449</td>\n",
       "      <td>70% off</td>\n",
       "    </tr>\n",
       "    <tr>\n",
       "      <th>99</th>\n",
       "      <td>Skymate</td>\n",
       "      <td>Sneakers For Men</td>\n",
       "      <td>₹449</td>\n",
       "      <td>50% off</td>\n",
       "    </tr>\n",
       "  </tbody>\n",
       "</table>\n",
       "<p>100 rows × 4 columns</p>\n",
       "</div>"
      ],
      "text/plain": [
       "                  Brand                                        Description  \\\n",
       "0              ROADSTER                                   Sneakers For Men   \n",
       "1              ROADSTER                                   Sneakers For Men   \n",
       "2          Robbie jones     Casual Sneakers Shoes For Men Sneakers For Men   \n",
       "3               Numenzo                                   Sneakers For Men   \n",
       "4          Robbie jones                                   Sneakers For Men   \n",
       "..                  ...                                                ...   \n",
       "95                Xtoon                      Casual shoes Sneakers For Men   \n",
       "96  World Wear Footwear  Combo Pack of 2 Top Rated, Best Rates Training...   \n",
       "97                oxpeo  Colourblocked Trending Multicolor Ultralight c...   \n",
       "98         BLACK BOTTOM  Fashion Outdoor Canvas Casual Light Weight Par...   \n",
       "99              Skymate                                   Sneakers For Men   \n",
       "\n",
       "     price discount  \n",
       "0   ₹1,919  31% off  \n",
       "1   ₹1,859  33% off  \n",
       "2     ₹399  60% off  \n",
       "3     ₹398  60% off  \n",
       "4     ₹474  52% off  \n",
       "..     ...      ...  \n",
       "95    ₹359  60% off  \n",
       "96    ₹399  60% off  \n",
       "97    ₹398  55% off  \n",
       "98    ₹449  70% off  \n",
       "99    ₹449  50% off  \n",
       "\n",
       "[100 rows x 4 columns]"
      ]
     },
     "execution_count": 384,
     "metadata": {},
     "output_type": "execute_result"
    }
   ],
   "source": [
    "Sneakers"
   ]
  },
  {
   "cell_type": "code",
   "execution_count": null,
   "metadata": {},
   "outputs": [],
   "source": []
  },
  {
   "cell_type": "markdown",
   "metadata": {},
   "source": [
    "# Q9: \n",
    "Go to the link - https://www.myntra.com/shoes\n",
    "\n",
    "Set Price filter to “Rs. 6649 to Rs. 13099” , Color filter to “Black”, as shown in \n",
    "the below image"
   ]
  },
  {
   "cell_type": "code",
   "execution_count": 487,
   "metadata": {},
   "outputs": [],
   "source": [
    "#lets connect to the webdriver\n",
    "driver=webdriver.Chrome('chromedriver.exe')"
   ]
  },
  {
   "cell_type": "code",
   "execution_count": 488,
   "metadata": {},
   "outputs": [],
   "source": [
    "url='https://www.myntra.com/shoes'\n",
    "driver.get(url)"
   ]
  },
  {
   "cell_type": "code",
   "execution_count": 489,
   "metadata": {},
   "outputs": [
    {
     "data": {
      "text/plain": [
       "<selenium.webdriver.remote.webelement.WebElement (session=\"827334252ae2bc0d1489c670df17baa9\", element=\"a9b9351d-a3b5-4e24-a091-07ed10b230dd\")>"
      ]
     },
     "execution_count": 489,
     "metadata": {},
     "output_type": "execute_result"
    }
   ],
   "source": [
    "#find the element for the checkbox of price\n",
    "check_box=driver.find_element_by_xpath(\"//ul[@class='price-list']//li[2]\")\n",
    "check_box"
   ]
  },
  {
   "cell_type": "code",
   "execution_count": 490,
   "metadata": {},
   "outputs": [],
   "source": [
    "#click on the check box of price\n",
    "check_box.click()"
   ]
  },
  {
   "cell_type": "code",
   "execution_count": 491,
   "metadata": {},
   "outputs": [
    {
     "data": {
      "text/plain": [
       "<selenium.webdriver.remote.webelement.WebElement (session=\"827334252ae2bc0d1489c670df17baa9\", element=\"7d99add8-04ee-4434-bf1e-963c9447682c\")>"
      ]
     },
     "execution_count": 491,
     "metadata": {},
     "output_type": "execute_result"
    }
   ],
   "source": [
    "#find the element for checkbox of colour black\n",
    "check_box=driver.find_element_by_xpath(\"//li[@class='colour-listItem']//label[1]\")\n",
    "check_box"
   ]
  },
  {
   "cell_type": "code",
   "execution_count": 492,
   "metadata": {},
   "outputs": [],
   "source": [
    "#click on the check box\n",
    "check_box.click()"
   ]
  },
  {
   "cell_type": "code",
   "execution_count": 493,
   "metadata": {},
   "outputs": [],
   "source": [
    "#extracting product urls from the first 2 pages\n",
    "url=[]\n",
    "for i in range(0,2):\n",
    "    for j in driver.find_elements_by_xpath(\"//a[@target='_blank']\")[:100]:\n",
    "        url.append(j.get_attribute('href'))"
   ]
  },
  {
   "cell_type": "code",
   "execution_count": 494,
   "metadata": {},
   "outputs": [
    {
     "data": {
      "text/plain": [
       "['https://www.myntra.com/sports-shoes/nike/nike-men-black--yellow-joyride-running-shoes/11979996/buy',\n",
       " 'https://www.myntra.com/sports-shoes/nike/nike-men-black-air-zoom-pegasus-37-running-shoes/11979982/buy',\n",
       " 'https://www.myntra.com/sports-shoes/nike/nike-women-black--pink-colourblocked-air-zoom-structure-23-running-shoes/13328008/buy',\n",
       " 'https://www.myntra.com/sports-shoes/nike/nike-men-black-kd13-ep-mid-top-basketball-shoes/11980028/buy',\n",
       " 'https://www.myntra.com/sports-shoes/nike/nike-men-black-react-infinity-running-shoe/11980034/buy',\n",
       " 'https://www.myntra.com/sports-shoes/nike/nike-women-black-air-zoom-vomero-15-running-shoes/13327846/buy',\n",
       " 'https://www.myntra.com/sports-shoes/puma-motorsport/puma-motorsport-unisex-black-mercedes-drift-cat-8-running-shoes/11419712/buy',\n",
       " 'https://www.myntra.com/sports-shoes/nike/nike-men-black-jordan-delta-basketball-shoes/12738432/buy',\n",
       " 'https://www.myntra.com/sports-shoes/nike/nike-women-black-air-zoom-pegasus-37-running-shoes/11979882/buy',\n",
       " 'https://www.myntra.com/sports-shoes/nike/nike-men-black-air-zoom-structure-23-running-shoes/12738440/buy',\n",
       " 'https://www.myntra.com/sports-shoes/nike/nike-women-black-react-phantom-run-fk-2-running-shoes/11979848/buy',\n",
       " 'https://www.myntra.com/sports-shoes/under-armour/under-armour-men-black--charcoal-grey-woven-design-liquify-running-shoes/12819530/buy',\n",
       " 'https://www.myntra.com/casual-shoes/puma/puma-unisex-black-future-rider-twofold-sd-sneakers/13486084/buy',\n",
       " 'https://www.myntra.com/sports-shoes/puma/puma-men-black-velocity-nitro-running-shoes/13484306/buy',\n",
       " 'https://www.myntra.com/sports-shoes/skechers/skechers-men-black-viper---competitor-training-shoes/12138854/buy',\n",
       " 'https://www.myntra.com/sports-shoes/under-armour/under-armour-men-black-solid-hovr-strt-walking-shoes/11373590/buy',\n",
       " 'https://www.myntra.com/casual-shoes/puma/puma-unisex-black-rs-x-pop-sneakers/13486114/buy',\n",
       " 'https://www.myntra.com/sports-shoes/under-armour/under-armour-men-black-woven-design-charged-rogue-2-wide-fit-2e-running-shoes/12247074/buy',\n",
       " 'https://www.myntra.com/formal-shoes/hush-puppies/hush-puppies-men-black-solid-leather-formal-slip-ons/12452162/buy',\n",
       " 'https://www.myntra.com/sports-shoes/under-armour/under-armour-women-black--lavender-woven-design-hovr-sonic-3-running-shoes/12247132/buy',\n",
       " 'https://www.myntra.com/sports-shoes/under-armour/under-armour-women-black-woven-design-bluetooth-hovr-sonic-3-running-shoes-/11634252/buy',\n",
       " 'https://www.myntra.com/casual-shoes/adidas-originals/adidas-originals-men-black-charcoal-grey-woven-design-nite-jogger-fluid-sneakers/12709294/buy',\n",
       " 'https://www.myntra.com/casual-shoes/skechers/skechers-women-uno---loving-love-printed-sneakers/13846928/buy',\n",
       " 'https://www.myntra.com/casual-shoes/puma/puma-unisex-black--coral-solid-rs-fast-tech-sneakers/13486752/buy',\n",
       " 'https://www.myntra.com/sports-shoes/puma/puma-men-black-speed-500-2-running-shoes/12282352/buy',\n",
       " 'https://www.myntra.com/casual-shoes/san-frissco/san-frissco-men-black-embellished-leather-loafers/13864950/buy',\n",
       " 'https://www.myntra.com/sports-shoes/under-armour/under-armour-women-black--lavender-woven-design-charged-impulse-running-shoes/12247138/buy',\n",
       " 'https://www.myntra.com/sports-shoes/puma/puma-women-black-liberate-nitro-running-shoes/13484158/buy',\n",
       " 'https://www.myntra.com/sports-shoes/under-armour/under-armour-unisex-black--white-colourblocked--perforated-sc-3zer0-iv-basketball-shoes/12247270/buy',\n",
       " 'https://www.myntra.com/casual-shoes/jfontini/jfontini-men-black-leather-loafers/12681364/buy',\n",
       " 'https://www.myntra.com/sports-shoes/under-armour/under-armour-women-black--charcoal-grey-woven-design-charged-breathe-tr-2-training-shoes/12247108/buy',\n",
       " 'https://www.myntra.com/sports-shoes/fila/fila-men-black-running-shoes/11984696/buy',\n",
       " 'https://www.myntra.com/formal-shoes/saint-g/saint-g-men-black-solid-leather-formal-chelsea-boots/14082248/buy',\n",
       " 'https://www.myntra.com/sports-shoes/puma/puma-women-black-eternity-nitro-running-shoes/13484354/buy',\n",
       " 'https://www.myntra.com/casual-shoes/nike/nike-men-black--beige-jordan-delta-sneakers/11979792/buy',\n",
       " 'https://www.myntra.com/casual-shoes/onitsuka-tiger/onitsuka-tiger-mexico-66-paraty/10393413/buy',\n",
       " 'https://www.myntra.com/formal-shoes/hush-puppies/hush-puppies-men-black-solid-formal-derbys-/13123142/buy',\n",
       " 'https://www.myntra.com/sports-shoes/puma/puma-men-black-liberate-nitro-running-shoes/13484284/buy',\n",
       " 'https://www.myntra.com/formal-shoes/ruosh/ruosh-men-black-leather-formal-brogues/7419555/buy',\n",
       " 'https://www.myntra.com/sports-shoes/under-armour/under-armour-women-black--charcoal-grey-woven-design-liquify-rebel-running-shoes/12247064/buy',\n",
       " 'https://www.myntra.com/formal-shoes/geox/geox-men-black-solid-leather-formal-oxford-shoes/11774970/buy',\n",
       " 'https://www.myntra.com/heels/heel--buckle-london/heel--buckle-london-women-black-embellished-peep-toe-heels/11818354/buy',\n",
       " 'https://www.myntra.com/sports-shoes/under-armour/under-armour-women-black-hovr-rise-2-training-shoes/12247240/buy',\n",
       " 'https://www.myntra.com/sports-shoes/under-armour/under-armour-women-black-tribase-reign-2-woven-design-training-shoes/12247276/buy',\n",
       " 'https://www.myntra.com/formal-shoes/ruosh/ruosh-men-black-formal-leather-brogues/9012765/buy',\n",
       " 'https://www.myntra.com/formal-shoes/ruosh/ruosh-men-black-genuine-leather-formal-brogues/7419531/buy',\n",
       " 'https://www.myntra.com/formal-shoes/saint-g/saint-g-men-black-textured-leather-formal-loafers/14082268/buy',\n",
       " 'https://www.myntra.com/casual-shoes/skechers/skechers-women-black-dlites-30-air-sky--sneakers/12470582/buy',\n",
       " 'https://www.myntra.com/sports-shoes/puma/puma-men-black-mesh-running-shoes/11336028/buy',\n",
       " 'https://www.myntra.com/sports-shoes/reebok/reebok-men-black-woven-design-forever-floatride-energy-2-running-shoes/12033700/buy',\n",
       " 'https://www.myntra.com/sports-shoes/nike/nike-men-black--yellow-joyride-running-shoes/11979996/buy',\n",
       " 'https://www.myntra.com/sports-shoes/nike/nike-men-black-air-zoom-pegasus-37-running-shoes/11979982/buy',\n",
       " 'https://www.myntra.com/sports-shoes/nike/nike-women-black--pink-colourblocked-air-zoom-structure-23-running-shoes/13328008/buy',\n",
       " 'https://www.myntra.com/sports-shoes/nike/nike-men-black-kd13-ep-mid-top-basketball-shoes/11980028/buy',\n",
       " 'https://www.myntra.com/sports-shoes/nike/nike-men-black-react-infinity-running-shoe/11980034/buy',\n",
       " 'https://www.myntra.com/sports-shoes/nike/nike-women-black-air-zoom-vomero-15-running-shoes/13327846/buy',\n",
       " 'https://www.myntra.com/sports-shoes/puma-motorsport/puma-motorsport-unisex-black-mercedes-drift-cat-8-running-shoes/11419712/buy',\n",
       " 'https://www.myntra.com/sports-shoes/nike/nike-men-black-jordan-delta-basketball-shoes/12738432/buy',\n",
       " 'https://www.myntra.com/sports-shoes/nike/nike-women-black-air-zoom-pegasus-37-running-shoes/11979882/buy',\n",
       " 'https://www.myntra.com/sports-shoes/nike/nike-men-black-air-zoom-structure-23-running-shoes/12738440/buy',\n",
       " 'https://www.myntra.com/sports-shoes/nike/nike-women-black-react-phantom-run-fk-2-running-shoes/11979848/buy',\n",
       " 'https://www.myntra.com/sports-shoes/under-armour/under-armour-men-black--charcoal-grey-woven-design-liquify-running-shoes/12819530/buy',\n",
       " 'https://www.myntra.com/casual-shoes/puma/puma-unisex-black-future-rider-twofold-sd-sneakers/13486084/buy',\n",
       " 'https://www.myntra.com/sports-shoes/puma/puma-men-black-velocity-nitro-running-shoes/13484306/buy',\n",
       " 'https://www.myntra.com/sports-shoes/skechers/skechers-men-black-viper---competitor-training-shoes/12138854/buy',\n",
       " 'https://www.myntra.com/sports-shoes/under-armour/under-armour-men-black-solid-hovr-strt-walking-shoes/11373590/buy',\n",
       " 'https://www.myntra.com/casual-shoes/puma/puma-unisex-black-rs-x-pop-sneakers/13486114/buy',\n",
       " 'https://www.myntra.com/sports-shoes/under-armour/under-armour-men-black-woven-design-charged-rogue-2-wide-fit-2e-running-shoes/12247074/buy',\n",
       " 'https://www.myntra.com/formal-shoes/hush-puppies/hush-puppies-men-black-solid-leather-formal-slip-ons/12452162/buy',\n",
       " 'https://www.myntra.com/sports-shoes/under-armour/under-armour-women-black--lavender-woven-design-hovr-sonic-3-running-shoes/12247132/buy',\n",
       " 'https://www.myntra.com/sports-shoes/under-armour/under-armour-women-black-woven-design-bluetooth-hovr-sonic-3-running-shoes-/11634252/buy',\n",
       " 'https://www.myntra.com/casual-shoes/adidas-originals/adidas-originals-men-black-charcoal-grey-woven-design-nite-jogger-fluid-sneakers/12709294/buy',\n",
       " 'https://www.myntra.com/casual-shoes/skechers/skechers-women-uno---loving-love-printed-sneakers/13846928/buy',\n",
       " 'https://www.myntra.com/casual-shoes/puma/puma-unisex-black--coral-solid-rs-fast-tech-sneakers/13486752/buy',\n",
       " 'https://www.myntra.com/sports-shoes/puma/puma-men-black-speed-500-2-running-shoes/12282352/buy',\n",
       " 'https://www.myntra.com/casual-shoes/san-frissco/san-frissco-men-black-embellished-leather-loafers/13864950/buy',\n",
       " 'https://www.myntra.com/sports-shoes/under-armour/under-armour-women-black--lavender-woven-design-charged-impulse-running-shoes/12247138/buy',\n",
       " 'https://www.myntra.com/sports-shoes/puma/puma-women-black-liberate-nitro-running-shoes/13484158/buy',\n",
       " 'https://www.myntra.com/sports-shoes/under-armour/under-armour-unisex-black--white-colourblocked--perforated-sc-3zer0-iv-basketball-shoes/12247270/buy',\n",
       " 'https://www.myntra.com/casual-shoes/jfontini/jfontini-men-black-leather-loafers/12681364/buy',\n",
       " 'https://www.myntra.com/sports-shoes/under-armour/under-armour-women-black--charcoal-grey-woven-design-charged-breathe-tr-2-training-shoes/12247108/buy',\n",
       " 'https://www.myntra.com/sports-shoes/fila/fila-men-black-running-shoes/11984696/buy',\n",
       " 'https://www.myntra.com/formal-shoes/saint-g/saint-g-men-black-solid-leather-formal-chelsea-boots/14082248/buy',\n",
       " 'https://www.myntra.com/sports-shoes/puma/puma-women-black-eternity-nitro-running-shoes/13484354/buy',\n",
       " 'https://www.myntra.com/casual-shoes/nike/nike-men-black--beige-jordan-delta-sneakers/11979792/buy',\n",
       " 'https://www.myntra.com/casual-shoes/onitsuka-tiger/onitsuka-tiger-mexico-66-paraty/10393413/buy',\n",
       " 'https://www.myntra.com/formal-shoes/hush-puppies/hush-puppies-men-black-solid-formal-derbys-/13123142/buy',\n",
       " 'https://www.myntra.com/sports-shoes/puma/puma-men-black-liberate-nitro-running-shoes/13484284/buy',\n",
       " 'https://www.myntra.com/formal-shoes/ruosh/ruosh-men-black-leather-formal-brogues/7419555/buy',\n",
       " 'https://www.myntra.com/sports-shoes/under-armour/under-armour-women-black--charcoal-grey-woven-design-liquify-rebel-running-shoes/12247064/buy',\n",
       " 'https://www.myntra.com/formal-shoes/geox/geox-men-black-solid-leather-formal-oxford-shoes/11774970/buy',\n",
       " 'https://www.myntra.com/heels/heel--buckle-london/heel--buckle-london-women-black-embellished-peep-toe-heels/11818354/buy',\n",
       " 'https://www.myntra.com/sports-shoes/under-armour/under-armour-women-black-hovr-rise-2-training-shoes/12247240/buy',\n",
       " 'https://www.myntra.com/sports-shoes/under-armour/under-armour-women-black-tribase-reign-2-woven-design-training-shoes/12247276/buy',\n",
       " 'https://www.myntra.com/formal-shoes/ruosh/ruosh-men-black-formal-leather-brogues/9012765/buy',\n",
       " 'https://www.myntra.com/formal-shoes/ruosh/ruosh-men-black-genuine-leather-formal-brogues/7419531/buy',\n",
       " 'https://www.myntra.com/formal-shoes/saint-g/saint-g-men-black-textured-leather-formal-loafers/14082268/buy',\n",
       " 'https://www.myntra.com/casual-shoes/skechers/skechers-women-black-dlites-30-air-sky--sneakers/12470582/buy',\n",
       " 'https://www.myntra.com/sports-shoes/puma/puma-men-black-mesh-running-shoes/11336028/buy',\n",
       " 'https://www.myntra.com/sports-shoes/reebok/reebok-men-black-woven-design-forever-floatride-energy-2-running-shoes/12033700/buy']"
      ]
     },
     "execution_count": 494,
     "metadata": {},
     "output_type": "execute_result"
    }
   ],
   "source": [
    "url"
   ]
  },
  {
   "cell_type": "code",
   "execution_count": 495,
   "metadata": {},
   "outputs": [],
   "source": [
    "brand=[]\n",
    "description=[]\n",
    "price=[]"
   ]
  },
  {
   "cell_type": "code",
   "execution_count": 496,
   "metadata": {},
   "outputs": [],
   "source": [
    "from selenium.common.exceptions import NoSuchElementException\n",
    "for i in url[:100]:\n",
    "    driver.get(i)\n",
    "    time.sleep(4)\n",
    "    #extracting product brands\n",
    "    try:\n",
    "        brand_tag=driver.find_element_by_xpath(\"//h1[@class='pdp-title']\")\n",
    "        brand.append(brand_tag.text)\n",
    "    except NoSuchElementException:\n",
    "        brand.append('-')\n",
    "    # extracting product description    \n",
    "    try:\n",
    "        desc_tag=driver.find_element_by_xpath(\"//h1[@class='pdp-name']\")\n",
    "        description.append(desc_tag.text)\n",
    "    except NoSuchElementException:\n",
    "        brand.append('-')\n",
    "        \n",
    "    #extracting price\n",
    "    try:\n",
    "        price_tag=driver.find_element_by_xpath(\"//span[@class='pdp-price']//strong\")\n",
    "        price.append(price_tag.text)\n",
    "    except NoSuchElementException:\n",
    "        price.append('-')\n",
    "        "
   ]
  },
  {
   "cell_type": "code",
   "execution_count": 498,
   "metadata": {},
   "outputs": [
    {
     "data": {
      "text/plain": [
       "['Nike',\n",
       " 'Nike',\n",
       " 'Nike',\n",
       " 'Nike',\n",
       " 'Nike',\n",
       " 'Nike',\n",
       " 'PUMA Motorsport',\n",
       " 'Nike',\n",
       " 'Nike',\n",
       " 'Nike',\n",
       " 'Nike',\n",
       " 'UNDER ARMOUR',\n",
       " 'Puma',\n",
       " 'Puma',\n",
       " 'Skechers',\n",
       " 'UNDER ARMOUR',\n",
       " 'Puma',\n",
       " 'UNDER ARMOUR',\n",
       " 'Hush Puppies',\n",
       " 'UNDER ARMOUR',\n",
       " 'UNDER ARMOUR',\n",
       " 'ADIDAS Originals',\n",
       " 'Skechers',\n",
       " 'Puma',\n",
       " 'Puma',\n",
       " 'San Frissco',\n",
       " 'UNDER ARMOUR',\n",
       " 'Puma',\n",
       " 'UNDER ARMOUR',\n",
       " 'J.FONTINI',\n",
       " 'UNDER ARMOUR',\n",
       " 'FILA',\n",
       " 'Saint G',\n",
       " 'Puma',\n",
       " 'Nike',\n",
       " 'Onitsuka Tiger',\n",
       " 'Hush Puppies',\n",
       " 'Puma',\n",
       " 'Ruosh',\n",
       " 'UNDER ARMOUR',\n",
       " 'Geox',\n",
       " 'Heel & Buckle London',\n",
       " 'UNDER ARMOUR',\n",
       " 'UNDER ARMOUR',\n",
       " 'Ruosh',\n",
       " 'Ruosh',\n",
       " 'Saint G',\n",
       " 'Skechers',\n",
       " 'Puma',\n",
       " 'Reebok',\n",
       " 'Nike',\n",
       " 'Nike',\n",
       " 'Nike',\n",
       " 'Nike',\n",
       " 'Nike',\n",
       " 'Nike',\n",
       " 'PUMA Motorsport',\n",
       " 'Nike',\n",
       " 'Nike',\n",
       " 'Nike',\n",
       " 'Nike',\n",
       " 'UNDER ARMOUR',\n",
       " 'Puma',\n",
       " 'Puma',\n",
       " 'Skechers',\n",
       " 'UNDER ARMOUR',\n",
       " 'Puma',\n",
       " 'UNDER ARMOUR',\n",
       " 'Hush Puppies',\n",
       " 'UNDER ARMOUR',\n",
       " 'UNDER ARMOUR',\n",
       " 'ADIDAS Originals',\n",
       " 'Skechers',\n",
       " 'Puma',\n",
       " 'Puma',\n",
       " 'San Frissco',\n",
       " 'UNDER ARMOUR',\n",
       " 'Puma',\n",
       " 'UNDER ARMOUR',\n",
       " 'J.FONTINI',\n",
       " 'UNDER ARMOUR',\n",
       " 'FILA',\n",
       " 'Saint G',\n",
       " 'Puma',\n",
       " 'Nike',\n",
       " 'Onitsuka Tiger',\n",
       " 'Hush Puppies',\n",
       " 'Puma',\n",
       " 'Ruosh',\n",
       " 'UNDER ARMOUR',\n",
       " 'Geox',\n",
       " 'Heel & Buckle London',\n",
       " 'UNDER ARMOUR',\n",
       " 'UNDER ARMOUR',\n",
       " 'Ruosh',\n",
       " 'Ruosh',\n",
       " 'Saint G',\n",
       " 'Skechers',\n",
       " 'Puma',\n",
       " 'Reebok']"
      ]
     },
     "execution_count": 498,
     "metadata": {},
     "output_type": "execute_result"
    }
   ],
   "source": [
    "brand"
   ]
  },
  {
   "cell_type": "code",
   "execution_count": 499,
   "metadata": {},
   "outputs": [
    {
     "data": {
      "text/plain": [
       "['Men Black & Yellow JOYRIDE Running Shoes',\n",
       " 'Men Black AIR ZOOM PEGASUS 37 Running Shoes',\n",
       " 'Women Black & Pink Colourblocked AIR ZOOM STRUCTURE 23 Running Shoes',\n",
       " 'Men Black KD13 EP Mid-Top Basketball Shoes',\n",
       " 'Men Black React Infinity Running Shoe',\n",
       " 'Women Black AIR ZOOM VOMERO 15 Running Shoes',\n",
       " 'Unisex Black Mercedes Drift Cat 8 Running Shoes',\n",
       " 'Men Black JORDAN DELTA Basketball Shoes',\n",
       " 'Women Black AIR ZOOM PEGASUS 37 Running Shoes',\n",
       " 'Men Black AIR ZOOM STRUCTURE 23 Running Shoes',\n",
       " 'Women Black REACT PHANTOM RUN FK 2 Running Shoes',\n",
       " 'Men Black & Charcoal Grey Woven Design Liquify Running Shoes',\n",
       " 'Unisex Black Future Rider Twofold SD Sneakers',\n",
       " 'Men Black Velocity Nitro Running Shoes',\n",
       " 'Men Black VIPER - COMPETITOR Training Shoes',\n",
       " 'Men Black Solid HOVR Strt Walking Shoes',\n",
       " 'Unisex Black RS-X Pop Sneakers',\n",
       " 'Men Black Woven Design Charged Rogue 2 Wide Fit 2E Running Shoes',\n",
       " 'Men Black Solid Leather Formal Slip-Ons',\n",
       " 'Women Black & Lavender Woven Design HOVR Sonic 3 Running Shoes',\n",
       " 'Women Black Woven Design Bluetooth HOVR Sonic 3 Running Shoes',\n",
       " 'Men Black &Charcoal Grey Woven Design Nite Jogger Fluid Sneakers',\n",
       " 'Women UNO - LOVING LOVE Printed Sneakers',\n",
       " 'Unisex Black & Coral Solid RS-FAST TECH Sneakers',\n",
       " 'Men Black SPEED 500 2 Running Shoes',\n",
       " 'Men Black Embellished Leather Loafers',\n",
       " 'Women Black & Lavender Woven Design Charged Impulse Running Shoes',\n",
       " 'Women Black Liberate Nitro Running Shoes',\n",
       " 'Unisex Black & White Colourblocked & Perforated SC 3ZER0 IV Basketball Shoes',\n",
       " 'Men Black Leather Loafers',\n",
       " 'Women Black & Charcoal Grey Woven Design Charged Breathe TR 2 Training Shoes',\n",
       " 'Men Black Running Shoes',\n",
       " 'Men Black Solid Leather Formal Chelsea Boots',\n",
       " 'Women Black Eternity Nitro Running Shoes',\n",
       " 'Men Black & Beige JORDAN DELTA Sneakers',\n",
       " 'Mexico 66 Paraty',\n",
       " 'Men Black Solid Formal Derbys',\n",
       " 'Men Black Liberate Nitro Running Shoes',\n",
       " 'Men Black Leather Formal Brogues',\n",
       " 'Women Black & Charcoal Grey Woven Design Liquify Rebel Running Shoes',\n",
       " 'Men Black Solid Leather Formal Oxford Shoes',\n",
       " 'Women Black Embellished Peep Toe Heels',\n",
       " 'Women Black HOVR Rise 2 Training Shoes',\n",
       " 'Women Black TriBase Reign 2 Woven Design Training Shoes',\n",
       " 'Men Black Formal Leather Brogues',\n",
       " 'Men Black Genuine Leather Formal Brogues',\n",
       " 'Men Black Textured Leather Formal Loafers',\n",
       " \"Women Black D'LITES 3.0 AIR-SKY Sneakers\",\n",
       " 'Men Black Mesh Running Shoes',\n",
       " 'Men Black Woven Design Forever Floatride Energy 2 Running Shoes',\n",
       " 'Men Black & Yellow JOYRIDE Running Shoes',\n",
       " 'Men Black AIR ZOOM PEGASUS 37 Running Shoes',\n",
       " 'Women Black & Pink Colourblocked AIR ZOOM STRUCTURE 23 Running Shoes',\n",
       " 'Men Black KD13 EP Mid-Top Basketball Shoes',\n",
       " 'Men Black React Infinity Running Shoe',\n",
       " 'Women Black AIR ZOOM VOMERO 15 Running Shoes',\n",
       " 'Unisex Black Mercedes Drift Cat 8 Running Shoes',\n",
       " 'Men Black JORDAN DELTA Basketball Shoes',\n",
       " 'Women Black AIR ZOOM PEGASUS 37 Running Shoes',\n",
       " 'Men Black AIR ZOOM STRUCTURE 23 Running Shoes',\n",
       " 'Women Black REACT PHANTOM RUN FK 2 Running Shoes',\n",
       " 'Men Black & Charcoal Grey Woven Design Liquify Running Shoes',\n",
       " 'Unisex Black Future Rider Twofold SD Sneakers',\n",
       " 'Men Black Velocity Nitro Running Shoes',\n",
       " 'Men Black VIPER - COMPETITOR Training Shoes',\n",
       " 'Men Black Solid HOVR Strt Walking Shoes',\n",
       " 'Unisex Black RS-X Pop Sneakers',\n",
       " 'Men Black Woven Design Charged Rogue 2 Wide Fit 2E Running Shoes',\n",
       " 'Men Black Solid Leather Formal Slip-Ons',\n",
       " 'Women Black & Lavender Woven Design HOVR Sonic 3 Running Shoes',\n",
       " 'Women Black Woven Design Bluetooth HOVR Sonic 3 Running Shoes',\n",
       " 'Men Black &Charcoal Grey Woven Design Nite Jogger Fluid Sneakers',\n",
       " 'Women UNO - LOVING LOVE Printed Sneakers',\n",
       " 'Unisex Black & Coral Solid RS-FAST TECH Sneakers',\n",
       " 'Men Black SPEED 500 2 Running Shoes',\n",
       " 'Men Black Embellished Leather Loafers',\n",
       " 'Women Black & Lavender Woven Design Charged Impulse Running Shoes',\n",
       " 'Women Black Liberate Nitro Running Shoes',\n",
       " 'Unisex Black & White Colourblocked & Perforated SC 3ZER0 IV Basketball Shoes',\n",
       " 'Men Black Leather Loafers',\n",
       " 'Women Black & Charcoal Grey Woven Design Charged Breathe TR 2 Training Shoes',\n",
       " 'Men Black Running Shoes',\n",
       " 'Men Black Solid Leather Formal Chelsea Boots',\n",
       " 'Women Black Eternity Nitro Running Shoes',\n",
       " 'Men Black & Beige JORDAN DELTA Sneakers',\n",
       " 'Mexico 66 Paraty',\n",
       " 'Men Black Solid Formal Derbys',\n",
       " 'Men Black Liberate Nitro Running Shoes',\n",
       " 'Men Black Leather Formal Brogues',\n",
       " 'Women Black & Charcoal Grey Woven Design Liquify Rebel Running Shoes',\n",
       " 'Men Black Solid Leather Formal Oxford Shoes',\n",
       " 'Women Black Embellished Peep Toe Heels',\n",
       " 'Women Black HOVR Rise 2 Training Shoes',\n",
       " 'Women Black TriBase Reign 2 Woven Design Training Shoes',\n",
       " 'Men Black Formal Leather Brogues',\n",
       " 'Men Black Genuine Leather Formal Brogues',\n",
       " 'Men Black Textured Leather Formal Loafers',\n",
       " \"Women Black D'LITES 3.0 AIR-SKY Sneakers\",\n",
       " 'Men Black Mesh Running Shoes',\n",
       " 'Men Black Woven Design Forever Floatride Energy 2 Running Shoes']"
      ]
     },
     "execution_count": 499,
     "metadata": {},
     "output_type": "execute_result"
    }
   ],
   "source": [
    "description"
   ]
  },
  {
   "cell_type": "code",
   "execution_count": 500,
   "metadata": {},
   "outputs": [
    {
     "data": {
      "text/plain": [
       "['Rs. 10496',\n",
       " 'Rs. 11495',\n",
       " 'Rs. 7721',\n",
       " 'Rs. 12995',\n",
       " 'Rs. 10846',\n",
       " 'Rs. 10121',\n",
       " 'Rs. 7999',\n",
       " 'Rs. 12495',\n",
       " 'Rs. 7496',\n",
       " 'Rs. 7206',\n",
       " 'Rs. 8396',\n",
       " 'Rs. 10999',\n",
       " 'Rs. 6999',\n",
       " 'Rs. 10999',\n",
       " 'Rs. 6999',\n",
       " 'Rs. 9999',\n",
       " 'Rs. 6999',\n",
       " 'Rs. 7999',\n",
       " 'Rs. 8999',\n",
       " 'Rs. 10999',\n",
       " 'Rs. 10999',\n",
       " 'Rs. 8449',\n",
       " 'Rs. 7999',\n",
       " 'Rs. 9999',\n",
       " 'Rs. 6999',\n",
       " 'Rs. 6747',\n",
       " 'Rs. 7999',\n",
       " 'Rs. 7999',\n",
       " 'Rs. 8999',\n",
       " 'Rs. 6990',\n",
       " 'Rs. 7999',\n",
       " 'Rs. 8499',\n",
       " 'Rs. 11305',\n",
       " 'Rs. 12999',\n",
       " 'Rs. 10995',\n",
       " 'Rs. 6999',\n",
       " 'Rs. 9999',\n",
       " 'Rs. 9999',\n",
       " 'Rs. 6990',\n",
       " 'Rs. 8999',\n",
       " 'Rs. 9367',\n",
       " 'Rs. 7192',\n",
       " 'Rs. 9999',\n",
       " 'Rs. 11999',\n",
       " 'Rs. 7490',\n",
       " 'Rs. 6990',\n",
       " 'Rs. 9975',\n",
       " 'Rs. 6999',\n",
       " 'Rs. 7499',\n",
       " 'Rs. 9999',\n",
       " 'Rs. 10496',\n",
       " 'Rs. 11495',\n",
       " 'Rs. 7721',\n",
       " 'Rs. 12995',\n",
       " 'Rs. 10846',\n",
       " 'Rs. 10121',\n",
       " 'Rs. 7999',\n",
       " 'Rs. 12495',\n",
       " 'Rs. 7496',\n",
       " 'Rs. 7206',\n",
       " 'Rs. 8396',\n",
       " 'Rs. 10999',\n",
       " 'Rs. 6999',\n",
       " 'Rs. 10999',\n",
       " 'Rs. 6999',\n",
       " 'Rs. 9999',\n",
       " 'Rs. 6999',\n",
       " 'Rs. 7999',\n",
       " 'Rs. 8999',\n",
       " 'Rs. 10999',\n",
       " 'Rs. 10999',\n",
       " 'Rs. 8449',\n",
       " 'Rs. 7999',\n",
       " 'Rs. 9999',\n",
       " 'Rs. 6999',\n",
       " 'Rs. 6747',\n",
       " 'Rs. 7999',\n",
       " 'Rs. 7999',\n",
       " 'Rs. 8999',\n",
       " 'Rs. 6990',\n",
       " 'Rs. 7999',\n",
       " 'Rs. 8499',\n",
       " 'Rs. 11305',\n",
       " 'Rs. 12999',\n",
       " 'Rs. 10995',\n",
       " 'Rs. 6999',\n",
       " 'Rs. 9999',\n",
       " 'Rs. 9999',\n",
       " 'Rs. 6990',\n",
       " 'Rs. 8999',\n",
       " 'Rs. 9367',\n",
       " 'Rs. 7192',\n",
       " 'Rs. 9999',\n",
       " 'Rs. 11999',\n",
       " 'Rs. 7490',\n",
       " 'Rs. 6990',\n",
       " 'Rs. 9975',\n",
       " 'Rs. 6999',\n",
       " 'Rs. 7499',\n",
       " 'Rs. 9999']"
      ]
     },
     "execution_count": 500,
     "metadata": {},
     "output_type": "execute_result"
    }
   ],
   "source": [
    "price"
   ]
  },
  {
   "cell_type": "markdown",
   "metadata": {},
   "source": [
    "Now we will check the length of the 3 list that we have extracted.if the length of these lists are not equal,thenwe can't form a dataframe"
   ]
  },
  {
   "cell_type": "code",
   "execution_count": 501,
   "metadata": {},
   "outputs": [
    {
     "data": {
      "text/plain": [
       "(100, 100, 100)"
      ]
     },
     "execution_count": 501,
     "metadata": {},
     "output_type": "execute_result"
    }
   ],
   "source": [
    "len(brand),len(description),len(price)"
   ]
  },
  {
   "cell_type": "code",
   "execution_count": 504,
   "metadata": {},
   "outputs": [],
   "source": [
    "#Lets build a dataframe \n",
    "Myntra_shoes=pd.DataFrame(({}))\n",
    "Myntra_shoes['Brand']=brand\n",
    "Myntra_shoes['Description']=description\n",
    "Myntra_shoes['Price']=price"
   ]
  },
  {
   "cell_type": "code",
   "execution_count": 505,
   "metadata": {},
   "outputs": [
    {
     "data": {
      "text/html": [
       "<div>\n",
       "<style scoped>\n",
       "    .dataframe tbody tr th:only-of-type {\n",
       "        vertical-align: middle;\n",
       "    }\n",
       "\n",
       "    .dataframe tbody tr th {\n",
       "        vertical-align: top;\n",
       "    }\n",
       "\n",
       "    .dataframe thead th {\n",
       "        text-align: right;\n",
       "    }\n",
       "</style>\n",
       "<table border=\"1\" class=\"dataframe\">\n",
       "  <thead>\n",
       "    <tr style=\"text-align: right;\">\n",
       "      <th></th>\n",
       "      <th>Brand</th>\n",
       "      <th>Description</th>\n",
       "      <th>Price</th>\n",
       "    </tr>\n",
       "  </thead>\n",
       "  <tbody>\n",
       "    <tr>\n",
       "      <th>0</th>\n",
       "      <td>Nike</td>\n",
       "      <td>Men Black &amp; Yellow JOYRIDE Running Shoes</td>\n",
       "      <td>Rs. 10496</td>\n",
       "    </tr>\n",
       "    <tr>\n",
       "      <th>1</th>\n",
       "      <td>Nike</td>\n",
       "      <td>Men Black AIR ZOOM PEGASUS 37 Running Shoes</td>\n",
       "      <td>Rs. 11495</td>\n",
       "    </tr>\n",
       "    <tr>\n",
       "      <th>2</th>\n",
       "      <td>Nike</td>\n",
       "      <td>Women Black &amp; Pink Colourblocked AIR ZOOM STRU...</td>\n",
       "      <td>Rs. 7721</td>\n",
       "    </tr>\n",
       "    <tr>\n",
       "      <th>3</th>\n",
       "      <td>Nike</td>\n",
       "      <td>Men Black KD13 EP Mid-Top Basketball Shoes</td>\n",
       "      <td>Rs. 12995</td>\n",
       "    </tr>\n",
       "    <tr>\n",
       "      <th>4</th>\n",
       "      <td>Nike</td>\n",
       "      <td>Men Black React Infinity Running Shoe</td>\n",
       "      <td>Rs. 10846</td>\n",
       "    </tr>\n",
       "    <tr>\n",
       "      <th>...</th>\n",
       "      <td>...</td>\n",
       "      <td>...</td>\n",
       "      <td>...</td>\n",
       "    </tr>\n",
       "    <tr>\n",
       "      <th>95</th>\n",
       "      <td>Ruosh</td>\n",
       "      <td>Men Black Genuine Leather Formal Brogues</td>\n",
       "      <td>Rs. 6990</td>\n",
       "    </tr>\n",
       "    <tr>\n",
       "      <th>96</th>\n",
       "      <td>Saint G</td>\n",
       "      <td>Men Black Textured Leather Formal Loafers</td>\n",
       "      <td>Rs. 9975</td>\n",
       "    </tr>\n",
       "    <tr>\n",
       "      <th>97</th>\n",
       "      <td>Skechers</td>\n",
       "      <td>Women Black D'LITES 3.0 AIR-SKY Sneakers</td>\n",
       "      <td>Rs. 6999</td>\n",
       "    </tr>\n",
       "    <tr>\n",
       "      <th>98</th>\n",
       "      <td>Puma</td>\n",
       "      <td>Men Black Mesh Running Shoes</td>\n",
       "      <td>Rs. 7499</td>\n",
       "    </tr>\n",
       "    <tr>\n",
       "      <th>99</th>\n",
       "      <td>Reebok</td>\n",
       "      <td>Men Black Woven Design Forever Floatride Energ...</td>\n",
       "      <td>Rs. 9999</td>\n",
       "    </tr>\n",
       "  </tbody>\n",
       "</table>\n",
       "<p>100 rows × 3 columns</p>\n",
       "</div>"
      ],
      "text/plain": [
       "       Brand                                        Description      Price\n",
       "0       Nike           Men Black & Yellow JOYRIDE Running Shoes  Rs. 10496\n",
       "1       Nike        Men Black AIR ZOOM PEGASUS 37 Running Shoes  Rs. 11495\n",
       "2       Nike  Women Black & Pink Colourblocked AIR ZOOM STRU...   Rs. 7721\n",
       "3       Nike         Men Black KD13 EP Mid-Top Basketball Shoes  Rs. 12995\n",
       "4       Nike              Men Black React Infinity Running Shoe  Rs. 10846\n",
       "..       ...                                                ...        ...\n",
       "95     Ruosh           Men Black Genuine Leather Formal Brogues   Rs. 6990\n",
       "96   Saint G          Men Black Textured Leather Formal Loafers   Rs. 9975\n",
       "97  Skechers           Women Black D'LITES 3.0 AIR-SKY Sneakers   Rs. 6999\n",
       "98      Puma                       Men Black Mesh Running Shoes   Rs. 7499\n",
       "99    Reebok  Men Black Woven Design Forever Floatride Energ...   Rs. 9999\n",
       "\n",
       "[100 rows x 3 columns]"
      ]
     },
     "execution_count": 505,
     "metadata": {},
     "output_type": "execute_result"
    }
   ],
   "source": [
    "Myntra_shoes"
   ]
  },
  {
   "cell_type": "markdown",
   "metadata": {},
   "source": [
    "# Q10: \n",
    "Go to webpage https://www.amazon.in/\n",
    "Enter “Laptop” in the search field and then click the search icon.\n",
    "Then set CPU Type filter to “Intel Core i7” and “Intel Core i9” as shown in the \n",
    "below image"
   ]
  },
  {
   "cell_type": "code",
   "execution_count": 209,
   "metadata": {},
   "outputs": [],
   "source": [
    "#lets connect to the web driver\n",
    "driver=webdriver.Chrome(\"chromedriver.exe\")"
   ]
  },
  {
   "cell_type": "code",
   "execution_count": 210,
   "metadata": {},
   "outputs": [],
   "source": [
    "url='https://www.amazon.in/'\n",
    "driver.get(url)"
   ]
  },
  {
   "cell_type": "code",
   "execution_count": 211,
   "metadata": {},
   "outputs": [
    {
     "data": {
      "text/plain": [
       "<selenium.webdriver.remote.webelement.WebElement (session=\"db7fb53449c0aba804f1cec13d42f46c\", element=\"2892461d-5732-4f14-a4cb-58c8c07130c4\")>"
      ]
     },
     "execution_count": 211,
     "metadata": {},
     "output_type": "execute_result"
    }
   ],
   "source": [
    "#finding the element for search bar\n",
    "search_bar=driver.find_element_by_id(\"twotabsearchtextbox\")\n",
    "search_bar"
   ]
  },
  {
   "cell_type": "code",
   "execution_count": 212,
   "metadata": {},
   "outputs": [],
   "source": [
    "#write on the search bar\n",
    "search_bar.send_keys(\"laptop\")"
   ]
  },
  {
   "cell_type": "code",
   "execution_count": 213,
   "metadata": {},
   "outputs": [],
   "source": [
    "#click on the search button\n",
    "driver.find_element_by_id(\"nav-search-submit-button\").click()"
   ]
  },
  {
   "cell_type": "code",
   "execution_count": 214,
   "metadata": {},
   "outputs": [],
   "source": [
    "#locating the core i9 filter\n",
    "filter_button=driver.find_elements_by_xpath(\"//a[@class='a-link-normal s-navigation-item']//span\")\n",
    "for i in filter_button:\n",
    "    if i.text==\"Intel Core i9\":\n",
    "        i.click()\n",
    "        break"
   ]
  },
  {
   "cell_type": "code",
   "execution_count": 215,
   "metadata": {},
   "outputs": [],
   "source": [
    "urls=[]\n",
    "for i in driver.find_elements_by_xpath(\"//h2[@class='a-size-mini a-spacing-none a-color-base s-line-clamp-2']//a\")[:5]:\n",
    "    urls.append(i.get_attribute(\"href\"))"
   ]
  },
  {
   "cell_type": "code",
   "execution_count": 216,
   "metadata": {},
   "outputs": [
    {
     "data": {
      "text/plain": [
       "['https://www.amazon.in/Asus-G703GI-E5148T-17-3-inch-i9-8950HK-Processor/dp/B07GRCW51K/ref=sr_1_1?dchild=1&keywords=laptop&qid=1621494578&refinements=p_n_feature_thirteen_browse-bin%3A16757432031&rnid=12598141031&s=computers&sr=1-1',\n",
       " 'https://www.amazon.in/ASUS-i9-10980HK-Touchscreen-Celestial-UX581LV-H2035T/dp/B08CHDLVT1/ref=sr_1_2?dchild=1&keywords=laptop&qid=1621494578&refinements=p_n_feature_thirteen_browse-bin%3A16757432031&rnid=12598141031&s=computers&sr=1-2',\n",
       " 'https://www.amazon.in/Dell-9570-15-6-inch-i9-8950HK-Integrated/dp/B08C5FMBLB/ref=sr_1_3?dchild=1&keywords=laptop&qid=1621494578&refinements=p_n_feature_thirteen_browse-bin%3A16757432031&rnid=12598141031&s=computers&sr=1-3',\n",
       " 'https://www.amazon.in/HP-15-6-inch-Windows-Graphics-15-dg0019TX/dp/B07TDKNM4W/ref=sr_1_4?dchild=1&keywords=laptop&qid=1621494578&refinements=p_n_feature_thirteen_browse-bin%3A16757432031&rnid=12598141031&s=computers&sr=1-4',\n",
       " 'https://www.amazon.in/ASUS-Touchscreen-ScreenPad-Celestial-UX581GV-H9201T/dp/B07YSTDMNB/ref=sr_1_5?dchild=1&keywords=laptop&qid=1621494578&refinements=p_n_feature_thirteen_browse-bin%3A16757432031&rnid=12598141031&s=computers&sr=1-5']"
      ]
     },
     "execution_count": 216,
     "metadata": {},
     "output_type": "execute_result"
    }
   ],
   "source": [
    "urls"
   ]
  },
  {
   "cell_type": "code",
   "execution_count": 217,
   "metadata": {},
   "outputs": [],
   "source": [
    "Title1=[]\n",
    "Rating1=[]\n",
    "Price1=[]"
   ]
  },
  {
   "cell_type": "code",
   "execution_count": 218,
   "metadata": {},
   "outputs": [],
   "source": [
    "for i in urls:\n",
    "    driver.get(i)\n",
    "    time.sleep(4)\n",
    "    #fetching Titles\n",
    "    try:\n",
    "        Title_tag=driver.find_element_by_xpath(\"//h1[@class='a-size-large a-spacing-none']//span\")\n",
    "        Title1.append(Title_tag.text)\n",
    "    except NoSuchElementException:\n",
    "        Title1.append('-')\n",
    "        \n",
    "    #fetching rating\n",
    "    try:\n",
    "        rating=driver.find_element_by_xpath(\"//span[@class='a-size-base a-nowrap']\")\n",
    "        Rating1.append(rating.text)\n",
    "    except NoSuchElementException:\n",
    "        Rating1.append('-')\n",
    "        \n",
    "    #fetching price\n",
    "    try:\n",
    "        price=driver.find_element_by_xpath(\"//td[@class='a-span12']//span\")\n",
    "        Price1.append(price.text)\n",
    "    except NoSuchElementException:\n",
    "        Price1.append('-')"
   ]
  },
  {
   "cell_type": "code",
   "execution_count": 219,
   "metadata": {},
   "outputs": [
    {
     "data": {
      "text/plain": [
       "['ASUS ROG G703GI-E5148T 17.3\" (43.94 cms) FHD 144Hz/3ms Gaming Laptop (8th Gen Intel Core i9-8950HK/64GB/2TB SSHD + 1.5TB NVMe SSD/Windows 10/GTX 1080 8GB Graphics/4.70 Kg), Aluminum',\n",
       " 'ASUS ZenBook Pro Duo Intel Core i9-10980HK 10th Gen 15.6\" 4K UHD OLED Touchscreen Laptop (32GB RAM/1TB NVMe SSD/Windows 10/6GB NVIDIA GeForce RTX 2060 Graphics/Celestial Blue/2.5 Kg), UX581LV-H2035T',\n",
       " 'Dell XPS 9570 15.6\" (39.62cms) UHD Laptop (8th Gen i9-8950HK/32GB/1TB SSD/Win 10 + MS Office/Integrated Graphics), Silver',\n",
       " 'HP Omen X 2S Core i9 9th Gen 15.6-inch Dual Screen Gaming Laptop (16GB/2TB SSD/Windows 10/8GB NVIDIA RTX 2080 Graphics/Shadow Black), 15-dg0019TX',\n",
       " 'ASUS ZenBook Pro Duo UX581 Intel Core i9 9th Gen 15.6\" 4K UHD OLED Touchscreen Laptop (32GB RAM/1TB NVMe SSD/Windows 10/6GB GDDR6 Graphics Card/ScreenPad Plus/Celestial Blue/2.50 Kg), UX581GV-H9201T']"
      ]
     },
     "execution_count": 219,
     "metadata": {},
     "output_type": "execute_result"
    }
   ],
   "source": [
    "Title1"
   ]
  },
  {
   "cell_type": "code",
   "execution_count": 220,
   "metadata": {},
   "outputs": [
    {
     "data": {
      "text/plain": [
       "['3.7 out of 5',\n",
       " '3.8 out of 5',\n",
       " '2.4 out of 5',\n",
       " '4.5 out of 5',\n",
       " '3.8 out of 5']"
      ]
     },
     "execution_count": 220,
     "metadata": {},
     "output_type": "execute_result"
    }
   ],
   "source": [
    "Rating1"
   ]
  },
  {
   "cell_type": "code",
   "execution_count": 221,
   "metadata": {},
   "outputs": [
    {
     "data": {
      "text/plain": [
       "['₹ 4,13,890.00', '₹ 3,00,325.00', '₹ 2,49,990.00', '₹ 3,45,800.00', '-']"
      ]
     },
     "execution_count": 221,
     "metadata": {},
     "output_type": "execute_result"
    }
   ],
   "source": [
    "Price1"
   ]
  },
  {
   "cell_type": "code",
   "execution_count": 222,
   "metadata": {},
   "outputs": [],
   "source": [
    "#locating the core i7 filter\n",
    "filter_button=driver.find_elements_by_xpath(\"//a[@class='a-link-normal s-navigation-item']//span\")\n",
    "for i in filter_button:\n",
    "    if i.text==\"Intel Core i7\":\n",
    "        i.click()\n",
    "        break"
   ]
  },
  {
   "cell_type": "code",
   "execution_count": 223,
   "metadata": {},
   "outputs": [],
   "source": [
    "#extracting urls\n",
    "urls=[]\n",
    "for i in driver.find_elements_by_xpath(\"//h2[@class='a-size-mini a-spacing-none a-color-base s-line-clamp-2']//a\")[:5]:\n",
    "    urls.append(i.get_attribute(\"href\"))"
   ]
  },
  {
   "cell_type": "code",
   "execution_count": 224,
   "metadata": {},
   "outputs": [
    {
     "data": {
      "text/plain": [
       "['https://www.amazon.in/gp/slredirect/picassoRedirect.html/ref=pa_sp_atf_computers_sr_pg1_1?ie=UTF8&adId=A0964431VM3CAKCM6CIJ&url=%2FDell-Inspiron-i7-1165G7-Integrated-D560414WIN9S%2Fdp%2FB0919LL313%2Fref%3Dsr_1_1_sspa%3Fdchild%3D1%26keywords%3Dlaptop%26qid%3D1621499165%26refinements%3Dp_n_feature_thirteen_browse-bin%253A12598163031%26rnid%3D12598141031%26s%3Dcomputers%26sr%3D1-1-spons%26psc%3D1&qualifier=1621499165&id=3879714358963607&widgetName=sp_atf',\n",
       " 'https://www.amazon.in/gp/slredirect/picassoRedirect.html/ref=pa_sp_atf_computers_sr_pg1_1?ie=UTF8&adId=A022103072HA7E9RR0G0&url=%2FDell-15-6inch-i7-10750H-Warranty-D560250WIN9BE%2Fdp%2FB08HYPRST4%2Fref%3Dsr_1_2_sspa%3Fdchild%3D1%26keywords%3Dlaptop%26qid%3D1621499165%26refinements%3Dp_n_feature_thirteen_browse-bin%253A12598163031%26rnid%3D12598141031%26s%3Dcomputers%26sr%3D1-2-spons%26psc%3D1&qualifier=1621499165&id=3879714358963607&widgetName=sp_atf',\n",
       " 'https://www.amazon.in/Notebook-Horizon-i5-10210U-Graphics-XMA1904-AR/dp/B089F5JGM1/ref=sr_1_3?dchild=1&keywords=laptop&qid=1621499165&refinements=p_n_feature_thirteen_browse-bin%3A12598163031&rnid=12598141031&s=computers&sr=1-3',\n",
       " 'https://www.amazon.in/Lenovo-Legion-Gaming-Windows-82AW005SIN/dp/B08CQ21154/ref=sr_1_4?dchild=1&keywords=laptop&qid=1621499165&refinements=p_n_feature_thirteen_browse-bin%3A12598163031&rnid=12598141031&s=computers&sr=1-4',\n",
       " 'https://www.amazon.in/Asus-Zephyrus-GeForce-i7-8750H-GX531GW-AS76/dp/B07KS1JF2H/ref=sr_1_5?dchild=1&keywords=laptop&qid=1621499165&refinements=p_n_feature_thirteen_browse-bin%3A12598163031&rnid=12598141031&s=computers&sr=1-5']"
      ]
     },
     "execution_count": 224,
     "metadata": {},
     "output_type": "execute_result"
    }
   ],
   "source": [
    "urls"
   ]
  },
  {
   "cell_type": "code",
   "execution_count": 226,
   "metadata": {},
   "outputs": [],
   "source": [
    "Title2=[]\n",
    "Rating2=[]\n",
    "Price2=[]"
   ]
  },
  {
   "cell_type": "code",
   "execution_count": 227,
   "metadata": {},
   "outputs": [],
   "source": [
    "for i in urls:\n",
    "    driver.get(i)\n",
    "    time.sleep(4)\n",
    "    #fetching Titles\n",
    "    try:\n",
    "        Title_tag=driver.find_element_by_xpath(\"//h1[@class='a-size-large a-spacing-none']//span\")\n",
    "        Title2.append(Title_tag.text)\n",
    "    except NoSuchElementException:\n",
    "        Title2.append('-')\n",
    "        \n",
    "    #fetching rating\n",
    "    try:\n",
    "        rating=driver.find_element_by_xpath(\"//span[@class='a-size-base a-nowrap']\")\n",
    "        Rating2.append(rating.text)\n",
    "    except NoSuchElementException:\n",
    "        Rating2.append('-')\n",
    "        \n",
    "    #fetching price\n",
    "    try:\n",
    "        price=driver.find_element_by_xpath(\"//td[@class='a-span12']//span\")\n",
    "        Price2.append(price.text)\n",
    "    except NoSuchElementException:\n",
    "        Price2.append('-')"
   ]
  },
  {
   "cell_type": "code",
   "execution_count": 228,
   "metadata": {},
   "outputs": [
    {
     "data": {
      "text/plain": [
       "['Dell Inspiron 5406 14\" FHD Touch Display 2in1 Laptop (11th Gen i7-1165G7 / 8Gb / 512Gb SSD / Integrated Graphics / Win 10 + MSO / Titan Grey Color / FPR/ Active Pen) D560414WIN9S',\n",
       " 'Dell G3 3500 Gaming 15.6inch ( 39.62 cms) 120hz FHD Display Laptop (10th Gen i7-10750H / 8 GB / 512 SSD / GTX 1650 4GB / 1Yr Premium Warranty/ Win 10 + MS Office H&S 2019) D560250WIN9BE',\n",
       " 'Mi Notebook Horizon Edition 14 Intel Core i5-10210U 10th Gen 14-inch (35.56 cms) Thin and Light Laptop(8GB/512GB SSD/Windows 10/Nvidia MX350 2GB Graphics/Grey/1.35Kg), XMA1904-AR+Webcam',\n",
       " 'Lenovo Legion 5Pi 10th Gen Intel Core i7 15.6\" FHD Gaming Laptop (16GB/1TB SSD/Windows 10/MS Office 2019/144 Hz/NVIDIA RTX 2060 6GB GDDR6/with M300 RGB Gaming Mouse/Iron Grey/2.3Kg), 82AW005SIN',\n",
       " 'Asus ROG Zephyrus S Ultra Slim Gaming Laptop, 15.6\" 144Hz IPS Type FHD, GeForce RTX 2070, Intel Core i7-8750H, 16GB DDR4, 512GB PCIe NVMe SSD, Aura Sync RGB, Windows 10, GX531GW-AS76']"
      ]
     },
     "execution_count": 228,
     "metadata": {},
     "output_type": "execute_result"
    }
   ],
   "source": [
    "Title2"
   ]
  },
  {
   "cell_type": "code",
   "execution_count": 229,
   "metadata": {},
   "outputs": [
    {
     "data": {
      "text/plain": [
       "['3.5 out of 5',\n",
       " '3.9 out of 5',\n",
       " '4.4 out of 5',\n",
       " '4.3 out of 5',\n",
       " '4.1 out of 5']"
      ]
     },
     "execution_count": 229,
     "metadata": {},
     "output_type": "execute_result"
    }
   ],
   "source": [
    "Rating2"
   ]
  },
  {
   "cell_type": "code",
   "execution_count": 230,
   "metadata": {},
   "outputs": [
    {
     "data": {
      "text/plain": [
       "['₹ 85,990.00', '₹ 77,990.00', '₹ 53,999.00', '₹ 1,35,490.00', '₹ 3,43,099.00']"
      ]
     },
     "execution_count": 230,
     "metadata": {},
     "output_type": "execute_result"
    }
   ],
   "source": [
    "Price2"
   ]
  },
  {
   "cell_type": "code",
   "execution_count": 231,
   "metadata": {},
   "outputs": [
    {
     "data": {
      "text/plain": [
       "['ASUS ROG G703GI-E5148T 17.3\" (43.94 cms) FHD 144Hz/3ms Gaming Laptop (8th Gen Intel Core i9-8950HK/64GB/2TB SSHD + 1.5TB NVMe SSD/Windows 10/GTX 1080 8GB Graphics/4.70 Kg), Aluminum',\n",
       " 'ASUS ZenBook Pro Duo Intel Core i9-10980HK 10th Gen 15.6\" 4K UHD OLED Touchscreen Laptop (32GB RAM/1TB NVMe SSD/Windows 10/6GB NVIDIA GeForce RTX 2060 Graphics/Celestial Blue/2.5 Kg), UX581LV-H2035T',\n",
       " 'Dell XPS 9570 15.6\" (39.62cms) UHD Laptop (8th Gen i9-8950HK/32GB/1TB SSD/Win 10 + MS Office/Integrated Graphics), Silver',\n",
       " 'HP Omen X 2S Core i9 9th Gen 15.6-inch Dual Screen Gaming Laptop (16GB/2TB SSD/Windows 10/8GB NVIDIA RTX 2080 Graphics/Shadow Black), 15-dg0019TX',\n",
       " 'ASUS ZenBook Pro Duo UX581 Intel Core i9 9th Gen 15.6\" 4K UHD OLED Touchscreen Laptop (32GB RAM/1TB NVMe SSD/Windows 10/6GB GDDR6 Graphics Card/ScreenPad Plus/Celestial Blue/2.50 Kg), UX581GV-H9201T',\n",
       " 'Dell Inspiron 5406 14\" FHD Touch Display 2in1 Laptop (11th Gen i7-1165G7 / 8Gb / 512Gb SSD / Integrated Graphics / Win 10 + MSO / Titan Grey Color / FPR/ Active Pen) D560414WIN9S',\n",
       " 'Dell G3 3500 Gaming 15.6inch ( 39.62 cms) 120hz FHD Display Laptop (10th Gen i7-10750H / 8 GB / 512 SSD / GTX 1650 4GB / 1Yr Premium Warranty/ Win 10 + MS Office H&S 2019) D560250WIN9BE',\n",
       " 'Mi Notebook Horizon Edition 14 Intel Core i5-10210U 10th Gen 14-inch (35.56 cms) Thin and Light Laptop(8GB/512GB SSD/Windows 10/Nvidia MX350 2GB Graphics/Grey/1.35Kg), XMA1904-AR+Webcam',\n",
       " 'Lenovo Legion 5Pi 10th Gen Intel Core i7 15.6\" FHD Gaming Laptop (16GB/1TB SSD/Windows 10/MS Office 2019/144 Hz/NVIDIA RTX 2060 6GB GDDR6/with M300 RGB Gaming Mouse/Iron Grey/2.3Kg), 82AW005SIN',\n",
       " 'Asus ROG Zephyrus S Ultra Slim Gaming Laptop, 15.6\" 144Hz IPS Type FHD, GeForce RTX 2070, Intel Core i7-8750H, 16GB DDR4, 512GB PCIe NVMe SSD, Aura Sync RGB, Windows 10, GX531GW-AS76']"
      ]
     },
     "execution_count": 231,
     "metadata": {},
     "output_type": "execute_result"
    }
   ],
   "source": [
    "#Joining the 2 lists of title\n",
    "Title=Title1+Title2\n",
    "Title"
   ]
  },
  {
   "cell_type": "code",
   "execution_count": 232,
   "metadata": {},
   "outputs": [
    {
     "data": {
      "text/plain": [
       "['3.7 out of 5',\n",
       " '3.8 out of 5',\n",
       " '2.4 out of 5',\n",
       " '4.5 out of 5',\n",
       " '3.8 out of 5',\n",
       " '3.5 out of 5',\n",
       " '3.9 out of 5',\n",
       " '4.4 out of 5',\n",
       " '4.3 out of 5',\n",
       " '4.1 out of 5']"
      ]
     },
     "execution_count": 232,
     "metadata": {},
     "output_type": "execute_result"
    }
   ],
   "source": [
    "#joining the lists of rating\n",
    "Rating=Rating1+Rating2\n",
    "Rating"
   ]
  },
  {
   "cell_type": "code",
   "execution_count": 233,
   "metadata": {},
   "outputs": [],
   "source": [
    "#joining the lists of price\n",
    "Price=Price1 + Price2"
   ]
  },
  {
   "cell_type": "code",
   "execution_count": 234,
   "metadata": {},
   "outputs": [
    {
     "data": {
      "text/plain": [
       "['₹ 4,13,890.00',\n",
       " '₹ 3,00,325.00',\n",
       " '₹ 2,49,990.00',\n",
       " '₹ 3,45,800.00',\n",
       " '-',\n",
       " '₹ 85,990.00',\n",
       " '₹ 77,990.00',\n",
       " '₹ 53,999.00',\n",
       " '₹ 1,35,490.00',\n",
       " '₹ 3,43,099.00']"
      ]
     },
     "execution_count": 234,
     "metadata": {},
     "output_type": "execute_result"
    }
   ],
   "source": [
    "Price"
   ]
  },
  {
   "cell_type": "markdown",
   "metadata": {},
   "source": [
    "Now we will check the length of each lists that we have extracted above.if the lengths are not same we cant form a dataframe."
   ]
  },
  {
   "cell_type": "code",
   "execution_count": 235,
   "metadata": {},
   "outputs": [
    {
     "data": {
      "text/plain": [
       "(10, 10, 10)"
      ]
     },
     "execution_count": 235,
     "metadata": {},
     "output_type": "execute_result"
    }
   ],
   "source": [
    "len(Title),len(Rating),len(Price)"
   ]
  },
  {
   "cell_type": "code",
   "execution_count": 236,
   "metadata": {},
   "outputs": [],
   "source": [
    "import pandas as pd\n",
    "#Lets build a dataframe named LAPTOP\n",
    "LAPTOP=pd.DataFrame(({}))\n",
    "LAPTOP['Title']=Title\n",
    "LAPTOP['Rating']=Rating\n",
    "LAPTOP['Price']=Price"
   ]
  },
  {
   "cell_type": "code",
   "execution_count": 237,
   "metadata": {},
   "outputs": [
    {
     "data": {
      "text/html": [
       "<div>\n",
       "<style scoped>\n",
       "    .dataframe tbody tr th:only-of-type {\n",
       "        vertical-align: middle;\n",
       "    }\n",
       "\n",
       "    .dataframe tbody tr th {\n",
       "        vertical-align: top;\n",
       "    }\n",
       "\n",
       "    .dataframe thead th {\n",
       "        text-align: right;\n",
       "    }\n",
       "</style>\n",
       "<table border=\"1\" class=\"dataframe\">\n",
       "  <thead>\n",
       "    <tr style=\"text-align: right;\">\n",
       "      <th></th>\n",
       "      <th>Title</th>\n",
       "      <th>Rating</th>\n",
       "      <th>Price</th>\n",
       "    </tr>\n",
       "  </thead>\n",
       "  <tbody>\n",
       "    <tr>\n",
       "      <th>0</th>\n",
       "      <td>ASUS ROG G703GI-E5148T 17.3\" (43.94 cms) FHD 1...</td>\n",
       "      <td>3.7 out of 5</td>\n",
       "      <td>₹ 4,13,890.00</td>\n",
       "    </tr>\n",
       "    <tr>\n",
       "      <th>1</th>\n",
       "      <td>ASUS ZenBook Pro Duo Intel Core i9-10980HK 10t...</td>\n",
       "      <td>3.8 out of 5</td>\n",
       "      <td>₹ 3,00,325.00</td>\n",
       "    </tr>\n",
       "    <tr>\n",
       "      <th>2</th>\n",
       "      <td>Dell XPS 9570 15.6\" (39.62cms) UHD Laptop (8th...</td>\n",
       "      <td>2.4 out of 5</td>\n",
       "      <td>₹ 2,49,990.00</td>\n",
       "    </tr>\n",
       "    <tr>\n",
       "      <th>3</th>\n",
       "      <td>HP Omen X 2S Core i9 9th Gen 15.6-inch Dual Sc...</td>\n",
       "      <td>4.5 out of 5</td>\n",
       "      <td>₹ 3,45,800.00</td>\n",
       "    </tr>\n",
       "    <tr>\n",
       "      <th>4</th>\n",
       "      <td>ASUS ZenBook Pro Duo UX581 Intel Core i9 9th G...</td>\n",
       "      <td>3.8 out of 5</td>\n",
       "      <td>-</td>\n",
       "    </tr>\n",
       "    <tr>\n",
       "      <th>5</th>\n",
       "      <td>Dell Inspiron 5406 14\" FHD Touch Display 2in1 ...</td>\n",
       "      <td>3.5 out of 5</td>\n",
       "      <td>₹ 85,990.00</td>\n",
       "    </tr>\n",
       "    <tr>\n",
       "      <th>6</th>\n",
       "      <td>Dell G3 3500 Gaming 15.6inch ( 39.62 cms) 120h...</td>\n",
       "      <td>3.9 out of 5</td>\n",
       "      <td>₹ 77,990.00</td>\n",
       "    </tr>\n",
       "    <tr>\n",
       "      <th>7</th>\n",
       "      <td>Mi Notebook Horizon Edition 14 Intel Core i5-1...</td>\n",
       "      <td>4.4 out of 5</td>\n",
       "      <td>₹ 53,999.00</td>\n",
       "    </tr>\n",
       "    <tr>\n",
       "      <th>8</th>\n",
       "      <td>Lenovo Legion 5Pi 10th Gen Intel Core i7 15.6\"...</td>\n",
       "      <td>4.3 out of 5</td>\n",
       "      <td>₹ 1,35,490.00</td>\n",
       "    </tr>\n",
       "    <tr>\n",
       "      <th>9</th>\n",
       "      <td>Asus ROG Zephyrus S Ultra Slim Gaming Laptop, ...</td>\n",
       "      <td>4.1 out of 5</td>\n",
       "      <td>₹ 3,43,099.00</td>\n",
       "    </tr>\n",
       "  </tbody>\n",
       "</table>\n",
       "</div>"
      ],
      "text/plain": [
       "                                               Title        Rating  \\\n",
       "0  ASUS ROG G703GI-E5148T 17.3\" (43.94 cms) FHD 1...  3.7 out of 5   \n",
       "1  ASUS ZenBook Pro Duo Intel Core i9-10980HK 10t...  3.8 out of 5   \n",
       "2  Dell XPS 9570 15.6\" (39.62cms) UHD Laptop (8th...  2.4 out of 5   \n",
       "3  HP Omen X 2S Core i9 9th Gen 15.6-inch Dual Sc...  4.5 out of 5   \n",
       "4  ASUS ZenBook Pro Duo UX581 Intel Core i9 9th G...  3.8 out of 5   \n",
       "5  Dell Inspiron 5406 14\" FHD Touch Display 2in1 ...  3.5 out of 5   \n",
       "6  Dell G3 3500 Gaming 15.6inch ( 39.62 cms) 120h...  3.9 out of 5   \n",
       "7  Mi Notebook Horizon Edition 14 Intel Core i5-1...  4.4 out of 5   \n",
       "8  Lenovo Legion 5Pi 10th Gen Intel Core i7 15.6\"...  4.3 out of 5   \n",
       "9  Asus ROG Zephyrus S Ultra Slim Gaming Laptop, ...  4.1 out of 5   \n",
       "\n",
       "           Price  \n",
       "0  ₹ 4,13,890.00  \n",
       "1  ₹ 3,00,325.00  \n",
       "2  ₹ 2,49,990.00  \n",
       "3  ₹ 3,45,800.00  \n",
       "4              -  \n",
       "5    ₹ 85,990.00  \n",
       "6    ₹ 77,990.00  \n",
       "7    ₹ 53,999.00  \n",
       "8  ₹ 1,35,490.00  \n",
       "9  ₹ 3,43,099.00  "
      ]
     },
     "execution_count": 237,
     "metadata": {},
     "output_type": "execute_result"
    }
   ],
   "source": [
    "LAPTOP"
   ]
  },
  {
   "cell_type": "code",
   "execution_count": null,
   "metadata": {},
   "outputs": [],
   "source": []
  },
  {
   "cell_type": "code",
   "execution_count": null,
   "metadata": {},
   "outputs": [],
   "source": []
  },
  {
   "cell_type": "code",
   "execution_count": null,
   "metadata": {},
   "outputs": [],
   "source": []
  },
  {
   "cell_type": "code",
   "execution_count": null,
   "metadata": {},
   "outputs": [],
   "source": []
  }
 ],
 "metadata": {
  "kernelspec": {
   "display_name": "Python 3",
   "language": "python",
   "name": "python3"
  },
  "language_info": {
   "codemirror_mode": {
    "name": "ipython",
    "version": 3
   },
   "file_extension": ".py",
   "mimetype": "text/x-python",
   "name": "python",
   "nbconvert_exporter": "python",
   "pygments_lexer": "ipython3",
   "version": "3.8.3"
  }
 },
 "nbformat": 4,
 "nbformat_minor": 4
}
