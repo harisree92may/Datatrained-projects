{
 "cells": [
  {
   "cell_type": "markdown",
   "metadata": {},
   "source": [
    "# Doctor Consultation Fee Prediction"
   ]
  },
  {
   "cell_type": "markdown",
   "metadata": {},
   "source": [
    "## Data Description"
   ]
  },
  {
   "cell_type": "markdown",
   "metadata": {},
   "source": [
    "We have all been in situation where we go to a doctor in emergency and find that the consultation fees are too high. As a data scientist we all should do better. Here we have data that contains details about a doctor and we have to build a model to predict the doctor's consulting fee.\n",
    "\n",
    "\n",
    "Size of training set: 5961 records\n",
    "\n",
    "\n",
    "Size of test set: 1987 records\n",
    "\n",
    "\n",
    "\n",
    "FEATURES:\n",
    "\n",
    "\n",
    "Qualification: Qualification and degrees held by the doctor\n",
    "\n",
    "\n",
    "Experience: Experience of the doctor in number of years\n",
    "\n",
    "\n",
    "Rating: Rating given by patients\n",
    "\n",
    "\n",
    "Profile: Type of the doctor\n",
    "\n",
    "\n",
    "Miscellaneous_Info: Extra information about the doctor\n",
    "\n",
    "\n",
    "Fees: Fees charged by the doctor (Target Variable)\n",
    "\n",
    "\n",
    "Place: Area and the city where the doctor is located.\n",
    "\n"
   ]
  },
  {
   "cell_type": "markdown",
   "metadata": {},
   "source": [
    "## Importing Libraries"
   ]
  },
  {
   "cell_type": "code",
   "execution_count": 1,
   "metadata": {},
   "outputs": [],
   "source": [
    "import numpy as np\n",
    "import pandas as pd\n",
    "import matplotlib.pyplot as plt\n",
    "import seaborn as sns  \n",
    "from sklearn.tree import DecisionTreeRegressor\n",
    "from sklearn.neighbors import KNeighborsRegressor\n",
    "from sklearn.svm import SVR\n",
    "from sklearn.ensemble import RandomForestRegressor\n",
    "from sklearn.ensemble import GradientBoostingRegressor\n",
    "from sklearn.model_selection import cross_val_score\n",
    "\n",
    "\n",
    "from sklearn.model_selection import train_test_split,GridSearchCV\n",
    "from sklearn.metrics import r2_score,mean_squared_error,mean_absolute_error\n",
    "import warnings\n",
    "warnings.filterwarnings('ignore')\n",
    "\n",
    "\n",
    "\n"
   ]
  },
  {
   "cell_type": "markdown",
   "metadata": {},
   "source": [
    "## Loading the Train Dataset"
   ]
  },
  {
   "cell_type": "code",
   "execution_count": 2,
   "metadata": {},
   "outputs": [
    {
     "data": {
      "text/html": [
       "<div>\n",
       "<style scoped>\n",
       "    .dataframe tbody tr th:only-of-type {\n",
       "        vertical-align: middle;\n",
       "    }\n",
       "\n",
       "    .dataframe tbody tr th {\n",
       "        vertical-align: top;\n",
       "    }\n",
       "\n",
       "    .dataframe thead th {\n",
       "        text-align: right;\n",
       "    }\n",
       "</style>\n",
       "<table border=\"1\" class=\"dataframe\">\n",
       "  <thead>\n",
       "    <tr style=\"text-align: right;\">\n",
       "      <th></th>\n",
       "      <th>Qualification</th>\n",
       "      <th>Experience</th>\n",
       "      <th>Rating</th>\n",
       "      <th>Place</th>\n",
       "      <th>Profile</th>\n",
       "      <th>Miscellaneous_Info</th>\n",
       "      <th>Fees</th>\n",
       "    </tr>\n",
       "  </thead>\n",
       "  <tbody>\n",
       "    <tr>\n",
       "      <th>0</th>\n",
       "      <td>BHMS, MD - Homeopathy</td>\n",
       "      <td>24 years experience</td>\n",
       "      <td>100%</td>\n",
       "      <td>Kakkanad, Ernakulam</td>\n",
       "      <td>Homeopath</td>\n",
       "      <td>100% 16 Feedback Kakkanad, Ernakulam</td>\n",
       "      <td>100</td>\n",
       "    </tr>\n",
       "    <tr>\n",
       "      <th>1</th>\n",
       "      <td>BAMS, MD - Ayurveda Medicine</td>\n",
       "      <td>12 years experience</td>\n",
       "      <td>98%</td>\n",
       "      <td>Whitefield, Bangalore</td>\n",
       "      <td>Ayurveda</td>\n",
       "      <td>98% 76 Feedback Whitefield, Bangalore</td>\n",
       "      <td>350</td>\n",
       "    </tr>\n",
       "    <tr>\n",
       "      <th>2</th>\n",
       "      <td>MBBS, MS - Otorhinolaryngology</td>\n",
       "      <td>9 years experience</td>\n",
       "      <td>NaN</td>\n",
       "      <td>Mathikere - BEL, Bangalore</td>\n",
       "      <td>ENT Specialist</td>\n",
       "      <td>NaN</td>\n",
       "      <td>300</td>\n",
       "    </tr>\n",
       "    <tr>\n",
       "      <th>3</th>\n",
       "      <td>BSc - Zoology, BAMS</td>\n",
       "      <td>12 years experience</td>\n",
       "      <td>NaN</td>\n",
       "      <td>Bannerghatta Road, Bangalore</td>\n",
       "      <td>Ayurveda</td>\n",
       "      <td>Bannerghatta Road, Bangalore ₹250 Available on...</td>\n",
       "      <td>250</td>\n",
       "    </tr>\n",
       "    <tr>\n",
       "      <th>4</th>\n",
       "      <td>BAMS</td>\n",
       "      <td>20 years experience</td>\n",
       "      <td>100%</td>\n",
       "      <td>Keelkattalai, Chennai</td>\n",
       "      <td>Ayurveda</td>\n",
       "      <td>100% 4 Feedback Keelkattalai, Chennai</td>\n",
       "      <td>250</td>\n",
       "    </tr>\n",
       "    <tr>\n",
       "      <th>...</th>\n",
       "      <td>...</td>\n",
       "      <td>...</td>\n",
       "      <td>...</td>\n",
       "      <td>...</td>\n",
       "      <td>...</td>\n",
       "      <td>...</td>\n",
       "      <td>...</td>\n",
       "    </tr>\n",
       "    <tr>\n",
       "      <th>5956</th>\n",
       "      <td>MBBS, MS - ENT</td>\n",
       "      <td>19 years experience</td>\n",
       "      <td>98%</td>\n",
       "      <td>Basavanagudi, Bangalore</td>\n",
       "      <td>ENT Specialist</td>\n",
       "      <td>98% 45 Feedback Basavanagudi, Bangalore</td>\n",
       "      <td>300</td>\n",
       "    </tr>\n",
       "    <tr>\n",
       "      <th>5957</th>\n",
       "      <td>MBBS</td>\n",
       "      <td>33 years experience</td>\n",
       "      <td>NaN</td>\n",
       "      <td>Nungambakkam, Chennai</td>\n",
       "      <td>General Medicine</td>\n",
       "      <td>NaN</td>\n",
       "      <td>100</td>\n",
       "    </tr>\n",
       "    <tr>\n",
       "      <th>5958</th>\n",
       "      <td>MBBS</td>\n",
       "      <td>41 years experience</td>\n",
       "      <td>97%</td>\n",
       "      <td>Greater Kailash Part 2, Delhi</td>\n",
       "      <td>General Medicine</td>\n",
       "      <td>97% 11 Feedback Greater Kailash Part 2, Delhi</td>\n",
       "      <td>600</td>\n",
       "    </tr>\n",
       "    <tr>\n",
       "      <th>5959</th>\n",
       "      <td>MBBS, MD - General Medicine</td>\n",
       "      <td>15 years experience</td>\n",
       "      <td>90%</td>\n",
       "      <td>Vileparle West, Mumbai</td>\n",
       "      <td>General Medicine</td>\n",
       "      <td>General Medical Consultation Viral Fever Treat...</td>\n",
       "      <td>100</td>\n",
       "    </tr>\n",
       "    <tr>\n",
       "      <th>5960</th>\n",
       "      <td>BDS, MDS - Orthodontics</td>\n",
       "      <td>17 years experience</td>\n",
       "      <td>100%</td>\n",
       "      <td>Pitampura, Delhi</td>\n",
       "      <td>Dentist</td>\n",
       "      <td>Acrylic Partial Denture Crowns and Bridges Fix...</td>\n",
       "      <td>200</td>\n",
       "    </tr>\n",
       "  </tbody>\n",
       "</table>\n",
       "<p>5961 rows × 7 columns</p>\n",
       "</div>"
      ],
      "text/plain": [
       "                       Qualification           Experience Rating  \\\n",
       "0              BHMS, MD - Homeopathy  24 years experience   100%   \n",
       "1       BAMS, MD - Ayurveda Medicine  12 years experience    98%   \n",
       "2     MBBS, MS - Otorhinolaryngology   9 years experience    NaN   \n",
       "3                BSc - Zoology, BAMS  12 years experience    NaN   \n",
       "4                               BAMS  20 years experience   100%   \n",
       "...                              ...                  ...    ...   \n",
       "5956                  MBBS, MS - ENT  19 years experience    98%   \n",
       "5957                            MBBS  33 years experience    NaN   \n",
       "5958                            MBBS  41 years experience    97%   \n",
       "5959     MBBS, MD - General Medicine  15 years experience    90%   \n",
       "5960         BDS, MDS - Orthodontics  17 years experience   100%   \n",
       "\n",
       "                              Place           Profile  \\\n",
       "0               Kakkanad, Ernakulam         Homeopath   \n",
       "1             Whitefield, Bangalore          Ayurveda   \n",
       "2        Mathikere - BEL, Bangalore    ENT Specialist   \n",
       "3      Bannerghatta Road, Bangalore          Ayurveda   \n",
       "4             Keelkattalai, Chennai          Ayurveda   \n",
       "...                             ...               ...   \n",
       "5956        Basavanagudi, Bangalore    ENT Specialist   \n",
       "5957          Nungambakkam, Chennai  General Medicine   \n",
       "5958  Greater Kailash Part 2, Delhi  General Medicine   \n",
       "5959         Vileparle West, Mumbai  General Medicine   \n",
       "5960               Pitampura, Delhi           Dentist   \n",
       "\n",
       "                                     Miscellaneous_Info  Fees  \n",
       "0                  100% 16 Feedback Kakkanad, Ernakulam   100  \n",
       "1                 98% 76 Feedback Whitefield, Bangalore   350  \n",
       "2                                                   NaN   300  \n",
       "3     Bannerghatta Road, Bangalore ₹250 Available on...   250  \n",
       "4                 100% 4 Feedback Keelkattalai, Chennai   250  \n",
       "...                                                 ...   ...  \n",
       "5956            98% 45 Feedback Basavanagudi, Bangalore   300  \n",
       "5957                                                NaN   100  \n",
       "5958      97% 11 Feedback Greater Kailash Part 2, Delhi   600  \n",
       "5959  General Medical Consultation Viral Fever Treat...   100  \n",
       "5960  Acrylic Partial Denture Crowns and Bridges Fix...   200  \n",
       "\n",
       "[5961 rows x 7 columns]"
      ]
     },
     "execution_count": 2,
     "metadata": {},
     "output_type": "execute_result"
    }
   ],
   "source": [
    "df=pd.read_excel(\"Final_Train.xlsx\")\n",
    "df"
   ]
  },
  {
   "cell_type": "code",
   "execution_count": 3,
   "metadata": {},
   "outputs": [
    {
     "data": {
      "text/plain": [
       "(5961, 7)"
      ]
     },
     "execution_count": 3,
     "metadata": {},
     "output_type": "execute_result"
    }
   ],
   "source": [
    "# Checking the dimension of the dataset\n",
    "df.shape"
   ]
  },
  {
   "cell_type": "code",
   "execution_count": 4,
   "metadata": {},
   "outputs": [
    {
     "name": "stdout",
     "output_type": "stream",
     "text": [
      "<class 'pandas.core.frame.DataFrame'>\n",
      "RangeIndex: 5961 entries, 0 to 5960\n",
      "Data columns (total 7 columns):\n",
      " #   Column              Non-Null Count  Dtype \n",
      "---  ------              --------------  ----- \n",
      " 0   Qualification       5961 non-null   object\n",
      " 1   Experience          5961 non-null   object\n",
      " 2   Rating              2659 non-null   object\n",
      " 3   Place               5936 non-null   object\n",
      " 4   Profile             5961 non-null   object\n",
      " 5   Miscellaneous_Info  3341 non-null   object\n",
      " 6   Fees                5961 non-null   int64 \n",
      "dtypes: int64(1), object(6)\n",
      "memory usage: 326.1+ KB\n"
     ]
    }
   ],
   "source": [
    "df.info()"
   ]
  },
  {
   "cell_type": "code",
   "execution_count": 5,
   "metadata": {},
   "outputs": [
    {
     "data": {
      "text/plain": [
       "Qualification         object\n",
       "Experience            object\n",
       "Rating                object\n",
       "Place                 object\n",
       "Profile               object\n",
       "Miscellaneous_Info    object\n",
       "Fees                   int64\n",
       "dtype: object"
      ]
     },
     "execution_count": 5,
     "metadata": {},
     "output_type": "execute_result"
    }
   ],
   "source": [
    "df.dtypes"
   ]
  },
  {
   "cell_type": "code",
   "execution_count": 6,
   "metadata": {},
   "outputs": [
    {
     "data": {
      "text/html": [
       "<div>\n",
       "<style scoped>\n",
       "    .dataframe tbody tr th:only-of-type {\n",
       "        vertical-align: middle;\n",
       "    }\n",
       "\n",
       "    .dataframe tbody tr th {\n",
       "        vertical-align: top;\n",
       "    }\n",
       "\n",
       "    .dataframe thead th {\n",
       "        text-align: right;\n",
       "    }\n",
       "</style>\n",
       "<table border=\"1\" class=\"dataframe\">\n",
       "  <thead>\n",
       "    <tr style=\"text-align: right;\">\n",
       "      <th></th>\n",
       "      <th>Fees</th>\n",
       "    </tr>\n",
       "  </thead>\n",
       "  <tbody>\n",
       "    <tr>\n",
       "      <th>count</th>\n",
       "      <td>5961.000000</td>\n",
       "    </tr>\n",
       "    <tr>\n",
       "      <th>mean</th>\n",
       "      <td>307.944640</td>\n",
       "    </tr>\n",
       "    <tr>\n",
       "      <th>std</th>\n",
       "      <td>190.920373</td>\n",
       "    </tr>\n",
       "    <tr>\n",
       "      <th>min</th>\n",
       "      <td>5.000000</td>\n",
       "    </tr>\n",
       "    <tr>\n",
       "      <th>25%</th>\n",
       "      <td>150.000000</td>\n",
       "    </tr>\n",
       "    <tr>\n",
       "      <th>50%</th>\n",
       "      <td>300.000000</td>\n",
       "    </tr>\n",
       "    <tr>\n",
       "      <th>75%</th>\n",
       "      <td>500.000000</td>\n",
       "    </tr>\n",
       "    <tr>\n",
       "      <th>max</th>\n",
       "      <td>950.000000</td>\n",
       "    </tr>\n",
       "  </tbody>\n",
       "</table>\n",
       "</div>"
      ],
      "text/plain": [
       "              Fees\n",
       "count  5961.000000\n",
       "mean    307.944640\n",
       "std     190.920373\n",
       "min       5.000000\n",
       "25%     150.000000\n",
       "50%     300.000000\n",
       "75%     500.000000\n",
       "max     950.000000"
      ]
     },
     "execution_count": 6,
     "metadata": {},
     "output_type": "execute_result"
    }
   ],
   "source": [
    "# Statistical summary\n",
    "df.describe()"
   ]
  },
  {
   "cell_type": "code",
   "execution_count": 7,
   "metadata": {},
   "outputs": [
    {
     "data": {
      "text/plain": [
       "Qualification            0\n",
       "Experience               0\n",
       "Rating                3302\n",
       "Place                   25\n",
       "Profile                  0\n",
       "Miscellaneous_Info    2620\n",
       "Fees                     0\n",
       "dtype: int64"
      ]
     },
     "execution_count": 7,
     "metadata": {},
     "output_type": "execute_result"
    }
   ],
   "source": [
    "# Checking the null values in the dataset\n",
    "df.isnull().sum()"
   ]
  },
  {
   "cell_type": "markdown",
   "metadata": {},
   "source": [
    "* we can see that the column \"Rating\" contains 3302 null values,25 null values in the column \"Place\" and 2620 null values in the column \"Miscellaneous_info\"."
   ]
  },
  {
   "cell_type": "raw",
   "metadata": {},
   "source": [
    "Now we are going to plot a heatmap showing the null values."
   ]
  },
  {
   "cell_type": "code",
   "execution_count": 8,
   "metadata": {},
   "outputs": [
    {
     "data": {
      "image/png": "[encoded data removed]",
      "text/plain": [
       "<Figure size 432x288 with 2 Axes>"
      ]
     },
     "metadata": {
      "needs_background": "light"
     },
     "output_type": "display_data"
    }
   ],
   "source": [
    "sns.heatmap(df.isnull())\n",
    "plt.show()"
   ]
  },
  {
   "cell_type": "markdown",
   "metadata": {},
   "source": [
    "## EDA"
   ]
  },
  {
   "cell_type": "markdown",
   "metadata": {},
   "source": [
    " Now we are going to extract years experience from the column Experience and converting to numaric."
   ]
  },
  {
   "cell_type": "code",
   "execution_count": 9,
   "metadata": {},
   "outputs": [],
   "source": [
    "df['Experience']=df['Experience'].str.split().str[0]\n",
    "df['Experience']=df['Experience'].astype(int)"
   ]
  },
  {
   "cell_type": "code",
   "execution_count": 10,
   "metadata": {},
   "outputs": [
    {
     "data": {
      "text/html": [
       "<div>\n",
       "<style scoped>\n",
       "    .dataframe tbody tr th:only-of-type {\n",
       "        vertical-align: middle;\n",
       "    }\n",
       "\n",
       "    .dataframe tbody tr th {\n",
       "        vertical-align: top;\n",
       "    }\n",
       "\n",
       "    .dataframe thead th {\n",
       "        text-align: right;\n",
       "    }\n",
       "</style>\n",
       "<table border=\"1\" class=\"dataframe\">\n",
       "  <thead>\n",
       "    <tr style=\"text-align: right;\">\n",
       "      <th></th>\n",
       "      <th>Qualification</th>\n",
       "      <th>Experience</th>\n",
       "      <th>Rating</th>\n",
       "      <th>Place</th>\n",
       "      <th>Profile</th>\n",
       "      <th>Miscellaneous_Info</th>\n",
       "      <th>Fees</th>\n",
       "    </tr>\n",
       "  </thead>\n",
       "  <tbody>\n",
       "    <tr>\n",
       "      <th>0</th>\n",
       "      <td>BHMS, MD - Homeopathy</td>\n",
       "      <td>24</td>\n",
       "      <td>100%</td>\n",
       "      <td>Kakkanad, Ernakulam</td>\n",
       "      <td>Homeopath</td>\n",
       "      <td>100% 16 Feedback Kakkanad, Ernakulam</td>\n",
       "      <td>100</td>\n",
       "    </tr>\n",
       "    <tr>\n",
       "      <th>1</th>\n",
       "      <td>BAMS, MD - Ayurveda Medicine</td>\n",
       "      <td>12</td>\n",
       "      <td>98%</td>\n",
       "      <td>Whitefield, Bangalore</td>\n",
       "      <td>Ayurveda</td>\n",
       "      <td>98% 76 Feedback Whitefield, Bangalore</td>\n",
       "      <td>350</td>\n",
       "    </tr>\n",
       "    <tr>\n",
       "      <th>2</th>\n",
       "      <td>MBBS, MS - Otorhinolaryngology</td>\n",
       "      <td>9</td>\n",
       "      <td>NaN</td>\n",
       "      <td>Mathikere - BEL, Bangalore</td>\n",
       "      <td>ENT Specialist</td>\n",
       "      <td>NaN</td>\n",
       "      <td>300</td>\n",
       "    </tr>\n",
       "  </tbody>\n",
       "</table>\n",
       "</div>"
      ],
      "text/plain": [
       "                    Qualification  Experience Rating  \\\n",
       "0           BHMS, MD - Homeopathy          24   100%   \n",
       "1    BAMS, MD - Ayurveda Medicine          12    98%   \n",
       "2  MBBS, MS - Otorhinolaryngology           9    NaN   \n",
       "\n",
       "                        Place         Profile  \\\n",
       "0         Kakkanad, Ernakulam       Homeopath   \n",
       "1       Whitefield, Bangalore        Ayurveda   \n",
       "2  Mathikere - BEL, Bangalore  ENT Specialist   \n",
       "\n",
       "                      Miscellaneous_Info  Fees  \n",
       "0   100% 16 Feedback Kakkanad, Ernakulam   100  \n",
       "1  98% 76 Feedback Whitefield, Bangalore   350  \n",
       "2                                    NaN   300  "
      ]
     },
     "execution_count": 10,
     "metadata": {},
     "output_type": "execute_result"
    }
   ],
   "source": [
    "df.head(3)"
   ]
  },
  {
   "cell_type": "markdown",
   "metadata": {},
   "source": [
    "Now we are going to replace the null values in the column \"Place\""
   ]
  },
  {
   "cell_type": "code",
   "execution_count": 11,
   "metadata": {},
   "outputs": [],
   "source": [
    "df['Place'].fillna('Unknown,Unknown',inplace=True)"
   ]
  },
  {
   "cell_type": "markdown",
   "metadata": {},
   "source": [
    "Now we will extract locality and city from the column \"Place\""
   ]
  },
  {
   "cell_type": "code",
   "execution_count": 12,
   "metadata": {},
   "outputs": [],
   "source": [
    "df['Locality']=df['Place'].str.split(',').str[0]\n",
    "df['City']=df['Place'].str.split(',').str[1]\n",
    "\n",
    "#Remove the column Place\n",
    "df.drop('Place',axis=1,inplace=True)"
   ]
  },
  {
   "cell_type": "code",
   "execution_count": 13,
   "metadata": {},
   "outputs": [
    {
     "data": {
      "text/html": [
       "<div>\n",
       "<style scoped>\n",
       "    .dataframe tbody tr th:only-of-type {\n",
       "        vertical-align: middle;\n",
       "    }\n",
       "\n",
       "    .dataframe tbody tr th {\n",
       "        vertical-align: top;\n",
       "    }\n",
       "\n",
       "    .dataframe thead th {\n",
       "        text-align: right;\n",
       "    }\n",
       "</style>\n",
       "<table border=\"1\" class=\"dataframe\">\n",
       "  <thead>\n",
       "    <tr style=\"text-align: right;\">\n",
       "      <th></th>\n",
       "      <th>Qualification</th>\n",
       "      <th>Experience</th>\n",
       "      <th>Rating</th>\n",
       "      <th>Profile</th>\n",
       "      <th>Miscellaneous_Info</th>\n",
       "      <th>Fees</th>\n",
       "      <th>Locality</th>\n",
       "      <th>City</th>\n",
       "    </tr>\n",
       "  </thead>\n",
       "  <tbody>\n",
       "    <tr>\n",
       "      <th>0</th>\n",
       "      <td>BHMS, MD - Homeopathy</td>\n",
       "      <td>24</td>\n",
       "      <td>100%</td>\n",
       "      <td>Homeopath</td>\n",
       "      <td>100% 16 Feedback Kakkanad, Ernakulam</td>\n",
       "      <td>100</td>\n",
       "      <td>Kakkanad</td>\n",
       "      <td>Ernakulam</td>\n",
       "    </tr>\n",
       "    <tr>\n",
       "      <th>1</th>\n",
       "      <td>BAMS, MD - Ayurveda Medicine</td>\n",
       "      <td>12</td>\n",
       "      <td>98%</td>\n",
       "      <td>Ayurveda</td>\n",
       "      <td>98% 76 Feedback Whitefield, Bangalore</td>\n",
       "      <td>350</td>\n",
       "      <td>Whitefield</td>\n",
       "      <td>Bangalore</td>\n",
       "    </tr>\n",
       "  </tbody>\n",
       "</table>\n",
       "</div>"
      ],
      "text/plain": [
       "                  Qualification  Experience Rating    Profile  \\\n",
       "0         BHMS, MD - Homeopathy          24   100%  Homeopath   \n",
       "1  BAMS, MD - Ayurveda Medicine          12    98%   Ayurveda   \n",
       "\n",
       "                      Miscellaneous_Info  Fees    Locality        City  \n",
       "0   100% 16 Feedback Kakkanad, Ernakulam   100    Kakkanad   Ernakulam  \n",
       "1  98% 76 Feedback Whitefield, Bangalore   350  Whitefield   Bangalore  "
      ]
     },
     "execution_count": 13,
     "metadata": {},
     "output_type": "execute_result"
    }
   ],
   "source": [
    "df.head(2)"
   ]
  },
  {
   "cell_type": "markdown",
   "metadata": {},
   "source": [
    "In the column Rating  more than 50% of the values are null values so we are not replacing it with mode.we will assign a specicial value -99% to give them a special importance."
   ]
  },
  {
   "cell_type": "code",
   "execution_count": 14,
   "metadata": {},
   "outputs": [],
   "source": [
    "df['Rating'].fillna('-99%',inplace=True)\n",
    "\n",
    "# convert Rating  from object to numeric\n",
    "df['Rating']=df['Rating'].str.slice(stop=-1).astype(int)"
   ]
  },
  {
   "cell_type": "code",
   "execution_count": 15,
   "metadata": {},
   "outputs": [
    {
     "data": {
      "text/html": [
       "<div>\n",
       "<style scoped>\n",
       "    .dataframe tbody tr th:only-of-type {\n",
       "        vertical-align: middle;\n",
       "    }\n",
       "\n",
       "    .dataframe tbody tr th {\n",
       "        vertical-align: top;\n",
       "    }\n",
       "\n",
       "    .dataframe thead th {\n",
       "        text-align: right;\n",
       "    }\n",
       "</style>\n",
       "<table border=\"1\" class=\"dataframe\">\n",
       "  <thead>\n",
       "    <tr style=\"text-align: right;\">\n",
       "      <th></th>\n",
       "      <th>Qualification</th>\n",
       "      <th>Experience</th>\n",
       "      <th>Rating</th>\n",
       "      <th>Profile</th>\n",
       "      <th>Miscellaneous_Info</th>\n",
       "      <th>Fees</th>\n",
       "      <th>Locality</th>\n",
       "      <th>City</th>\n",
       "    </tr>\n",
       "  </thead>\n",
       "  <tbody>\n",
       "    <tr>\n",
       "      <th>0</th>\n",
       "      <td>BHMS, MD - Homeopathy</td>\n",
       "      <td>24</td>\n",
       "      <td>100</td>\n",
       "      <td>Homeopath</td>\n",
       "      <td>100% 16 Feedback Kakkanad, Ernakulam</td>\n",
       "      <td>100</td>\n",
       "      <td>Kakkanad</td>\n",
       "      <td>Ernakulam</td>\n",
       "    </tr>\n",
       "    <tr>\n",
       "      <th>1</th>\n",
       "      <td>BAMS, MD - Ayurveda Medicine</td>\n",
       "      <td>12</td>\n",
       "      <td>98</td>\n",
       "      <td>Ayurveda</td>\n",
       "      <td>98% 76 Feedback Whitefield, Bangalore</td>\n",
       "      <td>350</td>\n",
       "      <td>Whitefield</td>\n",
       "      <td>Bangalore</td>\n",
       "    </tr>\n",
       "  </tbody>\n",
       "</table>\n",
       "</div>"
      ],
      "text/plain": [
       "                  Qualification  Experience  Rating    Profile  \\\n",
       "0         BHMS, MD - Homeopathy          24     100  Homeopath   \n",
       "1  BAMS, MD - Ayurveda Medicine          12      98   Ayurveda   \n",
       "\n",
       "                      Miscellaneous_Info  Fees    Locality        City  \n",
       "0   100% 16 Feedback Kakkanad, Ernakulam   100    Kakkanad   Ernakulam  \n",
       "1  98% 76 Feedback Whitefield, Bangalore   350  Whitefield   Bangalore  "
      ]
     },
     "execution_count": 15,
     "metadata": {},
     "output_type": "execute_result"
    }
   ],
   "source": [
    "df.head(2)"
   ]
  },
  {
   "cell_type": "code",
   "execution_count": 16,
   "metadata": {},
   "outputs": [
    {
     "name": "stdout",
     "output_type": "stream",
     "text": [
      "0-9% 1\n",
      "10-19% 0\n",
      "20-29% 0\n",
      "30-39% 3\n",
      "40-49% 4\n",
      "50-59% 12\n",
      "And so on...\n"
     ]
    }
   ],
   "source": [
    "print(\"0-9%\",len(df[(df['Rating']>0) & (df['Rating']<10)]))\n",
    "print(\"10-19%\",len(df[(df['Rating']>=10) & (df['Rating']<20)]))\n",
    "print(\"20-29%\",len(df[(df['Rating']>=20) & (df['Rating']<30)]))\n",
    "print(\"30-39%\",len(df[(df['Rating']>=30) & (df['Rating']<40)]))\n",
    "print(\"40-49%\",len(df[(df['Rating']>=40) & (df['Rating']<50)]))\n",
    "print(\"50-59%\",len(df[(df['Rating']>=50) & (df['Rating']<60)]))\n",
    "print(\"And so on...\")\n",
    "\n"
   ]
  },
  {
   "cell_type": "markdown",
   "metadata": {},
   "source": [
    "Now we are going to create bins of size 10(10 groups).Null values falls under the group 0. 0-9%  will be class 1,10-19% will be class 2 and so on."
   ]
  },
  {
   "cell_type": "code",
   "execution_count": 17,
   "metadata": {},
   "outputs": [],
   "source": [
    "bins=[-99,0,10,20,30,40,50,60,70,80,90,100]\n",
    "labels=[i for i in range(11)]\n",
    "df['Rating']=pd.cut(df['Rating'],bins=bins,labels=labels,include_lowest=True)\n"
   ]
  },
  {
   "cell_type": "code",
   "execution_count": 18,
   "metadata": {},
   "outputs": [
    {
     "data": {
      "text/plain": [
       "0     3302\n",
       "1        1\n",
       "2        0\n",
       "3        0\n",
       "4        4\n",
       "5        3\n",
       "6       19\n",
       "7       32\n",
       "8       98\n",
       "9      280\n",
       "10    2222\n",
       "Name: Rating, dtype: int64"
      ]
     },
     "execution_count": 18,
     "metadata": {},
     "output_type": "execute_result"
    }
   ],
   "source": [
    "df['Rating'].value_counts().sort_index()"
   ]
  },
  {
   "cell_type": "code",
   "execution_count": 19,
   "metadata": {},
   "outputs": [
    {
     "data": {
      "text/html": [
       "<div>\n",
       "<style scoped>\n",
       "    .dataframe tbody tr th:only-of-type {\n",
       "        vertical-align: middle;\n",
       "    }\n",
       "\n",
       "    .dataframe tbody tr th {\n",
       "        vertical-align: top;\n",
       "    }\n",
       "\n",
       "    .dataframe thead th {\n",
       "        text-align: right;\n",
       "    }\n",
       "</style>\n",
       "<table border=\"1\" class=\"dataframe\">\n",
       "  <thead>\n",
       "    <tr style=\"text-align: right;\">\n",
       "      <th></th>\n",
       "      <th>Qualification</th>\n",
       "      <th>Experience</th>\n",
       "      <th>Rating</th>\n",
       "      <th>Profile</th>\n",
       "      <th>Miscellaneous_Info</th>\n",
       "      <th>Fees</th>\n",
       "      <th>Locality</th>\n",
       "      <th>City</th>\n",
       "    </tr>\n",
       "  </thead>\n",
       "  <tbody>\n",
       "    <tr>\n",
       "      <th>0</th>\n",
       "      <td>BHMS, MD - Homeopathy</td>\n",
       "      <td>24</td>\n",
       "      <td>10</td>\n",
       "      <td>Homeopath</td>\n",
       "      <td>100% 16 Feedback Kakkanad, Ernakulam</td>\n",
       "      <td>100</td>\n",
       "      <td>Kakkanad</td>\n",
       "      <td>Ernakulam</td>\n",
       "    </tr>\n",
       "    <tr>\n",
       "      <th>1</th>\n",
       "      <td>BAMS, MD - Ayurveda Medicine</td>\n",
       "      <td>12</td>\n",
       "      <td>10</td>\n",
       "      <td>Ayurveda</td>\n",
       "      <td>98% 76 Feedback Whitefield, Bangalore</td>\n",
       "      <td>350</td>\n",
       "      <td>Whitefield</td>\n",
       "      <td>Bangalore</td>\n",
       "    </tr>\n",
       "    <tr>\n",
       "      <th>2</th>\n",
       "      <td>MBBS, MS - Otorhinolaryngology</td>\n",
       "      <td>9</td>\n",
       "      <td>0</td>\n",
       "      <td>ENT Specialist</td>\n",
       "      <td>NaN</td>\n",
       "      <td>300</td>\n",
       "      <td>Mathikere - BEL</td>\n",
       "      <td>Bangalore</td>\n",
       "    </tr>\n",
       "    <tr>\n",
       "      <th>3</th>\n",
       "      <td>BSc - Zoology, BAMS</td>\n",
       "      <td>12</td>\n",
       "      <td>0</td>\n",
       "      <td>Ayurveda</td>\n",
       "      <td>Bannerghatta Road, Bangalore ₹250 Available on...</td>\n",
       "      <td>250</td>\n",
       "      <td>Bannerghatta Road</td>\n",
       "      <td>Bangalore</td>\n",
       "    </tr>\n",
       "    <tr>\n",
       "      <th>4</th>\n",
       "      <td>BAMS</td>\n",
       "      <td>20</td>\n",
       "      <td>10</td>\n",
       "      <td>Ayurveda</td>\n",
       "      <td>100% 4 Feedback Keelkattalai, Chennai</td>\n",
       "      <td>250</td>\n",
       "      <td>Keelkattalai</td>\n",
       "      <td>Chennai</td>\n",
       "    </tr>\n",
       "    <tr>\n",
       "      <th>...</th>\n",
       "      <td>...</td>\n",
       "      <td>...</td>\n",
       "      <td>...</td>\n",
       "      <td>...</td>\n",
       "      <td>...</td>\n",
       "      <td>...</td>\n",
       "      <td>...</td>\n",
       "      <td>...</td>\n",
       "    </tr>\n",
       "    <tr>\n",
       "      <th>5956</th>\n",
       "      <td>MBBS, MS - ENT</td>\n",
       "      <td>19</td>\n",
       "      <td>10</td>\n",
       "      <td>ENT Specialist</td>\n",
       "      <td>98% 45 Feedback Basavanagudi, Bangalore</td>\n",
       "      <td>300</td>\n",
       "      <td>Basavanagudi</td>\n",
       "      <td>Bangalore</td>\n",
       "    </tr>\n",
       "    <tr>\n",
       "      <th>5957</th>\n",
       "      <td>MBBS</td>\n",
       "      <td>33</td>\n",
       "      <td>0</td>\n",
       "      <td>General Medicine</td>\n",
       "      <td>NaN</td>\n",
       "      <td>100</td>\n",
       "      <td>Nungambakkam</td>\n",
       "      <td>Chennai</td>\n",
       "    </tr>\n",
       "    <tr>\n",
       "      <th>5958</th>\n",
       "      <td>MBBS</td>\n",
       "      <td>41</td>\n",
       "      <td>10</td>\n",
       "      <td>General Medicine</td>\n",
       "      <td>97% 11 Feedback Greater Kailash Part 2, Delhi</td>\n",
       "      <td>600</td>\n",
       "      <td>Greater Kailash Part 2</td>\n",
       "      <td>Delhi</td>\n",
       "    </tr>\n",
       "    <tr>\n",
       "      <th>5959</th>\n",
       "      <td>MBBS, MD - General Medicine</td>\n",
       "      <td>15</td>\n",
       "      <td>9</td>\n",
       "      <td>General Medicine</td>\n",
       "      <td>General Medical Consultation Viral Fever Treat...</td>\n",
       "      <td>100</td>\n",
       "      <td>Vileparle West</td>\n",
       "      <td>Mumbai</td>\n",
       "    </tr>\n",
       "    <tr>\n",
       "      <th>5960</th>\n",
       "      <td>BDS, MDS - Orthodontics</td>\n",
       "      <td>17</td>\n",
       "      <td>10</td>\n",
       "      <td>Dentist</td>\n",
       "      <td>Acrylic Partial Denture Crowns and Bridges Fix...</td>\n",
       "      <td>200</td>\n",
       "      <td>Pitampura</td>\n",
       "      <td>Delhi</td>\n",
       "    </tr>\n",
       "  </tbody>\n",
       "</table>\n",
       "<p>5961 rows × 8 columns</p>\n",
       "</div>"
      ],
      "text/plain": [
       "                       Qualification  Experience Rating           Profile  \\\n",
       "0              BHMS, MD - Homeopathy          24     10         Homeopath   \n",
       "1       BAMS, MD - Ayurveda Medicine          12     10          Ayurveda   \n",
       "2     MBBS, MS - Otorhinolaryngology           9      0    ENT Specialist   \n",
       "3                BSc - Zoology, BAMS          12      0          Ayurveda   \n",
       "4                               BAMS          20     10          Ayurveda   \n",
       "...                              ...         ...    ...               ...   \n",
       "5956                  MBBS, MS - ENT          19     10    ENT Specialist   \n",
       "5957                            MBBS          33      0  General Medicine   \n",
       "5958                            MBBS          41     10  General Medicine   \n",
       "5959     MBBS, MD - General Medicine          15      9  General Medicine   \n",
       "5960         BDS, MDS - Orthodontics          17     10           Dentist   \n",
       "\n",
       "                                     Miscellaneous_Info  Fees  \\\n",
       "0                  100% 16 Feedback Kakkanad, Ernakulam   100   \n",
       "1                 98% 76 Feedback Whitefield, Bangalore   350   \n",
       "2                                                   NaN   300   \n",
       "3     Bannerghatta Road, Bangalore ₹250 Available on...   250   \n",
       "4                 100% 4 Feedback Keelkattalai, Chennai   250   \n",
       "...                                                 ...   ...   \n",
       "5956            98% 45 Feedback Basavanagudi, Bangalore   300   \n",
       "5957                                                NaN   100   \n",
       "5958      97% 11 Feedback Greater Kailash Part 2, Delhi   600   \n",
       "5959  General Medical Consultation Viral Fever Treat...   100   \n",
       "5960  Acrylic Partial Denture Crowns and Bridges Fix...   200   \n",
       "\n",
       "                    Locality        City  \n",
       "0                   Kakkanad   Ernakulam  \n",
       "1                 Whitefield   Bangalore  \n",
       "2            Mathikere - BEL   Bangalore  \n",
       "3          Bannerghatta Road   Bangalore  \n",
       "4               Keelkattalai     Chennai  \n",
       "...                      ...         ...  \n",
       "5956            Basavanagudi   Bangalore  \n",
       "5957            Nungambakkam     Chennai  \n",
       "5958  Greater Kailash Part 2       Delhi  \n",
       "5959          Vileparle West      Mumbai  \n",
       "5960               Pitampura       Delhi  \n",
       "\n",
       "[5961 rows x 8 columns]"
      ]
     },
     "execution_count": 19,
     "metadata": {},
     "output_type": "execute_result"
    }
   ],
   "source": [
    "df"
   ]
  },
  {
   "cell_type": "code",
   "execution_count": 20,
   "metadata": {},
   "outputs": [
    {
     "data": {
      "text/plain": [
       "array([' Ernakulam', ' Bangalore', ' Chennai', ' Delhi', ' Hyderabad',\n",
       "       ' Coimbatore', ' Mumbai', ' Thiruvananthapuram', 'Unknown',\n",
       "       ' Sector 5', nan], dtype=object)"
      ]
     },
     "execution_count": 20,
     "metadata": {},
     "output_type": "execute_result"
    }
   ],
   "source": [
    "df['City'].unique()"
   ]
  },
  {
   "cell_type": "code",
   "execution_count": 21,
   "metadata": {},
   "outputs": [],
   "source": [
    "import re\n",
    "df['City']=df['City'].apply(lambda x: re.sub(' +','',str(x)))"
   ]
  },
  {
   "cell_type": "code",
   "execution_count": 22,
   "metadata": {},
   "outputs": [
    {
     "data": {
      "text/plain": [
       "Bangalore             1258\n",
       "Mumbai                1219\n",
       "Delhi                 1184\n",
       "Hyderabad              951\n",
       "Chennai                855\n",
       "Coimbatore             228\n",
       "Ernakulam              153\n",
       "Thiruvananthapuram      86\n",
       "Unknown                 25\n",
       "nan                      1\n",
       "Sector5                  1\n",
       "Name: City, dtype: int64"
      ]
     },
     "execution_count": 22,
     "metadata": {},
     "output_type": "execute_result"
    }
   ],
   "source": [
    "df['City'].value_counts()"
   ]
  },
  {
   "cell_type": "code",
   "execution_count": 23,
   "metadata": {},
   "outputs": [
    {
     "data": {
      "text/html": [
       "<div>\n",
       "<style scoped>\n",
       "    .dataframe tbody tr th:only-of-type {\n",
       "        vertical-align: middle;\n",
       "    }\n",
       "\n",
       "    .dataframe tbody tr th {\n",
       "        vertical-align: top;\n",
       "    }\n",
       "\n",
       "    .dataframe thead th {\n",
       "        text-align: right;\n",
       "    }\n",
       "</style>\n",
       "<table border=\"1\" class=\"dataframe\">\n",
       "  <thead>\n",
       "    <tr style=\"text-align: right;\">\n",
       "      <th></th>\n",
       "      <th>Qualification</th>\n",
       "      <th>Experience</th>\n",
       "      <th>Rating</th>\n",
       "      <th>Profile</th>\n",
       "      <th>Miscellaneous_Info</th>\n",
       "      <th>Fees</th>\n",
       "      <th>Locality</th>\n",
       "      <th>City</th>\n",
       "    </tr>\n",
       "  </thead>\n",
       "  <tbody>\n",
       "    <tr>\n",
       "      <th>2169</th>\n",
       "      <td>BDS</td>\n",
       "      <td>11</td>\n",
       "      <td>0</td>\n",
       "      <td>Dentist</td>\n",
       "      <td>NaN</td>\n",
       "      <td>250</td>\n",
       "      <td>Dwarka</td>\n",
       "      <td>Sector5</td>\n",
       "    </tr>\n",
       "    <tr>\n",
       "      <th>3980</th>\n",
       "      <td>BDS</td>\n",
       "      <td>23</td>\n",
       "      <td>0</td>\n",
       "      <td>Dentist</td>\n",
       "      <td>NaN</td>\n",
       "      <td>250</td>\n",
       "      <td>e</td>\n",
       "      <td>nan</td>\n",
       "    </tr>\n",
       "  </tbody>\n",
       "</table>\n",
       "</div>"
      ],
      "text/plain": [
       "     Qualification  Experience Rating  Profile Miscellaneous_Info  Fees  \\\n",
       "2169           BDS          11      0  Dentist                NaN   250   \n",
       "3980           BDS          23      0  Dentist                NaN   250   \n",
       "\n",
       "     Locality     City  \n",
       "2169   Dwarka  Sector5  \n",
       "3980        e      nan  "
      ]
     },
     "execution_count": 23,
     "metadata": {},
     "output_type": "execute_result"
    }
   ],
   "source": [
    "#City contains some improper data\n",
    "df[(df['City']=='nan') | (df['City']=='Sector5')]"
   ]
  },
  {
   "cell_type": "markdown",
   "metadata": {},
   "source": [
    "The locality Dwaraka is in the City Delhi,so we have to replace Sector5 with Delhi."
   ]
  },
  {
   "cell_type": "markdown",
   "metadata": {},
   "source": [
    "And where the City is nan,locality is marked as e.so we have to impute \"unknown\" to both of them."
   ]
  },
  {
   "cell_type": "code",
   "execution_count": 24,
   "metadata": {},
   "outputs": [],
   "source": [
    "df['City']=np.where(df['City']=='Sector5','Delhi',df['City'])\n",
    "\n",
    "df['Locality'].loc[3980]='Unknown'\n",
    "df['City'].loc[3980]='Unknown'"
   ]
  },
  {
   "cell_type": "code",
   "execution_count": 25,
   "metadata": {},
   "outputs": [
    {
     "data": {
      "text/html": [
       "<div>\n",
       "<style scoped>\n",
       "    .dataframe tbody tr th:only-of-type {\n",
       "        vertical-align: middle;\n",
       "    }\n",
       "\n",
       "    .dataframe tbody tr th {\n",
       "        vertical-align: top;\n",
       "    }\n",
       "\n",
       "    .dataframe thead th {\n",
       "        text-align: right;\n",
       "    }\n",
       "</style>\n",
       "<table border=\"1\" class=\"dataframe\">\n",
       "  <thead>\n",
       "    <tr style=\"text-align: right;\">\n",
       "      <th></th>\n",
       "      <th>Qualification</th>\n",
       "      <th>Experience</th>\n",
       "      <th>Rating</th>\n",
       "      <th>Profile</th>\n",
       "      <th>Miscellaneous_Info</th>\n",
       "      <th>Fees</th>\n",
       "      <th>Locality</th>\n",
       "      <th>City</th>\n",
       "    </tr>\n",
       "  </thead>\n",
       "  <tbody>\n",
       "    <tr>\n",
       "      <th>0</th>\n",
       "      <td>BHMS, MD - Homeopathy</td>\n",
       "      <td>24</td>\n",
       "      <td>10</td>\n",
       "      <td>Homeopath</td>\n",
       "      <td>100% 16 Feedback Kakkanad, Ernakulam</td>\n",
       "      <td>100</td>\n",
       "      <td>Kakkanad</td>\n",
       "      <td>Ernakulam</td>\n",
       "    </tr>\n",
       "    <tr>\n",
       "      <th>1</th>\n",
       "      <td>BAMS, MD - Ayurveda Medicine</td>\n",
       "      <td>12</td>\n",
       "      <td>10</td>\n",
       "      <td>Ayurveda</td>\n",
       "      <td>98% 76 Feedback Whitefield, Bangalore</td>\n",
       "      <td>350</td>\n",
       "      <td>Whitefield</td>\n",
       "      <td>Bangalore</td>\n",
       "    </tr>\n",
       "    <tr>\n",
       "      <th>2</th>\n",
       "      <td>MBBS, MS - Otorhinolaryngology</td>\n",
       "      <td>9</td>\n",
       "      <td>0</td>\n",
       "      <td>ENT Specialist</td>\n",
       "      <td>NaN</td>\n",
       "      <td>300</td>\n",
       "      <td>Mathikere - BEL</td>\n",
       "      <td>Bangalore</td>\n",
       "    </tr>\n",
       "    <tr>\n",
       "      <th>3</th>\n",
       "      <td>BSc - Zoology, BAMS</td>\n",
       "      <td>12</td>\n",
       "      <td>0</td>\n",
       "      <td>Ayurveda</td>\n",
       "      <td>Bannerghatta Road, Bangalore ₹250 Available on...</td>\n",
       "      <td>250</td>\n",
       "      <td>Bannerghatta Road</td>\n",
       "      <td>Bangalore</td>\n",
       "    </tr>\n",
       "    <tr>\n",
       "      <th>4</th>\n",
       "      <td>BAMS</td>\n",
       "      <td>20</td>\n",
       "      <td>10</td>\n",
       "      <td>Ayurveda</td>\n",
       "      <td>100% 4 Feedback Keelkattalai, Chennai</td>\n",
       "      <td>250</td>\n",
       "      <td>Keelkattalai</td>\n",
       "      <td>Chennai</td>\n",
       "    </tr>\n",
       "  </tbody>\n",
       "</table>\n",
       "</div>"
      ],
      "text/plain": [
       "                    Qualification  Experience Rating         Profile  \\\n",
       "0           BHMS, MD - Homeopathy          24     10       Homeopath   \n",
       "1    BAMS, MD - Ayurveda Medicine          12     10        Ayurveda   \n",
       "2  MBBS, MS - Otorhinolaryngology           9      0  ENT Specialist   \n",
       "3             BSc - Zoology, BAMS          12      0        Ayurveda   \n",
       "4                            BAMS          20     10        Ayurveda   \n",
       "\n",
       "                                  Miscellaneous_Info  Fees           Locality  \\\n",
       "0               100% 16 Feedback Kakkanad, Ernakulam   100           Kakkanad   \n",
       "1              98% 76 Feedback Whitefield, Bangalore   350         Whitefield   \n",
       "2                                                NaN   300    Mathikere - BEL   \n",
       "3  Bannerghatta Road, Bangalore ₹250 Available on...   250  Bannerghatta Road   \n",
       "4              100% 4 Feedback Keelkattalai, Chennai   250       Keelkattalai   \n",
       "\n",
       "        City  \n",
       "0  Ernakulam  \n",
       "1  Bangalore  \n",
       "2  Bangalore  \n",
       "3  Bangalore  \n",
       "4    Chennai  "
      ]
     },
     "execution_count": 25,
     "metadata": {},
     "output_type": "execute_result"
    }
   ],
   "source": [
    "df.head()"
   ]
  },
  {
   "cell_type": "markdown",
   "metadata": {},
   "source": [
    "## Data Visualization"
   ]
  },
  {
   "cell_type": "markdown",
   "metadata": {},
   "source": [
    "### Univariate Analysis"
   ]
  },
  {
   "cell_type": "code",
   "execution_count": 26,
   "metadata": {},
   "outputs": [
    {
     "data": {
      "text/plain": [
       "Dentist             1397\n",
       "General Medicine    1173\n",
       "Dermatologists      1034\n",
       "Homeopath            843\n",
       "Ayurveda             786\n",
       "ENT Specialist       728\n",
       "Name: Profile, dtype: int64"
      ]
     },
     "execution_count": 26,
     "metadata": {},
     "output_type": "execute_result"
    }
   ],
   "source": [
    "df['Profile'].value_counts()"
   ]
  },
  {
   "cell_type": "code",
   "execution_count": 27,
   "metadata": {},
   "outputs": [
    {
     "data": {
      "image/png": "[encoded data removed]",
      "text/plain": [
       "<Figure size 432x288 with 1 Axes>"
      ]
     },
     "metadata": {
      "needs_background": "light"
     },
     "output_type": "display_data"
    },
    {
     "data": {
      "text/plain": [
       "<Figure size 576x576 with 0 Axes>"
      ]
     },
     "metadata": {},
     "output_type": "display_data"
    }
   ],
   "source": [
    "\n",
    "plt.xticks(rotation=45)\n",
    "sns.countplot(df['Profile'])\n",
    "plt.figure(figsize=(8,8))\n",
    "sns.set(font_scale=1)\n",
    "plt.show()"
   ]
  },
  {
   "cell_type": "markdown",
   "metadata": {},
   "source": [
    "* In the dataset most of the doctors are dentist.ENTSpecialists are less in number."
   ]
  },
  {
   "cell_type": "code",
   "execution_count": 28,
   "metadata": {},
   "outputs": [
    {
     "data": {
      "image/png": "[encoded data removed]",
      "text/plain": [
       "<Figure size 432x288 with 1 Axes>"
      ]
     },
     "metadata": {},
     "output_type": "display_data"
    },
    {
     "data": {
      "text/plain": [
       "<Figure size 576x576 with 0 Axes>"
      ]
     },
     "metadata": {},
     "output_type": "display_data"
    }
   ],
   "source": [
    "sns.countplot(df['Rating'])\n",
    "plt.figure(figsize=(8,8))\n",
    "plt.show()"
   ]
  },
  {
   "cell_type": "markdown",
   "metadata": {},
   "source": [
    "* Most of the Doctors got rating \"0\".Second most is \"10\". 2000 above doctors got rating 10."
   ]
  },
  {
   "cell_type": "code",
   "execution_count": 29,
   "metadata": {},
   "outputs": [
    {
     "data": {
      "image/png": "[encoded data removed]",
      "text/plain": [
       "<Figure size 432x288 with 1 Axes>"
      ]
     },
     "metadata": {},
     "output_type": "display_data"
    },
    {
     "data": {
      "text/plain": [
       "<Figure size 1080x1080 with 0 Axes>"
      ]
     },
     "metadata": {},
     "output_type": "display_data"
    }
   ],
   "source": [
    "plt.xticks(rotation=90)\n",
    "sns.set(font_scale=1)\n",
    "sns.countplot(df['Fees'])\n",
    "plt.figure(figsize=(15,15))\n",
    "plt.show()"
   ]
  },
  {
   "cell_type": "markdown",
   "metadata": {},
   "source": [
    "* The maximum fees the doctor recieving from patients=900\n",
    "* The minimum fees the doctor recieving from patients=50"
   ]
  },
  {
   "cell_type": "code",
   "execution_count": 30,
   "metadata": {},
   "outputs": [
    {
     "data": {
      "image/png": "[encoded data removed]",
      "text/plain": [
       "<Figure size 432x288 with 1 Axes>"
      ]
     },
     "metadata": {},
     "output_type": "display_data"
    },
    {
     "data": {
      "text/plain": [
       "<Figure size 576x576 with 0 Axes>"
      ]
     },
     "metadata": {},
     "output_type": "display_data"
    }
   ],
   "source": [
    "plt.xticks(rotation=90)\n",
    "sns.countplot(df['City'])\n",
    "plt.figure(figsize=(8,8))\n",
    "plt.show()"
   ]
  },
  {
   "cell_type": "markdown",
   "metadata": {},
   "source": [
    "### Bivariate Analysis"
   ]
  },
  {
   "cell_type": "code",
   "execution_count": 31,
   "metadata": {},
   "outputs": [
    {
     "data": {
      "image/png": "[encoded data removed]",
      "text/plain": [
       "<Figure size 576x576 with 1 Axes>"
      ]
     },
     "metadata": {},
     "output_type": "display_data"
    }
   ],
   "source": [
    "plt.figure(figsize=(8,8))\n",
    "sns.barplot(x='Profile',y='Fees',data=df)\n",
    "plt.title('Profile Vs Fees')\n",
    "plt.xticks(rotation=45)\n",
    "plt.show()"
   ]
  },
  {
   "cell_type": "markdown",
   "metadata": {},
   "source": [
    "* Doctors having the profile Dermatologist charging more fees for consultation compared to others.ENT specialist also charge more fees.\n",
    "* Dentist and Ayurveda doctors charging minimum amount."
   ]
  },
  {
   "cell_type": "code",
   "execution_count": 32,
   "metadata": {},
   "outputs": [
    {
     "data": {
      "image/png": "[encoded data removed]",
      "text/plain": [
       "<Figure size 576x576 with 1 Axes>"
      ]
     },
     "metadata": {},
     "output_type": "display_data"
    }
   ],
   "source": [
    "plt.figure(figsize=(8,8))\n",
    "sns.barplot(x='City',y='Fees',data=df)\n",
    "plt.title('City Vs Fees')\n",
    "plt.xticks(rotation=90)\n",
    "plt.show()"
   ]
  },
  {
   "cell_type": "markdown",
   "metadata": {},
   "source": [
    "* From the graph it is clear that the big cities like Bangalore,Chennai,Delhi,Hyderabad,Mumbai Doctor's charging high fees as usual."
   ]
  },
  {
   "cell_type": "code",
   "execution_count": 33,
   "metadata": {},
   "outputs": [
    {
     "data": {
      "image/png": "[encoded data removed]",
      "text/plain": [
       "<Figure size 720x720 with 1 Axes>"
      ]
     },
     "metadata": {},
     "output_type": "display_data"
    }
   ],
   "source": [
    "plt.figure(figsize=(10,10))\n",
    "plt.title('Experience Vs Fees')\n",
    "ax=sns.lineplot(x='Experience',y='Fees',data=df)\n",
    "plt.show()"
   ]
  },
  {
   "cell_type": "markdown",
   "metadata": {},
   "source": [
    "* We can't relate  experience and fees.Up to 30 it is clear that Fees increases with Experience,then fees decreasing again increasing.\n",
    "  So we can't conclude that Fees increases with Experience of doctor.\n"
   ]
  },
  {
   "cell_type": "code",
   "execution_count": 34,
   "metadata": {},
   "outputs": [
    {
     "data": {
      "image/png": "[encoded data removed]",
      "text/plain": [
       "<Figure size 720x720 with 1 Axes>"
      ]
     },
     "metadata": {},
     "output_type": "display_data"
    }
   ],
   "source": [
    "plt.figure(figsize=(10,10))\n",
    "plt.title('Rating Vs Fees')\n",
    "sns.barplot(x='Rating',y='Fees',data=df)\n",
    "plt.show()\n"
   ]
  },
  {
   "cell_type": "markdown",
   "metadata": {},
   "source": [
    "* Fees is maximum at the 5 th bin.where rating percentage is 40-49%.So we cant say that patients are giving higher rating for doctors  who charging more fees.But from the 7,8,9,10 bins we can say that patients giving higher rating to those doctors charging less fees,because as fees decreases rating increases.\n",
    "\n",
    "  When the fees charged high, the percentage of rating is between 30-60%"
   ]
  },
  {
   "cell_type": "code",
   "execution_count": 35,
   "metadata": {},
   "outputs": [
    {
     "data": {
      "image/png": "[encoded data removed]",
      "text/plain": [
       "<Figure size 720x720 with 1 Axes>"
      ]
     },
     "metadata": {},
     "output_type": "display_data"
    }
   ],
   "source": [
    "plt.figure(figsize=(10,10))\n",
    "plt.title('Rating wrt Experience')\n",
    "sns.barplot(x='Rating',y='Experience',data=df)\n",
    "plt.show()"
   ]
  },
  {
   "cell_type": "markdown",
   "metadata": {},
   "source": [
    "* From this we can see that as experience increases rating is not increasing.For more than 30 years experienced doctor the percentage of rating is only 40-59%,where as doctor having less than 20 years experience got rating 10.\n",
    "\n",
    "  so we can conclude that Experience is not a matter for rating."
   ]
  },
  {
   "cell_type": "markdown",
   "metadata": {},
   "source": [
    "### Multivariate Analysis"
   ]
  },
  {
   "cell_type": "code",
   "execution_count": 36,
   "metadata": {},
   "outputs": [
    {
     "data": {
      "image/png": "[encoded data removed]",
      "text/plain": [
       "<Figure size 720x720 with 2 Axes>"
      ]
     },
     "metadata": {},
     "output_type": "display_data"
    }
   ],
   "source": [
    "corr_matrix=df.corr()\n",
    "plt.figure(figsize=(10,10))\n",
    "sns.heatmap(corr_matrix,annot=True)\n",
    "plt.title(\"Correlation Matrix\")\n",
    "plt.show()"
   ]
  },
  {
   "cell_type": "markdown",
   "metadata": {},
   "source": [
    "* Experience have lowest correlation with Fees.Qualification  have good correlation with Fees."
   ]
  },
  {
   "cell_type": "code",
   "execution_count": 37,
   "metadata": {},
   "outputs": [],
   "source": [
    "df_float=df.select_dtypes(include=[np.number])"
   ]
  },
  {
   "cell_type": "markdown",
   "metadata": {},
   "source": [
    "### Checking Outliers"
   ]
  },
  {
   "cell_type": "code",
   "execution_count": 38,
   "metadata": {},
   "outputs": [
    {
     "data": {
      "image/png": "[encoded data removed]",
      "text/plain": [
       "<Figure size 432x288 with 1 Axes>"
      ]
     },
     "metadata": {},
     "output_type": "display_data"
    },
    {
     "data": {
      "image/png": "[encoded data removed]",
      "text/plain": [
       "<Figure size 432x288 with 1 Axes>"
      ]
     },
     "metadata": {},
     "output_type": "display_data"
    },
    {
     "data": {
      "image/png": "[encoded data removed]",
      "text/plain": [
       "<Figure size 432x288 with 1 Axes>"
      ]
     },
     "metadata": {},
     "output_type": "display_data"
    }
   ],
   "source": [
    "for i in [\"Experience\",\"Rating\",\"Fees\"]:\n",
    "    sns.boxplot(df[i])\n",
    "    plt.show()"
   ]
  },
  {
   "cell_type": "markdown",
   "metadata": {},
   "source": [
    "There are outliers in the column experience."
   ]
  },
  {
   "cell_type": "raw",
   "metadata": {},
   "source": [
    "Z score test"
   ]
  },
  {
   "cell_type": "code",
   "execution_count": 39,
   "metadata": {},
   "outputs": [
    {
     "data": {
      "text/plain": [
       "array([[0.60097885, 1.08926083],\n",
       "       [0.47604029, 0.22029544],\n",
       "       [0.74529508, 0.04161581],\n",
       "       ...,\n",
       "       [2.12675597, 1.52985171],\n",
       "       [0.20678551, 1.08926083],\n",
       "       [0.02728232, 0.56543832]])"
      ]
     },
     "execution_count": 39,
     "metadata": {},
     "output_type": "execute_result"
    }
   ],
   "source": [
    "from scipy.stats import zscore\n",
    "z=np.abs(zscore(df_float))\n",
    "z"
   ]
  },
  {
   "cell_type": "code",
   "execution_count": 40,
   "metadata": {},
   "outputs": [
    {
     "name": "stdout",
     "output_type": "stream",
     "text": [
      "(array([ 105,  110,  183,  275,  293,  325,  372,  901,  987, 1009, 1111,\n",
      "       1314, 1631, 1860, 1981, 2023, 2062, 2165, 2202, 2252, 2262, 2281,\n",
      "       2393, 2428, 2522, 2623, 2631, 2708, 3180, 3365, 3478, 3493, 3608,\n",
      "       3942, 3960, 4040, 4167, 4212, 4257, 4344, 4581, 4730, 4763, 4775,\n",
      "       4835, 5195, 5250, 5265, 5277, 5311, 5410, 5422, 5587, 5637, 5664,\n",
      "       5720, 5807, 5942], dtype=int64), array([0, 0, 0, 1, 1, 0, 0, 0, 1, 0, 0, 1, 1, 0, 0, 0, 0, 1, 0, 1, 0, 0,\n",
      "       1, 1, 1, 1, 0, 1, 0, 1, 0, 0, 0, 0, 0, 1, 0, 0, 0, 0, 1, 1, 0, 0,\n",
      "       1, 1, 1, 0, 0, 1, 0, 0, 0, 0, 0, 0, 0, 0], dtype=int64))\n"
     ]
    }
   ],
   "source": [
    "threshold=3\n",
    "print(np.where(z>3))"
   ]
  },
  {
   "cell_type": "code",
   "execution_count": 41,
   "metadata": {},
   "outputs": [],
   "source": [
    "df_new=df[(z<3).all(axis=1)]"
   ]
  },
  {
   "cell_type": "code",
   "execution_count": 42,
   "metadata": {},
   "outputs": [
    {
     "data": {
      "text/plain": [
       "(5903, 8)"
      ]
     },
     "execution_count": 42,
     "metadata": {},
     "output_type": "execute_result"
    }
   ],
   "source": [
    "df_new.shape"
   ]
  },
  {
   "cell_type": "code",
   "execution_count": 43,
   "metadata": {},
   "outputs": [],
   "source": [
    "df=df_new"
   ]
  },
  {
   "cell_type": "code",
   "execution_count": 44,
   "metadata": {},
   "outputs": [
    {
     "data": {
      "text/plain": [
       "(5903, 8)"
      ]
     },
     "execution_count": 44,
     "metadata": {},
     "output_type": "execute_result"
    }
   ],
   "source": [
    "df.shape"
   ]
  },
  {
   "cell_type": "code",
   "execution_count": 45,
   "metadata": {},
   "outputs": [
    {
     "data": {
      "text/html": [
       "<div>\n",
       "<style scoped>\n",
       "    .dataframe tbody tr th:only-of-type {\n",
       "        vertical-align: middle;\n",
       "    }\n",
       "\n",
       "    .dataframe tbody tr th {\n",
       "        vertical-align: top;\n",
       "    }\n",
       "\n",
       "    .dataframe thead th {\n",
       "        text-align: right;\n",
       "    }\n",
       "</style>\n",
       "<table border=\"1\" class=\"dataframe\">\n",
       "  <thead>\n",
       "    <tr style=\"text-align: right;\">\n",
       "      <th></th>\n",
       "      <th>Qualification</th>\n",
       "      <th>Experience</th>\n",
       "      <th>Rating</th>\n",
       "      <th>Profile</th>\n",
       "      <th>Miscellaneous_Info</th>\n",
       "      <th>Fees</th>\n",
       "      <th>Locality</th>\n",
       "      <th>City</th>\n",
       "    </tr>\n",
       "  </thead>\n",
       "  <tbody>\n",
       "    <tr>\n",
       "      <th>0</th>\n",
       "      <td>BHMS, MD - Homeopathy</td>\n",
       "      <td>24</td>\n",
       "      <td>10</td>\n",
       "      <td>Homeopath</td>\n",
       "      <td>100% 16 Feedback Kakkanad, Ernakulam</td>\n",
       "      <td>100</td>\n",
       "      <td>Kakkanad</td>\n",
       "      <td>Ernakulam</td>\n",
       "    </tr>\n",
       "    <tr>\n",
       "      <th>1</th>\n",
       "      <td>BAMS, MD - Ayurveda Medicine</td>\n",
       "      <td>12</td>\n",
       "      <td>10</td>\n",
       "      <td>Ayurveda</td>\n",
       "      <td>98% 76 Feedback Whitefield, Bangalore</td>\n",
       "      <td>350</td>\n",
       "      <td>Whitefield</td>\n",
       "      <td>Bangalore</td>\n",
       "    </tr>\n",
       "    <tr>\n",
       "      <th>2</th>\n",
       "      <td>MBBS, MS - Otorhinolaryngology</td>\n",
       "      <td>9</td>\n",
       "      <td>0</td>\n",
       "      <td>ENT Specialist</td>\n",
       "      <td>NaN</td>\n",
       "      <td>300</td>\n",
       "      <td>Mathikere - BEL</td>\n",
       "      <td>Bangalore</td>\n",
       "    </tr>\n",
       "    <tr>\n",
       "      <th>3</th>\n",
       "      <td>BSc - Zoology, BAMS</td>\n",
       "      <td>12</td>\n",
       "      <td>0</td>\n",
       "      <td>Ayurveda</td>\n",
       "      <td>Bannerghatta Road, Bangalore ₹250 Available on...</td>\n",
       "      <td>250</td>\n",
       "      <td>Bannerghatta Road</td>\n",
       "      <td>Bangalore</td>\n",
       "    </tr>\n",
       "    <tr>\n",
       "      <th>4</th>\n",
       "      <td>BAMS</td>\n",
       "      <td>20</td>\n",
       "      <td>10</td>\n",
       "      <td>Ayurveda</td>\n",
       "      <td>100% 4 Feedback Keelkattalai, Chennai</td>\n",
       "      <td>250</td>\n",
       "      <td>Keelkattalai</td>\n",
       "      <td>Chennai</td>\n",
       "    </tr>\n",
       "    <tr>\n",
       "      <th>...</th>\n",
       "      <td>...</td>\n",
       "      <td>...</td>\n",
       "      <td>...</td>\n",
       "      <td>...</td>\n",
       "      <td>...</td>\n",
       "      <td>...</td>\n",
       "      <td>...</td>\n",
       "      <td>...</td>\n",
       "    </tr>\n",
       "    <tr>\n",
       "      <th>5956</th>\n",
       "      <td>MBBS, MS - ENT</td>\n",
       "      <td>19</td>\n",
       "      <td>10</td>\n",
       "      <td>ENT Specialist</td>\n",
       "      <td>98% 45 Feedback Basavanagudi, Bangalore</td>\n",
       "      <td>300</td>\n",
       "      <td>Basavanagudi</td>\n",
       "      <td>Bangalore</td>\n",
       "    </tr>\n",
       "    <tr>\n",
       "      <th>5957</th>\n",
       "      <td>MBBS</td>\n",
       "      <td>33</td>\n",
       "      <td>0</td>\n",
       "      <td>General Medicine</td>\n",
       "      <td>NaN</td>\n",
       "      <td>100</td>\n",
       "      <td>Nungambakkam</td>\n",
       "      <td>Chennai</td>\n",
       "    </tr>\n",
       "    <tr>\n",
       "      <th>5958</th>\n",
       "      <td>MBBS</td>\n",
       "      <td>41</td>\n",
       "      <td>10</td>\n",
       "      <td>General Medicine</td>\n",
       "      <td>97% 11 Feedback Greater Kailash Part 2, Delhi</td>\n",
       "      <td>600</td>\n",
       "      <td>Greater Kailash Part 2</td>\n",
       "      <td>Delhi</td>\n",
       "    </tr>\n",
       "    <tr>\n",
       "      <th>5959</th>\n",
       "      <td>MBBS, MD - General Medicine</td>\n",
       "      <td>15</td>\n",
       "      <td>9</td>\n",
       "      <td>General Medicine</td>\n",
       "      <td>General Medical Consultation Viral Fever Treat...</td>\n",
       "      <td>100</td>\n",
       "      <td>Vileparle West</td>\n",
       "      <td>Mumbai</td>\n",
       "    </tr>\n",
       "    <tr>\n",
       "      <th>5960</th>\n",
       "      <td>BDS, MDS - Orthodontics</td>\n",
       "      <td>17</td>\n",
       "      <td>10</td>\n",
       "      <td>Dentist</td>\n",
       "      <td>Acrylic Partial Denture Crowns and Bridges Fix...</td>\n",
       "      <td>200</td>\n",
       "      <td>Pitampura</td>\n",
       "      <td>Delhi</td>\n",
       "    </tr>\n",
       "  </tbody>\n",
       "</table>\n",
       "<p>5903 rows × 8 columns</p>\n",
       "</div>"
      ],
      "text/plain": [
       "                       Qualification  Experience Rating           Profile  \\\n",
       "0              BHMS, MD - Homeopathy          24     10         Homeopath   \n",
       "1       BAMS, MD - Ayurveda Medicine          12     10          Ayurveda   \n",
       "2     MBBS, MS - Otorhinolaryngology           9      0    ENT Specialist   \n",
       "3                BSc - Zoology, BAMS          12      0          Ayurveda   \n",
       "4                               BAMS          20     10          Ayurveda   \n",
       "...                              ...         ...    ...               ...   \n",
       "5956                  MBBS, MS - ENT          19     10    ENT Specialist   \n",
       "5957                            MBBS          33      0  General Medicine   \n",
       "5958                            MBBS          41     10  General Medicine   \n",
       "5959     MBBS, MD - General Medicine          15      9  General Medicine   \n",
       "5960         BDS, MDS - Orthodontics          17     10           Dentist   \n",
       "\n",
       "                                     Miscellaneous_Info  Fees  \\\n",
       "0                  100% 16 Feedback Kakkanad, Ernakulam   100   \n",
       "1                 98% 76 Feedback Whitefield, Bangalore   350   \n",
       "2                                                   NaN   300   \n",
       "3     Bannerghatta Road, Bangalore ₹250 Available on...   250   \n",
       "4                 100% 4 Feedback Keelkattalai, Chennai   250   \n",
       "...                                                 ...   ...   \n",
       "5956            98% 45 Feedback Basavanagudi, Bangalore   300   \n",
       "5957                                                NaN   100   \n",
       "5958      97% 11 Feedback Greater Kailash Part 2, Delhi   600   \n",
       "5959  General Medical Consultation Viral Fever Treat...   100   \n",
       "5960  Acrylic Partial Denture Crowns and Bridges Fix...   200   \n",
       "\n",
       "                    Locality       City  \n",
       "0                   Kakkanad  Ernakulam  \n",
       "1                 Whitefield  Bangalore  \n",
       "2            Mathikere - BEL  Bangalore  \n",
       "3          Bannerghatta Road  Bangalore  \n",
       "4               Keelkattalai    Chennai  \n",
       "...                      ...        ...  \n",
       "5956            Basavanagudi  Bangalore  \n",
       "5957            Nungambakkam    Chennai  \n",
       "5958  Greater Kailash Part 2      Delhi  \n",
       "5959          Vileparle West     Mumbai  \n",
       "5960               Pitampura      Delhi  \n",
       "\n",
       "[5903 rows x 8 columns]"
      ]
     },
     "execution_count": 45,
     "metadata": {},
     "output_type": "execute_result"
    }
   ],
   "source": [
    "df"
   ]
  },
  {
   "cell_type": "code",
   "execution_count": 46,
   "metadata": {},
   "outputs": [
    {
     "data": {
      "text/plain": [
       "array(['BHMS, MD - Homeopathy', 'BAMS, MD - Ayurveda Medicine',\n",
       "       'MBBS, MS - Otorhinolaryngology', ...,\n",
       "       'MD - Dermatology , Venereology & Leprosy, MBBS, Fellowship In Dermatosurgery',\n",
       "       'BDS, certification in smile designing',\n",
       "       'MD - Homeopathy, Post Graduate Diploma in Healthcare Management(PGDHM), DHMS (Diploma in Homeopathic Medicine and Surgery)'],\n",
       "      dtype=object)"
      ]
     },
     "execution_count": 46,
     "metadata": {},
     "output_type": "execute_result"
    }
   ],
   "source": [
    "df['Qualification'].unique()"
   ]
  },
  {
   "cell_type": "code",
   "execution_count": 47,
   "metadata": {},
   "outputs": [
    {
     "data": {
      "text/plain": [
       "2     2606\n",
       "1     1941\n",
       "3      982\n",
       "4      256\n",
       "5       83\n",
       "6       23\n",
       "7        6\n",
       "9        3\n",
       "8        2\n",
       "10       1\n",
       "Name: qualification_count, dtype: int64"
      ]
     },
     "execution_count": 47,
     "metadata": {},
     "output_type": "execute_result"
    }
   ],
   "source": [
    "df['qualification_count']=df['Qualification'].apply(lambda x:len(x.split(',')))\n",
    "df['qualification_count'].value_counts()"
   ]
  },
  {
   "cell_type": "markdown",
   "metadata": {},
   "source": [
    "Now we are going to extract relevant qualification"
   ]
  },
  {
   "cell_type": "code",
   "execution_count": 48,
   "metadata": {},
   "outputs": [],
   "source": [
    "df.drop(\"Qualification\",axis=1,inplace=True)"
   ]
  },
  {
   "cell_type": "code",
   "execution_count": 49,
   "metadata": {},
   "outputs": [
    {
     "data": {
      "text/html": [
       "<div>\n",
       "<style scoped>\n",
       "    .dataframe tbody tr th:only-of-type {\n",
       "        vertical-align: middle;\n",
       "    }\n",
       "\n",
       "    .dataframe tbody tr th {\n",
       "        vertical-align: top;\n",
       "    }\n",
       "\n",
       "    .dataframe thead th {\n",
       "        text-align: right;\n",
       "    }\n",
       "</style>\n",
       "<table border=\"1\" class=\"dataframe\">\n",
       "  <thead>\n",
       "    <tr style=\"text-align: right;\">\n",
       "      <th></th>\n",
       "      <th>Experience</th>\n",
       "      <th>Rating</th>\n",
       "      <th>Profile</th>\n",
       "      <th>Miscellaneous_Info</th>\n",
       "      <th>Fees</th>\n",
       "      <th>Locality</th>\n",
       "      <th>City</th>\n",
       "      <th>qualification_count</th>\n",
       "    </tr>\n",
       "  </thead>\n",
       "  <tbody>\n",
       "    <tr>\n",
       "      <th>0</th>\n",
       "      <td>24</td>\n",
       "      <td>10</td>\n",
       "      <td>Homeopath</td>\n",
       "      <td>100% 16 Feedback Kakkanad, Ernakulam</td>\n",
       "      <td>100</td>\n",
       "      <td>Kakkanad</td>\n",
       "      <td>Ernakulam</td>\n",
       "      <td>2</td>\n",
       "    </tr>\n",
       "    <tr>\n",
       "      <th>1</th>\n",
       "      <td>12</td>\n",
       "      <td>10</td>\n",
       "      <td>Ayurveda</td>\n",
       "      <td>98% 76 Feedback Whitefield, Bangalore</td>\n",
       "      <td>350</td>\n",
       "      <td>Whitefield</td>\n",
       "      <td>Bangalore</td>\n",
       "      <td>2</td>\n",
       "    </tr>\n",
       "    <tr>\n",
       "      <th>2</th>\n",
       "      <td>9</td>\n",
       "      <td>0</td>\n",
       "      <td>ENT Specialist</td>\n",
       "      <td>NaN</td>\n",
       "      <td>300</td>\n",
       "      <td>Mathikere - BEL</td>\n",
       "      <td>Bangalore</td>\n",
       "      <td>2</td>\n",
       "    </tr>\n",
       "    <tr>\n",
       "      <th>3</th>\n",
       "      <td>12</td>\n",
       "      <td>0</td>\n",
       "      <td>Ayurveda</td>\n",
       "      <td>Bannerghatta Road, Bangalore ₹250 Available on...</td>\n",
       "      <td>250</td>\n",
       "      <td>Bannerghatta Road</td>\n",
       "      <td>Bangalore</td>\n",
       "      <td>2</td>\n",
       "    </tr>\n",
       "    <tr>\n",
       "      <th>4</th>\n",
       "      <td>20</td>\n",
       "      <td>10</td>\n",
       "      <td>Ayurveda</td>\n",
       "      <td>100% 4 Feedback Keelkattalai, Chennai</td>\n",
       "      <td>250</td>\n",
       "      <td>Keelkattalai</td>\n",
       "      <td>Chennai</td>\n",
       "      <td>1</td>\n",
       "    </tr>\n",
       "    <tr>\n",
       "      <th>...</th>\n",
       "      <td>...</td>\n",
       "      <td>...</td>\n",
       "      <td>...</td>\n",
       "      <td>...</td>\n",
       "      <td>...</td>\n",
       "      <td>...</td>\n",
       "      <td>...</td>\n",
       "      <td>...</td>\n",
       "    </tr>\n",
       "    <tr>\n",
       "      <th>5956</th>\n",
       "      <td>19</td>\n",
       "      <td>10</td>\n",
       "      <td>ENT Specialist</td>\n",
       "      <td>98% 45 Feedback Basavanagudi, Bangalore</td>\n",
       "      <td>300</td>\n",
       "      <td>Basavanagudi</td>\n",
       "      <td>Bangalore</td>\n",
       "      <td>2</td>\n",
       "    </tr>\n",
       "    <tr>\n",
       "      <th>5957</th>\n",
       "      <td>33</td>\n",
       "      <td>0</td>\n",
       "      <td>General Medicine</td>\n",
       "      <td>NaN</td>\n",
       "      <td>100</td>\n",
       "      <td>Nungambakkam</td>\n",
       "      <td>Chennai</td>\n",
       "      <td>1</td>\n",
       "    </tr>\n",
       "    <tr>\n",
       "      <th>5958</th>\n",
       "      <td>41</td>\n",
       "      <td>10</td>\n",
       "      <td>General Medicine</td>\n",
       "      <td>97% 11 Feedback Greater Kailash Part 2, Delhi</td>\n",
       "      <td>600</td>\n",
       "      <td>Greater Kailash Part 2</td>\n",
       "      <td>Delhi</td>\n",
       "      <td>1</td>\n",
       "    </tr>\n",
       "    <tr>\n",
       "      <th>5959</th>\n",
       "      <td>15</td>\n",
       "      <td>9</td>\n",
       "      <td>General Medicine</td>\n",
       "      <td>General Medical Consultation Viral Fever Treat...</td>\n",
       "      <td>100</td>\n",
       "      <td>Vileparle West</td>\n",
       "      <td>Mumbai</td>\n",
       "      <td>2</td>\n",
       "    </tr>\n",
       "    <tr>\n",
       "      <th>5960</th>\n",
       "      <td>17</td>\n",
       "      <td>10</td>\n",
       "      <td>Dentist</td>\n",
       "      <td>Acrylic Partial Denture Crowns and Bridges Fix...</td>\n",
       "      <td>200</td>\n",
       "      <td>Pitampura</td>\n",
       "      <td>Delhi</td>\n",
       "      <td>2</td>\n",
       "    </tr>\n",
       "  </tbody>\n",
       "</table>\n",
       "<p>5903 rows × 8 columns</p>\n",
       "</div>"
      ],
      "text/plain": [
       "      Experience Rating           Profile  \\\n",
       "0             24     10         Homeopath   \n",
       "1             12     10          Ayurveda   \n",
       "2              9      0    ENT Specialist   \n",
       "3             12      0          Ayurveda   \n",
       "4             20     10          Ayurveda   \n",
       "...          ...    ...               ...   \n",
       "5956          19     10    ENT Specialist   \n",
       "5957          33      0  General Medicine   \n",
       "5958          41     10  General Medicine   \n",
       "5959          15      9  General Medicine   \n",
       "5960          17     10           Dentist   \n",
       "\n",
       "                                     Miscellaneous_Info  Fees  \\\n",
       "0                  100% 16 Feedback Kakkanad, Ernakulam   100   \n",
       "1                 98% 76 Feedback Whitefield, Bangalore   350   \n",
       "2                                                   NaN   300   \n",
       "3     Bannerghatta Road, Bangalore ₹250 Available on...   250   \n",
       "4                 100% 4 Feedback Keelkattalai, Chennai   250   \n",
       "...                                                 ...   ...   \n",
       "5956            98% 45 Feedback Basavanagudi, Bangalore   300   \n",
       "5957                                                NaN   100   \n",
       "5958      97% 11 Feedback Greater Kailash Part 2, Delhi   600   \n",
       "5959  General Medical Consultation Viral Fever Treat...   100   \n",
       "5960  Acrylic Partial Denture Crowns and Bridges Fix...   200   \n",
       "\n",
       "                    Locality       City  qualification_count  \n",
       "0                   Kakkanad  Ernakulam                    2  \n",
       "1                 Whitefield  Bangalore                    2  \n",
       "2            Mathikere - BEL  Bangalore                    2  \n",
       "3          Bannerghatta Road  Bangalore                    2  \n",
       "4               Keelkattalai    Chennai                    1  \n",
       "...                      ...        ...                  ...  \n",
       "5956            Basavanagudi  Bangalore                    2  \n",
       "5957            Nungambakkam    Chennai                    1  \n",
       "5958  Greater Kailash Part 2      Delhi                    1  \n",
       "5959          Vileparle West     Mumbai                    2  \n",
       "5960               Pitampura      Delhi                    2  \n",
       "\n",
       "[5903 rows x 8 columns]"
      ]
     },
     "execution_count": 49,
     "metadata": {},
     "output_type": "execute_result"
    }
   ],
   "source": [
    "df"
   ]
  },
  {
   "cell_type": "markdown",
   "metadata": {},
   "source": [
    "Now we are going to drop columns with less importance."
   ]
  },
  {
   "cell_type": "code",
   "execution_count": 50,
   "metadata": {},
   "outputs": [],
   "source": [
    "#Since Miscellaneous_info column is too much messy and not needed for further analysis,so we are going to drop this column.\n",
    "#We are also going to drop the column locality.\n",
    "df.drop('Miscellaneous_Info',axis=1,inplace=True)\n",
    "df.drop('Locality',axis=1,inplace=True)"
   ]
  },
  {
   "cell_type": "code",
   "execution_count": 51,
   "metadata": {},
   "outputs": [],
   "source": [
    "# Encoding\n",
    "df=pd.get_dummies(df,columns=['Profile','City'],prefix=['Profile','City'])"
   ]
  },
  {
   "cell_type": "code",
   "execution_count": 52,
   "metadata": {},
   "outputs": [
    {
     "data": {
      "text/html": [
       "<div>\n",
       "<style scoped>\n",
       "    .dataframe tbody tr th:only-of-type {\n",
       "        vertical-align: middle;\n",
       "    }\n",
       "\n",
       "    .dataframe tbody tr th {\n",
       "        vertical-align: top;\n",
       "    }\n",
       "\n",
       "    .dataframe thead th {\n",
       "        text-align: right;\n",
       "    }\n",
       "</style>\n",
       "<table border=\"1\" class=\"dataframe\">\n",
       "  <thead>\n",
       "    <tr style=\"text-align: right;\">\n",
       "      <th></th>\n",
       "      <th>Experience</th>\n",
       "      <th>Rating</th>\n",
       "      <th>Fees</th>\n",
       "      <th>qualification_count</th>\n",
       "      <th>Profile_Ayurveda</th>\n",
       "      <th>Profile_Dentist</th>\n",
       "      <th>Profile_Dermatologists</th>\n",
       "      <th>Profile_ENT Specialist</th>\n",
       "      <th>Profile_General Medicine</th>\n",
       "      <th>Profile_Homeopath</th>\n",
       "      <th>City_Bangalore</th>\n",
       "      <th>City_Chennai</th>\n",
       "      <th>City_Coimbatore</th>\n",
       "      <th>City_Delhi</th>\n",
       "      <th>City_Ernakulam</th>\n",
       "      <th>City_Hyderabad</th>\n",
       "      <th>City_Mumbai</th>\n",
       "      <th>City_Thiruvananthapuram</th>\n",
       "      <th>City_Unknown</th>\n",
       "    </tr>\n",
       "  </thead>\n",
       "  <tbody>\n",
       "    <tr>\n",
       "      <th>0</th>\n",
       "      <td>24</td>\n",
       "      <td>10</td>\n",
       "      <td>100</td>\n",
       "      <td>2</td>\n",
       "      <td>0</td>\n",
       "      <td>0</td>\n",
       "      <td>0</td>\n",
       "      <td>0</td>\n",
       "      <td>0</td>\n",
       "      <td>1</td>\n",
       "      <td>0</td>\n",
       "      <td>0</td>\n",
       "      <td>0</td>\n",
       "      <td>0</td>\n",
       "      <td>1</td>\n",
       "      <td>0</td>\n",
       "      <td>0</td>\n",
       "      <td>0</td>\n",
       "      <td>0</td>\n",
       "    </tr>\n",
       "    <tr>\n",
       "      <th>1</th>\n",
       "      <td>12</td>\n",
       "      <td>10</td>\n",
       "      <td>350</td>\n",
       "      <td>2</td>\n",
       "      <td>1</td>\n",
       "      <td>0</td>\n",
       "      <td>0</td>\n",
       "      <td>0</td>\n",
       "      <td>0</td>\n",
       "      <td>0</td>\n",
       "      <td>1</td>\n",
       "      <td>0</td>\n",
       "      <td>0</td>\n",
       "      <td>0</td>\n",
       "      <td>0</td>\n",
       "      <td>0</td>\n",
       "      <td>0</td>\n",
       "      <td>0</td>\n",
       "      <td>0</td>\n",
       "    </tr>\n",
       "    <tr>\n",
       "      <th>2</th>\n",
       "      <td>9</td>\n",
       "      <td>0</td>\n",
       "      <td>300</td>\n",
       "      <td>2</td>\n",
       "      <td>0</td>\n",
       "      <td>0</td>\n",
       "      <td>0</td>\n",
       "      <td>1</td>\n",
       "      <td>0</td>\n",
       "      <td>0</td>\n",
       "      <td>1</td>\n",
       "      <td>0</td>\n",
       "      <td>0</td>\n",
       "      <td>0</td>\n",
       "      <td>0</td>\n",
       "      <td>0</td>\n",
       "      <td>0</td>\n",
       "      <td>0</td>\n",
       "      <td>0</td>\n",
       "    </tr>\n",
       "    <tr>\n",
       "      <th>3</th>\n",
       "      <td>12</td>\n",
       "      <td>0</td>\n",
       "      <td>250</td>\n",
       "      <td>2</td>\n",
       "      <td>1</td>\n",
       "      <td>0</td>\n",
       "      <td>0</td>\n",
       "      <td>0</td>\n",
       "      <td>0</td>\n",
       "      <td>0</td>\n",
       "      <td>1</td>\n",
       "      <td>0</td>\n",
       "      <td>0</td>\n",
       "      <td>0</td>\n",
       "      <td>0</td>\n",
       "      <td>0</td>\n",
       "      <td>0</td>\n",
       "      <td>0</td>\n",
       "      <td>0</td>\n",
       "    </tr>\n",
       "    <tr>\n",
       "      <th>4</th>\n",
       "      <td>20</td>\n",
       "      <td>10</td>\n",
       "      <td>250</td>\n",
       "      <td>1</td>\n",
       "      <td>1</td>\n",
       "      <td>0</td>\n",
       "      <td>0</td>\n",
       "      <td>0</td>\n",
       "      <td>0</td>\n",
       "      <td>0</td>\n",
       "      <td>0</td>\n",
       "      <td>1</td>\n",
       "      <td>0</td>\n",
       "      <td>0</td>\n",
       "      <td>0</td>\n",
       "      <td>0</td>\n",
       "      <td>0</td>\n",
       "      <td>0</td>\n",
       "      <td>0</td>\n",
       "    </tr>\n",
       "  </tbody>\n",
       "</table>\n",
       "</div>"
      ],
      "text/plain": [
       "   Experience Rating  Fees  qualification_count  Profile_Ayurveda  \\\n",
       "0          24     10   100                    2                 0   \n",
       "1          12     10   350                    2                 1   \n",
       "2           9      0   300                    2                 0   \n",
       "3          12      0   250                    2                 1   \n",
       "4          20     10   250                    1                 1   \n",
       "\n",
       "   Profile_Dentist  Profile_Dermatologists  Profile_ENT Specialist  \\\n",
       "0                0                       0                       0   \n",
       "1                0                       0                       0   \n",
       "2                0                       0                       1   \n",
       "3                0                       0                       0   \n",
       "4                0                       0                       0   \n",
       "\n",
       "   Profile_General Medicine  Profile_Homeopath  City_Bangalore  City_Chennai  \\\n",
       "0                         0                  1               0             0   \n",
       "1                         0                  0               1             0   \n",
       "2                         0                  0               1             0   \n",
       "3                         0                  0               1             0   \n",
       "4                         0                  0               0             1   \n",
       "\n",
       "   City_Coimbatore  City_Delhi  City_Ernakulam  City_Hyderabad  City_Mumbai  \\\n",
       "0                0           0               1               0            0   \n",
       "1                0           0               0               0            0   \n",
       "2                0           0               0               0            0   \n",
       "3                0           0               0               0            0   \n",
       "4                0           0               0               0            0   \n",
       "\n",
       "   City_Thiruvananthapuram  City_Unknown  \n",
       "0                        0             0  \n",
       "1                        0             0  \n",
       "2                        0             0  \n",
       "3                        0             0  \n",
       "4                        0             0  "
      ]
     },
     "execution_count": 52,
     "metadata": {},
     "output_type": "execute_result"
    }
   ],
   "source": [
    "df.head(5)"
   ]
  },
  {
   "cell_type": "code",
   "execution_count": 53,
   "metadata": {},
   "outputs": [],
   "source": [
    "# Seperating the data into independent and target variable\n",
    "x=df.drop('Fees',axis=1)\n",
    "y=df['Fees']"
   ]
  },
  {
   "cell_type": "markdown",
   "metadata": {},
   "source": [
    "### Distribution of data along columns"
   ]
  },
  {
   "cell_type": "code",
   "execution_count": 54,
   "metadata": {},
   "outputs": [
    {
     "data": {
      "image/png": "[encoded data removed]",
      "text/plain": [
       "<Figure size 720x360 with 1 Axes>"
      ]
     },
     "metadata": {},
     "output_type": "display_data"
    },
    {
     "data": {
      "image/png": "[encoded data removed]",
      "text/plain": [
       "<Figure size 720x360 with 1 Axes>"
      ]
     },
     "metadata": {},
     "output_type": "display_data"
    },
    {
     "data": {
      "image/png": "[encoded data removed]",
      "text/plain": [
       "<Figure size 720x360 with 1 Axes>"
      ]
     },
     "metadata": {},
     "output_type": "display_data"
    }
   ],
   "source": [
    "var=['Experience','Rating','Fees']\n",
    "for i in var:\n",
    "    plt.figure(figsize=(10,5))\n",
    "    sns.distplot(df[i])\n",
    "    plt.show()"
   ]
  },
  {
   "cell_type": "markdown",
   "metadata": {},
   "source": [
    "* We can see the skewness in the data."
   ]
  },
  {
   "cell_type": "markdown",
   "metadata": {},
   "source": [
    "### Checking Skewness"
   ]
  },
  {
   "cell_type": "code",
   "execution_count": 55,
   "metadata": {},
   "outputs": [
    {
     "data": {
      "text/plain": [
       "Experience                   0.897661\n",
       "Rating                       0.234429\n",
       "qualification_count          1.438239\n",
       "Profile_Ayurveda             2.166626\n",
       "Profile_Dentist              1.241682\n",
       "Profile_Dermatologists       1.718892\n",
       "Profile_ENT Specialist       2.310896\n",
       "Profile_General Medicine     1.557957\n",
       "Profile_Homeopath            2.050262\n",
       "City_Bangalore               1.407680\n",
       "City_Chennai                 2.036404\n",
       "City_Coimbatore              4.849955\n",
       "City_Delhi                   1.518503\n",
       "City_Ernakulam               5.990008\n",
       "City_Hyderabad               1.844159\n",
       "City_Mumbai                  1.474933\n",
       "City_Thiruvananthapuram      8.154475\n",
       "City_Unknown                14.971867\n",
       "dtype: float64"
      ]
     },
     "execution_count": 55,
     "metadata": {},
     "output_type": "execute_result"
    }
   ],
   "source": [
    "x.skew()"
   ]
  },
  {
   "cell_type": "markdown",
   "metadata": {},
   "source": [
    "There is skewness in the column Experience.Remaining all columns are categorical"
   ]
  },
  {
   "cell_type": "markdown",
   "metadata": {},
   "source": [
    "### Removing Skewness"
   ]
  },
  {
   "cell_type": "markdown",
   "metadata": {},
   "source": [
    "We are using power transform fumction to remove skewness"
   ]
  },
  {
   "cell_type": "code",
   "execution_count": 56,
   "metadata": {},
   "outputs": [],
   "source": [
    "from sklearn.preprocessing import power_transform\n",
    "df_new=power_transform(x)\n",
    "df_new=pd.DataFrame(df_new,columns=x.columns)"
   ]
  },
  {
   "cell_type": "code",
   "execution_count": 57,
   "metadata": {},
   "outputs": [
    {
     "data": {
      "text/plain": [
       "Experience                  -0.005040\n",
       "Rating                       0.214289\n",
       "qualification_count          0.046249\n",
       "Profile_Ayurveda             2.166626\n",
       "Profile_Dentist              1.241682\n",
       "Profile_Dermatologists       1.718892\n",
       "Profile_ENT Specialist       2.310896\n",
       "Profile_General Medicine     1.557957\n",
       "Profile_Homeopath            2.050262\n",
       "City_Bangalore               1.407680\n",
       "City_Chennai                 2.036404\n",
       "City_Coimbatore              4.849955\n",
       "City_Delhi                   1.518503\n",
       "City_Ernakulam               5.990008\n",
       "City_Hyderabad               1.844159\n",
       "City_Mumbai                  1.474933\n",
       "City_Thiruvananthapuram      8.154475\n",
       "City_Unknown                14.971867\n",
       "dtype: float64"
      ]
     },
     "execution_count": 57,
     "metadata": {},
     "output_type": "execute_result"
    }
   ],
   "source": [
    "df_new.skew()"
   ]
  },
  {
   "cell_type": "code",
   "execution_count": 58,
   "metadata": {},
   "outputs": [],
   "source": [
    "x=df_new"
   ]
  },
  {
   "cell_type": "code",
   "execution_count": 59,
   "metadata": {},
   "outputs": [
    {
     "data": {
      "text/html": [
       "<div>\n",
       "<style scoped>\n",
       "    .dataframe tbody tr th:only-of-type {\n",
       "        vertical-align: middle;\n",
       "    }\n",
       "\n",
       "    .dataframe tbody tr th {\n",
       "        vertical-align: top;\n",
       "    }\n",
       "\n",
       "    .dataframe thead th {\n",
       "        text-align: right;\n",
       "    }\n",
       "</style>\n",
       "<table border=\"1\" class=\"dataframe\">\n",
       "  <thead>\n",
       "    <tr style=\"text-align: right;\">\n",
       "      <th></th>\n",
       "      <th>Experience</th>\n",
       "      <th>Rating</th>\n",
       "      <th>qualification_count</th>\n",
       "      <th>Profile_Ayurveda</th>\n",
       "      <th>Profile_Dentist</th>\n",
       "      <th>Profile_Dermatologists</th>\n",
       "      <th>Profile_ENT Specialist</th>\n",
       "      <th>Profile_General Medicine</th>\n",
       "      <th>Profile_Homeopath</th>\n",
       "      <th>City_Bangalore</th>\n",
       "      <th>City_Chennai</th>\n",
       "      <th>City_Coimbatore</th>\n",
       "      <th>City_Delhi</th>\n",
       "      <th>City_Ernakulam</th>\n",
       "      <th>City_Hyderabad</th>\n",
       "      <th>City_Mumbai</th>\n",
       "      <th>City_Thiruvananthapuram</th>\n",
       "      <th>City_Unknown</th>\n",
       "    </tr>\n",
       "  </thead>\n",
       "  <tbody>\n",
       "    <tr>\n",
       "      <th>0</th>\n",
       "      <td>0.764737</td>\n",
       "      <td>1.127013</td>\n",
       "      <td>0.246343</td>\n",
       "      <td>-0.391062</td>\n",
       "      <td>-0.556282</td>\n",
       "      <td>-0.459208</td>\n",
       "      <td>-0.372714</td>\n",
       "      <td>-0.488697</td>\n",
       "      <td>2.456778</td>\n",
       "      <td>-0.519098</td>\n",
       "      <td>-0.409015</td>\n",
       "      <td>-0.198143</td>\n",
       "      <td>-0.496397</td>\n",
       "      <td>6.151059</td>\n",
       "      <td>-0.438228</td>\n",
       "      <td>-0.505130</td>\n",
       "      <td>-0.120871</td>\n",
       "      <td>-0.066513</td>\n",
       "    </tr>\n",
       "    <tr>\n",
       "      <th>1</th>\n",
       "      <td>-0.320308</td>\n",
       "      <td>1.127013</td>\n",
       "      <td>0.246343</td>\n",
       "      <td>2.557138</td>\n",
       "      <td>-0.556282</td>\n",
       "      <td>-0.459208</td>\n",
       "      <td>-0.372714</td>\n",
       "      <td>-0.488697</td>\n",
       "      <td>-0.407037</td>\n",
       "      <td>1.926420</td>\n",
       "      <td>-0.409015</td>\n",
       "      <td>-0.198143</td>\n",
       "      <td>-0.496397</td>\n",
       "      <td>-0.162574</td>\n",
       "      <td>-0.438228</td>\n",
       "      <td>-0.505130</td>\n",
       "      <td>-0.120871</td>\n",
       "      <td>-0.066513</td>\n",
       "    </tr>\n",
       "    <tr>\n",
       "      <th>2</th>\n",
       "      <td>-0.687451</td>\n",
       "      <td>-0.899512</td>\n",
       "      <td>0.246343</td>\n",
       "      <td>-0.391062</td>\n",
       "      <td>-0.556282</td>\n",
       "      <td>-0.459208</td>\n",
       "      <td>2.683023</td>\n",
       "      <td>-0.488697</td>\n",
       "      <td>-0.407037</td>\n",
       "      <td>1.926420</td>\n",
       "      <td>-0.409015</td>\n",
       "      <td>-0.198143</td>\n",
       "      <td>-0.496397</td>\n",
       "      <td>-0.162574</td>\n",
       "      <td>-0.438228</td>\n",
       "      <td>-0.505130</td>\n",
       "      <td>-0.120871</td>\n",
       "      <td>-0.066513</td>\n",
       "    </tr>\n",
       "    <tr>\n",
       "      <th>3</th>\n",
       "      <td>-0.320308</td>\n",
       "      <td>-0.899512</td>\n",
       "      <td>0.246343</td>\n",
       "      <td>2.557138</td>\n",
       "      <td>-0.556282</td>\n",
       "      <td>-0.459208</td>\n",
       "      <td>-0.372714</td>\n",
       "      <td>-0.488697</td>\n",
       "      <td>-0.407037</td>\n",
       "      <td>1.926420</td>\n",
       "      <td>-0.409015</td>\n",
       "      <td>-0.198143</td>\n",
       "      <td>-0.496397</td>\n",
       "      <td>-0.162574</td>\n",
       "      <td>-0.438228</td>\n",
       "      <td>-0.505130</td>\n",
       "      <td>-0.120871</td>\n",
       "      <td>-0.066513</td>\n",
       "    </tr>\n",
       "    <tr>\n",
       "      <th>4</th>\n",
       "      <td>0.449495</td>\n",
       "      <td>1.127013</td>\n",
       "      <td>-1.266800</td>\n",
       "      <td>2.557138</td>\n",
       "      <td>-0.556282</td>\n",
       "      <td>-0.459208</td>\n",
       "      <td>-0.372714</td>\n",
       "      <td>-0.488697</td>\n",
       "      <td>-0.407037</td>\n",
       "      <td>-0.519098</td>\n",
       "      <td>2.444901</td>\n",
       "      <td>-0.198143</td>\n",
       "      <td>-0.496397</td>\n",
       "      <td>-0.162574</td>\n",
       "      <td>-0.438228</td>\n",
       "      <td>-0.505130</td>\n",
       "      <td>-0.120871</td>\n",
       "      <td>-0.066513</td>\n",
       "    </tr>\n",
       "    <tr>\n",
       "      <th>...</th>\n",
       "      <td>...</td>\n",
       "      <td>...</td>\n",
       "      <td>...</td>\n",
       "      <td>...</td>\n",
       "      <td>...</td>\n",
       "      <td>...</td>\n",
       "      <td>...</td>\n",
       "      <td>...</td>\n",
       "      <td>...</td>\n",
       "      <td>...</td>\n",
       "      <td>...</td>\n",
       "      <td>...</td>\n",
       "      <td>...</td>\n",
       "      <td>...</td>\n",
       "      <td>...</td>\n",
       "      <td>...</td>\n",
       "      <td>...</td>\n",
       "      <td>...</td>\n",
       "    </tr>\n",
       "    <tr>\n",
       "      <th>5898</th>\n",
       "      <td>0.364836</td>\n",
       "      <td>1.127013</td>\n",
       "      <td>0.246343</td>\n",
       "      <td>-0.391062</td>\n",
       "      <td>-0.556282</td>\n",
       "      <td>-0.459208</td>\n",
       "      <td>2.683023</td>\n",
       "      <td>-0.488697</td>\n",
       "      <td>-0.407037</td>\n",
       "      <td>1.926420</td>\n",
       "      <td>-0.409015</td>\n",
       "      <td>-0.198143</td>\n",
       "      <td>-0.496397</td>\n",
       "      <td>-0.162574</td>\n",
       "      <td>-0.438228</td>\n",
       "      <td>-0.505130</td>\n",
       "      <td>-0.120871</td>\n",
       "      <td>-0.066513</td>\n",
       "    </tr>\n",
       "    <tr>\n",
       "      <th>5899</th>\n",
       "      <td>1.372369</td>\n",
       "      <td>-0.899512</td>\n",
       "      <td>-1.266800</td>\n",
       "      <td>-0.391062</td>\n",
       "      <td>-0.556282</td>\n",
       "      <td>-0.459208</td>\n",
       "      <td>-0.372714</td>\n",
       "      <td>2.046258</td>\n",
       "      <td>-0.407037</td>\n",
       "      <td>-0.519098</td>\n",
       "      <td>2.444901</td>\n",
       "      <td>-0.198143</td>\n",
       "      <td>-0.496397</td>\n",
       "      <td>-0.162574</td>\n",
       "      <td>-0.438228</td>\n",
       "      <td>-0.505130</td>\n",
       "      <td>-0.120871</td>\n",
       "      <td>-0.066513</td>\n",
       "    </tr>\n",
       "    <tr>\n",
       "      <th>5900</th>\n",
       "      <td>1.831576</td>\n",
       "      <td>1.127013</td>\n",
       "      <td>-1.266800</td>\n",
       "      <td>-0.391062</td>\n",
       "      <td>-0.556282</td>\n",
       "      <td>-0.459208</td>\n",
       "      <td>-0.372714</td>\n",
       "      <td>2.046258</td>\n",
       "      <td>-0.407037</td>\n",
       "      <td>-0.519098</td>\n",
       "      <td>-0.409015</td>\n",
       "      <td>-0.198143</td>\n",
       "      <td>2.014515</td>\n",
       "      <td>-0.162574</td>\n",
       "      <td>-0.438228</td>\n",
       "      <td>-0.505130</td>\n",
       "      <td>-0.120871</td>\n",
       "      <td>-0.066513</td>\n",
       "    </tr>\n",
       "    <tr>\n",
       "      <th>5901</th>\n",
       "      <td>-0.003584</td>\n",
       "      <td>1.069116</td>\n",
       "      <td>0.246343</td>\n",
       "      <td>-0.391062</td>\n",
       "      <td>-0.556282</td>\n",
       "      <td>-0.459208</td>\n",
       "      <td>-0.372714</td>\n",
       "      <td>2.046258</td>\n",
       "      <td>-0.407037</td>\n",
       "      <td>-0.519098</td>\n",
       "      <td>-0.409015</td>\n",
       "      <td>-0.198143</td>\n",
       "      <td>-0.496397</td>\n",
       "      <td>-0.162574</td>\n",
       "      <td>-0.438228</td>\n",
       "      <td>1.979689</td>\n",
       "      <td>-0.120871</td>\n",
       "      <td>-0.066513</td>\n",
       "    </tr>\n",
       "    <tr>\n",
       "      <th>5902</th>\n",
       "      <td>0.187114</td>\n",
       "      <td>1.127013</td>\n",
       "      <td>0.246343</td>\n",
       "      <td>-0.391062</td>\n",
       "      <td>1.797649</td>\n",
       "      <td>-0.459208</td>\n",
       "      <td>-0.372714</td>\n",
       "      <td>-0.488697</td>\n",
       "      <td>-0.407037</td>\n",
       "      <td>-0.519098</td>\n",
       "      <td>-0.409015</td>\n",
       "      <td>-0.198143</td>\n",
       "      <td>2.014515</td>\n",
       "      <td>-0.162574</td>\n",
       "      <td>-0.438228</td>\n",
       "      <td>-0.505130</td>\n",
       "      <td>-0.120871</td>\n",
       "      <td>-0.066513</td>\n",
       "    </tr>\n",
       "  </tbody>\n",
       "</table>\n",
       "<p>5903 rows × 18 columns</p>\n",
       "</div>"
      ],
      "text/plain": [
       "      Experience    Rating  qualification_count  Profile_Ayurveda  \\\n",
       "0       0.764737  1.127013             0.246343         -0.391062   \n",
       "1      -0.320308  1.127013             0.246343          2.557138   \n",
       "2      -0.687451 -0.899512             0.246343         -0.391062   \n",
       "3      -0.320308 -0.899512             0.246343          2.557138   \n",
       "4       0.449495  1.127013            -1.266800          2.557138   \n",
       "...          ...       ...                  ...               ...   \n",
       "5898    0.364836  1.127013             0.246343         -0.391062   \n",
       "5899    1.372369 -0.899512            -1.266800         -0.391062   \n",
       "5900    1.831576  1.127013            -1.266800         -0.391062   \n",
       "5901   -0.003584  1.069116             0.246343         -0.391062   \n",
       "5902    0.187114  1.127013             0.246343         -0.391062   \n",
       "\n",
       "      Profile_Dentist  Profile_Dermatologists  Profile_ENT Specialist  \\\n",
       "0           -0.556282               -0.459208               -0.372714   \n",
       "1           -0.556282               -0.459208               -0.372714   \n",
       "2           -0.556282               -0.459208                2.683023   \n",
       "3           -0.556282               -0.459208               -0.372714   \n",
       "4           -0.556282               -0.459208               -0.372714   \n",
       "...               ...                     ...                     ...   \n",
       "5898        -0.556282               -0.459208                2.683023   \n",
       "5899        -0.556282               -0.459208               -0.372714   \n",
       "5900        -0.556282               -0.459208               -0.372714   \n",
       "5901        -0.556282               -0.459208               -0.372714   \n",
       "5902         1.797649               -0.459208               -0.372714   \n",
       "\n",
       "      Profile_General Medicine  Profile_Homeopath  City_Bangalore  \\\n",
       "0                    -0.488697           2.456778       -0.519098   \n",
       "1                    -0.488697          -0.407037        1.926420   \n",
       "2                    -0.488697          -0.407037        1.926420   \n",
       "3                    -0.488697          -0.407037        1.926420   \n",
       "4                    -0.488697          -0.407037       -0.519098   \n",
       "...                        ...                ...             ...   \n",
       "5898                 -0.488697          -0.407037        1.926420   \n",
       "5899                  2.046258          -0.407037       -0.519098   \n",
       "5900                  2.046258          -0.407037       -0.519098   \n",
       "5901                  2.046258          -0.407037       -0.519098   \n",
       "5902                 -0.488697          -0.407037       -0.519098   \n",
       "\n",
       "      City_Chennai  City_Coimbatore  City_Delhi  City_Ernakulam  \\\n",
       "0        -0.409015        -0.198143   -0.496397        6.151059   \n",
       "1        -0.409015        -0.198143   -0.496397       -0.162574   \n",
       "2        -0.409015        -0.198143   -0.496397       -0.162574   \n",
       "3        -0.409015        -0.198143   -0.496397       -0.162574   \n",
       "4         2.444901        -0.198143   -0.496397       -0.162574   \n",
       "...            ...              ...         ...             ...   \n",
       "5898     -0.409015        -0.198143   -0.496397       -0.162574   \n",
       "5899      2.444901        -0.198143   -0.496397       -0.162574   \n",
       "5900     -0.409015        -0.198143    2.014515       -0.162574   \n",
       "5901     -0.409015        -0.198143   -0.496397       -0.162574   \n",
       "5902     -0.409015        -0.198143    2.014515       -0.162574   \n",
       "\n",
       "      City_Hyderabad  City_Mumbai  City_Thiruvananthapuram  City_Unknown  \n",
       "0          -0.438228    -0.505130                -0.120871     -0.066513  \n",
       "1          -0.438228    -0.505130                -0.120871     -0.066513  \n",
       "2          -0.438228    -0.505130                -0.120871     -0.066513  \n",
       "3          -0.438228    -0.505130                -0.120871     -0.066513  \n",
       "4          -0.438228    -0.505130                -0.120871     -0.066513  \n",
       "...              ...          ...                      ...           ...  \n",
       "5898       -0.438228    -0.505130                -0.120871     -0.066513  \n",
       "5899       -0.438228    -0.505130                -0.120871     -0.066513  \n",
       "5900       -0.438228    -0.505130                -0.120871     -0.066513  \n",
       "5901       -0.438228     1.979689                -0.120871     -0.066513  \n",
       "5902       -0.438228    -0.505130                -0.120871     -0.066513  \n",
       "\n",
       "[5903 rows x 18 columns]"
      ]
     },
     "execution_count": 59,
     "metadata": {},
     "output_type": "execute_result"
    }
   ],
   "source": [
    "x"
   ]
  },
  {
   "cell_type": "code",
   "execution_count": 60,
   "metadata": {},
   "outputs": [
    {
     "data": {
      "text/plain": [
       "0       100\n",
       "1       350\n",
       "2       300\n",
       "3       250\n",
       "4       250\n",
       "       ... \n",
       "5956    300\n",
       "5957    100\n",
       "5958    600\n",
       "5959    100\n",
       "5960    200\n",
       "Name: Fees, Length: 5903, dtype: int64"
      ]
     },
     "execution_count": 60,
     "metadata": {},
     "output_type": "execute_result"
    }
   ],
   "source": [
    "y"
   ]
  },
  {
   "cell_type": "markdown",
   "metadata": {},
   "source": [
    "## Scaling usingStandard Scaler"
   ]
  },
  {
   "cell_type": "code",
   "execution_count": 61,
   "metadata": {},
   "outputs": [],
   "source": [
    "from sklearn.preprocessing import StandardScaler"
   ]
  },
  {
   "cell_type": "code",
   "execution_count": 62,
   "metadata": {},
   "outputs": [],
   "source": [
    "ss=StandardScaler()\n",
    "x=ss.fit_transform(x)"
   ]
  },
  {
   "cell_type": "code",
   "execution_count": 63,
   "metadata": {},
   "outputs": [
    {
     "data": {
      "text/plain": [
       "array([[ 0.7647372 ,  1.1270127 ,  0.24634349, ..., -0.50512997,\n",
       "        -0.12087114, -0.06651335],\n",
       "       [-0.3203077 ,  1.1270127 ,  0.24634349, ..., -0.50512997,\n",
       "        -0.12087114, -0.06651335],\n",
       "       [-0.68745117, -0.89951222,  0.24634349, ..., -0.50512997,\n",
       "        -0.12087114, -0.06651335],\n",
       "       ...,\n",
       "       [ 1.83157636,  1.1270127 , -1.26679959, ..., -0.50512997,\n",
       "        -0.12087114, -0.06651335],\n",
       "       [-0.00358446,  1.0691156 ,  0.24634349, ...,  1.97968853,\n",
       "        -0.12087114, -0.06651335],\n",
       "       [ 0.18711403,  1.1270127 ,  0.24634349, ..., -0.50512997,\n",
       "        -0.12087114, -0.06651335]])"
      ]
     },
     "execution_count": 63,
     "metadata": {},
     "output_type": "execute_result"
    }
   ],
   "source": [
    "x"
   ]
  },
  {
   "cell_type": "markdown",
   "metadata": {},
   "source": [
    "## Finding the Best Random State"
   ]
  },
  {
   "cell_type": "code",
   "execution_count": 64,
   "metadata": {},
   "outputs": [
    {
     "name": "stdout",
     "output_type": "stream",
     "text": [
      "Best accuracy is 0.23029988855381722 on Random_state 34\n"
     ]
    }
   ],
   "source": [
    "from sklearn.linear_model import LinearRegression\n",
    "maxAccu=0\n",
    "maxRS=0\n",
    "for i in range(1,500):\n",
    "    x_train,x_test,y_train,y_test=train_test_split(x,y,test_size=.20,random_state=i)\n",
    "    lr=LinearRegression()\n",
    "    lr.fit(x_train,y_train)\n",
    "    pred_test=lr.predict(x_test)\n",
    "    rsc=r2_score(y_test,pred_test)\n",
    "    if rsc>maxAccu:\n",
    "        maxAccu=rsc\n",
    "        maxRS=i\n",
    "print(\"Best accuracy is\",maxAccu,\"on Random_state\",maxRS)        "
   ]
  },
  {
   "cell_type": "markdown",
   "metadata": {},
   "source": [
    "## Train-Test-Split"
   ]
  },
  {
   "cell_type": "code",
   "execution_count": 65,
   "metadata": {},
   "outputs": [
    {
     "data": {
      "text/plain": [
       "((4722, 18), (1181, 18), (1181,), (4722,))"
      ]
     },
     "execution_count": 65,
     "metadata": {},
     "output_type": "execute_result"
    }
   ],
   "source": [
    "x_train.shape,x_test.shape,y_test.shape,y_train.shape"
   ]
  },
  {
   "cell_type": "code",
   "execution_count": 66,
   "metadata": {},
   "outputs": [],
   "source": [
    "x_train,x_test,y_train,y_test=train_test_split(x,y,test_size=.20,random_state=34)"
   ]
  },
  {
   "cell_type": "code",
   "execution_count": 67,
   "metadata": {},
   "outputs": [],
   "source": [
    "LR=LinearRegression()"
   ]
  },
  {
   "cell_type": "code",
   "execution_count": 68,
   "metadata": {},
   "outputs": [
    {
     "name": "stdout",
     "output_type": "stream",
     "text": [
      "Accuracy Score: 0.23029988855381722\n",
      "mse: 26907.51730359893\n",
      "mae: 130.14003227208795\n"
     ]
    }
   ],
   "source": [
    "\n",
    "LR.fit(x_train,y_train)\n",
    "LR.score(x_train,y_train)\n",
    "predLR=LR.predict(x_test)\n",
    "print('Accuracy Score:',r2_score(y_test,predLR))\n",
    "print('mse:',mean_squared_error(y_test,predLR))\n",
    "print('mae:',mean_absolute_error(y_test,predLR))"
   ]
  },
  {
   "cell_type": "code",
   "execution_count": 69,
   "metadata": {},
   "outputs": [
    {
     "name": "stdout",
     "output_type": "stream",
     "text": [
      "Accuracy Score: -0.44141410257424507\n",
      "mse: 50389.592426842006\n",
      "mae: 166.3327923605231\n"
     ]
    }
   ],
   "source": [
    "dt=DecisionTreeRegressor()\n",
    "dt.fit(x_train,y_train)\n",
    "dt.score(x_train,y_train)\n",
    "preddt=dt.predict(x_test)\n",
    "print('Accuracy Score:',r2_score(y_test,preddt))\n",
    "print('mse:',mean_squared_error(y_test,preddt))\n",
    "print('mae:',mean_absolute_error(y_test,preddt))"
   ]
  },
  {
   "cell_type": "code",
   "execution_count": 70,
   "metadata": {},
   "outputs": [
    {
     "name": "stdout",
     "output_type": "stream",
     "text": [
      "Accuracy Score: 0.14550133637765095\n",
      "mse: 29871.942637659526\n",
      "mae: 134.44936308107464\n"
     ]
    }
   ],
   "source": [
    "sv=SVR()\n",
    "sv.fit(x_train,y_train)\n",
    "sv.score(x_train,y_train)\n",
    "predsv=sv.predict(x_test)\n",
    "print('Accuracy Score:',r2_score(y_test,predsv))\n",
    "print('mse:',mean_squared_error(y_test,predsv))\n",
    "print('mae:',mean_absolute_error(y_test,predsv))"
   ]
  },
  {
   "cell_type": "code",
   "execution_count": 71,
   "metadata": {},
   "outputs": [
    {
     "name": "stdout",
     "output_type": "stream",
     "text": [
      "Accuracy Score: 0.12238072180529791\n",
      "mse: 30680.203319220996\n",
      "mae: 133.63878069432684\n"
     ]
    }
   ],
   "source": [
    "knr=KNeighborsRegressor()\n",
    "knr.fit(x_train,y_train)\n",
    "knr.score(x_train,y_train)\n",
    "predknr=knr.predict(x_test)\n",
    "print('Accuracy Score:',r2_score(y_test,predknr))\n",
    "print('mse:',mean_squared_error(y_test,predknr))\n",
    "print('mae:',mean_absolute_error(y_test,predknr))"
   ]
  },
  {
   "cell_type": "code",
   "execution_count": 72,
   "metadata": {},
   "outputs": [
    {
     "name": "stdout",
     "output_type": "stream",
     "text": [
      "Accuracy Score: 0.026365640348676722\n",
      "mse: 34036.74105032036\n",
      "mae: 139.78743049369265\n"
     ]
    }
   ],
   "source": [
    "rf=RandomForestRegressor()\n",
    "rf.fit(x_train,y_train)\n",
    "rf.score(x_train,y_train)\n",
    "predrf=rf.predict(x_test)\n",
    "print('Accuracy Score:',r2_score(y_test,predrf))\n",
    "print('mse:',mean_squared_error(y_test,predrf))\n",
    "print('mae:',mean_absolute_error(y_test,predrf))"
   ]
  },
  {
   "cell_type": "code",
   "execution_count": 73,
   "metadata": {},
   "outputs": [
    {
     "name": "stdout",
     "output_type": "stream",
     "text": [
      "Accuracy Score: 0.2567980410667332\n",
      "mse: 25981.18315520568\n",
      "mae: 127.33834803885021\n",
      "\n",
      "\n"
     ]
    }
   ],
   "source": [
    "gb=GradientBoostingRegressor()\n",
    "gb.fit(x_train,y_train)\n",
    "gb.score(x_train,y_train)\n",
    "predgb=gb.predict(x_test)\n",
    "print('Accuracy Score:',r2_score(y_test,predgb))\n",
    "print('mse:',mean_squared_error(y_test,predgb))\n",
    "print('mae:',mean_absolute_error(y_test,predgb))\n",
    "print('\\n')\n"
   ]
  },
  {
   "cell_type": "markdown",
   "metadata": {},
   "source": [
    "## Cross Validation"
   ]
  },
  {
   "cell_type": "code",
   "execution_count": 74,
   "metadata": {},
   "outputs": [
    {
     "name": "stdout",
     "output_type": "stream",
     "text": [
      "Score [0.19304002 0.17054642 0.19970413 0.16174962 0.18366062]\n",
      "Cross validation score 0.18174016305631302\n",
      "Standard deviation 0.013992860435158717\n"
     ]
    }
   ],
   "source": [
    "scr=cross_val_score(LR,x,y,cv=5)\n",
    "print('Score',scr)\n",
    "print('Cross validation score',scr.mean())\n",
    "print('Standard deviation',scr.std())"
   ]
  },
  {
   "cell_type": "code",
   "execution_count": 75,
   "metadata": {},
   "outputs": [
    {
     "name": "stdout",
     "output_type": "stream",
     "text": [
      "Score [-0.42163877 -0.41289518 -0.30998206 -0.39018674 -0.41574052]\n",
      "Cross validation score -0.3900886546485566\n",
      "Standard deviation 0.04145031126600456\n"
     ]
    }
   ],
   "source": [
    "scr=cross_val_score(dt,x,y,cv=5)\n",
    "print('Score',scr)\n",
    "print('Cross validation score',scr.mean())\n",
    "print('Standard deviation',scr.std())"
   ]
  },
  {
   "cell_type": "code",
   "execution_count": 76,
   "metadata": {},
   "outputs": [
    {
     "name": "stdout",
     "output_type": "stream",
     "text": [
      "Score [0.13836297 0.09387884 0.13246119 0.09438676 0.12041986]\n",
      "Cross validation score 0.1159019267371592\n",
      "Standard deviation 0.018692449220563755\n"
     ]
    }
   ],
   "source": [
    "scr=cross_val_score(sv,x,y,cv=5)\n",
    "print('Score',scr)\n",
    "print('Cross validation score',scr.mean())\n",
    "print('Standard deviation',scr.std())"
   ]
  },
  {
   "cell_type": "code",
   "execution_count": 77,
   "metadata": {},
   "outputs": [
    {
     "name": "stdout",
     "output_type": "stream",
     "text": [
      "Score [0.01273518 0.05586932 0.09155684 0.03181541 0.0721976 ]\n",
      "Cross validation score 0.052834870470050796\n",
      "Standard deviation 0.028047521115729834\n"
     ]
    }
   ],
   "source": [
    "scr=cross_val_score(knr,x,y,cv=5)\n",
    "print('Score',scr)\n",
    "print('Cross validation score',scr.mean())\n",
    "print('Standard deviation',scr.std())"
   ]
  },
  {
   "cell_type": "code",
   "execution_count": 78,
   "metadata": {},
   "outputs": [
    {
     "name": "stdout",
     "output_type": "stream",
     "text": [
      "Score [-0.03149093  0.03503679  0.05153896  0.01215673 -0.01194946]\n",
      "Cross validation score 0.011058415792247889\n",
      "Standard deviation 0.030181625697737607\n"
     ]
    }
   ],
   "source": [
    "scr=cross_val_score(rf,x,y,cv=5)\n",
    "print('Score',scr)\n",
    "print('Cross validation score',scr.mean())\n",
    "print('Standard deviation',scr.std())"
   ]
  },
  {
   "cell_type": "code",
   "execution_count": 79,
   "metadata": {},
   "outputs": [
    {
     "name": "stdout",
     "output_type": "stream",
     "text": [
      "Score [0.20003642 0.19113707 0.22887335 0.18738172 0.1958461 ]\n",
      "Cross validation score 0.20065493187305883\n",
      "Standard deviation 0.014741468308974607\n"
     ]
    }
   ],
   "source": [
    "scr=cross_val_score(gb,x,y,cv=5)\n",
    "print('Score',scr)\n",
    "print('Cross validation score',scr.mean())\n",
    "print('Standard deviation',scr.std())"
   ]
  },
  {
   "cell_type": "markdown",
   "metadata": {},
   "source": [
    "Our best model is GradientBoostingRegressor."
   ]
  },
  {
   "cell_type": "markdown",
   "metadata": {},
   "source": [
    "## Regularization"
   ]
  },
  {
   "cell_type": "code",
   "execution_count": 80,
   "metadata": {},
   "outputs": [
    {
     "name": "stdout",
     "output_type": "stream",
     "text": [
      "{'alpha': 0.1, 'random_state': 0}\n"
     ]
    }
   ],
   "source": [
    "from sklearn.linear_model import Lasso\n",
    "\n",
    "parameters={'alpha':[.0001,.001,.01,.1,1,10],'random_state':range(0,10)}\n",
    "ls=Lasso()\n",
    "clf=GridSearchCV(ls,parameters)\n",
    "clf.fit(x_train,y_train)\n",
    "\n",
    "print(clf.best_params_)  "
   ]
  },
  {
   "cell_type": "code",
   "execution_count": 81,
   "metadata": {},
   "outputs": [
    {
     "data": {
      "text/plain": [
       "0.2307594383227176"
      ]
     },
     "execution_count": 81,
     "metadata": {},
     "output_type": "execute_result"
    }
   ],
   "source": [
    "ls=Lasso(alpha=.0001,random_state=0)\n",
    "ls.fit(x_train,y_train)\n",
    "ls.score(x_train,y_train)\n",
    "pred_ls=ls.predict(x_test)\n",
    "\n",
    "lss=r2_score(y_test,pred_ls)\n",
    "lss"
   ]
  },
  {
   "cell_type": "code",
   "execution_count": 82,
   "metadata": {},
   "outputs": [
    {
     "name": "stdout",
     "output_type": "stream",
     "text": [
      "cross validation score 0.18201924467865213\n"
     ]
    }
   ],
   "source": [
    "cv_score=cross_val_score(ls,x,y,cv=5)\n",
    "cv_mean=cv_score.mean()\n",
    "print('cross validation score',cv_mean)"
   ]
  },
  {
   "cell_type": "markdown",
   "metadata": {},
   "source": [
    "## Hyperparameter Tuning"
   ]
  },
  {
   "cell_type": "code",
   "execution_count": 83,
   "metadata": {},
   "outputs": [],
   "source": [
    "#Creating parameter list to pass in GridSearchCV\n",
    "parameters={'criterion':['mse','mae'],'max_features':['auto', 'sqrt', 'log2'],'max_depth':[1,10],'n_estimators':[1,100],'loss':['ls', 'lad', 'huber', 'quantile'] }"
   ]
  },
  {
   "cell_type": "code",
   "execution_count": 84,
   "metadata": {},
   "outputs": [],
   "source": [
    "GCV=GridSearchCV(GradientBoostingRegressor(),parameters,cv=5)"
   ]
  },
  {
   "cell_type": "code",
   "execution_count": 85,
   "metadata": {},
   "outputs": [
    {
     "data": {
      "text/plain": [
       "GridSearchCV(cv=5, estimator=GradientBoostingRegressor(),\n",
       "             param_grid={'criterion': ['mse', 'mae'],\n",
       "                         'loss': ['ls', 'lad', 'huber', 'quantile'],\n",
       "                         'max_depth': [1, 10],\n",
       "                         'max_features': ['auto', 'sqrt', 'log2'],\n",
       "                         'n_estimators': [1, 100]})"
      ]
     },
     "execution_count": 85,
     "metadata": {},
     "output_type": "execute_result"
    }
   ],
   "source": [
    "GCV.fit(x_train,y_train)"
   ]
  },
  {
   "cell_type": "code",
   "execution_count": 86,
   "metadata": {},
   "outputs": [
    {
     "data": {
      "text/plain": [
       "{'criterion': 'mse',\n",
       " 'loss': 'ls',\n",
       " 'max_depth': 1,\n",
       " 'max_features': 'log2',\n",
       " 'n_estimators': 100}"
      ]
     },
     "execution_count": 86,
     "metadata": {},
     "output_type": "execute_result"
    }
   ],
   "source": [
    "GCV.best_params_"
   ]
  },
  {
   "cell_type": "code",
   "execution_count": 87,
   "metadata": {},
   "outputs": [],
   "source": [
    "GCV_pred=GCV.best_estimator_.predict(x_test)"
   ]
  },
  {
   "cell_type": "code",
   "execution_count": 88,
   "metadata": {},
   "outputs": [
    {
     "data": {
      "text/plain": [
       "0.21546360000482645"
      ]
     },
     "execution_count": 88,
     "metadata": {},
     "output_type": "execute_result"
    }
   ],
   "source": [
    "r2_score(y_test,GCV_pred)"
   ]
  },
  {
   "cell_type": "markdown",
   "metadata": {},
   "source": [
    "## Saving the best model"
   ]
  },
  {
   "cell_type": "code",
   "execution_count": 89,
   "metadata": {},
   "outputs": [],
   "source": [
    "#Saving Model\n",
    "import pickle\n",
    "filename=\"Dr_fee_prediction.pkl\"\n",
    "pickle.dump(GCV.best_estimator_,open(filename,'wb'))"
   ]
  },
  {
   "cell_type": "markdown",
   "metadata": {},
   "source": [
    "## Using the Test dataset"
   ]
  },
  {
   "cell_type": "code",
   "execution_count": 90,
   "metadata": {},
   "outputs": [
    {
     "data": {
      "text/html": [
       "<div>\n",
       "<style scoped>\n",
       "    .dataframe tbody tr th:only-of-type {\n",
       "        vertical-align: middle;\n",
       "    }\n",
       "\n",
       "    .dataframe tbody tr th {\n",
       "        vertical-align: top;\n",
       "    }\n",
       "\n",
       "    .dataframe thead th {\n",
       "        text-align: right;\n",
       "    }\n",
       "</style>\n",
       "<table border=\"1\" class=\"dataframe\">\n",
       "  <thead>\n",
       "    <tr style=\"text-align: right;\">\n",
       "      <th></th>\n",
       "      <th>Qualification</th>\n",
       "      <th>Experience</th>\n",
       "      <th>Rating</th>\n",
       "      <th>Place</th>\n",
       "      <th>Profile</th>\n",
       "      <th>Miscellaneous_Info</th>\n",
       "    </tr>\n",
       "  </thead>\n",
       "  <tbody>\n",
       "    <tr>\n",
       "      <th>0</th>\n",
       "      <td>MBBS</td>\n",
       "      <td>35 years experience</td>\n",
       "      <td>NaN</td>\n",
       "      <td>Ghatkopar East, Mumbai</td>\n",
       "      <td>General Medicine</td>\n",
       "      <td>NaN</td>\n",
       "    </tr>\n",
       "    <tr>\n",
       "      <th>1</th>\n",
       "      <td>MBBS, Diploma in Otorhinolaryngology (DLO)</td>\n",
       "      <td>31 years experience</td>\n",
       "      <td>NaN</td>\n",
       "      <td>West Marredpally, Hyderabad</td>\n",
       "      <td>ENT Specialist</td>\n",
       "      <td>NaN</td>\n",
       "    </tr>\n",
       "    <tr>\n",
       "      <th>2</th>\n",
       "      <td>MBBS, DDVL</td>\n",
       "      <td>40 years experience</td>\n",
       "      <td>70%</td>\n",
       "      <td>KK Nagar, Chennai</td>\n",
       "      <td>Dermatologists</td>\n",
       "      <td>70% 4 Feedback KK Nagar, Chennai</td>\n",
       "    </tr>\n",
       "    <tr>\n",
       "      <th>3</th>\n",
       "      <td>BAMS</td>\n",
       "      <td>0 years experience</td>\n",
       "      <td>NaN</td>\n",
       "      <td>New Ashok Nagar, Delhi</td>\n",
       "      <td>Ayurveda</td>\n",
       "      <td>NaN</td>\n",
       "    </tr>\n",
       "    <tr>\n",
       "      <th>4</th>\n",
       "      <td>BDS, MDS - Conservative Dentistry &amp; Endodontics</td>\n",
       "      <td>16 years experience</td>\n",
       "      <td>100%</td>\n",
       "      <td>Kanakpura Road, Bangalore</td>\n",
       "      <td>Dentist</td>\n",
       "      <td>General Dentistry Conservative Dentistry Cosme...</td>\n",
       "    </tr>\n",
       "    <tr>\n",
       "      <th>...</th>\n",
       "      <td>...</td>\n",
       "      <td>...</td>\n",
       "      <td>...</td>\n",
       "      <td>...</td>\n",
       "      <td>...</td>\n",
       "      <td>...</td>\n",
       "    </tr>\n",
       "    <tr>\n",
       "      <th>1982</th>\n",
       "      <td>BAMS, Doctor of Medicine</td>\n",
       "      <td>10 years experience</td>\n",
       "      <td>NaN</td>\n",
       "      <td>Basavanagudi, Bangalore</td>\n",
       "      <td>Ayurveda</td>\n",
       "      <td>NaN</td>\n",
       "    </tr>\n",
       "    <tr>\n",
       "      <th>1983</th>\n",
       "      <td>MD - Dermatology , Venereology &amp; Leprosy, MBBS</td>\n",
       "      <td>4 years experience</td>\n",
       "      <td>NaN</td>\n",
       "      <td>Choolai, Chennai</td>\n",
       "      <td>Dermatologists</td>\n",
       "      <td>NaN</td>\n",
       "    </tr>\n",
       "    <tr>\n",
       "      <th>1984</th>\n",
       "      <td>MBBS, MD / MS - Obstetrics &amp; Gynaecology</td>\n",
       "      <td>9 years experience</td>\n",
       "      <td>NaN</td>\n",
       "      <td>Porur, Chennai</td>\n",
       "      <td>General Medicine</td>\n",
       "      <td>NaN</td>\n",
       "    </tr>\n",
       "    <tr>\n",
       "      <th>1985</th>\n",
       "      <td>BDS</td>\n",
       "      <td>12 years experience</td>\n",
       "      <td>98%</td>\n",
       "      <td>Arekere, Bangalore</td>\n",
       "      <td>Dentist</td>\n",
       "      <td>RCT - Root Canal Treatment Root Canal Treatmen...</td>\n",
       "    </tr>\n",
       "    <tr>\n",
       "      <th>1986</th>\n",
       "      <td>MBBS, MD - Dermatology , Venereology &amp; Leprosy</td>\n",
       "      <td>8 years experience</td>\n",
       "      <td>NaN</td>\n",
       "      <td>Pallikaranai, Chennai</td>\n",
       "      <td>Dermatologists</td>\n",
       "      <td>1 Feedback Pallikaranai, Chennai ₹500</td>\n",
       "    </tr>\n",
       "  </tbody>\n",
       "</table>\n",
       "<p>1987 rows × 6 columns</p>\n",
       "</div>"
      ],
      "text/plain": [
       "                                        Qualification           Experience  \\\n",
       "0                                                MBBS  35 years experience   \n",
       "1          MBBS, Diploma in Otorhinolaryngology (DLO)  31 years experience   \n",
       "2                                          MBBS, DDVL  40 years experience   \n",
       "3                                                BAMS   0 years experience   \n",
       "4     BDS, MDS - Conservative Dentistry & Endodontics  16 years experience   \n",
       "...                                               ...                  ...   \n",
       "1982                         BAMS, Doctor of Medicine  10 years experience   \n",
       "1983   MD - Dermatology , Venereology & Leprosy, MBBS   4 years experience   \n",
       "1984         MBBS, MD / MS - Obstetrics & Gynaecology   9 years experience   \n",
       "1985                                              BDS  12 years experience   \n",
       "1986   MBBS, MD - Dermatology , Venereology & Leprosy   8 years experience   \n",
       "\n",
       "     Rating                        Place           Profile  \\\n",
       "0       NaN       Ghatkopar East, Mumbai  General Medicine   \n",
       "1       NaN  West Marredpally, Hyderabad    ENT Specialist   \n",
       "2       70%            KK Nagar, Chennai    Dermatologists   \n",
       "3       NaN       New Ashok Nagar, Delhi          Ayurveda   \n",
       "4      100%    Kanakpura Road, Bangalore           Dentist   \n",
       "...     ...                          ...               ...   \n",
       "1982    NaN      Basavanagudi, Bangalore          Ayurveda   \n",
       "1983    NaN             Choolai, Chennai    Dermatologists   \n",
       "1984    NaN               Porur, Chennai  General Medicine   \n",
       "1985    98%           Arekere, Bangalore           Dentist   \n",
       "1986    NaN        Pallikaranai, Chennai    Dermatologists   \n",
       "\n",
       "                                     Miscellaneous_Info  \n",
       "0                                                   NaN  \n",
       "1                                                   NaN  \n",
       "2                      70% 4 Feedback KK Nagar, Chennai  \n",
       "3                                                   NaN  \n",
       "4     General Dentistry Conservative Dentistry Cosme...  \n",
       "...                                                 ...  \n",
       "1982                                                NaN  \n",
       "1983                                                NaN  \n",
       "1984                                                NaN  \n",
       "1985  RCT - Root Canal Treatment Root Canal Treatmen...  \n",
       "1986              1 Feedback Pallikaranai, Chennai ₹500  \n",
       "\n",
       "[1987 rows x 6 columns]"
      ]
     },
     "execution_count": 90,
     "metadata": {},
     "output_type": "execute_result"
    }
   ],
   "source": [
    "df1=pd.read_excel('Final_Test.xlsx')\n",
    "df1"
   ]
  },
  {
   "cell_type": "code",
   "execution_count": 91,
   "metadata": {},
   "outputs": [
    {
     "name": "stdout",
     "output_type": "stream",
     "text": [
      "<class 'pandas.core.frame.DataFrame'>\n",
      "RangeIndex: 1987 entries, 0 to 1986\n",
      "Data columns (total 6 columns):\n",
      " #   Column              Non-Null Count  Dtype \n",
      "---  ------              --------------  ----- \n",
      " 0   Qualification       1987 non-null   object\n",
      " 1   Experience          1987 non-null   object\n",
      " 2   Rating              897 non-null    object\n",
      " 3   Place               1981 non-null   object\n",
      " 4   Profile             1987 non-null   object\n",
      " 5   Miscellaneous_Info  1153 non-null   object\n",
      "dtypes: object(6)\n",
      "memory usage: 93.3+ KB\n"
     ]
    }
   ],
   "source": [
    "df1.info()"
   ]
  },
  {
   "cell_type": "code",
   "execution_count": 92,
   "metadata": {},
   "outputs": [
    {
     "data": {
      "text/plain": [
       "Qualification         object\n",
       "Experience            object\n",
       "Rating                object\n",
       "Place                 object\n",
       "Profile               object\n",
       "Miscellaneous_Info    object\n",
       "dtype: object"
      ]
     },
     "execution_count": 92,
     "metadata": {},
     "output_type": "execute_result"
    }
   ],
   "source": [
    "df1.dtypes"
   ]
  },
  {
   "cell_type": "code",
   "execution_count": 93,
   "metadata": {},
   "outputs": [
    {
     "data": {
      "text/html": [
       "<div>\n",
       "<style scoped>\n",
       "    .dataframe tbody tr th:only-of-type {\n",
       "        vertical-align: middle;\n",
       "    }\n",
       "\n",
       "    .dataframe tbody tr th {\n",
       "        vertical-align: top;\n",
       "    }\n",
       "\n",
       "    .dataframe thead th {\n",
       "        text-align: right;\n",
       "    }\n",
       "</style>\n",
       "<table border=\"1\" class=\"dataframe\">\n",
       "  <thead>\n",
       "    <tr style=\"text-align: right;\">\n",
       "      <th></th>\n",
       "      <th>Qualification</th>\n",
       "      <th>Experience</th>\n",
       "      <th>Rating</th>\n",
       "      <th>Place</th>\n",
       "      <th>Profile</th>\n",
       "      <th>Miscellaneous_Info</th>\n",
       "    </tr>\n",
       "  </thead>\n",
       "  <tbody>\n",
       "    <tr>\n",
       "      <th>count</th>\n",
       "      <td>1987</td>\n",
       "      <td>1987</td>\n",
       "      <td>897</td>\n",
       "      <td>1981</td>\n",
       "      <td>1987</td>\n",
       "      <td>1153</td>\n",
       "    </tr>\n",
       "    <tr>\n",
       "      <th>unique</th>\n",
       "      <td>630</td>\n",
       "      <td>57</td>\n",
       "      <td>36</td>\n",
       "      <td>592</td>\n",
       "      <td>6</td>\n",
       "      <td>1084</td>\n",
       "    </tr>\n",
       "    <tr>\n",
       "      <th>top</th>\n",
       "      <td>BAMS</td>\n",
       "      <td>10 years experience</td>\n",
       "      <td>100%</td>\n",
       "      <td>Andheri West, Mumbai</td>\n",
       "      <td>General Medicine</td>\n",
       "      <td>Acrylic Partial Denture Crowns and Bridges Fix...</td>\n",
       "    </tr>\n",
       "    <tr>\n",
       "      <th>freq</th>\n",
       "      <td>153</td>\n",
       "      <td>110</td>\n",
       "      <td>223</td>\n",
       "      <td>27</td>\n",
       "      <td>444</td>\n",
       "      <td>10</td>\n",
       "    </tr>\n",
       "  </tbody>\n",
       "</table>\n",
       "</div>"
      ],
      "text/plain": [
       "       Qualification           Experience Rating                 Place  \\\n",
       "count           1987                 1987    897                  1981   \n",
       "unique           630                   57     36                   592   \n",
       "top             BAMS  10 years experience   100%  Andheri West, Mumbai   \n",
       "freq             153                  110    223                    27   \n",
       "\n",
       "                 Profile                                 Miscellaneous_Info  \n",
       "count               1987                                               1153  \n",
       "unique                 6                                               1084  \n",
       "top     General Medicine  Acrylic Partial Denture Crowns and Bridges Fix...  \n",
       "freq                 444                                                 10  "
      ]
     },
     "execution_count": 93,
     "metadata": {},
     "output_type": "execute_result"
    }
   ],
   "source": [
    "#statistical summary\n",
    "df1.describe()"
   ]
  },
  {
   "cell_type": "code",
   "execution_count": 94,
   "metadata": {},
   "outputs": [
    {
     "data": {
      "text/plain": [
       "(1987, 6)"
      ]
     },
     "execution_count": 94,
     "metadata": {},
     "output_type": "execute_result"
    }
   ],
   "source": [
    "#Dimension of the dataset\n",
    "df1.shape"
   ]
  },
  {
   "cell_type": "code",
   "execution_count": 95,
   "metadata": {},
   "outputs": [
    {
     "data": {
      "text/plain": [
       "Qualification            0\n",
       "Experience               0\n",
       "Rating                1090\n",
       "Place                    6\n",
       "Profile                  0\n",
       "Miscellaneous_Info     834\n",
       "dtype: int64"
      ]
     },
     "execution_count": 95,
     "metadata": {},
     "output_type": "execute_result"
    }
   ],
   "source": [
    "#Checking the null values of the dataset\n",
    "df1.isnull().sum()"
   ]
  },
  {
   "cell_type": "markdown",
   "metadata": {},
   "source": [
    "There are 1090 null values in the dataset Rating.6 null values are there in the column Place,the column Miscellaneous_info contains 834 null values."
   ]
  },
  {
   "cell_type": "code",
   "execution_count": 96,
   "metadata": {},
   "outputs": [
    {
     "data": {
      "text/plain": [
       "<matplotlib.axes._subplots.AxesSubplot at 0x2dfe76bda30>"
      ]
     },
     "execution_count": 96,
     "metadata": {},
     "output_type": "execute_result"
    },
    {
     "data": {
      "image/png": "[encoded data removed]",
      "text/plain": [
       "<Figure size 432x288 with 2 Axes>"
      ]
     },
     "metadata": {},
     "output_type": "display_data"
    }
   ],
   "source": [
    "sns.heatmap(df1.isnull())"
   ]
  },
  {
   "cell_type": "markdown",
   "metadata": {},
   "source": [
    "## EDA"
   ]
  },
  {
   "cell_type": "markdown",
   "metadata": {},
   "source": [
    "Now we are going to extract years of experience from the column Experienceand converting to numeric."
   ]
  },
  {
   "cell_type": "code",
   "execution_count": 97,
   "metadata": {},
   "outputs": [],
   "source": [
    "df1['Experience']=df1['Experience'].str.split().str[0]\n",
    "df1['Experience']=df1['Experience'].astype(int)"
   ]
  },
  {
   "cell_type": "code",
   "execution_count": 98,
   "metadata": {},
   "outputs": [
    {
     "data": {
      "text/html": [
       "<div>\n",
       "<style scoped>\n",
       "    .dataframe tbody tr th:only-of-type {\n",
       "        vertical-align: middle;\n",
       "    }\n",
       "\n",
       "    .dataframe tbody tr th {\n",
       "        vertical-align: top;\n",
       "    }\n",
       "\n",
       "    .dataframe thead th {\n",
       "        text-align: right;\n",
       "    }\n",
       "</style>\n",
       "<table border=\"1\" class=\"dataframe\">\n",
       "  <thead>\n",
       "    <tr style=\"text-align: right;\">\n",
       "      <th></th>\n",
       "      <th>Qualification</th>\n",
       "      <th>Experience</th>\n",
       "      <th>Rating</th>\n",
       "      <th>Place</th>\n",
       "      <th>Profile</th>\n",
       "      <th>Miscellaneous_Info</th>\n",
       "    </tr>\n",
       "  </thead>\n",
       "  <tbody>\n",
       "    <tr>\n",
       "      <th>0</th>\n",
       "      <td>MBBS</td>\n",
       "      <td>35</td>\n",
       "      <td>NaN</td>\n",
       "      <td>Ghatkopar East, Mumbai</td>\n",
       "      <td>General Medicine</td>\n",
       "      <td>NaN</td>\n",
       "    </tr>\n",
       "    <tr>\n",
       "      <th>1</th>\n",
       "      <td>MBBS, Diploma in Otorhinolaryngology (DLO)</td>\n",
       "      <td>31</td>\n",
       "      <td>NaN</td>\n",
       "      <td>West Marredpally, Hyderabad</td>\n",
       "      <td>ENT Specialist</td>\n",
       "      <td>NaN</td>\n",
       "    </tr>\n",
       "    <tr>\n",
       "      <th>2</th>\n",
       "      <td>MBBS, DDVL</td>\n",
       "      <td>40</td>\n",
       "      <td>70%</td>\n",
       "      <td>KK Nagar, Chennai</td>\n",
       "      <td>Dermatologists</td>\n",
       "      <td>70% 4 Feedback KK Nagar, Chennai</td>\n",
       "    </tr>\n",
       "  </tbody>\n",
       "</table>\n",
       "</div>"
      ],
      "text/plain": [
       "                                Qualification  Experience Rating  \\\n",
       "0                                        MBBS          35    NaN   \n",
       "1  MBBS, Diploma in Otorhinolaryngology (DLO)          31    NaN   \n",
       "2                                  MBBS, DDVL          40    70%   \n",
       "\n",
       "                         Place           Profile  \\\n",
       "0       Ghatkopar East, Mumbai  General Medicine   \n",
       "1  West Marredpally, Hyderabad    ENT Specialist   \n",
       "2            KK Nagar, Chennai    Dermatologists   \n",
       "\n",
       "                 Miscellaneous_Info  \n",
       "0                               NaN  \n",
       "1                               NaN  \n",
       "2  70% 4 Feedback KK Nagar, Chennai  "
      ]
     },
     "execution_count": 98,
     "metadata": {},
     "output_type": "execute_result"
    }
   ],
   "source": [
    "df1.head(3)"
   ]
  },
  {
   "cell_type": "markdown",
   "metadata": {},
   "source": [
    "Now we are going to replace the null values in the column 'Place'."
   ]
  },
  {
   "cell_type": "code",
   "execution_count": 99,
   "metadata": {},
   "outputs": [],
   "source": [
    "df1['Place'].fillna('Unknown,Unknown',inplace=True)"
   ]
  },
  {
   "cell_type": "code",
   "execution_count": 100,
   "metadata": {},
   "outputs": [],
   "source": [
    "#Dividing the column Place into Locality and City\n",
    "df1['Locality']=df1['Place'].str.split(',').str[0]\n",
    "df1['City']=df1['Place'].str.split(',').str[1]\n",
    "\n",
    "#Remove the column Place\n",
    "df1.drop('Place',axis=1,inplace=True)\n",
    "\n",
    "# Replacing null values from  the column Rating\n",
    "df1['Rating'].fillna('-99%',inplace=True)\n",
    "\n",
    "# convert Rating  from object to numeric\n",
    "df1['Rating']=df1['Rating'].str.slice(stop=-1).astype(int)\n",
    "\n"
   ]
  },
  {
   "cell_type": "code",
   "execution_count": 101,
   "metadata": {},
   "outputs": [
    {
     "name": "stdout",
     "output_type": "stream",
     "text": [
      "0-9% 0\n",
      "10-19% 0\n",
      "20-29% 0\n",
      "30-39% 0\n",
      "40-49% 0\n",
      "50-59% 5\n",
      "And so on...\n"
     ]
    }
   ],
   "source": [
    "print(\"0-9%\",len(df1[(df1['Rating']>0) & (df1['Rating']<10)]))\n",
    "print(\"10-19%\",len(df1[(df1['Rating']>=10) & (df1['Rating']<20)]))\n",
    "print(\"20-29%\",len(df1[(df1['Rating']>=20) & (df1['Rating']<30)]))\n",
    "print(\"30-39%\",len(df1[(df1['Rating']>=30) & (df1['Rating']<40)]))\n",
    "print(\"40-49%\",len(df1[(df1['Rating']>=40) & (df1['Rating']<50)]))\n",
    "print(\"50-59%\",len(df1[(df1['Rating']>=50) & (df1['Rating']<60)]))\n",
    "print(\"And so on...\")\n",
    "\n",
    "# Creating bins of size of 10\n",
    "\n",
    "bins=[-99,0,10,20,30,40,50,60,70,80,90,100]\n",
    "labels=[i for i in range(11)]\n",
    "df1['Rating']=pd.cut(df1['Rating'],bins=bins,labels=labels,include_lowest=True)\n"
   ]
  },
  {
   "cell_type": "code",
   "execution_count": 102,
   "metadata": {},
   "outputs": [
    {
     "data": {
      "text/plain": [
       "array([' Mumbai', ' Hyderabad', ' Chennai', ' Delhi', ' Bangalore',\n",
       "       ' Coimbatore', ' Thiruvananthapuram', ' Ernakulam', 'Unknown'],\n",
       "      dtype=object)"
      ]
     },
     "execution_count": 102,
     "metadata": {},
     "output_type": "execute_result"
    }
   ],
   "source": [
    "df1['City'].unique()"
   ]
  },
  {
   "cell_type": "code",
   "execution_count": 103,
   "metadata": {},
   "outputs": [
    {
     "data": {
      "text/plain": [
       " Bangalore             420\n",
       " Delhi                 417\n",
       " Mumbai                389\n",
       " Hyderabad             333\n",
       " Chennai               287\n",
       " Coimbatore             70\n",
       " Ernakulam              48\n",
       " Thiruvananthapuram     17\n",
       "Unknown                  6\n",
       "Name: City, dtype: int64"
      ]
     },
     "execution_count": 103,
     "metadata": {},
     "output_type": "execute_result"
    }
   ],
   "source": [
    "df1['City'].value_counts()"
   ]
  },
  {
   "cell_type": "code",
   "execution_count": 104,
   "metadata": {},
   "outputs": [],
   "source": [
    "import re\n",
    "df1['City']=df1['City'].apply(lambda x: re.sub(' +','',str(x)))"
   ]
  },
  {
   "cell_type": "code",
   "execution_count": 105,
   "metadata": {},
   "outputs": [
    {
     "data": {
      "text/html": [
       "<div>\n",
       "<style scoped>\n",
       "    .dataframe tbody tr th:only-of-type {\n",
       "        vertical-align: middle;\n",
       "    }\n",
       "\n",
       "    .dataframe tbody tr th {\n",
       "        vertical-align: top;\n",
       "    }\n",
       "\n",
       "    .dataframe thead th {\n",
       "        text-align: right;\n",
       "    }\n",
       "</style>\n",
       "<table border=\"1\" class=\"dataframe\">\n",
       "  <thead>\n",
       "    <tr style=\"text-align: right;\">\n",
       "      <th></th>\n",
       "      <th>Qualification</th>\n",
       "      <th>Experience</th>\n",
       "      <th>Rating</th>\n",
       "      <th>Profile</th>\n",
       "      <th>Miscellaneous_Info</th>\n",
       "      <th>Locality</th>\n",
       "      <th>City</th>\n",
       "    </tr>\n",
       "  </thead>\n",
       "  <tbody>\n",
       "    <tr>\n",
       "      <th>0</th>\n",
       "      <td>MBBS</td>\n",
       "      <td>35</td>\n",
       "      <td>0</td>\n",
       "      <td>General Medicine</td>\n",
       "      <td>NaN</td>\n",
       "      <td>Ghatkopar East</td>\n",
       "      <td>Mumbai</td>\n",
       "    </tr>\n",
       "    <tr>\n",
       "      <th>1</th>\n",
       "      <td>MBBS, Diploma in Otorhinolaryngology (DLO)</td>\n",
       "      <td>31</td>\n",
       "      <td>0</td>\n",
       "      <td>ENT Specialist</td>\n",
       "      <td>NaN</td>\n",
       "      <td>West Marredpally</td>\n",
       "      <td>Hyderabad</td>\n",
       "    </tr>\n",
       "    <tr>\n",
       "      <th>2</th>\n",
       "      <td>MBBS, DDVL</td>\n",
       "      <td>40</td>\n",
       "      <td>7</td>\n",
       "      <td>Dermatologists</td>\n",
       "      <td>70% 4 Feedback KK Nagar, Chennai</td>\n",
       "      <td>KK Nagar</td>\n",
       "      <td>Chennai</td>\n",
       "    </tr>\n",
       "    <tr>\n",
       "      <th>3</th>\n",
       "      <td>BAMS</td>\n",
       "      <td>0</td>\n",
       "      <td>0</td>\n",
       "      <td>Ayurveda</td>\n",
       "      <td>NaN</td>\n",
       "      <td>New Ashok Nagar</td>\n",
       "      <td>Delhi</td>\n",
       "    </tr>\n",
       "    <tr>\n",
       "      <th>4</th>\n",
       "      <td>BDS, MDS - Conservative Dentistry &amp; Endodontics</td>\n",
       "      <td>16</td>\n",
       "      <td>10</td>\n",
       "      <td>Dentist</td>\n",
       "      <td>General Dentistry Conservative Dentistry Cosme...</td>\n",
       "      <td>Kanakpura Road</td>\n",
       "      <td>Bangalore</td>\n",
       "    </tr>\n",
       "    <tr>\n",
       "      <th>...</th>\n",
       "      <td>...</td>\n",
       "      <td>...</td>\n",
       "      <td>...</td>\n",
       "      <td>...</td>\n",
       "      <td>...</td>\n",
       "      <td>...</td>\n",
       "      <td>...</td>\n",
       "    </tr>\n",
       "    <tr>\n",
       "      <th>1982</th>\n",
       "      <td>BAMS, Doctor of Medicine</td>\n",
       "      <td>10</td>\n",
       "      <td>0</td>\n",
       "      <td>Ayurveda</td>\n",
       "      <td>NaN</td>\n",
       "      <td>Basavanagudi</td>\n",
       "      <td>Bangalore</td>\n",
       "    </tr>\n",
       "    <tr>\n",
       "      <th>1983</th>\n",
       "      <td>MD - Dermatology , Venereology &amp; Leprosy, MBBS</td>\n",
       "      <td>4</td>\n",
       "      <td>0</td>\n",
       "      <td>Dermatologists</td>\n",
       "      <td>NaN</td>\n",
       "      <td>Choolai</td>\n",
       "      <td>Chennai</td>\n",
       "    </tr>\n",
       "    <tr>\n",
       "      <th>1984</th>\n",
       "      <td>MBBS, MD / MS - Obstetrics &amp; Gynaecology</td>\n",
       "      <td>9</td>\n",
       "      <td>0</td>\n",
       "      <td>General Medicine</td>\n",
       "      <td>NaN</td>\n",
       "      <td>Porur</td>\n",
       "      <td>Chennai</td>\n",
       "    </tr>\n",
       "    <tr>\n",
       "      <th>1985</th>\n",
       "      <td>BDS</td>\n",
       "      <td>12</td>\n",
       "      <td>10</td>\n",
       "      <td>Dentist</td>\n",
       "      <td>RCT - Root Canal Treatment Root Canal Treatmen...</td>\n",
       "      <td>Arekere</td>\n",
       "      <td>Bangalore</td>\n",
       "    </tr>\n",
       "    <tr>\n",
       "      <th>1986</th>\n",
       "      <td>MBBS, MD - Dermatology , Venereology &amp; Leprosy</td>\n",
       "      <td>8</td>\n",
       "      <td>0</td>\n",
       "      <td>Dermatologists</td>\n",
       "      <td>1 Feedback Pallikaranai, Chennai ₹500</td>\n",
       "      <td>Pallikaranai</td>\n",
       "      <td>Chennai</td>\n",
       "    </tr>\n",
       "  </tbody>\n",
       "</table>\n",
       "<p>1987 rows × 7 columns</p>\n",
       "</div>"
      ],
      "text/plain": [
       "                                        Qualification  Experience Rating  \\\n",
       "0                                                MBBS          35      0   \n",
       "1          MBBS, Diploma in Otorhinolaryngology (DLO)          31      0   \n",
       "2                                          MBBS, DDVL          40      7   \n",
       "3                                                BAMS           0      0   \n",
       "4     BDS, MDS - Conservative Dentistry & Endodontics          16     10   \n",
       "...                                               ...         ...    ...   \n",
       "1982                         BAMS, Doctor of Medicine          10      0   \n",
       "1983   MD - Dermatology , Venereology & Leprosy, MBBS           4      0   \n",
       "1984         MBBS, MD / MS - Obstetrics & Gynaecology           9      0   \n",
       "1985                                              BDS          12     10   \n",
       "1986   MBBS, MD - Dermatology , Venereology & Leprosy           8      0   \n",
       "\n",
       "               Profile                                 Miscellaneous_Info  \\\n",
       "0     General Medicine                                                NaN   \n",
       "1       ENT Specialist                                                NaN   \n",
       "2       Dermatologists                   70% 4 Feedback KK Nagar, Chennai   \n",
       "3             Ayurveda                                                NaN   \n",
       "4              Dentist  General Dentistry Conservative Dentistry Cosme...   \n",
       "...                ...                                                ...   \n",
       "1982          Ayurveda                                                NaN   \n",
       "1983    Dermatologists                                                NaN   \n",
       "1984  General Medicine                                                NaN   \n",
       "1985           Dentist  RCT - Root Canal Treatment Root Canal Treatmen...   \n",
       "1986    Dermatologists              1 Feedback Pallikaranai, Chennai ₹500   \n",
       "\n",
       "              Locality       City  \n",
       "0       Ghatkopar East     Mumbai  \n",
       "1     West Marredpally  Hyderabad  \n",
       "2             KK Nagar    Chennai  \n",
       "3      New Ashok Nagar      Delhi  \n",
       "4       Kanakpura Road  Bangalore  \n",
       "...                ...        ...  \n",
       "1982      Basavanagudi  Bangalore  \n",
       "1983           Choolai    Chennai  \n",
       "1984             Porur    Chennai  \n",
       "1985           Arekere  Bangalore  \n",
       "1986      Pallikaranai    Chennai  \n",
       "\n",
       "[1987 rows x 7 columns]"
      ]
     },
     "execution_count": 105,
     "metadata": {},
     "output_type": "execute_result"
    }
   ],
   "source": [
    "df1"
   ]
  },
  {
   "cell_type": "code",
   "execution_count": 106,
   "metadata": {},
   "outputs": [
    {
     "data": {
      "text/plain": [
       "<matplotlib.axes._subplots.AxesSubplot at 0x2dfe7c09610>"
      ]
     },
     "execution_count": 106,
     "metadata": {},
     "output_type": "execute_result"
    },
    {
     "data": {
      "image/png": "[encoded data removed]",
      "text/plain": [
       "<Figure size 432x288 with 1 Axes>"
      ]
     },
     "metadata": {},
     "output_type": "display_data"
    }
   ],
   "source": [
    "sns.boxplot(df1['Rating'])"
   ]
  },
  {
   "cell_type": "code",
   "execution_count": 107,
   "metadata": {},
   "outputs": [
    {
     "data": {
      "text/plain": [
       "<matplotlib.axes._subplots.AxesSubplot at 0x2dfe7ae5160>"
      ]
     },
     "execution_count": 107,
     "metadata": {},
     "output_type": "execute_result"
    },
    {
     "data": {
      "image/png": "[encoded data removed]",
      "text/plain": [
       "<Figure size 432x288 with 1 Axes>"
      ]
     },
     "metadata": {},
     "output_type": "display_data"
    }
   ],
   "source": [
    "sns.boxplot(df1['Experience'])"
   ]
  },
  {
   "cell_type": "code",
   "execution_count": 108,
   "metadata": {},
   "outputs": [
    {
     "name": "stdout",
     "output_type": "stream",
     "text": [
      "(array([ 104,  258,  264,  398,  617,  641,  992, 1246, 1284, 1297, 1337],\n",
      "      dtype=int64), array([0, 0, 0, 0, 0, 0, 0, 0, 0, 0, 0], dtype=int64))\n"
     ]
    }
   ],
   "source": [
    "df1_float=df1.select_dtypes(include=[np.number])\n",
    "\n",
    "#Removing Outliers\n",
    "from scipy.stats import zscore\n",
    "z=np.abs(zscore(df1_float))\n",
    "z\n",
    "\n",
    "threshold=3\n",
    "print(np.where(z>3))\n",
    "df1_new=df1[(z<3).all(axis=1)]\n",
    "df1=df1_new"
   ]
  },
  {
   "cell_type": "code",
   "execution_count": 109,
   "metadata": {},
   "outputs": [
    {
     "data": {
      "text/html": [
       "<div>\n",
       "<style scoped>\n",
       "    .dataframe tbody tr th:only-of-type {\n",
       "        vertical-align: middle;\n",
       "    }\n",
       "\n",
       "    .dataframe tbody tr th {\n",
       "        vertical-align: top;\n",
       "    }\n",
       "\n",
       "    .dataframe thead th {\n",
       "        text-align: right;\n",
       "    }\n",
       "</style>\n",
       "<table border=\"1\" class=\"dataframe\">\n",
       "  <thead>\n",
       "    <tr style=\"text-align: right;\">\n",
       "      <th></th>\n",
       "      <th>Qualification</th>\n",
       "      <th>Experience</th>\n",
       "      <th>Rating</th>\n",
       "      <th>Profile</th>\n",
       "      <th>Miscellaneous_Info</th>\n",
       "      <th>Locality</th>\n",
       "      <th>City</th>\n",
       "    </tr>\n",
       "  </thead>\n",
       "  <tbody>\n",
       "    <tr>\n",
       "      <th>0</th>\n",
       "      <td>MBBS</td>\n",
       "      <td>35</td>\n",
       "      <td>0</td>\n",
       "      <td>General Medicine</td>\n",
       "      <td>NaN</td>\n",
       "      <td>Ghatkopar East</td>\n",
       "      <td>Mumbai</td>\n",
       "    </tr>\n",
       "    <tr>\n",
       "      <th>1</th>\n",
       "      <td>MBBS, Diploma in Otorhinolaryngology (DLO)</td>\n",
       "      <td>31</td>\n",
       "      <td>0</td>\n",
       "      <td>ENT Specialist</td>\n",
       "      <td>NaN</td>\n",
       "      <td>West Marredpally</td>\n",
       "      <td>Hyderabad</td>\n",
       "    </tr>\n",
       "  </tbody>\n",
       "</table>\n",
       "</div>"
      ],
      "text/plain": [
       "                                Qualification  Experience Rating  \\\n",
       "0                                        MBBS          35      0   \n",
       "1  MBBS, Diploma in Otorhinolaryngology (DLO)          31      0   \n",
       "\n",
       "            Profile Miscellaneous_Info          Locality       City  \n",
       "0  General Medicine                NaN    Ghatkopar East     Mumbai  \n",
       "1    ENT Specialist                NaN  West Marredpally  Hyderabad  "
      ]
     },
     "execution_count": 109,
     "metadata": {},
     "output_type": "execute_result"
    }
   ],
   "source": [
    "df1.head(2)"
   ]
  },
  {
   "cell_type": "code",
   "execution_count": 110,
   "metadata": {},
   "outputs": [
    {
     "data": {
      "text/plain": [
       "2     885\n",
       "1     606\n",
       "3     363\n",
       "4      86\n",
       "5      28\n",
       "6       5\n",
       "17      1\n",
       "9       1\n",
       "7       1\n",
       "Name: qualification_count, dtype: int64"
      ]
     },
     "execution_count": 110,
     "metadata": {},
     "output_type": "execute_result"
    }
   ],
   "source": [
    "#Finding Qualification count of each doctors\n",
    "df1['qualification_count']=df1['Qualification'].apply(lambda x:len(x.split(',')))\n",
    "df1['qualification_count'].value_counts()"
   ]
  },
  {
   "cell_type": "code",
   "execution_count": 111,
   "metadata": {},
   "outputs": [],
   "source": [
    "df1.drop('Qualification',axis=1,inplace=True)\n",
    "df1.drop('Miscellaneous_Info',axis=1,inplace=True)\n",
    "df1.drop('Locality',axis=1,inplace=True)"
   ]
  },
  {
   "cell_type": "code",
   "execution_count": 112,
   "metadata": {},
   "outputs": [],
   "source": [
    "# Encoding\n",
    "df1=pd.get_dummies(df1,columns=['Profile','City'],prefix=['Profile','City'])"
   ]
  },
  {
   "cell_type": "code",
   "execution_count": 113,
   "metadata": {},
   "outputs": [
    {
     "data": {
      "text/plain": [
       "Experience                   0.873380\n",
       "Rating                       0.220212\n",
       "qualification_count          2.695927\n",
       "Profile_Ayurveda             2.248671\n",
       "Profile_Dentist              1.334192\n",
       "Profile_Dermatologists       1.753220\n",
       "Profile_ENT Specialist       2.378836\n",
       "Profile_General Medicine     1.334192\n",
       "Profile_Homeopath            2.074402\n",
       "City_Bangalore               1.406303\n",
       "City_Chennai                 2.032699\n",
       "City_Coimbatore              5.070788\n",
       "City_Delhi                   1.436201\n",
       "City_Ernakulam               6.184628\n",
       "City_Hyderabad               1.777231\n",
       "City_Mumbai                  1.529925\n",
       "City_Thiruvananthapuram     10.649701\n",
       "City_Unknown                18.078509\n",
       "dtype: float64"
      ]
     },
     "execution_count": 113,
     "metadata": {},
     "output_type": "execute_result"
    }
   ],
   "source": [
    "#Checking skewness\n",
    "df1.skew()"
   ]
  },
  {
   "cell_type": "code",
   "execution_count": 114,
   "metadata": {},
   "outputs": [
    {
     "data": {
      "text/html": [
       "<div>\n",
       "<style scoped>\n",
       "    .dataframe tbody tr th:only-of-type {\n",
       "        vertical-align: middle;\n",
       "    }\n",
       "\n",
       "    .dataframe tbody tr th {\n",
       "        vertical-align: top;\n",
       "    }\n",
       "\n",
       "    .dataframe thead th {\n",
       "        text-align: right;\n",
       "    }\n",
       "</style>\n",
       "<table border=\"1\" class=\"dataframe\">\n",
       "  <thead>\n",
       "    <tr style=\"text-align: right;\">\n",
       "      <th></th>\n",
       "      <th>Experience</th>\n",
       "      <th>Rating</th>\n",
       "      <th>qualification_count</th>\n",
       "      <th>Profile_Ayurveda</th>\n",
       "      <th>Profile_Dentist</th>\n",
       "      <th>Profile_Dermatologists</th>\n",
       "      <th>Profile_ENT Specialist</th>\n",
       "      <th>Profile_General Medicine</th>\n",
       "      <th>Profile_Homeopath</th>\n",
       "      <th>City_Bangalore</th>\n",
       "      <th>City_Chennai</th>\n",
       "      <th>City_Coimbatore</th>\n",
       "      <th>City_Delhi</th>\n",
       "      <th>City_Ernakulam</th>\n",
       "      <th>City_Hyderabad</th>\n",
       "      <th>City_Mumbai</th>\n",
       "      <th>City_Thiruvananthapuram</th>\n",
       "      <th>City_Unknown</th>\n",
       "    </tr>\n",
       "  </thead>\n",
       "  <tbody>\n",
       "    <tr>\n",
       "      <th>0</th>\n",
       "      <td>1.432105</td>\n",
       "      <td>-0.905766</td>\n",
       "      <td>-1.315926</td>\n",
       "      <td>-0.380583</td>\n",
       "      <td>-0.535218</td>\n",
       "      <td>-0.453446</td>\n",
       "      <td>-0.364729</td>\n",
       "      <td>1.868397</td>\n",
       "      <td>-0.403779</td>\n",
       "      <td>-0.519541</td>\n",
       "      <td>-0.409693</td>\n",
       "      <td>-0.190217</td>\n",
       "      <td>-0.513252</td>\n",
       "      <td>-0.157786</td>\n",
       "      <td>-0.449385</td>\n",
       "      <td>2.023063</td>\n",
       "      <td>-0.093155</td>\n",
       "      <td>-0.055188</td>\n",
       "    </tr>\n",
       "    <tr>\n",
       "      <th>1</th>\n",
       "      <td>1.185222</td>\n",
       "      <td>-0.905766</td>\n",
       "      <td>0.188629</td>\n",
       "      <td>-0.380583</td>\n",
       "      <td>-0.535218</td>\n",
       "      <td>-0.453446</td>\n",
       "      <td>2.741759</td>\n",
       "      <td>-0.535218</td>\n",
       "      <td>-0.403779</td>\n",
       "      <td>-0.519541</td>\n",
       "      <td>-0.409693</td>\n",
       "      <td>-0.190217</td>\n",
       "      <td>-0.513252</td>\n",
       "      <td>-0.157786</td>\n",
       "      <td>2.225266</td>\n",
       "      <td>-0.494300</td>\n",
       "      <td>-0.093155</td>\n",
       "      <td>-0.055188</td>\n",
       "    </tr>\n",
       "    <tr>\n",
       "      <th>2</th>\n",
       "      <td>1.717909</td>\n",
       "      <td>0.916297</td>\n",
       "      <td>0.188629</td>\n",
       "      <td>-0.380583</td>\n",
       "      <td>-0.535218</td>\n",
       "      <td>2.205335</td>\n",
       "      <td>-0.364729</td>\n",
       "      <td>-0.535218</td>\n",
       "      <td>-0.403779</td>\n",
       "      <td>-0.519541</td>\n",
       "      <td>2.440850</td>\n",
       "      <td>-0.190217</td>\n",
       "      <td>-0.513252</td>\n",
       "      <td>-0.157786</td>\n",
       "      <td>-0.449385</td>\n",
       "      <td>-0.494300</td>\n",
       "      <td>-0.093155</td>\n",
       "      <td>-0.055188</td>\n",
       "    </tr>\n",
       "    <tr>\n",
       "      <th>3</th>\n",
       "      <td>-2.754710</td>\n",
       "      <td>-0.905766</td>\n",
       "      <td>-1.315926</td>\n",
       "      <td>2.627546</td>\n",
       "      <td>-0.535218</td>\n",
       "      <td>-0.453446</td>\n",
       "      <td>-0.364729</td>\n",
       "      <td>-0.535218</td>\n",
       "      <td>-0.403779</td>\n",
       "      <td>-0.519541</td>\n",
       "      <td>-0.409693</td>\n",
       "      <td>-0.190217</td>\n",
       "      <td>1.948363</td>\n",
       "      <td>-0.157786</td>\n",
       "      <td>-0.449385</td>\n",
       "      <td>-0.494300</td>\n",
       "      <td>-0.093155</td>\n",
       "      <td>-0.055188</td>\n",
       "    </tr>\n",
       "    <tr>\n",
       "      <th>4</th>\n",
       "      <td>0.033508</td>\n",
       "      <td>1.119882</td>\n",
       "      <td>0.188629</td>\n",
       "      <td>-0.380583</td>\n",
       "      <td>1.868397</td>\n",
       "      <td>-0.453446</td>\n",
       "      <td>-0.364729</td>\n",
       "      <td>-0.535218</td>\n",
       "      <td>-0.403779</td>\n",
       "      <td>1.924776</td>\n",
       "      <td>-0.409693</td>\n",
       "      <td>-0.190217</td>\n",
       "      <td>-0.513252</td>\n",
       "      <td>-0.157786</td>\n",
       "      <td>-0.449385</td>\n",
       "      <td>-0.494300</td>\n",
       "      <td>-0.093155</td>\n",
       "      <td>-0.055188</td>\n",
       "    </tr>\n",
       "    <tr>\n",
       "      <th>...</th>\n",
       "      <td>...</td>\n",
       "      <td>...</td>\n",
       "      <td>...</td>\n",
       "      <td>...</td>\n",
       "      <td>...</td>\n",
       "      <td>...</td>\n",
       "      <td>...</td>\n",
       "      <td>...</td>\n",
       "      <td>...</td>\n",
       "      <td>...</td>\n",
       "      <td>...</td>\n",
       "      <td>...</td>\n",
       "      <td>...</td>\n",
       "      <td>...</td>\n",
       "      <td>...</td>\n",
       "      <td>...</td>\n",
       "      <td>...</td>\n",
       "      <td>...</td>\n",
       "    </tr>\n",
       "    <tr>\n",
       "      <th>1971</th>\n",
       "      <td>-0.612235</td>\n",
       "      <td>-0.905766</td>\n",
       "      <td>0.188629</td>\n",
       "      <td>2.627546</td>\n",
       "      <td>-0.535218</td>\n",
       "      <td>-0.453446</td>\n",
       "      <td>-0.364729</td>\n",
       "      <td>-0.535218</td>\n",
       "      <td>-0.403779</td>\n",
       "      <td>1.924776</td>\n",
       "      <td>-0.409693</td>\n",
       "      <td>-0.190217</td>\n",
       "      <td>-0.513252</td>\n",
       "      <td>-0.157786</td>\n",
       "      <td>-0.449385</td>\n",
       "      <td>-0.494300</td>\n",
       "      <td>-0.093155</td>\n",
       "      <td>-0.055188</td>\n",
       "    </tr>\n",
       "    <tr>\n",
       "      <th>1972</th>\n",
       "      <td>-1.540750</td>\n",
       "      <td>-0.905766</td>\n",
       "      <td>1.096547</td>\n",
       "      <td>-0.380583</td>\n",
       "      <td>-0.535218</td>\n",
       "      <td>2.205335</td>\n",
       "      <td>-0.364729</td>\n",
       "      <td>-0.535218</td>\n",
       "      <td>-0.403779</td>\n",
       "      <td>-0.519541</td>\n",
       "      <td>2.440850</td>\n",
       "      <td>-0.190217</td>\n",
       "      <td>-0.513252</td>\n",
       "      <td>-0.157786</td>\n",
       "      <td>-0.449385</td>\n",
       "      <td>-0.494300</td>\n",
       "      <td>-0.093155</td>\n",
       "      <td>-0.055188</td>\n",
       "    </tr>\n",
       "    <tr>\n",
       "      <th>1973</th>\n",
       "      <td>-0.739867</td>\n",
       "      <td>-0.905766</td>\n",
       "      <td>0.188629</td>\n",
       "      <td>-0.380583</td>\n",
       "      <td>-0.535218</td>\n",
       "      <td>-0.453446</td>\n",
       "      <td>-0.364729</td>\n",
       "      <td>1.868397</td>\n",
       "      <td>-0.403779</td>\n",
       "      <td>-0.519541</td>\n",
       "      <td>2.440850</td>\n",
       "      <td>-0.190217</td>\n",
       "      <td>-0.513252</td>\n",
       "      <td>-0.157786</td>\n",
       "      <td>-0.449385</td>\n",
       "      <td>-0.494300</td>\n",
       "      <td>-0.093155</td>\n",
       "      <td>-0.055188</td>\n",
       "    </tr>\n",
       "    <tr>\n",
       "      <th>1974</th>\n",
       "      <td>-0.377022</td>\n",
       "      <td>1.119882</td>\n",
       "      <td>-1.315926</td>\n",
       "      <td>-0.380583</td>\n",
       "      <td>1.868397</td>\n",
       "      <td>-0.453446</td>\n",
       "      <td>-0.364729</td>\n",
       "      <td>-0.535218</td>\n",
       "      <td>-0.403779</td>\n",
       "      <td>1.924776</td>\n",
       "      <td>-0.409693</td>\n",
       "      <td>-0.190217</td>\n",
       "      <td>-0.513252</td>\n",
       "      <td>-0.157786</td>\n",
       "      <td>-0.449385</td>\n",
       "      <td>-0.494300</td>\n",
       "      <td>-0.093155</td>\n",
       "      <td>-0.055188</td>\n",
       "    </tr>\n",
       "    <tr>\n",
       "      <th>1975</th>\n",
       "      <td>-0.875660</td>\n",
       "      <td>-0.905766</td>\n",
       "      <td>1.096547</td>\n",
       "      <td>-0.380583</td>\n",
       "      <td>-0.535218</td>\n",
       "      <td>2.205335</td>\n",
       "      <td>-0.364729</td>\n",
       "      <td>-0.535218</td>\n",
       "      <td>-0.403779</td>\n",
       "      <td>-0.519541</td>\n",
       "      <td>2.440850</td>\n",
       "      <td>-0.190217</td>\n",
       "      <td>-0.513252</td>\n",
       "      <td>-0.157786</td>\n",
       "      <td>-0.449385</td>\n",
       "      <td>-0.494300</td>\n",
       "      <td>-0.093155</td>\n",
       "      <td>-0.055188</td>\n",
       "    </tr>\n",
       "  </tbody>\n",
       "</table>\n",
       "<p>1976 rows × 18 columns</p>\n",
       "</div>"
      ],
      "text/plain": [
       "      Experience    Rating  qualification_count  Profile_Ayurveda  \\\n",
       "0       1.432105 -0.905766            -1.315926         -0.380583   \n",
       "1       1.185222 -0.905766             0.188629         -0.380583   \n",
       "2       1.717909  0.916297             0.188629         -0.380583   \n",
       "3      -2.754710 -0.905766            -1.315926          2.627546   \n",
       "4       0.033508  1.119882             0.188629         -0.380583   \n",
       "...          ...       ...                  ...               ...   \n",
       "1971   -0.612235 -0.905766             0.188629          2.627546   \n",
       "1972   -1.540750 -0.905766             1.096547         -0.380583   \n",
       "1973   -0.739867 -0.905766             0.188629         -0.380583   \n",
       "1974   -0.377022  1.119882            -1.315926         -0.380583   \n",
       "1975   -0.875660 -0.905766             1.096547         -0.380583   \n",
       "\n",
       "      Profile_Dentist  Profile_Dermatologists  Profile_ENT Specialist  \\\n",
       "0           -0.535218               -0.453446               -0.364729   \n",
       "1           -0.535218               -0.453446                2.741759   \n",
       "2           -0.535218                2.205335               -0.364729   \n",
       "3           -0.535218               -0.453446               -0.364729   \n",
       "4            1.868397               -0.453446               -0.364729   \n",
       "...               ...                     ...                     ...   \n",
       "1971        -0.535218               -0.453446               -0.364729   \n",
       "1972        -0.535218                2.205335               -0.364729   \n",
       "1973        -0.535218               -0.453446               -0.364729   \n",
       "1974         1.868397               -0.453446               -0.364729   \n",
       "1975        -0.535218                2.205335               -0.364729   \n",
       "\n",
       "      Profile_General Medicine  Profile_Homeopath  City_Bangalore  \\\n",
       "0                     1.868397          -0.403779       -0.519541   \n",
       "1                    -0.535218          -0.403779       -0.519541   \n",
       "2                    -0.535218          -0.403779       -0.519541   \n",
       "3                    -0.535218          -0.403779       -0.519541   \n",
       "4                    -0.535218          -0.403779        1.924776   \n",
       "...                        ...                ...             ...   \n",
       "1971                 -0.535218          -0.403779        1.924776   \n",
       "1972                 -0.535218          -0.403779       -0.519541   \n",
       "1973                  1.868397          -0.403779       -0.519541   \n",
       "1974                 -0.535218          -0.403779        1.924776   \n",
       "1975                 -0.535218          -0.403779       -0.519541   \n",
       "\n",
       "      City_Chennai  City_Coimbatore  City_Delhi  City_Ernakulam  \\\n",
       "0        -0.409693        -0.190217   -0.513252       -0.157786   \n",
       "1        -0.409693        -0.190217   -0.513252       -0.157786   \n",
       "2         2.440850        -0.190217   -0.513252       -0.157786   \n",
       "3        -0.409693        -0.190217    1.948363       -0.157786   \n",
       "4        -0.409693        -0.190217   -0.513252       -0.157786   \n",
       "...            ...              ...         ...             ...   \n",
       "1971     -0.409693        -0.190217   -0.513252       -0.157786   \n",
       "1972      2.440850        -0.190217   -0.513252       -0.157786   \n",
       "1973      2.440850        -0.190217   -0.513252       -0.157786   \n",
       "1974     -0.409693        -0.190217   -0.513252       -0.157786   \n",
       "1975      2.440850        -0.190217   -0.513252       -0.157786   \n",
       "\n",
       "      City_Hyderabad  City_Mumbai  City_Thiruvananthapuram  City_Unknown  \n",
       "0          -0.449385     2.023063                -0.093155     -0.055188  \n",
       "1           2.225266    -0.494300                -0.093155     -0.055188  \n",
       "2          -0.449385    -0.494300                -0.093155     -0.055188  \n",
       "3          -0.449385    -0.494300                -0.093155     -0.055188  \n",
       "4          -0.449385    -0.494300                -0.093155     -0.055188  \n",
       "...              ...          ...                      ...           ...  \n",
       "1971       -0.449385    -0.494300                -0.093155     -0.055188  \n",
       "1972       -0.449385    -0.494300                -0.093155     -0.055188  \n",
       "1973       -0.449385    -0.494300                -0.093155     -0.055188  \n",
       "1974       -0.449385    -0.494300                -0.093155     -0.055188  \n",
       "1975       -0.449385    -0.494300                -0.093155     -0.055188  \n",
       "\n",
       "[1976 rows x 18 columns]"
      ]
     },
     "execution_count": 114,
     "metadata": {},
     "output_type": "execute_result"
    }
   ],
   "source": [
    "#removing Skewness\n",
    "from sklearn.preprocessing import power_transform\n",
    "df1_new=power_transform(df1)\n",
    "df1_new=pd.DataFrame(df1_new,columns=df1.columns)\n",
    "\n",
    "df1=df1_new\n",
    "df1"
   ]
  },
  {
   "cell_type": "code",
   "execution_count": 115,
   "metadata": {},
   "outputs": [],
   "source": [
    "#Scaling using StandardScaler\n",
    "from sklearn.preprocessing import StandardScaler\n",
    "ss=StandardScaler()\n",
    "df1=ss.fit_transform(df1)"
   ]
  },
  {
   "cell_type": "code",
   "execution_count": 116,
   "metadata": {},
   "outputs": [],
   "source": [
    "#load the model\n",
    "fitted_model=pickle.load(open('Dr_fee_prediction.pkl','rb'))"
   ]
  },
  {
   "cell_type": "code",
   "execution_count": 117,
   "metadata": {},
   "outputs": [
    {
     "data": {
      "text/plain": [
       "GradientBoostingRegressor(criterion='mse', max_depth=1, max_features='log2')"
      ]
     },
     "execution_count": 117,
     "metadata": {},
     "output_type": "execute_result"
    }
   ],
   "source": [
    "fitted_model"
   ]
  },
  {
   "cell_type": "code",
   "execution_count": 118,
   "metadata": {},
   "outputs": [],
   "source": [
    "#prediction over the test data\n",
    "predictions=fitted_model.predict(df1)"
   ]
  },
  {
   "cell_type": "code",
   "execution_count": 119,
   "metadata": {},
   "outputs": [
    {
     "data": {
      "text/plain": [
       "array([267.11537521, 349.45815296, 357.34689281, ..., 315.31357369,\n",
       "       237.83949969, 353.46994029])"
      ]
     },
     "execution_count": 119,
     "metadata": {},
     "output_type": "execute_result"
    }
   ],
   "source": [
    "predictions"
   ]
  },
  {
   "cell_type": "code",
   "execution_count": 120,
   "metadata": {},
   "outputs": [],
   "source": [
    "def rounding(x):\n",
    "    m=(x//50)*50\n",
    "    if m==x:\n",
    "        return int(x/1.0)\n",
    "    elif x-m>=25.0:\n",
    "        return int((m+50)/1.0)\n",
    "    else:\n",
    "        return int(m/1.0)"
   ]
  },
  {
   "cell_type": "code",
   "execution_count": 121,
   "metadata": {},
   "outputs": [
    {
     "name": "stdout",
     "output_type": "stream",
     "text": [
      "   Fees\n",
      "0   250\n",
      "1   350\n",
      "2   350\n",
      "3   250\n",
      "4   300\n"
     ]
    }
   ],
   "source": [
    "final_test=[]\n",
    "for i in range(len(predictions)):\n",
    "    final_test.append(rounding(predictions[i]))\n",
    "final_test=pd.DataFrame({'Fees':final_test})\n",
    "print(final_test.head())"
   ]
  },
  {
   "cell_type": "code",
   "execution_count": null,
   "metadata": {},
   "outputs": [],
   "source": []
  }
 ],
 "metadata": {
  "kernelspec": {
   "display_name": "Python 3",
   "language": "python",
   "name": "python3"
  },
  "language_info": {
   "codemirror_mode": {
    "name": "ipython",
    "version": 3
   },
   "file_extension": ".py",
   "mimetype": "text/x-python",
   "name": "python",
   "nbconvert_exporter": "python",
   "pygments_lexer": "ipython3",
   "version": "3.8.3"
  }
 },
 "nbformat": 4,
 "nbformat_minor": 4
}
